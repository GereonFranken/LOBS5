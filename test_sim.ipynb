{
 "cells": [
  {
   "cell_type": "code",
   "execution_count": 1,
   "metadata": {},
   "outputs": [],
   "source": [
    "%load_ext autoreload\n",
    "%autoreload 2"
   ]
  },
  {
   "cell_type": "code",
   "execution_count": 2,
   "metadata": {},
   "outputs": [],
   "source": [
    "import os\n",
    "import sys\n",
    "\n",
    "# add git submodule to path to allow imports to work\n",
    "submodule_name = 'AlphaTrade'\n",
    "#(parent_folder_path, current_dir) = os.path.split(os.path.abspath(''))\n",
    "sys.path.append(os.path.join(os.path.abspath(''), submodule_name))\n"
   ]
  },
  {
   "cell_type": "code",
   "execution_count": 3,
   "metadata": {},
   "outputs": [
    {
     "data": {
      "text/plain": [
       "['/nfs/home/peern/LOBS5',\n",
       " '/usr/lib/python38.zip',\n",
       " '/usr/lib/python3.8',\n",
       " '/usr/lib/python3.8/lib-dynload',\n",
       " '',\n",
       " '/nfs/home/peern/rlenv/lib/python3.8/site-packages',\n",
       " '/nfs/home/peern/LOBS5',\n",
       " '/nfs/home/peern/rlenv/lib/python3.8/site-packages/IPython/extensions',\n",
       " '/nfs/home/peern/.ipython',\n",
       " '/nfs/home/peern/LOBS5/AlphaTrade']"
      ]
     },
     "execution_count": 3,
     "metadata": {},
     "output_type": "execute_result"
    }
   ],
   "source": [
    "sys.path"
   ]
  },
  {
   "cell_type": "code",
   "execution_count": 7,
   "metadata": {},
   "outputs": [],
   "source": [
    "from gymnax_exchange.jaxob.jorderbook import OrderBook"
   ]
  },
  {
   "cell_type": "code",
   "execution_count": 8,
   "metadata": {},
   "outputs": [
    {
     "data": {
      "text/plain": [
       "<gymnax_exchange.jaxob.jorderbook.OrderBook at 0x7f81944a3b20>"
      ]
     },
     "execution_count": 8,
     "metadata": {},
     "output_type": "execute_result"
    }
   ],
   "source": [
    "b = OrderBook(price_levels=10, orderQueueLen=10)\n",
    "b"
   ]
  },
  {
   "cell_type": "code",
   "execution_count": null,
   "metadata": {},
   "outputs": [],
   "source": [
    "# TODO: load message data from file and test b.process_orders_array(msgs)\n",
    "#       and b.process_order(quote:Dict,from_data=False,verbose=False):"
   ]
  }
 ],
 "metadata": {
  "kernelspec": {
   "display_name": "rlenv",
   "language": "python",
   "name": "python3"
  },
  "language_info": {
   "codemirror_mode": {
    "name": "ipython",
    "version": 3
   },
   "file_extension": ".py",
   "mimetype": "text/x-python",
   "name": "python",
   "nbconvert_exporter": "python",
   "pygments_lexer": "ipython3",
   "version": "3.8.10"
  },
  "orig_nbformat": 4
 },
 "nbformat": 4,
 "nbformat_minor": 2
}
