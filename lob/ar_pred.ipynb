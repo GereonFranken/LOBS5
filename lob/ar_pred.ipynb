{
 "cells": [
  {
   "cell_type": "code",
   "execution_count": 1,
   "metadata": {},
   "outputs": [],
   "source": [
    "# CONTENTS\n",
    "\n",
    "# load test data (messages & book)\n",
    "# select (random) test sequence\n",
    "# encode msg and book sequence for model\n",
    "\n",
    "# get raw book data (L2) at the start of the sequence\n",
    "# init simulator with initial book\n",
    "# replay sequence in simulator (actual)\n",
    "\n",
    "# load trained model\n",
    "# predict next message\n",
    "# map message to one the simulator understands & is valid\n",
    "# apply message to simulator (predicted)\n",
    "# get L2 representation and encode it for model"
   ]
  },
  {
   "cell_type": "code",
   "execution_count": 2,
   "metadata": {},
   "outputs": [],
   "source": [
    "%load_ext autoreload\n",
    "%autoreload 2"
   ]
  },
  {
   "cell_type": "code",
   "execution_count": 3,
   "metadata": {},
   "outputs": [],
   "source": [
    "import os\n",
    "os.environ[\"XLA_PYTHON_CLIENT_PREALLOCATE\"] = \"false\"\n",
    "#os.environ[\"XLA_PYTHON_CLIENT_MEM_FRACTION\"] = \".25\"\n",
    "import torch\n",
    "torch.multiprocessing.set_start_method('spawn')"
   ]
  },
  {
   "cell_type": "code",
   "execution_count": 4,
   "metadata": {},
   "outputs": [],
   "source": [
    "from argparse import Namespace\n",
    "from glob import glob\n",
    "import numpy as onp\n",
    "import pandas as pd\n",
    "from functools import partial\n",
    "from typing import Union, Optional\n",
    "\n",
    "import jax\n",
    "import jax.numpy as jnp\n",
    "from jax.nn import one_hot\n",
    "from jax import random\n",
    "from jax.scipy.linalg import block_diag\n",
    "from flax.training import checkpoints\n",
    "import orbax\n",
    "\n",
    "#from lob.lob_seq_model import BatchLobPredModel\n",
    "from lob.train_helpers import create_train_state, eval_step, prep_batch, cross_entropy_loss, compute_accuracy\n",
    "from s5.ssm import init_S5SSM\n",
    "from s5.ssm_init import make_DPLR_HiPPO\n",
    "from s5.dataloading import make_data_loader\n",
    "from lob_seq_model import LobPredModel\n",
    "from encoding import Vocab, Message_Tokenizer\n",
    "from lobster_dataloader import LOBSTER_Dataset, LOBSTER_Subset, LOBSTER_Sampler, LOBSTER\n",
    "\n",
    "import preproc\n",
    "import validation_helpers as valh\n",
    "from lob.init_train import init_train_state, load_checkpoint, load_args_from_checkpoint"
   ]
  },
  {
   "cell_type": "code",
   "execution_count": 5,
   "metadata": {},
   "outputs": [],
   "source": [
    "data_dir = '/nfs/home/peern/LOBS5/data/raw/'\n",
    "save_dir = '/nfs/home/peern/LOBS5/data/new_t4/'"
   ]
  },
  {
   "cell_type": "code",
   "execution_count": 6,
   "metadata": {},
   "outputs": [],
   "source": [
    "message_files = sorted(glob(data_dir + '*message*.csv'))\n",
    "book_files = sorted(glob(data_dir + '*orderbook*.csv'))"
   ]
  },
  {
   "cell_type": "code",
   "execution_count": 7,
   "metadata": {},
   "outputs": [
    {
     "name": "stderr",
     "output_type": "stream",
     "text": [
      "/nfs/home/peern/rlenv/lib/python3.8/site-packages/IPython/core/interactiveshell.py:3553: DtypeWarning: Columns (6) have mixed types.Specify dtype option on import or set low_memory=False.\n",
      "  exec(code_obj, self.user_global_ns, self.user_ns)\n",
      "/nfs/home/peern/rlenv/lib/python3.8/site-packages/pandas/util/_decorators.py:311: ParserWarning: Length of header or names does not match length of data. This leads to a loss of data with index_col=False.\n",
      "  return func(*args, **kwargs)\n"
     ]
    }
   ],
   "source": [
    "# load test data (last day)\n",
    "\n",
    "m = pd.read_csv(\n",
    "    message_files[-1],\n",
    "    names=['time', 'event_type', 'order_id', 'size', 'price', 'direction'],\n",
    "    index_col=False)\n",
    "\n",
    "b = pd.read_csv(\n",
    "    book_files[-1],\n",
    "    index_col=False,\n",
    "    header=None\n",
    ")\n",
    "\n",
    "# remove diallowed order types\n",
    "m = m.loc[m.event_type.isin([1, 2, 3, 4])]\n",
    "b = b.loc[m.index]"
   ]
  },
  {
   "attachments": {},
   "cell_type": "markdown",
   "metadata": {},
   "source": [
    "## Encoding"
   ]
  },
  {
   "cell_type": "code",
   "execution_count": 8,
   "metadata": {},
   "outputs": [],
   "source": [
    "# Book encoding\n",
    "price_levels = 40  # how many ticks to represent"
   ]
  },
  {
   "cell_type": "code",
   "execution_count": 9,
   "metadata": {},
   "outputs": [],
   "source": [
    "# Message encoding\n",
    "v = Vocab()\n",
    "tok = Message_Tokenizer()"
   ]
  },
  {
   "cell_type": "code",
   "execution_count": 10,
   "metadata": {},
   "outputs": [],
   "source": [
    "# encode from raw data\n",
    "\n",
    "# print('<< pre processing >>')\n",
    "# m_proc = tok.preproc(m, b)\n",
    "# print('<< encoding >>')\n",
    "# m_enc = tok.encode(m_proc, v)\n",
    "\n",
    "# instead load from file:\n",
    "msg_enc_file = sorted(glob(save_dir + '*message*.npy'))[-1]\n",
    "m_enc = onp.load(msg_enc_file)"
   ]
  },
  {
   "cell_type": "code",
   "execution_count": 11,
   "metadata": {},
   "outputs": [],
   "source": [
    "# remove first message from raw data as well\n",
    "m = m.iloc[1:]"
   ]
  },
  {
   "cell_type": "code",
   "execution_count": 12,
   "metadata": {},
   "outputs": [
    {
     "data": {
      "text/plain": [
       "array([[    3,     3,     8, ...,     2,     2,     2],\n",
       "       [    3,     3,     8, ...,     2,     2,     2],\n",
       "       [    3,     3,     9, ...,     2,     2,     2],\n",
       "       ...,\n",
       "       [   26,   402,   997, ..., 12008, 11009, 12010],\n",
       "       [   26,   402,   985, ..., 12008, 11012, 12010],\n",
       "       [   26,   402,  1002, ...,     2,     2,     2]])"
      ]
     },
     "execution_count": 12,
     "metadata": {},
     "output_type": "execute_result"
    }
   ],
   "source": [
    "m_enc"
   ]
  },
  {
   "cell_type": "code",
   "execution_count": 13,
   "metadata": {},
   "outputs": [
    {
     "data": {
      "text/plain": [
       "(1829106, 6)"
      ]
     },
     "execution_count": 13,
     "metadata": {},
     "output_type": "execute_result"
    }
   ],
   "source": [
    "m.shape"
   ]
  },
  {
   "cell_type": "code",
   "execution_count": 14,
   "metadata": {},
   "outputs": [],
   "source": [
    "# m_proc.shape"
   ]
  },
  {
   "cell_type": "code",
   "execution_count": 15,
   "metadata": {},
   "outputs": [
    {
     "data": {
      "text/plain": [
       "(1829106, 20)"
      ]
     },
     "execution_count": 15,
     "metadata": {},
     "output_type": "execute_result"
    }
   ],
   "source": [
    "m_enc.shape"
   ]
  },
  {
   "cell_type": "code",
   "execution_count": 16,
   "metadata": {},
   "outputs": [],
   "source": [
    "# encode from raw data:\n",
    "# b_enc = preproc.process_book(b, price_levels=price_levels)\n",
    "\n",
    "# instead load from file:\n",
    "book_enc_file = sorted(glob(save_dir + '*book*.npy'))[-1]\n",
    "b_enc = onp.load(book_enc_file)"
   ]
  },
  {
   "cell_type": "code",
   "execution_count": 17,
   "metadata": {},
   "outputs": [],
   "source": [
    "#b_enc_ = preproc.process_book(b, price_levels=price_levels)"
   ]
  },
  {
   "cell_type": "code",
   "execution_count": 18,
   "metadata": {},
   "outputs": [
    {
     "data": {
      "text/plain": [
       "(1829107, 40)"
      ]
     },
     "execution_count": 18,
     "metadata": {},
     "output_type": "execute_result"
    }
   ],
   "source": [
    "b.shape"
   ]
  },
  {
   "cell_type": "code",
   "execution_count": 19,
   "metadata": {},
   "outputs": [
    {
     "data": {
      "text/plain": [
       "(1829107, 501)"
      ]
     },
     "execution_count": 19,
     "metadata": {},
     "output_type": "execute_result"
    }
   ],
   "source": [
    "b_enc.shape"
   ]
  },
  {
   "cell_type": "code",
   "execution_count": 20,
   "metadata": {},
   "outputs": [],
   "source": [
    "#b_enc_.shape"
   ]
  },
  {
   "attachments": {},
   "cell_type": "markdown",
   "metadata": {},
   "source": [
    "## Data Initialisation"
   ]
  },
  {
   "cell_type": "code",
   "execution_count": 21,
   "metadata": {},
   "outputs": [],
   "source": [
    "n_messages = 500"
   ]
  },
  {
   "cell_type": "code",
   "execution_count": 22,
   "metadata": {},
   "outputs": [],
   "source": [
    "# when to start the prediction\n",
    "# convert time into seconds after midnight\n",
    "start_time = (pd.to_datetime('11:00') - pd.to_datetime('00:00')).total_seconds()\n",
    "# get seq end index\n",
    "end_i = len(m.loc[m.time < start_time])"
   ]
  },
  {
   "cell_type": "code",
   "execution_count": 23,
   "metadata": {},
   "outputs": [],
   "source": [
    "m_seq = m_enc[end_i - n_messages : end_i].reshape(-1)  # (n_messages [500] * levels [20], )\n",
    "# book state: we already include the book state after the last message\n",
    "# (different to training where we only have the book state before the first message\n",
    "# and mask part of the last message)\n",
    "# for message seq, we first need to append an empty message\n",
    "b_seq = b_enc[end_i - n_messages + 1 : end_i + 1]      # (n_messages [500], price_levels + 1 [41])"
   ]
  },
  {
   "attachments": {},
   "cell_type": "markdown",
   "metadata": {},
   "source": [
    "## Simulator"
   ]
  },
  {
   "cell_type": "code",
   "execution_count": 24,
   "metadata": {},
   "outputs": [
    {
     "data": {
      "text/plain": [
       "'/nfs/home/peern/LOBS5/lob'"
      ]
     },
     "execution_count": 24,
     "metadata": {},
     "output_type": "execute_result"
    }
   ],
   "source": [
    "os.path.abspath('')"
   ]
  },
  {
   "cell_type": "code",
   "execution_count": 25,
   "metadata": {},
   "outputs": [],
   "source": [
    "import os\n",
    "import sys\n",
    "\n",
    "# add git submodule to path to allow imports to work\n",
    "submodule_name = 'AlphaTrade'\n",
    "(parent_folder_path, current_dir) = os.path.split(os.path.abspath(''))\n",
    "sys.path.append(os.path.join(parent_folder_path, submodule_name))"
   ]
  },
  {
   "cell_type": "code",
   "execution_count": 26,
   "metadata": {},
   "outputs": [
    {
     "name": "stderr",
     "output_type": "stream",
     "text": [
      "2023-05-10 10:59:39.339943: W external/org_tensorflow/tensorflow/tsl/platform/default/dso_loader.cc:67] Could not load dynamic library 'libcuda.so.1'; dlerror: libcuda.so.1: cannot open shared object file: No such file or directory; LD_LIBRARY_PATH: /nfs/home/peern/rlenv/lib/python3.8/site-packages/nvidia/cuda_runtime/lib/:/nfs/home/peern/rlenv/lib/python3.8/site-packages/tensorrt/:/nfs/home/peern/rlenv/lib/python3.8/site-packages/nvidia/cuda_runtime/lib/:/usr/local/cuda-11.2/lib64:\n",
      "2023-05-10 10:59:39.340001: W external/org_tensorflow/tensorflow/compiler/xla/stream_executor/cuda/cuda_driver.cc:264] failed call to cuInit: UNKNOWN ERROR (303)\n",
      "No GPU/TPU found, falling back to CPU. (Set TF_CPP_MIN_LOG_LEVEL=0 and rerun for more info.)\n"
     ]
    }
   ],
   "source": [
    "from gymnax_exchange.jaxob.jorderbook import OrderBook\n",
    "import gymnax_exchange.jaxob.JaxOrderbook as job"
   ]
  },
  {
   "cell_type": "code",
   "execution_count": 56,
   "metadata": {},
   "outputs": [],
   "source": [
    "# TODO: integrate this into simualtor: OrderBook\n",
    "\n",
    "def init_msgs_from_l2(book: Union[pd.Series, onp.ndarray]) -> jnp.ndarray:\n",
    "    orderbookLevels = len(book) // 4  # price/quantity for bid/ask\n",
    "    data = jnp.array(book).reshape(int(orderbookLevels*2),2)\n",
    "    newarr = jnp.zeros((int(orderbookLevels*2),8))\n",
    "    initOB = newarr \\\n",
    "        .at[:,3].set(data[:,0]) \\\n",
    "        .at[:,2].set(data[:,1]) \\\n",
    "        .at[:,0].set(1) \\\n",
    "        .at[0:orderbookLevels*4:2,1].set(-1) \\\n",
    "        .at[1:orderbookLevels*4:2,1].set(1) \\\n",
    "        .at[:,4].set(0) \\\n",
    "        .at[:,5].set(job.INITID) \\\n",
    "        .at[:,6].set(34200) \\\n",
    "        .at[:,7].set(0).astype('int32')\n",
    "    return initOB\n",
    "\n",
    "def msgs_to_jnp(m_df: pd.DataFrame) -> jnp.ndarray:\n",
    "    m_df = m_df.copy()\n",
    "    cols = ['Time', 'Type', 'OrderID', 'Quantity', 'Price', 'Side']\n",
    "    if m_df.shape[1] == 7:\n",
    "        cols += [\"TradeID\"]\n",
    "    m_df.columns = cols\n",
    "    m_df['TradeID'] = 0  #  TODO: should be TraderID for multi-agent support\n",
    "    col_order=['Type','Side','Quantity','Price','TradeID','OrderID','Time']\n",
    "    m_df = m_df[col_order]\n",
    "    m_df = m_df[(m_df['Type'] != 6) & (m_df['Type'] != 7) & (m_df['Type'] != 5)]\n",
    "    time = m_df[\"Time\"].astype('string').str.split('.',expand=True)\n",
    "    m_df[[\"TimeWhole\",\"TimeDec\"]] = time.astype('int32')\n",
    "    m_df = m_df.drop(\"Time\", axis=1)\n",
    "    mJNP = jnp.array(m_df)\n",
    "    return mJNP\n",
    "\n",
    "def reset_orderbook(\n",
    "        b: OrderBook,\n",
    "        l2_book: Optional[Union[pd.Series, onp.ndarray]] = None,\n",
    "    ) -> None:\n",
    "    b.orderbook_array = b.orderbook_array.at[:].set(-1)\n",
    "    if l2_book is not None:\n",
    "        msgs = init_msgs_from_l2(l2_book)\n",
    "        b.process_orders_array(msgs)"
   ]
  },
  {
   "cell_type": "code",
   "execution_count": 105,
   "metadata": {},
   "outputs": [
    {
     "data": {
      "text/plain": [
       "<gymnax_exchange.jaxob.jorderbook.OrderBook at 0x7f87180e2b50>"
      ]
     },
     "execution_count": 105,
     "metadata": {},
     "output_type": "execute_result"
    }
   ],
   "source": [
    "sim = OrderBook(price_levels=10, orderQueueLen=20)\n",
    "sim"
   ]
  },
  {
   "cell_type": "code",
   "execution_count": 106,
   "metadata": {},
   "outputs": [],
   "source": [
    "# init simulator at the start of the sequence\n",
    "reset_orderbook(sim, b.iloc[end_i - n_messages])"
   ]
  },
  {
   "cell_type": "code",
   "execution_count": 107,
   "metadata": {},
   "outputs": [],
   "source": [
    "# replay sequence in simulator (actual)\n",
    "# so that sim is at the same state as the model\n",
    "replay = msgs_to_jnp(m.iloc[end_i - n_messages : end_i])\n",
    "trades = sim.process_orders_array(replay)"
   ]
  },
  {
   "cell_type": "code",
   "execution_count": 108,
   "metadata": {},
   "outputs": [
    {
     "data": {
      "text/plain": [
       "Array([988100,    182, 987900,    802, 988200,   1056, 987800,    782,\n",
       "       988300,    706, 987700,    600, 988400,   1100, 987600,    500,\n",
       "       988500,   1012, 987500,   1250, 988600,    468, 987400,    775,\n",
       "       988700,   1615, 987300,    490, 988800,    431, 987200,     50,\n",
       "       989000,     50, 987100,    750,     -1,      0, 987000,     50],      dtype=int32)"
      ]
     },
     "execution_count": 108,
     "metadata": {},
     "output_type": "execute_result"
    }
   ],
   "source": [
    "sim.get_L2_state()"
   ]
  },
  {
   "cell_type": "code",
   "execution_count": 109,
   "metadata": {},
   "outputs": [
    {
     "data": {
      "text/plain": [
       "Array([       82,    987800,         0, 276499738,     39599, 324469366],      dtype=int32)"
      ]
     },
     "execution_count": 109,
     "metadata": {},
     "output_type": "execute_result"
    }
   ],
   "source": [
    "sim.get_order_by_id_and_price(276499738, 987800)"
   ]
  },
  {
   "cell_type": "code",
   "execution_count": 110,
   "metadata": {},
   "outputs": [
    {
     "data": {
      "text/plain": [
       "Array(182, dtype=int32)"
      ]
     },
     "execution_count": 110,
     "metadata": {},
     "output_type": "execute_result"
    }
   ],
   "source": [
    "sim.get_volume_at_price(0, 988100)"
   ]
  },
  {
   "cell_type": "code",
   "execution_count": 111,
   "metadata": {},
   "outputs": [
    {
     "data": {
      "text/plain": [
       "Array([[      100,    988100,         0, 276492538,     39599, 264867549],\n",
       "       [       82,    988100,         0, 276511822,     39599, 685781583],\n",
       "       [       -1,        -1,        -1,        -1,        -1,        -1],\n",
       "       [       -1,        -1,        -1,        -1,        -1,        -1],\n",
       "       [       -1,        -1,        -1,        -1,        -1,        -1],\n",
       "       [       -1,        -1,        -1,        -1,        -1,        -1],\n",
       "       [       -1,        -1,        -1,        -1,        -1,        -1],\n",
       "       [       -1,        -1,        -1,        -1,        -1,        -1],\n",
       "       [       -1,        -1,        -1,        -1,        -1,        -1],\n",
       "       [       -1,        -1,        -1,        -1,        -1,        -1],\n",
       "       [       -1,        -1,        -1,        -1,        -1,        -1],\n",
       "       [       -1,        -1,        -1,        -1,        -1,        -1],\n",
       "       [       -1,        -1,        -1,        -1,        -1,        -1],\n",
       "       [       -1,        -1,        -1,        -1,        -1,        -1],\n",
       "       [       -1,        -1,        -1,        -1,        -1,        -1],\n",
       "       [       -1,        -1,        -1,        -1,        -1,        -1],\n",
       "       [       -1,        -1,        -1,        -1,        -1,        -1],\n",
       "       [       -1,        -1,        -1,        -1,        -1,        -1],\n",
       "       [       -1,        -1,        -1,        -1,        -1,        -1],\n",
       "       [       -1,        -1,        -1,        -1,        -1,        -1]],      dtype=int32)"
      ]
     },
     "execution_count": 111,
     "metadata": {},
     "output_type": "execute_result"
    }
   ],
   "source": [
    "sim.orderbook_array[0][0]"
   ]
  },
  {
   "cell_type": "code",
   "execution_count": 68,
   "metadata": {},
   "outputs": [],
   "source": [
    "side = 1  # buy order entered on bid side (executed against ask)\n",
    "order_dict = {\n",
    "    # format decimals to nanosecond precision\n",
    "    'timestamp': format(40000.1, '.9f'),\n",
    "    'type': 'limit',\n",
    "    'order_id': 100,\n",
    "    'quantity': 21,\n",
    "    'price': 988100,\n",
    "    'side': 'ask' if side == -1 else 'bid',  # TODO: should be 'buy' or 'sell'\n",
    "    'trade_id': 0  # should be trader_id in future\n",
    "}"
   ]
  },
  {
   "cell_type": "code",
   "execution_count": 69,
   "metadata": {},
   "outputs": [
    {
     "data": {
      "text/plain": [
       "Array([[       10,    988100, 276492538,       100,         0,     40000,\n",
       "        100000000],\n",
       "       [       -1,        -1,        -1,       100,        -1,     40000,\n",
       "        100000000],\n",
       "       [       -1,        -1,        -1,       100,        -1,     40000,\n",
       "        100000000],\n",
       "       [       -1,        -1,        -1,       100,        -1,     40000,\n",
       "        100000000],\n",
       "       [       -1,        -1,        -1,       100,        -1,     40000,\n",
       "        100000000]], dtype=int32)"
      ]
     },
     "execution_count": 69,
     "metadata": {},
     "output_type": "execute_result"
    }
   ],
   "source": [
    "sim.process_order(order_dict)"
   ]
  },
  {
   "cell_type": "code",
   "execution_count": 70,
   "metadata": {},
   "outputs": [
    {
     "data": {
      "text/plain": [
       "Array([[       90,    988100,         0, 276492538,     39599, 264867549],\n",
       "       [       82,    988100,         0, 276511822,     39599, 685781583],\n",
       "       [       -1,        -1,        -1,        -1,        -1,        -1],\n",
       "       [       -1,        -1,        -1,        -1,        -1,        -1],\n",
       "       [       -1,        -1,        -1,        -1,        -1,        -1],\n",
       "       [       -1,        -1,        -1,        -1,        -1,        -1],\n",
       "       [       -1,        -1,        -1,        -1,        -1,        -1],\n",
       "       [       -1,        -1,        -1,        -1,        -1,        -1],\n",
       "       [       -1,        -1,        -1,        -1,        -1,        -1],\n",
       "       [       -1,        -1,        -1,        -1,        -1,        -1],\n",
       "       [       -1,        -1,        -1,        -1,        -1,        -1],\n",
       "       [       -1,        -1,        -1,        -1,        -1,        -1],\n",
       "       [       -1,        -1,        -1,        -1,        -1,        -1],\n",
       "       [       -1,        -1,        -1,        -1,        -1,        -1],\n",
       "       [       -1,        -1,        -1,        -1,        -1,        -1],\n",
       "       [       -1,        -1,        -1,        -1,        -1,        -1],\n",
       "       [       -1,        -1,        -1,        -1,        -1,        -1],\n",
       "       [       -1,        -1,        -1,        -1,        -1,        -1],\n",
       "       [       -1,        -1,        -1,        -1,        -1,        -1],\n",
       "       [       -1,        -1,        -1,        -1,        -1,        -1]],      dtype=int32)"
      ]
     },
     "execution_count": 70,
     "metadata": {},
     "output_type": "execute_result"
    }
   ],
   "source": [
    "sim.orderbook_array[0][0]"
   ]
  },
  {
   "cell_type": "code",
   "execution_count": 71,
   "metadata": {},
   "outputs": [
    {
     "data": {
      "text/plain": [
       "Array(172, dtype=int32)"
      ]
     },
     "execution_count": 71,
     "metadata": {},
     "output_type": "execute_result"
    }
   ],
   "source": [
    "sim.get_volume_at_price(0, 988100)"
   ]
  },
  {
   "attachments": {},
   "cell_type": "markdown",
   "metadata": {},
   "source": [
    "## Model"
   ]
  },
  {
   "cell_type": "code",
   "execution_count": 72,
   "metadata": {},
   "outputs": [],
   "source": [
    "# necessary for checkpoints to be loaded in jupyter notebook\n",
    "\n",
    "import nest_asyncio\n",
    "nest_asyncio.apply()"
   ]
  },
  {
   "cell_type": "code",
   "execution_count": 73,
   "metadata": {},
   "outputs": [],
   "source": [
    "#ckpt_path = '../checkpoints/brisk-surf-147_yc8wpyi3/'\n",
    "ckpt_path = '../checkpoints/scarlet-voice-168_iqq80fnp/'"
   ]
  },
  {
   "cell_type": "code",
   "execution_count": 74,
   "metadata": {},
   "outputs": [],
   "source": [
    "args = load_args_from_checkpoint(ckpt_path)"
   ]
  },
  {
   "cell_type": "code",
   "execution_count": 75,
   "metadata": {},
   "outputs": [
    {
     "data": {
      "text/plain": [
       "Namespace(C_init='trunc_standard_normal', USE_WANDB=True, activation_fn='half_glu1', batchnorm=True, bidirectional=True, blocks=8, bn_momentum=0.95, bsz=16, clip_eigs=True, conj_sym=True, cosine_anneal=True, d_model=128, dataset='lobster-prediction', dir_name='./data/new_t4', discretization='zoh', dt_global=False, dt_max=0.1, dt_min=0.001, early_stop_patience=1000, epochs=100, jax_seed=42, lr_factor=1.0, lr_min=0, lr_patience=1000000, masking='causal', mode='pool', msg_seq_len=500, n_book_post_layers=1, n_book_pre_layers=1, n_layers=6, n_message_layers=2, opt_config='BandCdecay', p_dropout=0.2, prenorm=True, reduce_factor=1.0, restore=None, restore_step=None, ssm_lr_base=0.0005, ssm_size_base=256, use_book_data=True, wandb_entity='peer-nagy', wandb_project='LOBS5', warmup_end=1, weight_decay=0.05)"
      ]
     },
     "execution_count": 75,
     "metadata": {},
     "output_type": "execute_result"
    }
   ],
   "source": [
    "args"
   ]
  },
  {
   "cell_type": "code",
   "execution_count": 76,
   "metadata": {},
   "outputs": [],
   "source": [
    "v = Vocab()\n",
    "n_classes = len(v)\n",
    "seq_len = n_messages * Message_Tokenizer.MSG_LEN\n",
    "book_dim = b_enc.shape[1]\n",
    "book_seq_len = n_messages"
   ]
  },
  {
   "cell_type": "code",
   "execution_count": 77,
   "metadata": {},
   "outputs": [],
   "source": [
    "# temporary: add args if they were hardcoded during training this model\n",
    "\n",
    "# args.use_book_data = True\n",
    "# args.n_message_layers = 2\n",
    "# args.n_book_pre_layers = 1\n",
    "# args.n_book_post_layers = 1"
   ]
  },
  {
   "cell_type": "code",
   "execution_count": 78,
   "metadata": {},
   "outputs": [
    {
     "name": "stdout",
     "output_type": "stream",
     "text": [
      "configuring optimization with B in AdamW setup\n",
      "[*] Trainable Parameters: 6206776\n"
     ]
    }
   ],
   "source": [
    "new_train_state, model_cls = init_train_state(\n",
    "    args,\n",
    "    n_classes=n_classes,\n",
    "    seq_len=seq_len,\n",
    "    book_dim=book_dim,\n",
    "    book_seq_len=book_seq_len,\n",
    ")"
   ]
  },
  {
   "cell_type": "code",
   "execution_count": 79,
   "metadata": {},
   "outputs": [],
   "source": [
    "ckpt = load_checkpoint(\n",
    "    new_train_state,\n",
    "    ckpt_path,\n",
    "    args.__dict__)\n",
    "state = ckpt['model']"
   ]
  },
  {
   "cell_type": "code",
   "execution_count": 80,
   "metadata": {},
   "outputs": [],
   "source": [
    "model = model_cls(training=False, step_rescale=1.0)"
   ]
  },
  {
   "cell_type": "code",
   "execution_count": 81,
   "metadata": {},
   "outputs": [],
   "source": [
    "# TODO from above:\n",
    "# x load trained model\n",
    "#   predict next message\n",
    "#   map message to one the simulator understands & is valid\n",
    "#   apply message to simulator (predicted)\n",
    "#   get L2 representation and encode it for model"
   ]
  },
  {
   "cell_type": "code",
   "execution_count": 82,
   "metadata": {},
   "outputs": [],
   "source": [
    "# append new HID message (and next LOB state if not already in seq)\n",
    "# loop: predict next token until full message is generated\n",
    "# map message to one the simulator understands & is valid\n",
    "# feed message to simulator (predicted) --> next book state\n",
    "# encode next book state for model and append to book sequence"
   ]
  },
  {
   "cell_type": "code",
   "execution_count": 83,
   "metadata": {},
   "outputs": [],
   "source": [
    "vocab_len = len(v)\n",
    "batchnorm = args.batchnorm\n",
    "sample_top_n = 10\n",
    "rng = jax.random.PRNGKey(42)\n",
    "rng, rng_ = jax.random.split(rng)"
   ]
  },
  {
   "attachments": {},
   "cell_type": "markdown",
   "metadata": {},
   "source": [
    "### Model Validation (optional)"
   ]
  },
  {
   "cell_type": "code",
   "execution_count": 99,
   "metadata": {},
   "outputs": [],
   "source": [
    "dataset_obj = LOBSTER(\n",
    "    'lobster',\n",
    "    data_dir='/nfs/home/peern/LOBS5/data/',\n",
    "    mask_fn=LOBSTER_Dataset.causal_mask,\n",
    "    use_book_data=True,\n",
    "    msg_seq_len=500,\n",
    ")\n",
    "dataset_obj.setup()"
   ]
  },
  {
   "cell_type": "code",
   "execution_count": 100,
   "metadata": {},
   "outputs": [],
   "source": [
    "test_loader = make_data_loader(\n",
    "    dataset_obj.dataset_test,\n",
    "    dataset_obj,\n",
    "    seed=args.jax_seed,\n",
    "    batch_size=args.bsz,\n",
    "    drop_last=True,\n",
    "    shuffle=False,\n",
    "    num_workers=0\n",
    ")"
   ]
  },
  {
   "cell_type": "code",
   "execution_count": 54,
   "metadata": {},
   "outputs": [],
   "source": [
    "rng = jax.random.PRNGKey(42)\n",
    "tok = Message_Tokenizer()\n",
    "\n",
    "all_pred_toks = []\n",
    "all_labels = []\n",
    "\n",
    "losses = []\n",
    "accuracy = []\n",
    "ranks = []\n",
    "valid_mass = []\n",
    "valid_mass_n5 = []\n",
    "valid_pred = []\n",
    "losses_baseline = []\n",
    "\n",
    "VALID_MATRIX = valh.syntax_validation_matrix()\n",
    "\n",
    "for batch_idx, batch in enumerate(test_loader):\n",
    "    \n",
    "    # PREPARE BATCH\n",
    "    inputs, labels, integration_timesteps = prep_batch(batch, seq_len, n_classes)\n",
    "    # INFERENCE STEP\n",
    "    loss, acc, pred = eval_step(\n",
    "        inputs, labels, integration_timesteps, state, model, args.batchnorm)\n",
    "    \n",
    "    # STORE RESULTS\n",
    "    pred_toks = pred.argmax(axis=-1)\n",
    "    all_labels += labels.tolist()\n",
    "    all_pred_toks += pred_toks.tolist()\n",
    "    \n",
    "    # STATS\n",
    "    losses.append(cross_entropy_loss(pred, labels))\n",
    "    accuracy.append(compute_accuracy(pred, labels))\n",
    "    \n",
    "    # where does the correct label rank in the predicted distribution?\n",
    "    ranks.append(valh.pred_rank(pred, labels))\n",
    "    # how much of the predicted distribution is valid?\n",
    "    masked_fields = valh.get_masked_fields(batch[0])\n",
    "    valid_mass.append(valh.valid_prediction_mass(pred, masked_fields))\n",
    "    valid_mass_n5.append(valh.valid_prediction_mass(pred, masked_fields, top_n=5))\n",
    "\n",
    "    # check if argmax prediction is valid token for masked fields\n",
    "    valid_pred.append(valh.is_tok_valid(pred_toks, masked_fields, v))\n",
    "\n",
    "    # benchmark: uniform prediction over syntactically valid tokens\n",
    "    pos = valh.get_masked_idx(batch[0])[..., -1]\n",
    "    baseline_distr = VALID_MATRIX[pos] / VALID_MATRIX[pos].sum(axis=-1, keepdims=True)\n",
    "    losses_baseline.append(cross_entropy_loss(jnp.log(\n",
    "            jnp.where(baseline_distr==0, 1e-10, baseline_distr)\n",
    "        ), labels)\n",
    "    )\n",
    "\n",
    "all_labels = jnp.array(all_labels)\n",
    "all_pred_toks = jnp.array(all_pred_toks)\n",
    "losses = jnp.array(losses)\n",
    "accuracy = jnp.array(accuracy)\n",
    "ranks = jnp.array(ranks)\n",
    "valid_mass = jnp.array(valid_mass)\n",
    "valid_mass_n5 = jnp.array(valid_mass_n5)\n",
    "valid_pred = jnp.array(valid_pred)\n",
    "losses_baseline = jnp.array(losses_baseline)"
   ]
  },
  {
   "cell_type": "code",
   "execution_count": 56,
   "metadata": {},
   "outputs": [
    {
     "name": "stdout",
     "output_type": "stream",
     "text": [
      "mean loss 1.3281474\n",
      "mean accuracy 0.7439693\n",
      "mean rank 60.605537\n",
      "median rank 0.0\n",
      "mean valid mass 0.9925552\n",
      "mean valid mass (top 5) 0.9898091\n",
      "mean valid prediction 0.98903507\n",
      "mean baseline loss (uniform over valid syntax) 4.266829\n"
     ]
    }
   ],
   "source": [
    "print('mean loss', losses.mean())\n",
    "print('mean accuracy', accuracy.mean())\n",
    "print('mean rank', ranks.mean())\n",
    "print('median rank', onp.median(ranks))\n",
    "print('mean valid mass', valid_mass.mean())\n",
    "print('mean valid mass (top 5)', valid_mass_n5.mean())\n",
    "print('mean valid prediction', valid_pred.mean())\n",
    "print('mean baseline loss (uniform over valid syntax)', losses_baseline.mean())"
   ]
  },
  {
   "cell_type": "code",
   "execution_count": 57,
   "metadata": {},
   "outputs": [
    {
     "data": {
      "text/plain": [
       "\"\\nprint('precision: {}'.format(precision))\\nprint('recall: {}'.format(recall))\\nprint('fscore: {}'.format(fscore))\\nprint('support: {}'.format(support))\\n\""
      ]
     },
     "execution_count": 57,
     "metadata": {},
     "output_type": "execute_result"
    }
   ],
   "source": [
    "from sklearn.metrics import precision_recall_fscore_support\n",
    "import numpy as onp\n",
    "import pandas as pd\n",
    "\n",
    "\n",
    "precision, recall, fscore, support = precision_recall_fscore_support(\n",
    "    all_labels.astype(int),\n",
    "    all_pred_toks,\n",
    "    labels=range(len(v)),\n",
    "    zero_division=0,\n",
    "    average=None\n",
    ")\n",
    "\n",
    "'''\n",
    "print('precision: {}'.format(precision))\n",
    "print('recall: {}'.format(recall))\n",
    "print('fscore: {}'.format(fscore))\n",
    "print('support: {}'.format(support))\n",
    "'''"
   ]
  },
  {
   "cell_type": "code",
   "execution_count": 58,
   "metadata": {},
   "outputs": [],
   "source": [
    "field_dec = onp.array([(field, dec) for tok, (field, dec) in sorted(v.DECODING_GLOBAL.items())])\n",
    "\n",
    "scores_df = pd.DataFrame({\n",
    "    'field': field_dec[:, 0],\n",
    "    'decoded': field_dec[:, 1],\n",
    "    'precision': precision,\n",
    "    'recall': recall,\n",
    "    'fscore': fscore,\n",
    "    'support': support,\n",
    "})\n",
    "#scores_df"
   ]
  },
  {
   "cell_type": "code",
   "execution_count": 249,
   "metadata": {},
   "outputs": [
    {
     "data": {
      "text/html": [
       "<div>\n",
       "<style scoped>\n",
       "    .dataframe tbody tr th:only-of-type {\n",
       "        vertical-align: middle;\n",
       "    }\n",
       "\n",
       "    .dataframe tbody tr th {\n",
       "        vertical-align: top;\n",
       "    }\n",
       "\n",
       "    .dataframe thead th {\n",
       "        text-align: right;\n",
       "    }\n",
       "</style>\n",
       "<table border=\"1\" class=\"dataframe\">\n",
       "  <thead>\n",
       "    <tr style=\"text-align: right;\">\n",
       "      <th></th>\n",
       "      <th>precision</th>\n",
       "      <th>recall</th>\n",
       "      <th>fscore</th>\n",
       "      <th>support</th>\n",
       "    </tr>\n",
       "    <tr>\n",
       "      <th>field</th>\n",
       "      <th></th>\n",
       "      <th></th>\n",
       "      <th></th>\n",
       "      <th></th>\n",
       "    </tr>\n",
       "  </thead>\n",
       "  <tbody>\n",
       "    <tr>\n",
       "      <th>direction</th>\n",
       "      <td>0.756392</td>\n",
       "      <td>0.509702</td>\n",
       "      <td>0.607549</td>\n",
       "      <td>531</td>\n",
       "    </tr>\n",
       "    <tr>\n",
       "      <th>event_type</th>\n",
       "      <td>0.615834</td>\n",
       "      <td>0.597230</td>\n",
       "      <td>0.605116</td>\n",
       "      <td>520</td>\n",
       "    </tr>\n",
       "    <tr>\n",
       "      <th>generic</th>\n",
       "      <td>0.713011</td>\n",
       "      <td>0.996881</td>\n",
       "      <td>0.831383</td>\n",
       "      <td>962</td>\n",
       "    </tr>\n",
       "    <tr>\n",
       "      <th>price</th>\n",
       "      <td>0.401648</td>\n",
       "      <td>0.383298</td>\n",
       "      <td>0.377822</td>\n",
       "      <td>553</td>\n",
       "    </tr>\n",
       "    <tr>\n",
       "      <th>size</th>\n",
       "      <td>0.122625</td>\n",
       "      <td>0.066499</td>\n",
       "      <td>0.078992</td>\n",
       "      <td>536</td>\n",
       "    </tr>\n",
       "    <tr>\n",
       "      <th>time</th>\n",
       "      <td>0.050324</td>\n",
       "      <td>0.061767</td>\n",
       "      <td>0.052441</td>\n",
       "      <td>546</td>\n",
       "    </tr>\n",
       "  </tbody>\n",
       "</table>\n",
       "</div>"
      ],
      "text/plain": [
       "            precision    recall    fscore  support\n",
       "field                                             \n",
       "direction    0.756392  0.509702  0.607549      531\n",
       "event_type   0.615834  0.597230  0.605116      520\n",
       "generic      0.713011  0.996881  0.831383      962\n",
       "price        0.401648  0.383298  0.377822      553\n",
       "size         0.122625  0.066499  0.078992      536\n",
       "time         0.050324  0.061767  0.052441      546"
      ]
     },
     "execution_count": 249,
     "metadata": {},
     "output_type": "execute_result"
    }
   ],
   "source": [
    "# forecasting fields right to left direction\n",
    "\n",
    "scores_df.loc[scores_df.support > 0].groupby('field').agg(\n",
    "    precision=('precision', 'mean'),\n",
    "    recall=('recall', 'mean'),\n",
    "    fscore=('fscore', 'mean'),\n",
    "    support=('support', 'sum'),\n",
    ")"
   ]
  },
  {
   "cell_type": "code",
   "execution_count": 59,
   "metadata": {},
   "outputs": [
    {
     "data": {
      "text/html": [
       "<div>\n",
       "<style scoped>\n",
       "    .dataframe tbody tr th:only-of-type {\n",
       "        vertical-align: middle;\n",
       "    }\n",
       "\n",
       "    .dataframe tbody tr th {\n",
       "        vertical-align: top;\n",
       "    }\n",
       "\n",
       "    .dataframe thead th {\n",
       "        text-align: right;\n",
       "    }\n",
       "</style>\n",
       "<table border=\"1\" class=\"dataframe\">\n",
       "  <thead>\n",
       "    <tr style=\"text-align: right;\">\n",
       "      <th></th>\n",
       "      <th>precision</th>\n",
       "      <th>recall</th>\n",
       "      <th>fscore</th>\n",
       "      <th>support</th>\n",
       "    </tr>\n",
       "    <tr>\n",
       "      <th>field</th>\n",
       "      <th></th>\n",
       "      <th></th>\n",
       "      <th></th>\n",
       "      <th></th>\n",
       "    </tr>\n",
       "  </thead>\n",
       "  <tbody>\n",
       "    <tr>\n",
       "      <th>direction</th>\n",
       "      <td>0.928238</td>\n",
       "      <td>0.973527</td>\n",
       "      <td>0.950179</td>\n",
       "      <td>531</td>\n",
       "    </tr>\n",
       "    <tr>\n",
       "      <th>event_type</th>\n",
       "      <td>0.480274</td>\n",
       "      <td>0.500000</td>\n",
       "      <td>0.489918</td>\n",
       "      <td>520</td>\n",
       "    </tr>\n",
       "    <tr>\n",
       "      <th>generic</th>\n",
       "      <td>0.975104</td>\n",
       "      <td>0.977131</td>\n",
       "      <td>0.976116</td>\n",
       "      <td>962</td>\n",
       "    </tr>\n",
       "    <tr>\n",
       "      <th>price</th>\n",
       "      <td>0.255112</td>\n",
       "      <td>0.255230</td>\n",
       "      <td>0.223026</td>\n",
       "      <td>553</td>\n",
       "    </tr>\n",
       "    <tr>\n",
       "      <th>size</th>\n",
       "      <td>0.040464</td>\n",
       "      <td>0.031997</td>\n",
       "      <td>0.033178</td>\n",
       "      <td>536</td>\n",
       "    </tr>\n",
       "    <tr>\n",
       "      <th>time</th>\n",
       "      <td>0.013517</td>\n",
       "      <td>0.054023</td>\n",
       "      <td>0.020885</td>\n",
       "      <td>546</td>\n",
       "    </tr>\n",
       "  </tbody>\n",
       "</table>\n",
       "</div>"
      ],
      "text/plain": [
       "            precision    recall    fscore  support\n",
       "field                                             \n",
       "direction    0.928238  0.973527  0.950179      531\n",
       "event_type   0.480274  0.500000  0.489918      520\n",
       "generic      0.975104  0.977131  0.976116      962\n",
       "price        0.255112  0.255230  0.223026      553\n",
       "size         0.040464  0.031997  0.033178      536\n",
       "time         0.013517  0.054023  0.020885      546"
      ]
     },
     "execution_count": 59,
     "metadata": {},
     "output_type": "execute_result"
    }
   ],
   "source": [
    "# left to right causal prediction: e.g. direction already has price\n",
    "\n",
    "scores_df.loc[scores_df.support > 0].groupby('field').agg(\n",
    "    precision=('precision', 'mean'),\n",
    "    recall=('recall', 'mean'),\n",
    "    fscore=('fscore', 'mean'),\n",
    "    support=('support', 'sum'),\n",
    ")"
   ]
  },
  {
   "attachments": {},
   "cell_type": "markdown",
   "metadata": {},
   "source": [
    "### Forecasting"
   ]
  },
  {
   "cell_type": "code",
   "execution_count": 84,
   "metadata": {},
   "outputs": [],
   "source": [
    "# m_seq_start = m_seq.copy()\n",
    "# b_seq_start = b_seq.copy()"
   ]
  },
  {
   "cell_type": "code",
   "execution_count": 115,
   "metadata": {},
   "outputs": [],
   "source": [
    "m_seq = m_seq_start.copy()\n",
    "b_seq = b_seq_start.copy()"
   ]
  },
  {
   "cell_type": "code",
   "execution_count": 86,
   "metadata": {},
   "outputs": [],
   "source": [
    "from gym_exchange.environment.base_env.assets.orderflow import OrderIdGenerator"
   ]
  },
  {
   "cell_type": "code",
   "execution_count": 210,
   "metadata": {},
   "outputs": [],
   "source": [
    "from typing import Any, Dict, Tuple, List\n",
    "\n",
    "\n",
    "tick_size = 100\n",
    "\n",
    "\n",
    "def get_sim_msg(\n",
    "    pred_msg_enc: onp.ndarray,\n",
    "    m_seq: onp.ndarray,\n",
    "    m_seq_raw: pd.DataFrame,\n",
    "    sim: OrderBook,\n",
    "    tok: Message_Tokenizer,\n",
    "    v: Vocab,\n",
    "    new_order_id: int,\n",
    "    tick_size: int\n",
    ") -> Tuple[Optional[Dict[str, Any]], Optional[onp.ndarray]]:\n",
    "\n",
    "    # decoded predicted message\n",
    "    pred_msg = tok.decode(pred_msg_enc, v).flatten()\n",
    "    #print('decoded predicted message:', pred_msg)\n",
    "\n",
    "    if onp.isnan(pred_msg).all():\n",
    "        return None, None\n",
    "    \n",
    "    orig_part = pred_msg[: len(pred_msg) // 2]\n",
    "    modif_part = pred_msg[len(pred_msg) // 2:]\n",
    "\n",
    "    # new order: no modification values present (all NA)\n",
    "    # should be new LIMIT ORDER (1) or EXECUTION (4)\n",
    "    if onp.isnan(modif_part).all():\n",
    "        order_dict, msg_corr = get_sim_msg_new(sim, orig_part, new_order_id, tick_size)\n",
    "\n",
    "    # modification / deletion of existing order\n",
    "    else:\n",
    "        # error in msg: some modifier field is nan\n",
    "        if onp.isnan(modif_part).any():\n",
    "            return None, None\n",
    "\n",
    "        mod_type = int(modif_part[1])\n",
    "        # cancel / delete\n",
    "        if mod_type in {2, 3}:\n",
    "            order_dict, msg_corr = get_sim_msg_mod(\n",
    "                pred_msg_enc,\n",
    "                orig_part,\n",
    "                modif_part,\n",
    "                m_seq,\n",
    "                m_seq_raw,\n",
    "                sim,\n",
    "                tok,\n",
    "                v,\n",
    "                tick_size)\n",
    "            \n",
    "        # modify\n",
    "        elif mod_type == 4:\n",
    "            order_dict, msg_corr = get_sim_msg_exec(\n",
    "                pred_msg_enc,\n",
    "                orig_part,\n",
    "                modif_part,\n",
    "                m_seq,\n",
    "                m_seq_raw,\n",
    "                new_order_id,\n",
    "                sim,\n",
    "                tok,\n",
    "                v,\n",
    "                tick_size)\n",
    "\n",
    "        # Invalid type of modification\n",
    "        else:\n",
    "            return None, None\n",
    "\n",
    "    return order_dict, msg_corr\n",
    "\n",
    "def get_sim_msg_new(\n",
    "        sim: OrderBook,\n",
    "        orig_part: onp.ndarray,\n",
    "        new_order_id: int,\n",
    "        tick_size: int,\n",
    "    ) -> Tuple[Optional[Dict[str, Any]], Optional[onp.ndarray]]:\n",
    "\n",
    "        event_type = int(orig_part[1])\n",
    "        quantity = int(orig_part[2])\n",
    "        side = int(orig_part[4])\n",
    "\n",
    "        if onp.isnan(orig_part).any():\n",
    "            return None, None\n",
    "        \n",
    "        assert event_type == 1\n",
    "        # new limit order\n",
    "        # if event_type == 1:\n",
    "        print('NEW LIMIT ORDER')\n",
    "        rel_price = int(orig_part[3])\n",
    "        # convert relative to absolute price\n",
    "        price = sim.get_best_bid() + rel_price * tick_size\n",
    "            \n",
    "        # type 4: order execution\n",
    "        # else:\n",
    "        #     print('ORDER EXECUTION')\n",
    "        #     # make sure execution happens at best bid/ask\n",
    "        #     # adjust price and quantity (down) accordingly to guarantee execution at only one price level\n",
    "        #     #price = sim.get_best_ask() if side == 0 else sim.get_best_bid()\n",
    "        #     if side == 0:\n",
    "        #         price = sim.get_best_ask()\n",
    "        #         rel_price = (price - sim.get_best_bid()) // tick_size\n",
    "        #     else:\n",
    "        #         price = sim.get_best_bid()\n",
    "        #         rel_price = 0\n",
    "        #     available_qty = sim.get_volume_at_price(side, price)\n",
    "        #     quantity = min(quantity, available_qty)\n",
    "\n",
    "        # TODO: validate timestamp (should be in the future but not too far)\n",
    "        order_dict = {\n",
    "            'timestamp': str(orig_part[0] * 1e-9 + 9.5 * 3600),\n",
    "            'type': 'limit',\n",
    "            'order_id': new_order_id, \n",
    "            'quantity': quantity,\n",
    "            'price': price,\n",
    "            'side': 'ask' if side == 0 else 'bid',  # TODO: should be 'buy' or 'sell'?\n",
    "            'trade_id': 0  # should be trader_id in future\n",
    "        }\n",
    "\n",
    "        msg_corr = onp.array([\n",
    "            str(int(orig_part[0])).zfill(15),\n",
    "            str(event_type),\n",
    "            str(quantity).zfill(4), \n",
    "            ('+' if rel_price > 0 else '-') + str(onp.abs(rel_price)).zfill(2),\n",
    "            str(side),\n",
    "        ])\n",
    "        # encode corrected message\n",
    "        msg_corr = tok.encode_msg(msg_corr, v)\n",
    "        nan_part = onp.array((Message_Tokenizer.MSG_LEN // 2) * [Vocab.NA_TOK])\n",
    "        msg_corr = onp.concatenate([msg_corr, nan_part])\n",
    "\n",
    "        return order_dict, msg_corr\n",
    "\n",
    "def rel_to_abs_price(\n",
    "        p_rel: int,\n",
    "        sim: OrderBook,\n",
    "        tick_size: int = 100,\n",
    "    ) -> int:\n",
    "\n",
    "    assert tick_size % 10 == 0\n",
    "    round_to = int(-onp.log10(tick_size))\n",
    "    p_ref = onp.round((sim.get_best_bid() + sim.get_best_ask()) / 2, round_to)\n",
    "    return p_ref + p_rel * tick_size\n",
    "\n",
    "def get_sim_msg_mod(\n",
    "        pred_msg_enc: onp.ndarray,\n",
    "        orig_part: onp.ndarray,\n",
    "        modif_part: onp.ndarray,\n",
    "        m_seq: onp.ndarray,\n",
    "        m_seq_raw: pd.DataFrame,\n",
    "        sim: OrderBook,\n",
    "        tok: Message_Tokenizer,\n",
    "        v: Vocab,\n",
    "        tick_size: int\n",
    "    ) -> Tuple[Optional[Dict[str, Any]], Optional[onp.ndarray]]:\n",
    "\n",
    "    print('ORDER CANCEL / DELETE')\n",
    "\n",
    "    # the actual price of the order to be modified\n",
    "    # p_mod_raw = sim.get_best_bid() + int(modif_part[3]) * tick_size\n",
    "    p_mod_raw = rel_to_abs_price(int(modif_part[3]), sim, tick_size)\n",
    "    side = int(modif_part[4])\n",
    "    removed_quantity = int(modif_part[2])\n",
    "    event_type = int(modif_part[1])\n",
    "\n",
    "    print('event_type:', event_type)\n",
    "\n",
    "    # make sure execution happens only if price generated at best bid/ask\n",
    "    if event_type == 4:\n",
    "        best_price = sim.get_best_ask() if side == 0 else sim.get_best_bid()\n",
    "        if p_mod_raw != best_price:\n",
    "            print('EXECUTION AT WRONG PRICE')\n",
    "            return None, None\n",
    "    \n",
    "    # orig order before sequence start (no ref given or part missing)\n",
    "    if onp.isnan(orig_part).any():\n",
    "        # if no init volume remains at price, discard current message\n",
    "        if sim.get_init_volume_at_price(side, p_mod_raw) == 0:\n",
    "            return None, None\n",
    "        order_id = job.INITID\n",
    "        orig_msg_found = onp.array((Message_Tokenizer.MSG_LEN // 2) * [Vocab.NA_TOK])\n",
    "    \n",
    "    # search for original order to get correct ID\n",
    "    else:\n",
    "        m_seq = m_seq.copy().reshape((-1, Message_Tokenizer.MSG_LEN))\n",
    "        # original part is only needed to match to an order ID\n",
    "        # find original msg index location in the sequence (if it exists)\n",
    "        orig_enc = pred_msg_enc[: len(pred_msg_enc) // 2]\n",
    "\n",
    "        mask = get_invalid_ref_mask(m_seq_raw, p_mod_raw)\n",
    "        orig_i, n_fields_removed = valh.try_find_msg(orig_enc, m_seq, seq_mask=mask)\n",
    "        #orig_i = valh.find_orig_msg(orig_enc, m_seq)\n",
    "        \n",
    "        # didn't find matching original message\n",
    "        if orig_i is None:\n",
    "            if sim.get_init_volume_at_price(side, p_mod_raw) == 0:\n",
    "                return None, None\n",
    "            order_id = job.INITID\n",
    "            orig_msg_found = onp.array((Message_Tokenizer.MSG_LEN // 2) * [Vocab.NA_TOK])\n",
    "        \n",
    "        # found matching original message\n",
    "        else:\n",
    "            # get order ID from raw data for simulator\n",
    "            order_id = int(m_seq_raw.iloc[orig_i].order_id)\n",
    "            orig_msg_found = onp.array(m_seq[orig_i, : Message_Tokenizer.MSG_LEN // 2])\n",
    "\n",
    "    # get remaining quantity in book for given order ID\n",
    "    print('looking for order', order_id, 'at price', p_mod_raw)\n",
    "    remaining_quantity = sim.get_order_by_id_and_price(order_id, p_mod_raw)[0]\n",
    "    print('remaining quantity', remaining_quantity)\n",
    "    if remaining_quantity == -1:\n",
    "        remaining_quantity = sim.get_init_volume_at_price(side, p_mod_raw)\n",
    "        print('remaining init qu.', remaining_quantity)\n",
    "        # if no init volume remains at price, discard current message\n",
    "        if remaining_quantity == 0:\n",
    "            return None, None\n",
    "        order_id = job.INITID\n",
    "        orig_msg_found = onp.array((Message_Tokenizer.MSG_LEN // 2) * [Vocab.NA_TOK])\n",
    "\n",
    "    # removing more than remaining quantity --> scale down to remaining\n",
    "    if removed_quantity >= remaining_quantity:\n",
    "        removed_quantity = remaining_quantity\n",
    "        # change partial cancel to full delete\n",
    "        if event_type == 2:\n",
    "            event_type = 3\n",
    "    # change full delete to partial cancel\n",
    "    elif event_type == 3:\n",
    "        event_type = 2\n",
    "\n",
    "    print(f'(event_type={event_type}) -{removed_quantity} from {remaining_quantity} '\n",
    "          + f'@{p_mod_raw} --> {remaining_quantity}')\n",
    "\n",
    "    if event_type == 2:\n",
    "        sim_type = 'cancel'\n",
    "        sim_side = side\n",
    "    elif event_type == 3:\n",
    "        sim_type = 'delete'\n",
    "        sim_side = side\n",
    "    elif event_type == 4:\n",
    "        sim_type = 'limit'\n",
    "        # convert execution side to limit order side for simulator\n",
    "        sim_side = 0 if side == 1 else 1\n",
    "    \n",
    "    order_dict = {\n",
    "        # format decimals to nanosecond precision\n",
    "        'timestamp': format(modif_part[0] * 1e-9 + 9.5 * 3600, '.9f'),\n",
    "        'type': sim_type,\n",
    "        'order_id': order_id, \n",
    "        'quantity': removed_quantity,\n",
    "        'price': p_mod_raw,\n",
    "        'side': 'ask' if sim_side == 0 else 'bid',  # TODO: should be 'buy' or 'sell'\n",
    "        'trade_id': 0  # should be trader_id in future\n",
    "    }\n",
    "    rel_price = int(modif_part[3])\n",
    "    #corr_msg = onp.empty((len(pred_msg),))\n",
    "    #corr_msg[: len(pred_msg) // 2] = orig_msg_found\n",
    "    msg_corr = onp.array([\n",
    "        str(int(modif_part[0])).zfill(15),\n",
    "        str(event_type),\n",
    "        str(removed_quantity).zfill(4), \n",
    "        ('+' if rel_price > 0 else '-') + str(onp.abs(rel_price)).zfill(2),\n",
    "        str(side),\n",
    "    ])\n",
    "    # encode corrected message\n",
    "    msg_corr = tok.encode_msg(msg_corr, v)\n",
    "    msg_corr = onp.concatenate([orig_msg_found, msg_corr])\n",
    "\n",
    "    return order_dict, msg_corr\n",
    "\n",
    "def get_sim_msg_exec(\n",
    "        pred_msg_enc: onp.ndarray,\n",
    "        orig_part: onp.ndarray,\n",
    "        modif_part: onp.ndarray,\n",
    "        m_seq: onp.ndarray,\n",
    "        m_seq_raw: pd.DataFrame,\n",
    "        new_order_id: int,\n",
    "        sim: OrderBook,\n",
    "        tok: Message_Tokenizer,\n",
    "        v: Vocab,\n",
    "        tick_size: int\n",
    "    ) -> Tuple[Optional[Dict[str, Any]], Optional[onp.ndarray]]:\n",
    "\n",
    "    print('ORDER EXECUTION')\n",
    "\n",
    "    # the actual price of the order to be modified\n",
    "    p_mod_raw = rel_to_abs_price(int(modif_part[3]), sim, tick_size)\n",
    "    side = int(modif_part[4])\n",
    "    removed_quantity = int(modif_part[2])\n",
    "    event_type = int(modif_part[1])\n",
    "\n",
    "    print('event_type:', event_type)\n",
    "    assert event_type == 4\n",
    "\n",
    "    # get order against which execution is happening\n",
    "    passive_order = sim.orderbook_array[side, 0, 0]\n",
    "    if p_mod_raw != passive_order[1]:\n",
    "        print('EXECUTION AT WRONG PRICE')\n",
    "        return None, None\n",
    "\n",
    "    remaining_quantity = passive_order[0]\n",
    "    print('remaining quantity', remaining_quantity)\n",
    "    if remaining_quantity == -1:\n",
    "        print('NOTHING TO EXECUTE AGAINST (empty side of book)')\n",
    "        return None, None\n",
    "\n",
    "    # removing more than remaining quantity --> scale down to remaining\n",
    "    if removed_quantity >= remaining_quantity:\n",
    "        removed_quantity = remaining_quantity\n",
    "\n",
    "    print(f'(event_type={event_type}) -{removed_quantity} from {remaining_quantity} '\n",
    "          + f'@{p_mod_raw} --> {remaining_quantity-removed_quantity}')\n",
    "    \n",
    "    order_dict = {\n",
    "        # format decimals to nanosecond precision\n",
    "        'timestamp': format(modif_part[0] * 1e-9 + 9.5 * 3600, '.9f'),\n",
    "        'type': 'limit',\n",
    "        'order_id': new_order_id, \n",
    "        'quantity': removed_quantity,\n",
    "        'price': p_mod_raw,\n",
    "        'side': 'ask' if side == 1 else 'bid',  # CAVE: other side as cancels\n",
    "        'trade_id': 0  # should be trader_id in future\n",
    "    }\n",
    "    rel_price = int(modif_part[3])\n",
    "    msg_corr = onp.array([\n",
    "        str(int(modif_part[0])).zfill(15),\n",
    "        str(event_type),\n",
    "        str(removed_quantity).zfill(4), \n",
    "        ('+' if rel_price > 0 else '-') + str(onp.abs(rel_price)).zfill(2),\n",
    "        str(side),\n",
    "    ])\n",
    "\n",
    "    # correct the order which is executed in the sequence\n",
    "    order_id = passive_order[3]\n",
    "    orig_i = onp.argwhere(m_seq_raw.order_id.values == order_id)\n",
    "    # found correct order\n",
    "    if len(orig_i) > 0:\n",
    "        orig_i = orig_i[0]\n",
    "        orig_msg_found = onp.array(m_seq[orig_i, : Message_Tokenizer.MSG_LEN // 2])\n",
    "    # didn't find correct order (e.g. INITID)\n",
    "    else:\n",
    "        orig_msg_found = onp.array((Message_Tokenizer.MSG_LEN // 2) * [Vocab.NA_TOK])\n",
    "\n",
    "    # encode corrected message\n",
    "    msg_corr = tok.encode_msg(msg_corr, v)\n",
    "    msg_corr = onp.concatenate([orig_msg_found, msg_corr])\n",
    "\n",
    "    return order_dict, msg_corr\n",
    "\n",
    "def get_invalid_ref_mask(\n",
    "        m_seq_raw: pd.DataFrame,\n",
    "        p_mod_raw: int,\n",
    "    ):\n",
    "\n",
    "    # filter sequence to prices matching the correct price level\n",
    "    wrong_price_mask = (m_seq_raw.price != p_mod_raw).astype(bool).values\n",
    "    # to filter to orders still in the book: get order IDs from sim\n",
    "    ids = sim.get_order_ids()\n",
    "    # cave: convert from jax to numpy for isin() to work\n",
    "    ids = onp.array(ids[ids != -1])\n",
    "    not_in_book_mask = ~(m_seq_raw.order_id.isin(ids)).astype(bool).values\n",
    "    mask = wrong_price_mask | not_in_book_mask\n",
    "    return mask\n",
    "\n",
    "def encode_L2_state(\n",
    "        book: jax.Array, \n",
    "        price_levels: int, \n",
    "    ) -> jax.Array:\n",
    "    \"\"\" Converts L2 book state (from from jax OrderBook.get_L2_state())\n",
    "        to price_levels many volume series used as input to the model.\n",
    "        Converts vols to negative vols for ask side (sell orders)\n",
    "    \"\"\"\n",
    "    book = book.reshape((-1,2))\n",
    "    #best_bid = book[1, 0]\n",
    "    # set ask vols to negative values\n",
    "    book = book.at[::2, 1].set(book[::2, 1] * -1)\n",
    "    mid_price = jnp.round((book[0, 0] + book[1, 0]) / 2, -2).astype(int)\n",
    "    book = book.at[:, 0].set((book[:, 0] - mid_price) // 100)\n",
    "    # change relative prices to indices\n",
    "    book = book.at[:, 0].set(book[:, 0] + price_levels // 2)\n",
    "    # set to out of bounds index, so that we can use -1 to indicate nan\n",
    "    # out of bounds will be ignored in setting value in jax\n",
    "    nan_mask = (book == -1)\n",
    "    book = book.at[nan_mask].set(-price_levels-1)\n",
    "\n",
    "    mybook = jnp.zeros(price_levels, dtype=onp.int32)\n",
    "    mybook = mybook.at[book[:, 0]].set(book[:, 1])\n",
    "    #print(mybook)\n",
    "    return mybook"
   ]
  },
  {
   "cell_type": "code",
   "execution_count": 141,
   "metadata": {},
   "outputs": [
    {
     "data": {
      "text/plain": [
       "Array([      100,    988100,         0, 276492538,     39599, 264867549],      dtype=int32)"
      ]
     },
     "execution_count": 141,
     "metadata": {},
     "output_type": "execute_result"
    }
   ],
   "source": [
    "# side, level, q, field\n",
    "sim.orderbook_array[0,0,0]"
   ]
  },
  {
   "cell_type": "code",
   "execution_count": 192,
   "metadata": {},
   "outputs": [
    {
     "data": {
      "text/plain": [
       "Array([       82,    988100,         0, 276511822,     39599, 685781583],      dtype=int32)"
      ]
     },
     "execution_count": 192,
     "metadata": {},
     "output_type": "execute_result"
    }
   ],
   "source": [
    "sim.get_order_by_id_and_price(276511822, 988100)"
   ]
  },
  {
   "cell_type": "code",
   "execution_count": 193,
   "metadata": {},
   "outputs": [
    {
     "data": {
      "text/plain": [
       "Array([       82,    988100,         0, 276511822,     39599, 685781583],      dtype=int32)"
      ]
     },
     "execution_count": 193,
     "metadata": {},
     "output_type": "execute_result"
    }
   ],
   "source": [
    "sim.get_order_by_id(276511822)"
   ]
  },
  {
   "cell_type": "code",
   "execution_count": 124,
   "metadata": {},
   "outputs": [],
   "source": [
    "import matplotlib.pyplot as plt"
   ]
  },
  {
   "cell_type": "code",
   "execution_count": 211,
   "metadata": {},
   "outputs": [
    {
     "data": {
      "text/plain": [
       "[<matplotlib.lines.Line2D at 0x7f857018a700>]"
      ]
     },
     "execution_count": 211,
     "metadata": {},
     "output_type": "execute_result"
    },
    {
     "data": {
      "image/png": "[encoded data removed]",
      "text/plain": [
       "<Figure size 432x288 with 1 Axes>"
      ]
     },
     "metadata": {
      "needs_background": "light"
     },
     "output_type": "display_data"
    }
   ],
   "source": [
    "# price drift in sequence\n",
    "plt.plot(onp.cumsum(b_seq[:, 0]))"
   ]
  },
  {
   "cell_type": "code",
   "execution_count": 213,
   "metadata": {},
   "outputs": [
    {
     "data": {
      "text/plain": [
       "Array([-1, -1, -1, -1, -1, -1], dtype=int32)"
      ]
     },
     "execution_count": 213,
     "metadata": {},
     "output_type": "execute_result"
    }
   ],
   "source": [
    "sim.get_order_by_id(276503626)"
   ]
  },
  {
   "cell_type": "code",
   "execution_count": 212,
   "metadata": {},
   "outputs": [
    {
     "name": "stdout",
     "output_type": "stream",
     "text": [
      "ORDER CANCEL / DELETE\n",
      "event_type: 3\n",
      "found perfect order match\n",
      "looking for order 276503626 at price 988100.0\n",
      "remaining quantity -1\n",
      "remaining init qu. 0\n",
      "invalid message - discarding...\n",
      "ORDER CANCEL / DELETE\n",
      "event_type: 3\n",
      "found perfect order match\n",
      "looking for order 276503626 at price 987900.0\n",
      "remaining quantity -1\n",
      "remaining init qu. 0\n",
      "invalid message - discarding...\n",
      "ORDER CANCEL / DELETE\n",
      "event_type: 3\n",
      "found perfect order match\n",
      "looking for order 276503626 at price 988200.0\n",
      "remaining quantity -1\n",
      "remaining init qu. 0\n",
      "invalid message - discarding...\n",
      "ORDER CANCEL / DELETE\n",
      "event_type: 3\n",
      "found perfect order match\n",
      "looking for order 276503626 at price 988100.0\n",
      "remaining quantity -1\n",
      "remaining init qu. 0\n",
      "invalid message - discarding...\n",
      "NEW LIMIT ORDER\n"
     ]
    },
    {
     "data": {
      "text/plain": [
       "{'timestamp': '39599.113208466',\n",
       " 'type': 'limit',\n",
       " 'order_id': 88000403,\n",
       " 'quantity': 6,\n",
       " 'price': Array(988000, dtype=int32),\n",
       " 'side': 'ask',\n",
       " 'trade_id': 0}"
      ]
     },
     "metadata": {},
     "output_type": "display_data"
    },
    {
     "name": "stdout",
     "output_type": "stream",
     "text": [
      "p_change 0\n",
      "ORDER CANCEL / DELETE\n",
      "event_type: 3\n",
      "found perfect order match\n",
      "looking for order 276503626 at price 988800.0\n",
      "remaining quantity -1\n",
      "remaining init qu. 331\n",
      "(event_type=2) -100 from 331 @988800.0 --> 331\n"
     ]
    },
    {
     "data": {
      "text/plain": [
       "{'timestamp': '39599.119710826',\n",
       " 'type': 'cancel',\n",
       " 'order_id': 90000000,\n",
       " 'quantity': 100,\n",
       " 'price': Array(988800., dtype=float32),\n",
       " 'side': 'ask',\n",
       " 'trade_id': 0}"
      ]
     },
     "metadata": {},
     "output_type": "display_data"
    },
    {
     "name": "stdout",
     "output_type": "stream",
     "text": [
      "p_change 0\n",
      "NEW LIMIT ORDER\n"
     ]
    },
    {
     "data": {
      "text/plain": [
       "{'timestamp': '39599.4097104',\n",
       " 'type': 'limit',\n",
       " 'order_id': 88000405,\n",
       " 'quantity': 100,\n",
       " 'price': Array(988000, dtype=int32),\n",
       " 'side': 'ask',\n",
       " 'trade_id': 0}"
      ]
     },
     "metadata": {},
     "output_type": "display_data"
    },
    {
     "name": "stdout",
     "output_type": "stream",
     "text": [
      "p_change 0\n",
      "ORDER CANCEL / DELETE\n",
      "event_type: 3\n",
      "found perfect order match\n",
      "looking for order 276503626 at price 988200.0\n",
      "remaining quantity -1\n",
      "remaining init qu. 0\n",
      "invalid message - discarding...\n",
      "ORDER CANCEL / DELETE\n",
      "event_type: 3\n",
      "found perfect order match\n",
      "looking for order 276503626 at price 987900.0\n",
      "remaining quantity -1\n",
      "remaining init qu. 0\n",
      "invalid message - discarding...\n",
      "ORDER CANCEL / DELETE\n",
      "event_type: 3\n",
      "found perfect order match\n",
      "looking for order 276503626 at price 988200.0\n",
      "remaining quantity -1\n",
      "remaining init qu. 0\n",
      "invalid message - discarding...\n",
      "NEW LIMIT ORDER\n"
     ]
    },
    {
     "data": {
      "text/plain": [
       "{'timestamp': '39599.969271579',\n",
       " 'type': 'limit',\n",
       " 'order_id': 88000409,\n",
       " 'quantity': 25,\n",
       " 'price': Array(988000, dtype=int32),\n",
       " 'side': 'ask',\n",
       " 'trade_id': 0}"
      ]
     },
     "metadata": {},
     "output_type": "display_data"
    },
    {
     "name": "stdout",
     "output_type": "stream",
     "text": [
      "p_change 0\n",
      "NEW LIMIT ORDER\n"
     ]
    },
    {
     "data": {
      "text/plain": [
       "{'timestamp': '39599.384217512',\n",
       " 'type': 'limit',\n",
       " 'order_id': 88000410,\n",
       " 'quantity': 5,\n",
       " 'price': Array(988000, dtype=int32),\n",
       " 'side': 'ask',\n",
       " 'trade_id': 0}"
      ]
     },
     "metadata": {},
     "output_type": "display_data"
    },
    {
     "name": "stdout",
     "output_type": "stream",
     "text": [
      "p_change 0\n",
      "ORDER CANCEL / DELETE\n",
      "event_type: 3\n",
      "found perfect order match\n",
      "looking for order 276503626 at price 987000.0\n",
      "remaining quantity -1\n",
      "remaining init qu. 0\n",
      "invalid message - discarding...\n",
      "ORDER CANCEL / DELETE\n",
      "event_type: 3\n",
      "found perfect order match\n",
      "looking for order 276503626 at price 988400.0\n",
      "remaining quantity -1\n",
      "remaining init qu. 0\n",
      "invalid message - discarding...\n",
      "NEW LIMIT ORDER\n"
     ]
    },
    {
     "data": {
      "text/plain": [
       "{'timestamp': '39599.386216544',\n",
       " 'type': 'limit',\n",
       " 'order_id': 88000413,\n",
       " 'quantity': 3,\n",
       " 'price': Array(988000, dtype=int32),\n",
       " 'side': 'ask',\n",
       " 'trade_id': 0}"
      ]
     },
     "metadata": {},
     "output_type": "display_data"
    },
    {
     "name": "stdout",
     "output_type": "stream",
     "text": [
      "p_change 0\n",
      "ORDER CANCEL / DELETE\n",
      "event_type: 3\n",
      "found perfect order match\n",
      "looking for order 276503626 at price 987800.0\n",
      "remaining quantity -1\n",
      "remaining init qu. 300\n",
      "(event_type=2) -100 from 300 @987800.0 --> 300\n"
     ]
    },
    {
     "data": {
      "text/plain": [
       "{'timestamp': '39599.385353969',\n",
       " 'type': 'cancel',\n",
       " 'order_id': 90000000,\n",
       " 'quantity': 100,\n",
       " 'price': Array(987800., dtype=float32),\n",
       " 'side': 'bid',\n",
       " 'trade_id': 0}"
      ]
     },
     "metadata": {},
     "output_type": "display_data"
    },
    {
     "name": "stdout",
     "output_type": "stream",
     "text": [
      "p_change 0\n",
      "ORDER CANCEL / DELETE\n",
      "event_type: 3\n",
      "found perfect order match\n",
      "looking for order 276503626 at price 988100.0\n",
      "remaining quantity -1\n",
      "remaining init qu. 0\n",
      "invalid message - discarding...\n",
      "NEW LIMIT ORDER\n"
     ]
    },
    {
     "data": {
      "text/plain": [
       "{'timestamp': '39599.069026949',\n",
       " 'type': 'limit',\n",
       " 'order_id': 88000416,\n",
       " 'quantity': 50,\n",
       " 'price': Array(988800, dtype=int32),\n",
       " 'side': 'ask',\n",
       " 'trade_id': 0}"
      ]
     },
     "metadata": {},
     "output_type": "display_data"
    },
    {
     "name": "stdout",
     "output_type": "stream",
     "text": [
      "p_change 0\n",
      "ORDER CANCEL / DELETE\n",
      "event_type: 3\n",
      "found perfect order match\n",
      "looking for order 276503626 at price 987900.0\n",
      "remaining quantity -1\n",
      "remaining init qu. 0\n",
      "invalid message - discarding...\n",
      "ORDER CANCEL / DELETE\n",
      "event_type: 3\n",
      "found perfect order match\n",
      "looking for order 276503626 at price 988000.0\n",
      "remaining quantity -1\n",
      "remaining init qu. 0\n",
      "invalid message - discarding...\n",
      "ORDER CANCEL / DELETE\n",
      "event_type: 3\n",
      "found perfect order match\n",
      "looking for order 276503626 at price 987600.0\n",
      "remaining quantity -1\n",
      "remaining init qu. 250\n",
      "(event_type=2) -100 from 250 @987600.0 --> 250\n"
     ]
    },
    {
     "data": {
      "text/plain": [
       "{'timestamp': '39599.386172403',\n",
       " 'type': 'cancel',\n",
       " 'order_id': 90000000,\n",
       " 'quantity': 100,\n",
       " 'price': Array(987600., dtype=float32),\n",
       " 'side': 'bid',\n",
       " 'trade_id': 0}"
      ]
     },
     "metadata": {},
     "output_type": "display_data"
    },
    {
     "name": "stdout",
     "output_type": "stream",
     "text": [
      "p_change 0\n",
      "ORDER CANCEL / DELETE\n",
      "event_type: 3\n",
      "found perfect order match\n",
      "looking for order 276503626 at price 988100.0\n",
      "remaining quantity -1\n",
      "remaining init qu. 0\n",
      "invalid message - discarding...\n",
      "NEW LIMIT ORDER\n"
     ]
    },
    {
     "data": {
      "text/plain": [
       "{'timestamp': '40599.566023426',\n",
       " 'type': 'limit',\n",
       " 'order_id': 88000421,\n",
       " 'quantity': 100,\n",
       " 'price': Array(988000, dtype=int32),\n",
       " 'side': 'ask',\n",
       " 'trade_id': 0}"
      ]
     },
     "metadata": {},
     "output_type": "display_data"
    },
    {
     "name": "stdout",
     "output_type": "stream",
     "text": [
      "p_change 0\n",
      "NEW LIMIT ORDER\n"
     ]
    },
    {
     "data": {
      "text/plain": [
       "{'timestamp': '39599.566661544',\n",
       " 'type': 'limit',\n",
       " 'order_id': 88000422,\n",
       " 'quantity': 18,\n",
       " 'price': Array(988000, dtype=int32),\n",
       " 'side': 'ask',\n",
       " 'trade_id': 0}"
      ]
     },
     "metadata": {},
     "output_type": "display_data"
    },
    {
     "name": "stdout",
     "output_type": "stream",
     "text": [
      "p_change 0\n",
      "ORDER CANCEL / DELETE\n",
      "event_type: 3\n",
      "found perfect order match\n",
      "looking for order 276503626 at price 988400.0\n",
      "remaining quantity -1\n",
      "remaining init qu. 0\n",
      "invalid message - discarding...\n",
      "ORDER CANCEL / DELETE\n",
      "event_type: 3\n",
      "found perfect order match\n",
      "looking for order 276503626 at price 988100.0\n",
      "remaining quantity -1\n",
      "remaining init qu. 0\n",
      "invalid message - discarding...\n",
      "NEW LIMIT ORDER\n"
     ]
    },
    {
     "data": {
      "text/plain": [
       "{'timestamp': '39599.144005159',\n",
       " 'type': 'limit',\n",
       " 'order_id': 88000425,\n",
       " 'quantity': 50,\n",
       " 'price': Array(987800, dtype=int32),\n",
       " 'side': 'bid',\n",
       " 'trade_id': 0}"
      ]
     },
     "metadata": {},
     "output_type": "display_data"
    },
    {
     "name": "stdout",
     "output_type": "stream",
     "text": [
      "p_change 0\n",
      "ORDER CANCEL / DELETE\n",
      "event_type: 3\n",
      "found perfect order match\n",
      "looking for order 276503626 at price 987900.0\n",
      "remaining quantity -1\n",
      "remaining init qu. 0\n",
      "invalid message - discarding...\n",
      "ORDER CANCEL / DELETE\n",
      "event_type: 3\n",
      "found perfect order match\n",
      "looking for order 276503626 at price 988200.0\n",
      "remaining quantity -1\n",
      "remaining init qu. 0\n",
      "invalid message - discarding...\n"
     ]
    },
    {
     "ename": "KeyboardInterrupt",
     "evalue": "",
     "output_type": "error",
     "traceback": [
      "\u001b[0;31m---------------------------------------------------------------------------\u001b[0m",
      "\u001b[0;31mKeyboardInterrupt\u001b[0m                         Traceback (most recent call last)",
      "\u001b[0;32m/tmp/ipykernel_2496082/2969418404.py\u001b[0m in \u001b[0;36m<cell line: 23>\u001b[0;34m()\u001b[0m\n\u001b[1;32m     50\u001b[0m             \u001b[0mjnp\u001b[0m\u001b[0;34m.\u001b[0m\u001b[0mones\u001b[0m\u001b[0;34m(\u001b[0m\u001b[0;34m(\u001b[0m\u001b[0;36m1\u001b[0m\u001b[0;34m,\u001b[0m \u001b[0mlen\u001b[0m\u001b[0;34m(\u001b[0m\u001b[0mb_seq\u001b[0m\u001b[0;34m)\u001b[0m\u001b[0;34m)\u001b[0m\u001b[0;34m)\u001b[0m\u001b[0;34m\u001b[0m\u001b[0;34m\u001b[0m\u001b[0m\n\u001b[1;32m     51\u001b[0m         )\n\u001b[0;32m---> 52\u001b[0;31m         logits = valh.predict(\n\u001b[0m\u001b[1;32m     53\u001b[0m             \u001b[0minput\u001b[0m\u001b[0;34m,\u001b[0m\u001b[0;34m\u001b[0m\u001b[0;34m\u001b[0m\u001b[0m\n\u001b[1;32m     54\u001b[0m             integration_timesteps, state, model, batchnorm)\n",
      "\u001b[0;31mKeyboardInterrupt\u001b[0m: "
     ]
    }
   ],
   "source": [
    "tick_size = 100\n",
    "sample_top_n = 50\n",
    "\n",
    "# reset sequences\n",
    "m_seq = m_seq_start.copy()\n",
    "b_seq = b_seq_start.copy()\n",
    "\n",
    "# reset simulator\n",
    "sim = OrderBook(price_levels=10, orderQueueLen=20)\n",
    "# init simulator at the start of the sequence\n",
    "reset_orderbook(sim, b.iloc[end_i - n_messages])\n",
    "# replay sequence in simulator (actual)\n",
    "# so that sim is at the same state as the model\n",
    "replay = msgs_to_jnp(m.iloc[end_i - n_messages : end_i])\n",
    "trades = sim.process_orders_array(replay)\n",
    "\n",
    "# ~~~~~~~~~~~~~~~~~~~~~~~~~~~~~~~~~~~~~~~~~~~~~~~~~~~~~~~~~~~~~~~~~~~~~~~~~~~~~\n",
    "\n",
    "id_gen = OrderIdGenerator()\n",
    "valid_mask_array = valh.syntax_validation_matrix(v)\n",
    "l = Message_Tokenizer.MSG_LEN\n",
    "\n",
    "for _ in range(100): #100\n",
    "    rng, rng_ = jax.random.split(rng)\n",
    "\n",
    "    #losses = []\n",
    "    #accs = []\n",
    "    m_seq = valh.append_hid_msg(m_seq)\n",
    "\n",
    "    idx = range(l)\n",
    "    # reversed_idx = [i \\\n",
    "    #    for field_i in reversed(list(range(len(Message_Tokenizer.FIELDS)))) \\\n",
    "    #    for i in range(*LOBSTER_Dataset._get_tok_slice_i(field_i))]\n",
    "\n",
    "    for mask_i in idx:# reversed_idx:\n",
    "        # syntactically valid tokens for current message position\n",
    "        valid_mask = valid_mask_array[mask_i]\n",
    "\n",
    "        m_seq, _ = valh.mask_last_msg_in_seq(m_seq, mask_i)\n",
    "        #print(m_seq[-20:])\n",
    "        # inference\n",
    "        input = (\n",
    "            one_hot(\n",
    "                jnp.expand_dims(m_seq, axis=0), vocab_len\n",
    "            ).astype(float),\n",
    "            jnp.expand_dims(b_seq, axis=0)\n",
    "        )\n",
    "        integration_timesteps = (\n",
    "            jnp.ones((1, len(m_seq))), \n",
    "            jnp.ones((1, len(b_seq)))\n",
    "        )\n",
    "        logits = valh.predict(\n",
    "            input,\n",
    "            integration_timesteps, state, model, batchnorm)\n",
    "        \n",
    "        #print('1007', logits[0,1007], '1008', logits[0,1008], '1107', logits[0,1107])\n",
    "        \n",
    "        # filter out (syntactically) invalid tokens for current position\n",
    "        #if valid_mask is not None:\n",
    "        #    logits = valh.filter_valid_pred(logits, valid_mask)\n",
    "        \n",
    "        # TODO: remove - just for debugging\n",
    "        #label = m_enc[end_i][mask_i]\n",
    "        #losses.append(cross_entropy_loss(logits, label))\n",
    "        #accs.append(compute_accuracy(logits, label))\n",
    "\n",
    "        #print(m_seq[-20:])\n",
    "        # update sequence\n",
    "        # note: rng arg expects one element per batch element\n",
    "        rng, rng_ = jax.random.split(rng)\n",
    "        m_seq = valh.fill_predicted_toks(m_seq, logits, sample_top_n, jnp.array([rng_]))\n",
    "\n",
    "    ### NEW:\n",
    "\n",
    "    m_seq_raw = m.iloc[end_i - n_messages : end_i]\n",
    "    order_id = id_gen.step()\n",
    "\n",
    "    # parse generated message for simulator, also getting corrected raw message\n",
    "    # (needs to be encoded and overwrite originally generated message)\n",
    "    sim_msg, msg_corr = get_sim_msg(\n",
    "        m_seq[-l:],\n",
    "        m_seq,  # TODO: check if this should be the sequence without the generated msg\n",
    "        m_seq_raw,\n",
    "        sim,\n",
    "        tok,\n",
    "        v,\n",
    "        new_order_id=order_id,\n",
    "        tick_size=tick_size\n",
    "    )\n",
    "\n",
    "    if sim_msg is None:\n",
    "        print('invalid message - discarding...')\n",
    "        # cut away generated message and pad begginning of sequence\n",
    "        m_seq = onp.concatenate([\n",
    "            onp.full((l,), Vocab.NA_TOK),\n",
    "            m_seq[: -l]])\n",
    "        continue\n",
    "\n",
    "    display(sim_msg)\n",
    "    #print('quantitity', sim_msg['quantity'], 'price', sim_msg['price'])\n",
    "\n",
    "    # replace in sequence\n",
    "    #print('before', m_seq[-l:])\n",
    "    #print('after', msg_corr)\n",
    "    m_seq = m_seq.at[-l:].set(msg_corr)\n",
    "\n",
    "    # feed message to simulator, updating book state\n",
    "    p_mid_old = onp.round((sim.get_best_ask() + sim.get_best_bid()) / 2, -2).astype(int)\n",
    "    #p_bid_old = sim.get_best_bid()\n",
    "    _trades = sim.process_order(sim_msg)\n",
    "    #p_bid_new = sim.get_best_bid()\n",
    "    p_mid_new = onp.round((sim.get_best_ask() + sim.get_best_bid()) / 2, -2).astype(int)\n",
    "    # p_change = (p_bid_new - p_bid_old) // tick_size\n",
    "    p_change = (p_mid_new - p_mid_old) // tick_size\n",
    "\n",
    "    # get new book state\n",
    "    book = sim.get_L2_state()\n",
    "    new_book = encode_L2_state(book, price_levels=(b_seq.shape[1] - 1))\n",
    "    # prepend price jump to book state\n",
    "    new_book = jnp.concatenate([jnp.array([p_change]), new_book])\n",
    "    #print('new_book', new_book.shape, new_book)\n",
    "    # update book sequence\n",
    "    b_seq = jnp.concatenate([b_seq[1:], jnp.expand_dims(new_book, axis=0)])\n",
    "\n",
    "    print('p_change', p_change)\n",
    "    print()\n"
   ]
  },
  {
   "cell_type": "code",
   "execution_count": 117,
   "metadata": {},
   "outputs": [
    {
     "data": {
      "text/plain": [
       "[<matplotlib.lines.Line2D at 0x7f8548646910>]"
      ]
     },
     "execution_count": 117,
     "metadata": {},
     "output_type": "execute_result"
    },
    {
     "data": {
      "image/png": "[encoded data removed]",
      "text/plain": [
       "<Figure size 432x288 with 1 Axes>"
      ]
     },
     "metadata": {
      "needs_background": "light"
     },
     "output_type": "display_data"
    }
   ],
   "source": [
    "# inspect movement of best bid price for sequence including\n",
    "# generated flow at the end\n",
    "\n",
    "# price drift in sequence\n",
    "plt.plot(onp.cumsum(b_seq[:, 0]))"
   ]
  },
  {
   "cell_type": "code",
   "execution_count": 71,
   "metadata": {},
   "outputs": [
    {
     "data": {
      "text/plain": [
       "('size', '0000')"
      ]
     },
     "execution_count": 71,
     "metadata": {},
     "output_type": "execute_result"
    }
   ],
   "source": [
    "v.DECODING_GLOBAL[1007]"
   ]
  },
  {
   "cell_type": "code",
   "execution_count": 64,
   "metadata": {},
   "outputs": [
    {
     "data": {
      "text/plain": [
       "Array([[    8,   606, 11110,   632,     8,  1003,  1107, 11108, 11009,\n",
       "        11110,     8,   985,   510,   606,   551,  1005,  1007, 11108,\n",
       "        11007, 11110]], dtype=int32)"
      ]
     },
     "execution_count": 64,
     "metadata": {},
     "output_type": "execute_result"
    }
   ],
   "source": [
    "m_seq.reshape((-1,l))[-1:]"
   ]
  },
  {
   "cell_type": "code",
   "execution_count": 63,
   "metadata": {},
   "outputs": [
    {
     "data": {
      "text/plain": [
       "Array([1007, 1007, 1007,    2,    2, 1007, 1007, 1007, 1007, 1007,    2,\n",
       "          2,    2, 1007, 1007,    2,    2,    2,    2,    2, 1007, 1007,\n",
       "       1007, 1007,    2,    2,    2,    2,    2,    2,    2,    2, 1007,\n",
       "          2,    2,    2, 1007, 1007,    2, 1007,    2, 1007, 1007, 1007,\n",
       "       1007,    2,    2,    2, 1007,    2,    2, 1007,    2, 1007,    2,\n",
       "       1007,    2,    2, 1007, 1007, 1007,    2, 1007, 1007,    2,    2,\n",
       "          2,    2, 1007,    2,    2,    2,    2, 1007,    2,    2,    2,\n",
       "          2, 1007, 1007,    2,    2,    2, 1007, 1007,    2,    2, 1007,\n",
       "          2,    2, 1007,    2, 1007,    2, 1007,    2,    2,    2, 1007,\n",
       "       1007], dtype=int32)"
      ]
     },
     "execution_count": 63,
     "metadata": {},
     "output_type": "execute_result"
    }
   ],
   "source": [
    "m_seq.reshape((-1,l))[-100:][:, -4]"
   ]
  },
  {
   "cell_type": "code",
   "execution_count": 59,
   "metadata": {},
   "outputs": [
    {
     "data": {
      "text/html": [
       "<div>\n",
       "<style scoped>\n",
       "    .dataframe tbody tr th:only-of-type {\n",
       "        vertical-align: middle;\n",
       "    }\n",
       "\n",
       "    .dataframe tbody tr th {\n",
       "        vertical-align: top;\n",
       "    }\n",
       "\n",
       "    .dataframe thead th {\n",
       "        text-align: right;\n",
       "    }\n",
       "</style>\n",
       "<table border=\"1\" class=\"dataframe\">\n",
       "  <thead>\n",
       "    <tr style=\"text-align: right;\">\n",
       "      <th></th>\n",
       "      <th>time</th>\n",
       "      <th>event_type</th>\n",
       "      <th>size</th>\n",
       "      <th>price</th>\n",
       "      <th>direction</th>\n",
       "      <th>time_new</th>\n",
       "      <th>event_type_new</th>\n",
       "      <th>size_new</th>\n",
       "      <th>price_new</th>\n",
       "      <th>direction_new</th>\n",
       "    </tr>\n",
       "  </thead>\n",
       "  <tbody>\n",
       "    <tr>\n",
       "      <th>0</th>\n",
       "      <td>5.548630e+12</td>\n",
       "      <td>1.0</td>\n",
       "      <td>100.0</td>\n",
       "      <td>1.0</td>\n",
       "      <td>1.0</td>\n",
       "      <td>5.005159e+09</td>\n",
       "      <td>3.0</td>\n",
       "      <td>0.0</td>\n",
       "      <td>6.0</td>\n",
       "      <td>0.0</td>\n",
       "    </tr>\n",
       "    <tr>\n",
       "      <th>1</th>\n",
       "      <td>5.286367e+12</td>\n",
       "      <td>1.0</td>\n",
       "      <td>100.0</td>\n",
       "      <td>-3.0</td>\n",
       "      <td>1.0</td>\n",
       "      <td>5.686006e+12</td>\n",
       "      <td>3.0</td>\n",
       "      <td>0.0</td>\n",
       "      <td>5.0</td>\n",
       "      <td>0.0</td>\n",
       "    </tr>\n",
       "    <tr>\n",
       "      <th>2</th>\n",
       "      <td>5.480982e+09</td>\n",
       "      <td>1.0</td>\n",
       "      <td>100.0</td>\n",
       "      <td>-2.0</td>\n",
       "      <td>1.0</td>\n",
       "      <td>5.005027e+12</td>\n",
       "      <td>3.0</td>\n",
       "      <td>0.0</td>\n",
       "      <td>-7.0</td>\n",
       "      <td>1.0</td>\n",
       "    </tr>\n",
       "    <tr>\n",
       "      <th>3</th>\n",
       "      <td>5.005006e+12</td>\n",
       "      <td>1.0</td>\n",
       "      <td>100.0</td>\n",
       "      <td>2.0</td>\n",
       "      <td>0.0</td>\n",
       "      <td>NaN</td>\n",
       "      <td>NaN</td>\n",
       "      <td>NaN</td>\n",
       "      <td>NaN</td>\n",
       "      <td>NaN</td>\n",
       "    </tr>\n",
       "    <tr>\n",
       "      <th>4</th>\n",
       "      <td>5.480982e+12</td>\n",
       "      <td>1.0</td>\n",
       "      <td>100.0</td>\n",
       "      <td>10.0</td>\n",
       "      <td>0.0</td>\n",
       "      <td>NaN</td>\n",
       "      <td>NaN</td>\n",
       "      <td>NaN</td>\n",
       "      <td>NaN</td>\n",
       "      <td>NaN</td>\n",
       "    </tr>\n",
       "    <tr>\n",
       "      <th>...</th>\n",
       "      <td>...</td>\n",
       "      <td>...</td>\n",
       "      <td>...</td>\n",
       "      <td>...</td>\n",
       "      <td>...</td>\n",
       "      <td>...</td>\n",
       "      <td>...</td>\n",
       "      <td>...</td>\n",
       "      <td>...</td>\n",
       "      <td>...</td>\n",
       "    </tr>\n",
       "    <tr>\n",
       "      <th>95</th>\n",
       "      <td>5.197629e+12</td>\n",
       "      <td>1.0</td>\n",
       "      <td>3.0</td>\n",
       "      <td>8.0</td>\n",
       "      <td>0.0</td>\n",
       "      <td>NaN</td>\n",
       "      <td>NaN</td>\n",
       "      <td>NaN</td>\n",
       "      <td>NaN</td>\n",
       "      <td>NaN</td>\n",
       "    </tr>\n",
       "    <tr>\n",
       "      <th>96</th>\n",
       "      <td>5.005198e+12</td>\n",
       "      <td>1.0</td>\n",
       "      <td>100.0</td>\n",
       "      <td>-0.0</td>\n",
       "      <td>1.0</td>\n",
       "      <td>NaN</td>\n",
       "      <td>NaN</td>\n",
       "      <td>NaN</td>\n",
       "      <td>NaN</td>\n",
       "      <td>NaN</td>\n",
       "    </tr>\n",
       "    <tr>\n",
       "      <th>97</th>\n",
       "      <td>5.480548e+06</td>\n",
       "      <td>1.0</td>\n",
       "      <td>200.0</td>\n",
       "      <td>-0.0</td>\n",
       "      <td>1.0</td>\n",
       "      <td>NaN</td>\n",
       "      <td>NaN</td>\n",
       "      <td>NaN</td>\n",
       "      <td>NaN</td>\n",
       "      <td>NaN</td>\n",
       "    </tr>\n",
       "    <tr>\n",
       "      <th>98</th>\n",
       "      <td>5.005197e+09</td>\n",
       "      <td>1.0</td>\n",
       "      <td>100.0</td>\n",
       "      <td>-6.0</td>\n",
       "      <td>1.0</td>\n",
       "      <td>5.838982e+09</td>\n",
       "      <td>3.0</td>\n",
       "      <td>0.0</td>\n",
       "      <td>5.0</td>\n",
       "      <td>0.0</td>\n",
       "    </tr>\n",
       "    <tr>\n",
       "      <th>99</th>\n",
       "      <td>5.603629e+09</td>\n",
       "      <td>1.0</td>\n",
       "      <td>100.0</td>\n",
       "      <td>-2.0</td>\n",
       "      <td>1.0</td>\n",
       "      <td>5.982508e+12</td>\n",
       "      <td>3.0</td>\n",
       "      <td>0.0</td>\n",
       "      <td>-0.0</td>\n",
       "      <td>1.0</td>\n",
       "    </tr>\n",
       "  </tbody>\n",
       "</table>\n",
       "<p>100 rows × 10 columns</p>\n",
       "</div>"
      ],
      "text/plain": [
       "            time  event_type   size  price  direction      time_new  \\\n",
       "0   5.548630e+12         1.0  100.0    1.0        1.0  5.005159e+09   \n",
       "1   5.286367e+12         1.0  100.0   -3.0        1.0  5.686006e+12   \n",
       "2   5.480982e+09         1.0  100.0   -2.0        1.0  5.005027e+12   \n",
       "3   5.005006e+12         1.0  100.0    2.0        0.0           NaN   \n",
       "4   5.480982e+12         1.0  100.0   10.0        0.0           NaN   \n",
       "..           ...         ...    ...    ...        ...           ...   \n",
       "95  5.197629e+12         1.0    3.0    8.0        0.0           NaN   \n",
       "96  5.005198e+12         1.0  100.0   -0.0        1.0           NaN   \n",
       "97  5.480548e+06         1.0  200.0   -0.0        1.0           NaN   \n",
       "98  5.005197e+09         1.0  100.0   -6.0        1.0  5.838982e+09   \n",
       "99  5.603629e+09         1.0  100.0   -2.0        1.0  5.982508e+12   \n",
       "\n",
       "    event_type_new  size_new  price_new  direction_new  \n",
       "0              3.0       0.0        6.0            0.0  \n",
       "1              3.0       0.0        5.0            0.0  \n",
       "2              3.0       0.0       -7.0            1.0  \n",
       "3              NaN       NaN        NaN            NaN  \n",
       "4              NaN       NaN        NaN            NaN  \n",
       "..             ...       ...        ...            ...  \n",
       "95             NaN       NaN        NaN            NaN  \n",
       "96             NaN       NaN        NaN            NaN  \n",
       "97             NaN       NaN        NaN            NaN  \n",
       "98             3.0       0.0        5.0            0.0  \n",
       "99             3.0       0.0       -0.0            1.0  \n",
       "\n",
       "[100 rows x 10 columns]"
      ]
     },
     "execution_count": 59,
     "metadata": {},
     "output_type": "execute_result"
    }
   ],
   "source": [
    "decod_gen_msgs = tok.decode(m_seq.reshape((-1,l))[-100:], v)\n",
    "decod_gen_msgs = pd.DataFrame(decod_gen_msgs, columns=Message_Tokenizer.FIELDS)\n",
    "decod_gen_msgs"
   ]
  },
  {
   "cell_type": "code",
   "execution_count": 206,
   "metadata": {},
   "outputs": [
    {
     "data": {
      "text/html": [
       "<div>\n",
       "<style scoped>\n",
       "    .dataframe tbody tr th:only-of-type {\n",
       "        vertical-align: middle;\n",
       "    }\n",
       "\n",
       "    .dataframe tbody tr th {\n",
       "        vertical-align: top;\n",
       "    }\n",
       "\n",
       "    .dataframe thead th {\n",
       "        text-align: right;\n",
       "    }\n",
       "</style>\n",
       "<table border=\"1\" class=\"dataframe\">\n",
       "  <thead>\n",
       "    <tr style=\"text-align: right;\">\n",
       "      <th></th>\n",
       "      <th>time</th>\n",
       "      <th>event_type</th>\n",
       "      <th>size</th>\n",
       "      <th>price</th>\n",
       "      <th>direction</th>\n",
       "      <th>time_new</th>\n",
       "      <th>event_type_new</th>\n",
       "      <th>size_new</th>\n",
       "      <th>price_new</th>\n",
       "      <th>direction_new</th>\n",
       "    </tr>\n",
       "  </thead>\n",
       "  <tbody>\n",
       "    <tr>\n",
       "      <th>50</th>\n",
       "      <td>5.286201e+12</td>\n",
       "      <td>1.0</td>\n",
       "      <td>1.0</td>\n",
       "      <td>1.0</td>\n",
       "      <td>0.0</td>\n",
       "      <td>NaN</td>\n",
       "      <td>NaN</td>\n",
       "      <td>NaN</td>\n",
       "      <td>NaN</td>\n",
       "      <td>NaN</td>\n",
       "    </tr>\n",
       "    <tr>\n",
       "      <th>51</th>\n",
       "      <td>5.603287e+12</td>\n",
       "      <td>1.0</td>\n",
       "      <td>10.0</td>\n",
       "      <td>1.0</td>\n",
       "      <td>0.0</td>\n",
       "      <td>5.007005e+09</td>\n",
       "      <td>3.0</td>\n",
       "      <td>0.0</td>\n",
       "      <td>2.0</td>\n",
       "      <td>0.0</td>\n",
       "    </tr>\n",
       "    <tr>\n",
       "      <th>52</th>\n",
       "      <td>5.603986e+12</td>\n",
       "      <td>1.0</td>\n",
       "      <td>0.0</td>\n",
       "      <td>-0.0</td>\n",
       "      <td>1.0</td>\n",
       "      <td>NaN</td>\n",
       "      <td>NaN</td>\n",
       "      <td>NaN</td>\n",
       "      <td>NaN</td>\n",
       "      <td>NaN</td>\n",
       "    </tr>\n",
       "    <tr>\n",
       "      <th>53</th>\n",
       "      <td>5.005982e+12</td>\n",
       "      <td>4.0</td>\n",
       "      <td>0.0</td>\n",
       "      <td>2.0</td>\n",
       "      <td>0.0</td>\n",
       "      <td>NaN</td>\n",
       "      <td>NaN</td>\n",
       "      <td>NaN</td>\n",
       "      <td>NaN</td>\n",
       "      <td>NaN</td>\n",
       "    </tr>\n",
       "    <tr>\n",
       "      <th>54</th>\n",
       "      <td>5.005005e+09</td>\n",
       "      <td>4.0</td>\n",
       "      <td>1.0</td>\n",
       "      <td>-0.0</td>\n",
       "      <td>1.0</td>\n",
       "      <td>NaN</td>\n",
       "      <td>NaN</td>\n",
       "      <td>NaN</td>\n",
       "      <td>NaN</td>\n",
       "      <td>NaN</td>\n",
       "    </tr>\n",
       "    <tr>\n",
       "      <th>55</th>\n",
       "      <td>5.020286e+12</td>\n",
       "      <td>1.0</td>\n",
       "      <td>2.0</td>\n",
       "      <td>2.0</td>\n",
       "      <td>0.0</td>\n",
       "      <td>5.019987e+09</td>\n",
       "      <td>3.0</td>\n",
       "      <td>0.0</td>\n",
       "      <td>-0.0</td>\n",
       "      <td>1.0</td>\n",
       "    </tr>\n",
       "    <tr>\n",
       "      <th>56</th>\n",
       "      <td>5.005198e+12</td>\n",
       "      <td>4.0</td>\n",
       "      <td>0.0</td>\n",
       "      <td>2.0</td>\n",
       "      <td>0.0</td>\n",
       "      <td>NaN</td>\n",
       "      <td>NaN</td>\n",
       "      <td>NaN</td>\n",
       "      <td>NaN</td>\n",
       "      <td>NaN</td>\n",
       "    </tr>\n",
       "    <tr>\n",
       "      <th>57</th>\n",
       "      <td>5.007198e+12</td>\n",
       "      <td>1.0</td>\n",
       "      <td>1.0</td>\n",
       "      <td>-1.0</td>\n",
       "      <td>1.0</td>\n",
       "      <td>NaN</td>\n",
       "      <td>NaN</td>\n",
       "      <td>NaN</td>\n",
       "      <td>NaN</td>\n",
       "      <td>NaN</td>\n",
       "    </tr>\n",
       "    <tr>\n",
       "      <th>58</th>\n",
       "      <td>5.019644e+12</td>\n",
       "      <td>4.0</td>\n",
       "      <td>1.0</td>\n",
       "      <td>-0.0</td>\n",
       "      <td>1.0</td>\n",
       "      <td>NaN</td>\n",
       "      <td>NaN</td>\n",
       "      <td>NaN</td>\n",
       "      <td>NaN</td>\n",
       "      <td>NaN</td>\n",
       "    </tr>\n",
       "    <tr>\n",
       "      <th>59</th>\n",
       "      <td>5.007657e+09</td>\n",
       "      <td>1.0</td>\n",
       "      <td>1.0</td>\n",
       "      <td>-0.0</td>\n",
       "      <td>1.0</td>\n",
       "      <td>NaN</td>\n",
       "      <td>NaN</td>\n",
       "      <td>NaN</td>\n",
       "      <td>NaN</td>\n",
       "      <td>NaN</td>\n",
       "    </tr>\n",
       "    <tr>\n",
       "      <th>60</th>\n",
       "      <td>5.005005e+09</td>\n",
       "      <td>1.0</td>\n",
       "      <td>0.0</td>\n",
       "      <td>-0.0</td>\n",
       "      <td>1.0</td>\n",
       "      <td>NaN</td>\n",
       "      <td>NaN</td>\n",
       "      <td>NaN</td>\n",
       "      <td>NaN</td>\n",
       "      <td>NaN</td>\n",
       "    </tr>\n",
       "    <tr>\n",
       "      <th>61</th>\n",
       "      <td>5.021005e+12</td>\n",
       "      <td>1.0</td>\n",
       "      <td>1.0</td>\n",
       "      <td>-1.0</td>\n",
       "      <td>1.0</td>\n",
       "      <td>NaN</td>\n",
       "      <td>NaN</td>\n",
       "      <td>NaN</td>\n",
       "      <td>NaN</td>\n",
       "      <td>NaN</td>\n",
       "    </tr>\n",
       "    <tr>\n",
       "      <th>62</th>\n",
       "      <td>5.005286e+12</td>\n",
       "      <td>1.0</td>\n",
       "      <td>0.0</td>\n",
       "      <td>-0.0</td>\n",
       "      <td>1.0</td>\n",
       "      <td>NaN</td>\n",
       "      <td>NaN</td>\n",
       "      <td>NaN</td>\n",
       "      <td>NaN</td>\n",
       "      <td>NaN</td>\n",
       "    </tr>\n",
       "    <tr>\n",
       "      <th>63</th>\n",
       "      <td>5.020941e+12</td>\n",
       "      <td>1.0</td>\n",
       "      <td>1.0</td>\n",
       "      <td>-1.0</td>\n",
       "      <td>1.0</td>\n",
       "      <td>NaN</td>\n",
       "      <td>NaN</td>\n",
       "      <td>NaN</td>\n",
       "      <td>NaN</td>\n",
       "      <td>NaN</td>\n",
       "    </tr>\n",
       "    <tr>\n",
       "      <th>64</th>\n",
       "      <td>1.900501e+13</td>\n",
       "      <td>1.0</td>\n",
       "      <td>1.0</td>\n",
       "      <td>-1.0</td>\n",
       "      <td>1.0</td>\n",
       "      <td>NaN</td>\n",
       "      <td>NaN</td>\n",
       "      <td>NaN</td>\n",
       "      <td>NaN</td>\n",
       "      <td>NaN</td>\n",
       "    </tr>\n",
       "    <tr>\n",
       "      <th>65</th>\n",
       "      <td>5.005603e+09</td>\n",
       "      <td>1.0</td>\n",
       "      <td>0.0</td>\n",
       "      <td>-0.0</td>\n",
       "      <td>1.0</td>\n",
       "      <td>NaN</td>\n",
       "      <td>NaN</td>\n",
       "      <td>NaN</td>\n",
       "      <td>NaN</td>\n",
       "      <td>NaN</td>\n",
       "    </tr>\n",
       "    <tr>\n",
       "      <th>66</th>\n",
       "      <td>5.021005e+12</td>\n",
       "      <td>1.0</td>\n",
       "      <td>0.0</td>\n",
       "      <td>1.0</td>\n",
       "      <td>0.0</td>\n",
       "      <td>NaN</td>\n",
       "      <td>NaN</td>\n",
       "      <td>NaN</td>\n",
       "      <td>NaN</td>\n",
       "      <td>NaN</td>\n",
       "    </tr>\n",
       "    <tr>\n",
       "      <th>67</th>\n",
       "      <td>5.386286e+12</td>\n",
       "      <td>1.0</td>\n",
       "      <td>10.0</td>\n",
       "      <td>1.0</td>\n",
       "      <td>0.0</td>\n",
       "      <td>5.007286e+12</td>\n",
       "      <td>3.0</td>\n",
       "      <td>0.0</td>\n",
       "      <td>2.0</td>\n",
       "      <td>0.0</td>\n",
       "    </tr>\n",
       "    <tr>\n",
       "      <th>68</th>\n",
       "      <td>5.982019e+09</td>\n",
       "      <td>1.0</td>\n",
       "      <td>0.0</td>\n",
       "      <td>8.0</td>\n",
       "      <td>0.0</td>\n",
       "      <td>NaN</td>\n",
       "      <td>NaN</td>\n",
       "      <td>NaN</td>\n",
       "      <td>NaN</td>\n",
       "      <td>NaN</td>\n",
       "    </tr>\n",
       "    <tr>\n",
       "      <th>69</th>\n",
       "      <td>5.005656e+12</td>\n",
       "      <td>1.0</td>\n",
       "      <td>10.0</td>\n",
       "      <td>-2.0</td>\n",
       "      <td>1.0</td>\n",
       "      <td>5.005983e+12</td>\n",
       "      <td>3.0</td>\n",
       "      <td>0.0</td>\n",
       "      <td>-4.0</td>\n",
       "      <td>1.0</td>\n",
       "    </tr>\n",
       "    <tr>\n",
       "      <th>70</th>\n",
       "      <td>5.982643e+12</td>\n",
       "      <td>1.0</td>\n",
       "      <td>0.0</td>\n",
       "      <td>-0.0</td>\n",
       "      <td>1.0</td>\n",
       "      <td>5.982985e+09</td>\n",
       "      <td>3.0</td>\n",
       "      <td>0.0</td>\n",
       "      <td>5.0</td>\n",
       "      <td>0.0</td>\n",
       "    </tr>\n",
       "    <tr>\n",
       "      <th>71</th>\n",
       "      <td>5.603006e+12</td>\n",
       "      <td>1.0</td>\n",
       "      <td>0.0</td>\n",
       "      <td>-1.0</td>\n",
       "      <td>1.0</td>\n",
       "      <td>NaN</td>\n",
       "      <td>NaN</td>\n",
       "      <td>NaN</td>\n",
       "      <td>NaN</td>\n",
       "      <td>NaN</td>\n",
       "    </tr>\n",
       "    <tr>\n",
       "      <th>72</th>\n",
       "      <td>5.020006e+12</td>\n",
       "      <td>1.0</td>\n",
       "      <td>1.0</td>\n",
       "      <td>-1.0</td>\n",
       "      <td>1.0</td>\n",
       "      <td>NaN</td>\n",
       "      <td>NaN</td>\n",
       "      <td>NaN</td>\n",
       "      <td>NaN</td>\n",
       "      <td>NaN</td>\n",
       "    </tr>\n",
       "    <tr>\n",
       "      <th>73</th>\n",
       "      <td>5.019387e+12</td>\n",
       "      <td>1.0</td>\n",
       "      <td>10.0</td>\n",
       "      <td>0.0</td>\n",
       "      <td>0.0</td>\n",
       "      <td>5.005069e+12</td>\n",
       "      <td>3.0</td>\n",
       "      <td>0.0</td>\n",
       "      <td>1.0</td>\n",
       "      <td>0.0</td>\n",
       "    </tr>\n",
       "    <tr>\n",
       "      <th>74</th>\n",
       "      <td>5.020643e+12</td>\n",
       "      <td>1.0</td>\n",
       "      <td>20.0</td>\n",
       "      <td>2.0</td>\n",
       "      <td>0.0</td>\n",
       "      <td>5.005982e+09</td>\n",
       "      <td>3.0</td>\n",
       "      <td>0.0</td>\n",
       "      <td>-0.0</td>\n",
       "      <td>1.0</td>\n",
       "    </tr>\n",
       "    <tr>\n",
       "      <th>75</th>\n",
       "      <td>5.005069e+12</td>\n",
       "      <td>1.0</td>\n",
       "      <td>10.0</td>\n",
       "      <td>-0.0</td>\n",
       "      <td>1.0</td>\n",
       "      <td>5.198630e+09</td>\n",
       "      <td>3.0</td>\n",
       "      <td>0.0</td>\n",
       "      <td>1.0</td>\n",
       "      <td>0.0</td>\n",
       "    </tr>\n",
       "    <tr>\n",
       "      <th>76</th>\n",
       "      <td>5.005386e+12</td>\n",
       "      <td>4.0</td>\n",
       "      <td>0.0</td>\n",
       "      <td>-0.0</td>\n",
       "      <td>1.0</td>\n",
       "      <td>NaN</td>\n",
       "      <td>NaN</td>\n",
       "      <td>NaN</td>\n",
       "      <td>NaN</td>\n",
       "      <td>NaN</td>\n",
       "    </tr>\n",
       "    <tr>\n",
       "      <th>77</th>\n",
       "      <td>7.005020e+09</td>\n",
       "      <td>1.0</td>\n",
       "      <td>1.0</td>\n",
       "      <td>2.0</td>\n",
       "      <td>0.0</td>\n",
       "      <td>NaN</td>\n",
       "      <td>NaN</td>\n",
       "      <td>NaN</td>\n",
       "      <td>NaN</td>\n",
       "      <td>NaN</td>\n",
       "    </tr>\n",
       "    <tr>\n",
       "      <th>78</th>\n",
       "      <td>5.986286e+12</td>\n",
       "      <td>1.0</td>\n",
       "      <td>10.0</td>\n",
       "      <td>-0.0</td>\n",
       "      <td>1.0</td>\n",
       "      <td>5.005564e+12</td>\n",
       "      <td>3.0</td>\n",
       "      <td>0.0</td>\n",
       "      <td>-3.0</td>\n",
       "      <td>1.0</td>\n",
       "    </tr>\n",
       "    <tr>\n",
       "      <th>79</th>\n",
       "      <td>5.197200e+12</td>\n",
       "      <td>1.0</td>\n",
       "      <td>1.0</td>\n",
       "      <td>-1.0</td>\n",
       "      <td>1.0</td>\n",
       "      <td>NaN</td>\n",
       "      <td>NaN</td>\n",
       "      <td>NaN</td>\n",
       "      <td>NaN</td>\n",
       "      <td>NaN</td>\n",
       "    </tr>\n",
       "    <tr>\n",
       "      <th>80</th>\n",
       "      <td>5.005201e+12</td>\n",
       "      <td>1.0</td>\n",
       "      <td>10.0</td>\n",
       "      <td>-1.0</td>\n",
       "      <td>1.0</td>\n",
       "      <td>5.007961e+12</td>\n",
       "      <td>3.0</td>\n",
       "      <td>0.0</td>\n",
       "      <td>1.0</td>\n",
       "      <td>0.0</td>\n",
       "    </tr>\n",
       "    <tr>\n",
       "      <th>81</th>\n",
       "      <td>5.982287e+12</td>\n",
       "      <td>1.0</td>\n",
       "      <td>0.0</td>\n",
       "      <td>-0.0</td>\n",
       "      <td>1.0</td>\n",
       "      <td>NaN</td>\n",
       "      <td>NaN</td>\n",
       "      <td>NaN</td>\n",
       "      <td>NaN</td>\n",
       "      <td>NaN</td>\n",
       "    </tr>\n",
       "    <tr>\n",
       "      <th>82</th>\n",
       "      <td>5.021287e+12</td>\n",
       "      <td>1.0</td>\n",
       "      <td>2.0</td>\n",
       "      <td>-2.0</td>\n",
       "      <td>1.0</td>\n",
       "      <td>NaN</td>\n",
       "      <td>NaN</td>\n",
       "      <td>NaN</td>\n",
       "      <td>NaN</td>\n",
       "      <td>NaN</td>\n",
       "    </tr>\n",
       "    <tr>\n",
       "      <th>83</th>\n",
       "      <td>5.603286e+12</td>\n",
       "      <td>1.0</td>\n",
       "      <td>1.0</td>\n",
       "      <td>-1.0</td>\n",
       "      <td>1.0</td>\n",
       "      <td>NaN</td>\n",
       "      <td>NaN</td>\n",
       "      <td>NaN</td>\n",
       "      <td>NaN</td>\n",
       "      <td>NaN</td>\n",
       "    </tr>\n",
       "    <tr>\n",
       "      <th>84</th>\n",
       "      <td>5.021982e+12</td>\n",
       "      <td>1.0</td>\n",
       "      <td>10.0</td>\n",
       "      <td>-2.0</td>\n",
       "      <td>1.0</td>\n",
       "      <td>5.005985e+12</td>\n",
       "      <td>3.0</td>\n",
       "      <td>0.0</td>\n",
       "      <td>-9.0</td>\n",
       "      <td>1.0</td>\n",
       "    </tr>\n",
       "    <tr>\n",
       "      <th>85</th>\n",
       "      <td>5.386197e+12</td>\n",
       "      <td>1.0</td>\n",
       "      <td>5.0</td>\n",
       "      <td>-0.0</td>\n",
       "      <td>1.0</td>\n",
       "      <td>5.985006e+12</td>\n",
       "      <td>3.0</td>\n",
       "      <td>0.0</td>\n",
       "      <td>-0.0</td>\n",
       "      <td>1.0</td>\n",
       "    </tr>\n",
       "    <tr>\n",
       "      <th>86</th>\n",
       "      <td>5.997229e+12</td>\n",
       "      <td>1.0</td>\n",
       "      <td>1.0</td>\n",
       "      <td>2.0</td>\n",
       "      <td>0.0</td>\n",
       "      <td>NaN</td>\n",
       "      <td>NaN</td>\n",
       "      <td>NaN</td>\n",
       "      <td>NaN</td>\n",
       "      <td>NaN</td>\n",
       "    </tr>\n",
       "    <tr>\n",
       "      <th>87</th>\n",
       "      <td>5.005941e+12</td>\n",
       "      <td>1.0</td>\n",
       "      <td>1.0</td>\n",
       "      <td>1.0</td>\n",
       "      <td>0.0</td>\n",
       "      <td>NaN</td>\n",
       "      <td>NaN</td>\n",
       "      <td>NaN</td>\n",
       "      <td>NaN</td>\n",
       "      <td>NaN</td>\n",
       "    </tr>\n",
       "    <tr>\n",
       "      <th>88</th>\n",
       "      <td>5.005200e+12</td>\n",
       "      <td>1.0</td>\n",
       "      <td>20.0</td>\n",
       "      <td>-0.0</td>\n",
       "      <td>1.0</td>\n",
       "      <td>5.005245e+12</td>\n",
       "      <td>3.0</td>\n",
       "      <td>0.0</td>\n",
       "      <td>-1.0</td>\n",
       "      <td>1.0</td>\n",
       "    </tr>\n",
       "    <tr>\n",
       "      <th>89</th>\n",
       "      <td>5.020387e+12</td>\n",
       "      <td>1.0</td>\n",
       "      <td>20.0</td>\n",
       "      <td>-0.0</td>\n",
       "      <td>1.0</td>\n",
       "      <td>5.020997e+12</td>\n",
       "      <td>3.0</td>\n",
       "      <td>0.0</td>\n",
       "      <td>-0.0</td>\n",
       "      <td>1.0</td>\n",
       "    </tr>\n",
       "    <tr>\n",
       "      <th>90</th>\n",
       "      <td>5.286998e+12</td>\n",
       "      <td>1.0</td>\n",
       "      <td>10.0</td>\n",
       "      <td>4.0</td>\n",
       "      <td>0.0</td>\n",
       "      <td>5.005287e+09</td>\n",
       "      <td>3.0</td>\n",
       "      <td>0.0</td>\n",
       "      <td>-0.0</td>\n",
       "      <td>1.0</td>\n",
       "    </tr>\n",
       "    <tr>\n",
       "      <th>91</th>\n",
       "      <td>5.941006e+12</td>\n",
       "      <td>1.0</td>\n",
       "      <td>10.0</td>\n",
       "      <td>1.0</td>\n",
       "      <td>1.0</td>\n",
       "      <td>5.245656e+12</td>\n",
       "      <td>3.0</td>\n",
       "      <td>0.0</td>\n",
       "      <td>-1.0</td>\n",
       "      <td>1.0</td>\n",
       "    </tr>\n",
       "    <tr>\n",
       "      <th>92</th>\n",
       "      <td>5.197201e+12</td>\n",
       "      <td>1.0</td>\n",
       "      <td>1.0</td>\n",
       "      <td>-1.0</td>\n",
       "      <td>1.0</td>\n",
       "      <td>NaN</td>\n",
       "      <td>NaN</td>\n",
       "      <td>NaN</td>\n",
       "      <td>NaN</td>\n",
       "      <td>NaN</td>\n",
       "    </tr>\n",
       "    <tr>\n",
       "      <th>93</th>\n",
       "      <td>5.021982e+12</td>\n",
       "      <td>1.0</td>\n",
       "      <td>0.0</td>\n",
       "      <td>-0.0</td>\n",
       "      <td>1.0</td>\n",
       "      <td>NaN</td>\n",
       "      <td>NaN</td>\n",
       "      <td>NaN</td>\n",
       "      <td>NaN</td>\n",
       "      <td>NaN</td>\n",
       "    </tr>\n",
       "    <tr>\n",
       "      <th>94</th>\n",
       "      <td>5.005286e+12</td>\n",
       "      <td>1.0</td>\n",
       "      <td>10.0</td>\n",
       "      <td>7.0</td>\n",
       "      <td>0.0</td>\n",
       "      <td>5.286982e+12</td>\n",
       "      <td>3.0</td>\n",
       "      <td>0.0</td>\n",
       "      <td>3.0</td>\n",
       "      <td>0.0</td>\n",
       "    </tr>\n",
       "    <tr>\n",
       "      <th>95</th>\n",
       "      <td>5.245201e+12</td>\n",
       "      <td>1.0</td>\n",
       "      <td>10.0</td>\n",
       "      <td>1.0</td>\n",
       "      <td>1.0</td>\n",
       "      <td>5.005604e+12</td>\n",
       "      <td>3.0</td>\n",
       "      <td>0.0</td>\n",
       "      <td>-0.0</td>\n",
       "      <td>1.0</td>\n",
       "    </tr>\n",
       "    <tr>\n",
       "      <th>96</th>\n",
       "      <td>5.197005e+12</td>\n",
       "      <td>1.0</td>\n",
       "      <td>10.0</td>\n",
       "      <td>-1.0</td>\n",
       "      <td>1.0</td>\n",
       "      <td>5.005961e+12</td>\n",
       "      <td>3.0</td>\n",
       "      <td>0.0</td>\n",
       "      <td>-3.0</td>\n",
       "      <td>1.0</td>\n",
       "    </tr>\n",
       "    <tr>\n",
       "      <th>97</th>\n",
       "      <td>5.197006e+12</td>\n",
       "      <td>1.0</td>\n",
       "      <td>1.0</td>\n",
       "      <td>-9.0</td>\n",
       "      <td>1.0</td>\n",
       "      <td>NaN</td>\n",
       "      <td>NaN</td>\n",
       "      <td>NaN</td>\n",
       "      <td>NaN</td>\n",
       "      <td>NaN</td>\n",
       "    </tr>\n",
       "    <tr>\n",
       "      <th>98</th>\n",
       "      <td>5.019604e+12</td>\n",
       "      <td>1.0</td>\n",
       "      <td>10.0</td>\n",
       "      <td>2.0</td>\n",
       "      <td>0.0</td>\n",
       "      <td>5.982982e+12</td>\n",
       "      <td>3.0</td>\n",
       "      <td>0.0</td>\n",
       "      <td>4.0</td>\n",
       "      <td>0.0</td>\n",
       "    </tr>\n",
       "    <tr>\n",
       "      <th>99</th>\n",
       "      <td>5.366509e+12</td>\n",
       "      <td>1.0</td>\n",
       "      <td>10.0</td>\n",
       "      <td>1.0</td>\n",
       "      <td>0.0</td>\n",
       "      <td>5.005983e+12</td>\n",
       "      <td>3.0</td>\n",
       "      <td>0.0</td>\n",
       "      <td>-0.0</td>\n",
       "      <td>1.0</td>\n",
       "    </tr>\n",
       "  </tbody>\n",
       "</table>\n",
       "</div>"
      ],
      "text/plain": [
       "            time  event_type  size  price  direction      time_new  \\\n",
       "50  5.286201e+12         1.0   1.0    1.0        0.0           NaN   \n",
       "51  5.603287e+12         1.0  10.0    1.0        0.0  5.007005e+09   \n",
       "52  5.603986e+12         1.0   0.0   -0.0        1.0           NaN   \n",
       "53  5.005982e+12         4.0   0.0    2.0        0.0           NaN   \n",
       "54  5.005005e+09         4.0   1.0   -0.0        1.0           NaN   \n",
       "55  5.020286e+12         1.0   2.0    2.0        0.0  5.019987e+09   \n",
       "56  5.005198e+12         4.0   0.0    2.0        0.0           NaN   \n",
       "57  5.007198e+12         1.0   1.0   -1.0        1.0           NaN   \n",
       "58  5.019644e+12         4.0   1.0   -0.0        1.0           NaN   \n",
       "59  5.007657e+09         1.0   1.0   -0.0        1.0           NaN   \n",
       "60  5.005005e+09         1.0   0.0   -0.0        1.0           NaN   \n",
       "61  5.021005e+12         1.0   1.0   -1.0        1.0           NaN   \n",
       "62  5.005286e+12         1.0   0.0   -0.0        1.0           NaN   \n",
       "63  5.020941e+12         1.0   1.0   -1.0        1.0           NaN   \n",
       "64  1.900501e+13         1.0   1.0   -1.0        1.0           NaN   \n",
       "65  5.005603e+09         1.0   0.0   -0.0        1.0           NaN   \n",
       "66  5.021005e+12         1.0   0.0    1.0        0.0           NaN   \n",
       "67  5.386286e+12         1.0  10.0    1.0        0.0  5.007286e+12   \n",
       "68  5.982019e+09         1.0   0.0    8.0        0.0           NaN   \n",
       "69  5.005656e+12         1.0  10.0   -2.0        1.0  5.005983e+12   \n",
       "70  5.982643e+12         1.0   0.0   -0.0        1.0  5.982985e+09   \n",
       "71  5.603006e+12         1.0   0.0   -1.0        1.0           NaN   \n",
       "72  5.020006e+12         1.0   1.0   -1.0        1.0           NaN   \n",
       "73  5.019387e+12         1.0  10.0    0.0        0.0  5.005069e+12   \n",
       "74  5.020643e+12         1.0  20.0    2.0        0.0  5.005982e+09   \n",
       "75  5.005069e+12         1.0  10.0   -0.0        1.0  5.198630e+09   \n",
       "76  5.005386e+12         4.0   0.0   -0.0        1.0           NaN   \n",
       "77  7.005020e+09         1.0   1.0    2.0        0.0           NaN   \n",
       "78  5.986286e+12         1.0  10.0   -0.0        1.0  5.005564e+12   \n",
       "79  5.197200e+12         1.0   1.0   -1.0        1.0           NaN   \n",
       "80  5.005201e+12         1.0  10.0   -1.0        1.0  5.007961e+12   \n",
       "81  5.982287e+12         1.0   0.0   -0.0        1.0           NaN   \n",
       "82  5.021287e+12         1.0   2.0   -2.0        1.0           NaN   \n",
       "83  5.603286e+12         1.0   1.0   -1.0        1.0           NaN   \n",
       "84  5.021982e+12         1.0  10.0   -2.0        1.0  5.005985e+12   \n",
       "85  5.386197e+12         1.0   5.0   -0.0        1.0  5.985006e+12   \n",
       "86  5.997229e+12         1.0   1.0    2.0        0.0           NaN   \n",
       "87  5.005941e+12         1.0   1.0    1.0        0.0           NaN   \n",
       "88  5.005200e+12         1.0  20.0   -0.0        1.0  5.005245e+12   \n",
       "89  5.020387e+12         1.0  20.0   -0.0        1.0  5.020997e+12   \n",
       "90  5.286998e+12         1.0  10.0    4.0        0.0  5.005287e+09   \n",
       "91  5.941006e+12         1.0  10.0    1.0        1.0  5.245656e+12   \n",
       "92  5.197201e+12         1.0   1.0   -1.0        1.0           NaN   \n",
       "93  5.021982e+12         1.0   0.0   -0.0        1.0           NaN   \n",
       "94  5.005286e+12         1.0  10.0    7.0        0.0  5.286982e+12   \n",
       "95  5.245201e+12         1.0  10.0    1.0        1.0  5.005604e+12   \n",
       "96  5.197005e+12         1.0  10.0   -1.0        1.0  5.005961e+12   \n",
       "97  5.197006e+12         1.0   1.0   -9.0        1.0           NaN   \n",
       "98  5.019604e+12         1.0  10.0    2.0        0.0  5.982982e+12   \n",
       "99  5.366509e+12         1.0  10.0    1.0        0.0  5.005983e+12   \n",
       "\n",
       "    event_type_new  size_new  price_new  direction_new  \n",
       "50             NaN       NaN        NaN            NaN  \n",
       "51             3.0       0.0        2.0            0.0  \n",
       "52             NaN       NaN        NaN            NaN  \n",
       "53             NaN       NaN        NaN            NaN  \n",
       "54             NaN       NaN        NaN            NaN  \n",
       "55             3.0       0.0       -0.0            1.0  \n",
       "56             NaN       NaN        NaN            NaN  \n",
       "57             NaN       NaN        NaN            NaN  \n",
       "58             NaN       NaN        NaN            NaN  \n",
       "59             NaN       NaN        NaN            NaN  \n",
       "60             NaN       NaN        NaN            NaN  \n",
       "61             NaN       NaN        NaN            NaN  \n",
       "62             NaN       NaN        NaN            NaN  \n",
       "63             NaN       NaN        NaN            NaN  \n",
       "64             NaN       NaN        NaN            NaN  \n",
       "65             NaN       NaN        NaN            NaN  \n",
       "66             NaN       NaN        NaN            NaN  \n",
       "67             3.0       0.0        2.0            0.0  \n",
       "68             NaN       NaN        NaN            NaN  \n",
       "69             3.0       0.0       -4.0            1.0  \n",
       "70             3.0       0.0        5.0            0.0  \n",
       "71             NaN       NaN        NaN            NaN  \n",
       "72             NaN       NaN        NaN            NaN  \n",
       "73             3.0       0.0        1.0            0.0  \n",
       "74             3.0       0.0       -0.0            1.0  \n",
       "75             3.0       0.0        1.0            0.0  \n",
       "76             NaN       NaN        NaN            NaN  \n",
       "77             NaN       NaN        NaN            NaN  \n",
       "78             3.0       0.0       -3.0            1.0  \n",
       "79             NaN       NaN        NaN            NaN  \n",
       "80             3.0       0.0        1.0            0.0  \n",
       "81             NaN       NaN        NaN            NaN  \n",
       "82             NaN       NaN        NaN            NaN  \n",
       "83             NaN       NaN        NaN            NaN  \n",
       "84             3.0       0.0       -9.0            1.0  \n",
       "85             3.0       0.0       -0.0            1.0  \n",
       "86             NaN       NaN        NaN            NaN  \n",
       "87             NaN       NaN        NaN            NaN  \n",
       "88             3.0       0.0       -1.0            1.0  \n",
       "89             3.0       0.0       -0.0            1.0  \n",
       "90             3.0       0.0       -0.0            1.0  \n",
       "91             3.0       0.0       -1.0            1.0  \n",
       "92             NaN       NaN        NaN            NaN  \n",
       "93             NaN       NaN        NaN            NaN  \n",
       "94             3.0       0.0        3.0            0.0  \n",
       "95             3.0       0.0       -0.0            1.0  \n",
       "96             3.0       0.0       -3.0            1.0  \n",
       "97             NaN       NaN        NaN            NaN  \n",
       "98             3.0       0.0        4.0            0.0  \n",
       "99             3.0       0.0       -0.0            1.0  "
      ]
     },
     "execution_count": 206,
     "metadata": {},
     "output_type": "execute_result"
    }
   ],
   "source": [
    "decod_gen_msgs.iloc[50:]"
   ]
  },
  {
   "cell_type": "code",
   "execution_count": 203,
   "metadata": {},
   "outputs": [
    {
     "data": {
      "text/plain": [
       "0.0     25\n",
       "1.0     36\n",
       "2.0      4\n",
       "3.0      1\n",
       "5.0      2\n",
       "10.0    28\n",
       "20.0     4\n",
       "Name: size, dtype: int64"
      ]
     },
     "execution_count": 203,
     "metadata": {},
     "output_type": "execute_result"
    }
   ],
   "source": [
    "decod_gen_msgs['size'].value_counts().sort_index()"
   ]
  },
  {
   "cell_type": "code",
   "execution_count": 193,
   "metadata": {},
   "outputs": [],
   "source": [
    "# new orders / executions\n",
    "new_orders = decod_gen_msgs.loc[decod_gen_msgs.time_new.isna()]"
   ]
  },
  {
   "cell_type": "code",
   "execution_count": 196,
   "metadata": {},
   "outputs": [
    {
     "data": {
      "text/plain": [
       "<AxesSubplot:>"
      ]
     },
     "execution_count": 196,
     "metadata": {},
     "output_type": "execute_result"
    },
    {
     "data": {
      "image/png": "[encoded data removed]",
      "text/plain": [
       "<Figure size 432x288 with 1 Axes>"
      ]
     },
     "metadata": {
      "needs_background": "light"
     },
     "output_type": "display_data"
    }
   ],
   "source": [
    "# error: should be monotone increasing\n",
    "new_orders.time.plot()"
   ]
  },
  {
   "cell_type": "code",
   "execution_count": 194,
   "metadata": {},
   "outputs": [
    {
     "data": {
      "text/plain": [
       "1.0    55\n",
       "4.0     5\n",
       "Name: event_type, dtype: int64"
      ]
     },
     "execution_count": 194,
     "metadata": {},
     "output_type": "execute_result"
    }
   ],
   "source": [
    "new_orders.event_type.value_counts()"
   ]
  },
  {
   "cell_type": "code",
   "execution_count": 195,
   "metadata": {},
   "outputs": [],
   "source": [
    "# only order modifications\n",
    "modif_orders = decod_gen_msgs.dropna()"
   ]
  },
  {
   "cell_type": "code",
   "execution_count": 207,
   "metadata": {},
   "outputs": [
    {
     "data": {
      "text/plain": [
       "3.0    40\n",
       "Name: event_type_new, dtype: int64"
      ]
     },
     "execution_count": 207,
     "metadata": {},
     "output_type": "execute_result"
    }
   ],
   "source": [
    "modif_orders.event_type_new.value_counts()"
   ]
  },
  {
   "cell_type": "code",
   "execution_count": null,
   "metadata": {},
   "outputs": [],
   "source": [
    "modif_orders."
   ]
  },
  {
   "cell_type": "code",
   "execution_count": null,
   "metadata": {},
   "outputs": [],
   "source": []
  },
  {
   "cell_type": "code",
   "execution_count": null,
   "metadata": {},
   "outputs": [],
   "source": []
  },
  {
   "cell_type": "code",
   "execution_count": 76,
   "metadata": {},
   "outputs": [
    {
     "data": {
      "text/plain": [
       "(500, 41)"
      ]
     },
     "execution_count": 76,
     "metadata": {},
     "output_type": "execute_result"
    }
   ],
   "source": [
    "b_seq.shape"
   ]
  },
  {
   "cell_type": "code",
   "execution_count": 68,
   "metadata": {},
   "outputs": [],
   "source": [
    "test = jnp.arange(5)"
   ]
  },
  {
   "cell_type": "code",
   "execution_count": 73,
   "metadata": {},
   "outputs": [
    {
     "data": {
      "text/plain": [
       "Array([1, 0, 1, 2, 3, 4], dtype=int32)"
      ]
     },
     "execution_count": 73,
     "metadata": {},
     "output_type": "execute_result"
    }
   ],
   "source": [
    "jnp.concatenate([jnp.array([1]), test])"
   ]
  },
  {
   "cell_type": "code",
   "execution_count": 67,
   "metadata": {},
   "outputs": [
    {
     "data": {
      "text/plain": [
       "(500, 41)"
      ]
     },
     "execution_count": 67,
     "metadata": {},
     "output_type": "execute_result"
    }
   ],
   "source": [
    "b_seq.shape"
   ]
  },
  {
   "cell_type": "code",
   "execution_count": 64,
   "metadata": {},
   "outputs": [
    {
     "data": {
      "text/plain": [
       "Array([   0,    0,    0,    0,    0,    0,    0,    0,    0,   50,  750,\n",
       "         50,  490,  775, 1250,  500,  600,  782,  802,    0,  182, 1056,\n",
       "        706, 1100, 1012,  468, 1615,  431,    0,   50,    0,    0,    0,\n",
       "          0,    0,    0,    0,    0,    0,    0], dtype=int32)"
      ]
     },
     "execution_count": 64,
     "metadata": {},
     "output_type": "execute_result"
    }
   ],
   "source": [
    "encode_L2_state(sim.get_L2_state(), price_levels=40)"
   ]
  },
  {
   "cell_type": "code",
   "execution_count": 105,
   "metadata": {},
   "outputs": [
    {
     "data": {
      "text/plain": [
       "array([    8,     8,     8,     8,     8,  1003,  1017, 11107, 11008,\n",
       "       11109])"
      ]
     },
     "execution_count": 105,
     "metadata": {},
     "output_type": "execute_result"
    }
   ],
   "source": [
    "tok.encode_msg(msg_corr, v)"
   ]
  },
  {
   "cell_type": "code",
   "execution_count": 64,
   "metadata": {},
   "outputs": [
    {
     "data": {
      "text/plain": [
       "Array([    8,   402,   426,   552,   519,  1003,  1107, 11107, 11009,\n",
       "       11109,     8,   402,   938,   659,   860,  1005,  1107, 11107,\n",
       "       11009, 11109,     8,     8,     8,     8,     8,  1003,  1107,\n",
       "       11107, 11008, 11109,     2,     2,     2,     2,     2,     2,\n",
       "           2,     2,     2,     2], dtype=int32)"
      ]
     },
     "execution_count": 64,
     "metadata": {},
     "output_type": "execute_result"
    }
   ],
   "source": [
    "m_seq[-40:]"
   ]
  },
  {
   "cell_type": "code",
   "execution_count": 65,
   "metadata": {},
   "outputs": [
    {
     "data": {
      "text/plain": [
       "Array([    8,     8,     8,     8,     8,  1003,  1107, 11107, 11008,\n",
       "       11109,     2,     2,     2,     2,     2,     2,     2,     2,\n",
       "           2,     2], dtype=int32)"
      ]
     },
     "execution_count": 65,
     "metadata": {},
     "output_type": "execute_result"
    }
   ],
   "source": [
    "m_seq[-20:]"
   ]
  },
  {
   "cell_type": "code",
   "execution_count": 102,
   "metadata": {},
   "outputs": [
    {
     "data": {
      "text/plain": [
       "[Array([ True], dtype=bool)]"
      ]
     },
     "execution_count": 102,
     "metadata": {},
     "output_type": "execute_result"
    }
   ],
   "source": [
    "accs"
   ]
  },
  {
   "cell_type": "code",
   "execution_count": 103,
   "metadata": {},
   "outputs": [
    {
     "data": {
      "text/plain": [
       "[Array([0.02193826], dtype=float32)]"
      ]
     },
     "execution_count": 103,
     "metadata": {},
     "output_type": "execute_result"
    }
   ],
   "source": [
    "losses"
   ]
  },
  {
   "cell_type": "code",
   "execution_count": 68,
   "metadata": {},
   "outputs": [
    {
     "data": {
      "text/plain": [
       "Array([    8,     8,     8,     8,     8,  1003,  1107, 11107, 11008,\n",
       "       11109,     2,     2,     2,     2,     2,     2,     2,     2,\n",
       "           2,     2], dtype=int32)"
      ]
     },
     "execution_count": 68,
     "metadata": {},
     "output_type": "execute_result"
    }
   ],
   "source": [
    "m_seq[-20:]"
   ]
  },
  {
   "cell_type": "code",
   "execution_count": null,
   "metadata": {},
   "outputs": [],
   "source": [
    "# try multiple rolls to get valid message"
   ]
  },
  {
   "cell_type": "code",
   "execution_count": null,
   "metadata": {},
   "outputs": [],
   "source": [
    "# TODO:\n",
    "\n",
    "# sim_msg = get_sim_msg(\n",
    "#     m_enc[end_i],\n",
    "#     m_seq,\n",
    "#     sim,\n",
    "#     tok,\n",
    "#     v,\n",
    "#     new_order_id=42, tick_size=100\n",
    "# )\n",
    "# sim_msg\n",
    "\n",
    "# sim.process_order(sim_msg)"
   ]
  },
  {
   "cell_type": "code",
   "execution_count": 69,
   "metadata": {},
   "outputs": [
    {
     "data": {
      "text/plain": [
       "array([['005', '005', '005', '005', '005', '1', '010', '+', '01', '0',\n",
       "        'NAN', 'NAN', 'NAN', 'NAN', 'NAN', 'NAN', 'NAN', 'NAN', 'NAN',\n",
       "        'NAN']], dtype='<U3')"
      ]
     },
     "execution_count": 69,
     "metadata": {},
     "output_type": "execute_result"
    }
   ],
   "source": [
    "tok.decode_to_str(m_seq[-20:], v)"
   ]
  },
  {
   "cell_type": "code",
   "execution_count": 70,
   "metadata": {},
   "outputs": [
    {
     "data": {
      "text/plain": [
       "array([5.00500501e+12, 1.00000000e+00, 1.00000000e+01, 1.00000000e+00,\n",
       "       0.00000000e+00,            nan,            nan,            nan,\n",
       "                  nan,            nan])"
      ]
     },
     "execution_count": 70,
     "metadata": {},
     "output_type": "execute_result"
    }
   ],
   "source": [
    "# decode predicted message\n",
    "pred_msg = tok.decode(m_seq[-20:], v).flatten()\n",
    "pred_msg"
   ]
  },
  {
   "cell_type": "code",
   "execution_count": 69,
   "metadata": {},
   "outputs": [
    {
     "data": {
      "text/plain": [
       "('time', '977')"
      ]
     },
     "execution_count": 69,
     "metadata": {},
     "output_type": "execute_result"
    }
   ],
   "source": [
    "v.DECODING_GLOBAL[980]"
   ]
  },
  {
   "cell_type": "code",
   "execution_count": 71,
   "metadata": {},
   "outputs": [
    {
     "data": {
      "text/plain": [
       "True"
      ]
     },
     "execution_count": 71,
     "metadata": {},
     "output_type": "execute_result"
    }
   ],
   "source": [
    "valh.validate_msg(m_seq[-20:], tok, v)"
   ]
  },
  {
   "cell_type": "code",
   "execution_count": 74,
   "metadata": {},
   "outputs": [
    {
     "data": {
      "text/plain": [
       "(2, 10, 20, 6)"
      ]
     },
     "execution_count": 74,
     "metadata": {},
     "output_type": "execute_result"
    }
   ],
   "source": [
    "sim.orderbook_array.shape"
   ]
  },
  {
   "cell_type": "code",
   "execution_count": 76,
   "metadata": {},
   "outputs": [
    {
     "data": {
      "text/plain": [
       "Array(0, dtype=int32)"
      ]
     },
     "execution_count": 76,
     "metadata": {},
     "output_type": "execute_result"
    }
   ],
   "source": [
    "# side: 0: asks 1: bids\n",
    "sim.get_volume_at_price(0, 988000)"
   ]
  },
  {
   "cell_type": "code",
   "execution_count": 77,
   "metadata": {},
   "outputs": [
    {
     "data": {
      "text/plain": [
       "Array(50, dtype=int32)"
      ]
     },
     "execution_count": 77,
     "metadata": {},
     "output_type": "execute_result"
    }
   ],
   "source": [
    "# side: 0: asks 1: bids\n",
    "sim.get_volume_at_price(1, 987000)"
   ]
  },
  {
   "cell_type": "code",
   "execution_count": 78,
   "metadata": {},
   "outputs": [
    {
     "data": {
      "text/plain": [
       "Array(1012, dtype=int32)"
      ]
     },
     "execution_count": 78,
     "metadata": {},
     "output_type": "execute_result"
    }
   ],
   "source": [
    "sim.get_volume_at_price(0, 988500)"
   ]
  },
  {
   "cell_type": "code",
   "execution_count": 79,
   "metadata": {},
   "outputs": [],
   "source": [
    "from gym_exchange import Config\n",
    "from gymnax_exchange.jaxob.JaxOrderbook import INITID"
   ]
  },
  {
   "cell_type": "code",
   "execution_count": 80,
   "metadata": {},
   "outputs": [
    {
     "data": {
      "text/plain": [
       "Array(174, dtype=int32)"
      ]
     },
     "execution_count": 80,
     "metadata": {},
     "output_type": "execute_result"
    }
   ],
   "source": [
    "sim.get_init_volume_at_price(0, 988500)"
   ]
  },
  {
   "cell_type": "code",
   "execution_count": 81,
   "metadata": {},
   "outputs": [
    {
     "data": {
      "text/plain": [
       "Array([988100,    182, 987900,    802, 988200,   1056, 987800,    782,\n",
       "       988300,    706, 987700,    600, 988400,   1100, 987600,    500,\n",
       "       988500,   1012, 987500,   1250, 988600,    468, 987400,    775,\n",
       "       988700,   1615, 987300,    490, 988800,    431, 987200,     50,\n",
       "       989000,     50, 987100,    750,     -1,      0, 987000,     50],      dtype=int32)"
      ]
     },
     "execution_count": 81,
     "metadata": {},
     "output_type": "execute_result"
    }
   ],
   "source": [
    "sim.get_L2_state()"
   ]
  },
  {
   "cell_type": "code",
   "execution_count": null,
   "metadata": {},
   "outputs": [],
   "source": [
    "# TODO: add functions to jorderbook.py"
   ]
  },
  {
   "cell_type": "code",
   "execution_count": null,
   "metadata": {},
   "outputs": [],
   "source": [
    "def msg_to_raw(msg, bid_price, tick_size):\n",
    "    \"\"\"Convert message to raw data format.\"\"\"\n",
    "    assert len(msg) == 5\n",
    "    # time\n",
    "    msg[0] = msg[0] * 1e-9 + 9.5 * 3600\n",
    "    # price\n",
    "    msg[3] = bid_price + int(msg[3]) * tick_size\n",
    "    # direction\n",
    "    msg[4] = msg[4] * 2 - 1\n",
    "    return msg"
   ]
  },
  {
   "cell_type": "code",
   "execution_count": null,
   "metadata": {},
   "outputs": [
    {
     "data": {
      "text/plain": [
       "array([    8,   402,   328,   183,   770,  1003,  1207, 11107, 11011,\n",
       "       11109,     8,   403,     9,   666,   752,  1005,  1107, 11107,\n",
       "       11010, 11109])"
      ]
     },
     "execution_count": 176,
     "metadata": {},
     "output_type": "execute_result"
    }
   ],
   "source": [
    "# actual next message (not predicted and not part of seq)\n",
    "m_enc[end_i]"
   ]
  },
  {
   "cell_type": "code",
   "execution_count": null,
   "metadata": {},
   "outputs": [],
   "source": [
    "#raw_seq = m.iloc[end_i - n_messages: end_i].copy()\n",
    "#raw_seq.drop('order_id', inplace=True, axis=1)"
   ]
  },
  {
   "cell_type": "code",
   "execution_count": 301,
   "metadata": {},
   "outputs": [
    {
     "name": "stdout",
     "output_type": "stream",
     "text": [
      "correct [    8   402   328   183   770  1003  1207 11107 11011 11109     8   403\n",
      "     9   666   752  1005  1107 11107 11010 11109]\n",
      "modified [    8   402   328   183   770  1003  1207 11107 11012 11109     8   403\n",
      "     9   666   752  1005  1107 11107 11010 11109]\n"
     ]
    }
   ],
   "source": [
    "test_msg = m_enc[end_i].copy()\n",
    "print('correct', test_msg)\n",
    "#test_msg[2] -= 1  # modify time\n",
    "#test_msg[6] += 1  # modify size\n",
    "#test_msg[8] += 1  # modify price\n",
    "print('modified', test_msg)"
   ]
  },
  {
   "cell_type": "code",
   "execution_count": 85,
   "metadata": {},
   "outputs": [],
   "source": [
    "# use generated message\n",
    "test_msg = m_seq[-20:].copy()"
   ]
  },
  {
   "cell_type": "code",
   "execution_count": 102,
   "metadata": {},
   "outputs": [
    {
     "name": "stdout",
     "output_type": "stream",
     "text": [
      "raw_vals\n",
      "['005005005005005', '1', '0010', '+01', '0']\n"
     ]
    },
    {
     "data": {
      "text/plain": [
       "{'timestamp': '39205.005005005',\n",
       " 'type': 1,\n",
       " 'order_id': 88000004,\n",
       " 'quantity': 10,\n",
       " 'price': Array(988000, dtype=int32),\n",
       " 'side': 'ask',\n",
       " 'trade_id': 0}"
      ]
     },
     "execution_count": 102,
     "metadata": {},
     "output_type": "execute_result"
    }
   ],
   "source": [
    "m_seq_raw = m.iloc[end_i - n_messages : end_i]\n",
    "\n",
    "id_gen = OrderIdGenerator()\n",
    "order_id = id_gen.step()\n",
    "\n",
    "sim_msg, raw_vals = get_sim_msg(\n",
    "    test_msg,\n",
    "    m_seq,\n",
    "    m_seq_raw,\n",
    "    sim,\n",
    "    tok,\n",
    "    v,\n",
    "    new_order_id=order_id,\n",
    "    tick_size=100\n",
    ")\n",
    "sim_msg"
   ]
  },
  {
   "cell_type": "code",
   "execution_count": 103,
   "metadata": {},
   "outputs": [
    {
     "name": "stdout",
     "output_type": "stream",
     "text": [
      "time 005005005005005\n",
      "delim_i [3, 6, 9, 12]\n",
      "1003\n",
      "[8, 8, 8, 8, 8]\n",
      "\n",
      "event_type 1\n",
      "[1003]\n",
      "\n",
      "size 0010\n",
      "delim_i []\n",
      "10003\n",
      "[1017]\n",
      "\n",
      "price +01\n",
      "delim_i [1]\n",
      "105\n",
      "[11107, 11008]\n",
      "\n",
      "direction 0\n",
      "[11109]\n",
      "\n"
     ]
    },
    {
     "data": {
      "text/plain": [
       "array([    8,     8,     8,     8,     8,  1003,  1017, 11107, 11008,\n",
       "       11109])"
      ]
     },
     "execution_count": 103,
     "metadata": {},
     "output_type": "execute_result"
    }
   ],
   "source": [
    "# TODO: do this for type 1, 4 messages as well\n",
    "\n",
    "tok = Message_Tokenizer()\n",
    "tok.encode_msg(raw_vals, v)"
   ]
  },
  {
   "cell_type": "code",
   "execution_count": null,
   "metadata": {},
   "outputs": [
    {
     "name": "stdout",
     "output_type": "stream",
     "text": [
      "[       5       -1       10   988200        0 32429970    39600  6663749]\n",
      "[[[[      100    988000         0 276499246     39599 322500767]\n",
      "   [       -1        -1        -1        -1        -1        -1]\n",
      "   [       -1        -1        -1        -1        -1        -1]\n",
      "   ...\n",
      "   [       -1        -1        -1        -1        -1        -1]\n",
      "   [       -1        -1        -1        -1        -1        -1]\n",
      "   [       -1        -1        -1        -1        -1        -1]]\n",
      "\n",
      "  [[      100    988100         0 276492538     39599 264867549]\n",
      "   [       82    988100         0 276511822     39599 685781583]\n",
      "   [       -1        -1        -1        -1        -1        -1]\n",
      "   ...\n",
      "   [       -1        -1        -1        -1        -1        -1]\n",
      "   [       -1        -1        -1        -1        -1        -1]\n",
      "   [       -1        -1        -1        -1        -1        -1]]\n",
      "\n",
      "  [[       81    988200         0 276491886     39599  26281485]\n",
      "   [      100    988200         0 276500518     39599  33606933]\n",
      "   [      100    988200         0 276489698     39599 251200259]\n",
      "   ...\n",
      "   [       -1        -1        -1        -1        -1        -1]\n",
      "   [       -1        -1        -1        -1        -1        -1]\n",
      "   [       -1        -1        -1        -1        -1        -1]]\n",
      "\n",
      "  ...\n",
      "\n",
      "  [[     1082    988700         0  90000000     34200         0]\n",
      "   [      100    988700         0 276476526     39599  54624969]\n",
      "   [      100    988700         0 276478378     39599  60038899]\n",
      "   ...\n",
      "   [       -1        -1        -1        -1        -1        -1]\n",
      "   [       -1        -1        -1        -1        -1        -1]\n",
      "   [       -1        -1        -1        -1        -1        -1]]\n",
      "\n",
      "  [[      331    988800         0  90000000     34200         0]\n",
      "   [      100    988800         0 276487218     39599 183592463]\n",
      "   [       -1        -1        -1        -1        -1        -1]\n",
      "   ...\n",
      "   [       -1        -1        -1        -1        -1        -1]\n",
      "   [       -1        -1        -1        -1        -1        -1]\n",
      "   [       -1        -1        -1        -1        -1        -1]]\n",
      "\n",
      "  [[       50    989000         0 276503650     39599 423577432]\n",
      "   [       -1        -1        -1        -1        -1        -1]\n",
      "   [       -1        -1        -1        -1        -1        -1]\n",
      "   ...\n",
      "   [       -1        -1        -1        -1        -1        -1]\n",
      "   [       -1        -1        -1        -1        -1        -1]\n",
      "   [       -1        -1        -1        -1        -1        -1]]]\n",
      "\n",
      "\n",
      " [[[      200    987900         0 276501242     39599 352490234]\n",
      "   [      100    987900         0 276501254     39599 352499189]\n",
      "   [       82    987900         0 276501258     39599 352500502]\n",
      "   ...\n",
      "   [       -1        -1        -1        -1        -1        -1]\n",
      "   [       -1        -1        -1        -1        -1        -1]\n",
      "   [       -1        -1        -1        -1        -1        -1]]\n",
      "\n",
      "  [[      300    987800         0  90000000     34200         0]\n",
      "   [       82    987800         0 276499738     39599 324469366]\n",
      "   [      100    987800         0 276499742     39599 324494973]\n",
      "   ...\n",
      "   [       -1        -1        -1        -1        -1        -1]\n",
      "   [       -1        -1        -1        -1        -1        -1]\n",
      "   [       -1        -1        -1        -1        -1        -1]]\n",
      "\n",
      "  [[      350    987700         0  90000000     34200         0]\n",
      "   [       50    987700         0 276492482     39599 264783146]\n",
      "   [      200    987700         0 276513250     39599 732674883]\n",
      "   ...\n",
      "   [       -1        -1        -1        -1        -1        -1]\n",
      "   [       -1        -1        -1        -1        -1        -1]\n",
      "   [       -1        -1        -1        -1        -1        -1]]\n",
      "\n",
      "  ...\n",
      "\n",
      "  [[       50    987200         0 276489674     39599  25117112]\n",
      "   [       -1        -1        -1        -1        -1        -1]\n",
      "   [       -1        -1        -1        -1        -1        -1]\n",
      "   ...\n",
      "   [       -1        -1        -1        -1        -1        -1]\n",
      "   [       -1        -1        -1        -1        -1        -1]\n",
      "   [       -1        -1        -1        -1        -1        -1]]\n",
      "\n",
      "  [[       50    987100         0 276492046     39599 263796407]\n",
      "   [      100    987100         0 276499290     39599 322539612]\n",
      "   [      600    987100         0 276515962     39599 852575272]\n",
      "   ...\n",
      "   [       -1        -1        -1        -1        -1        -1]\n",
      "   [       -1        -1        -1        -1        -1        -1]\n",
      "   [       -1        -1        -1        -1        -1        -1]]\n",
      "\n",
      "  [[       50    987000         0 276497914     39599 279221614]\n",
      "   [       -1        -1        -1        -1        -1        -1]\n",
      "   [       -1        -1        -1        -1        -1        -1]\n",
      "   ...\n",
      "   [       -1        -1        -1        -1        -1        -1]\n",
      "   [       -1        -1        -1        -1        -1        -1]\n",
      "   [       -1        -1        -1        -1        -1        -1]]]]\n"
     ]
    },
    {
     "data": {
      "text/plain": [
       "(Array([[-1, -1, -1, -1, -1, -1, -1],\n",
       "        [-1, -1, -1, -1, -1, -1, -1],\n",
       "        [-1, -1, -1, -1, -1, -1, -1],\n",
       "        [-1, -1, -1, -1, -1, -1, -1],\n",
       "        [-1, -1, -1, -1, -1, -1, -1]], dtype=int32),\n",
       " Array([       5,       -1,       10,   988200,        0, 32429970,\n",
       "           39600,  6663749], dtype=int32))"
      ]
     },
     "execution_count": 266,
     "metadata": {},
     "output_type": "execute_result"
    }
   ],
   "source": [
    "sim.process_order(sim_msg)"
   ]
  },
  {
   "cell_type": "code",
   "execution_count": null,
   "metadata": {},
   "outputs": [],
   "source": []
  },
  {
   "cell_type": "code",
   "execution_count": null,
   "metadata": {},
   "outputs": [
    {
     "data": {
      "text/plain": [
       "(1, 10000, 11111)"
      ]
     },
     "execution_count": 51,
     "metadata": {},
     "output_type": "execute_result"
    }
   ],
   "source": [
    "input[0].shape"
   ]
  },
  {
   "cell_type": "code",
   "execution_count": null,
   "metadata": {},
   "outputs": [
    {
     "data": {
      "text/plain": [
       "(1, 500, 41)"
      ]
     },
     "execution_count": 52,
     "metadata": {},
     "output_type": "execute_result"
    }
   ],
   "source": [
    "input[1].shape"
   ]
  },
  {
   "cell_type": "code",
   "execution_count": null,
   "metadata": {},
   "outputs": [],
   "source": [
    "# TODO: refactor slightly and work in simulation step\n",
    "#       and simulator matching orders\n",
    "\n",
    "pred_n_messages = 1\n",
    "valid_mask_array = valh.syntax_validation_matrix()\n",
    "inf_seq = valh.pred_msg(\n",
    "    start_seq,\n",
    "    pred_n_messages,\n",
    "    state,\n",
    "    model,\n",
    "    args.batchnorm,\n",
    "    rng,\n",
    "    valid_mask_array\n",
    ")"
   ]
  }
 ],
 "metadata": {
  "kernelspec": {
   "display_name": "rlenv",
   "language": "python",
   "name": "python3"
  },
  "language_info": {
   "codemirror_mode": {
    "name": "ipython",
    "version": 3
   },
   "file_extension": ".py",
   "mimetype": "text/x-python",
   "name": "python",
   "nbconvert_exporter": "python",
   "pygments_lexer": "ipython3",
   "version": "3.8.10"
  },
  "orig_nbformat": 4
 },
 "nbformat": 4,
 "nbformat_minor": 2
}
