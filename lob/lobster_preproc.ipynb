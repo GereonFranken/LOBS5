{
 "cells": [
  {
   "cell_type": "code",
   "execution_count": 315,
   "metadata": {},
   "outputs": [],
   "source": [
    "import numpy as np\n",
    "import jax.numpy as jnp\n",
    "import pandas as pd\n",
    "from glob import glob\n",
    "from functools import partial\n",
    "from types import SimpleNamespace\n",
    "import functools\n",
    "from sklearn.preprocessing import OrdinalEncoder, OneHotEncoder\n",
    "from typing import Union\n",
    "\n",
    "from lob_seq_model import LobPredModel"
   ]
  },
  {
   "cell_type": "code",
   "execution_count": 308,
   "metadata": {},
   "outputs": [],
   "source": [
    "%load_ext autoreload\n",
    "%autoreload 2"
   ]
  },
  {
   "cell_type": "code",
   "execution_count": 275,
   "metadata": {},
   "outputs": [],
   "source": [
    "data_dir = '/nfs/home/peern/LOBS5/data/raw/'\n",
    "save_dir = '/nfs/home/peern/LOBS5/data/'"
   ]
  },
  {
   "cell_type": "code",
   "execution_count": 276,
   "metadata": {},
   "outputs": [],
   "source": [
    "message_files = sorted(glob(data_dir + '*message*.csv'))\n",
    "book_files = sorted(glob(data_dir + '*orderbook*.csv'))"
   ]
  },
  {
   "cell_type": "code",
   "execution_count": 277,
   "metadata": {},
   "outputs": [
    {
     "name": "stderr",
     "output_type": "stream",
     "text": [
      "/nfs/home/peern/rlenv/lib/python3.8/site-packages/IPython/core/interactiveshell.py:3553: DtypeWarning: Columns (6) have mixed types.Specify dtype option on import or set low_memory=False.\n",
      "  exec(code_obj, self.user_global_ns, self.user_ns)\n",
      "/nfs/home/peern/rlenv/lib/python3.8/site-packages/pandas/util/_decorators.py:311: ParserWarning: Length of header or names does not match length of data. This leads to a loss of data with index_col=False.\n",
      "  return func(*args, **kwargs)\n"
     ]
    }
   ],
   "source": [
    "df = pd.read_csv(\n",
    "    message_files[0],\n",
    "    names=['time', 'event_type', 'order_id', 'size', 'price', 'direction'],\n",
    "    index_col=False)\n",
    "\n",
    "book = pd.read_csv(\n",
    "    book_files[0],\n",
    "    index_col=False,\n",
    "    header=None\n",
    ")"
   ]
  },
  {
   "cell_type": "code",
   "execution_count": 282,
   "metadata": {},
   "outputs": [],
   "source": [
    "from bisect import bisect_left\n",
    "\n",
    "def take_closest(myList, myNumber):\n",
    "    \"\"\"\n",
    "    Assumes myList is sorted. Returns closest value to myNumber.\n",
    "\n",
    "    If two numbers are equally close, return the smallest number.\n",
    "    \"\"\"\n",
    "    pos = bisect_left(myList, myNumber)\n",
    "    if pos == 0:\n",
    "        return myList[0]\n",
    "    if pos == len(myList):\n",
    "        return myList[-1]\n",
    "    before = myList[pos - 1]\n",
    "    after = myList[pos]\n",
    "    if after - myNumber < myNumber - before:\n",
    "        return after\n",
    "    else:\n",
    "        return before\n",
    "    \n",
    "def relabel_series(s, allowed_labels=None):\n",
    "    if allowed_labels is None:\n",
    "        allowed_labels = sorted(s.unique())\n",
    "    label_map = {orig: i for i, orig in enumerate(allowed_labels)}\n",
    "    return s.replace(label_map)\n",
    "\n",
    "def _preproc_prices(p, bb, p_lower_trunc=-1000, p_upper_trunc=1300):\n",
    "    \"\"\" Takes prices series and best bid, encoding prices relative to best bid.\n",
    "        Returns scaled price series\n",
    "    \"\"\"\n",
    "    # encode prices relative to (previous) best bid\n",
    "    p = p - bb\n",
    "    # truncate price at deviation of 1000\n",
    "    # min tick is 100, hence min 10-level diff is 900\n",
    "    # <= 1000 covers ~99.54% on bid side, ~99.1% on ask size (GOOG)\n",
    "    pct_changed = 100 * len(p.loc[p > p_upper_trunc]) / len(p)\n",
    "    print(f\"truncating {pct_changed:.4f}% of prices > {p_upper_trunc}\")\n",
    "    p.loc[p > p_upper_trunc] = p_upper_trunc\n",
    "    pct_changed = 100 * len(p.loc[p < p_lower_trunc]) / len(p)\n",
    "    print(f\"truncating {pct_changed:.4f}% of prices < {p_lower_trunc}\")\n",
    "    p.loc[p < p_lower_trunc] = p_lower_trunc\n",
    "    # scale prices to min ticks size differences\n",
    "    p /= 100\n",
    "    return p\n",
    "\n",
    "def pre_proc_lobster(\n",
    "        m,\n",
    "        b,\n",
    "        size_bins=None,\n",
    "        p_lower_trunc=-1000,\n",
    "        p_upper_trunc=1300,\n",
    "        allowed_event_types=[1,2,3,4],\n",
    "        one_hot_enc=True\n",
    "    ):\n",
    "    # filter out only allowed event types ...\n",
    "    m = m.loc[m.event_type.isin(allowed_event_types)].copy()\n",
    "    # ... and corresponding book changes\n",
    "    b = b.loc[m.index]\n",
    "    \n",
    "    # group sizes by given bins\n",
    "    if size_bins is not None:\n",
    "        _take_closest = functools.partial(take_closest, size_bins)\n",
    "        m['size'] = m['size'].apply(_take_closest)\n",
    "\n",
    "    # round prices to given decimal (-1 for 10 ticks)\n",
    "    #m['price'] = np.around(m['price'], price_round_to)\n",
    "\n",
    "    # (previous) best bid\n",
    "    bb = book.iloc[:, 2].shift()\n",
    "    m['price'] = _preproc_prices(m['price'], bb, p_lower_trunc, p_upper_trunc)\n",
    "\n",
    "    # remove first row\n",
    "    m = m.iloc[1:]\n",
    "    b = b.iloc[1:]\n",
    "\n",
    "    # encode features\n",
    "    #m['event_type'], _ = encode_feature(m['event_type'], allowed_event_types, one_hot=one_hot_enc)\n",
    "    #m['direction'], _ = encode_feature(m['size'], [-1, 1], one_hot=one_hot_enc)\n",
    "    #m['size'], _ = encode_feature(m['size'], sorted(m['size'].unique()), one_hot=one_hot_enc)\n",
    "    #m['price'], _ = encode_feature(m['price'], sorted(m['price'].unique()), one_hot=one_hot_enc)\n",
    "    m['event_type'] = relabel_series(m['event_type'], allowed_event_types)\n",
    "    m['direction'] = relabel_series(m['direction'], [-1, 1])\n",
    "    m['size'] = relabel_series(m['size'])\n",
    "    m['price'] = relabel_series(m['price'])\n",
    "\n",
    "    return m, b\n",
    "\n",
    "_='''\n",
    "def _encode_feature(\n",
    "        s: pd.Series, \n",
    "        categories: Union[str, list] = 'auto',\n",
    "        one_hot: bool = True  # one_hot or ordinal\n",
    "    ):\n",
    "    if one_hot:\n",
    "        enc = OneHotEncoder(categories=[categories])\n",
    "    else:\n",
    "        enc = OrdinalEncoder(categories=[categories])\n",
    "    s = s.values.reshape((-1,1))\n",
    "    enc = enc.fit(s)\n",
    "    return enc.transform(s), enc\n",
    "'''"
   ]
  },
  {
   "cell_type": "code",
   "execution_count": 283,
   "metadata": {},
   "outputs": [
    {
     "name": "stdout",
     "output_type": "stream",
     "text": [
      "/nfs/home/peern/LOBS5/data/raw/GOOG_2023-01-30_34200000_57600000_message_10.csv\n"
     ]
    },
    {
     "name": "stderr",
     "output_type": "stream",
     "text": [
      "/nfs/home/peern/rlenv/lib/python3.8/site-packages/IPython/core/interactiveshell.py:3553: DtypeWarning: Columns (6) have mixed types.Specify dtype option on import or set low_memory=False.\n",
      "  exec(code_obj, self.user_global_ns, self.user_ns)\n",
      "/nfs/home/peern/rlenv/lib/python3.8/site-packages/pandas/util/_decorators.py:311: ParserWarning: Length of header or names does not match length of data. This leads to a loss of data with index_col=False.\n",
      "  return func(*args, **kwargs)\n"
     ]
    },
    {
     "name": "stdout",
     "output_type": "stream",
     "text": [
      "truncating 0.0043% of prices > 1300\n",
      "truncating 0.0038% of prices < -1000\n",
      "/nfs/home/peern/LOBS5/data/raw/GOOG_2023-01-31_34200000_57600000_message_10.csv\n",
      "truncating 0.0046% of prices > 1300\n",
      "truncating 0.0013% of prices < -1000\n"
     ]
    }
   ],
   "source": [
    "size_bins = list(range(1,50,1))\n",
    "size_bins.extend(list(range(50,100,5)))\n",
    "size_bins.extend(list(range(100,501,100)))\n",
    "\n",
    "assert len(message_files) == len(book_files)\n",
    "for m_f, b_f in zip(message_files, book_files):\n",
    "    print(m_f)\n",
    "    messages = pd.read_csv(\n",
    "        m_f,\n",
    "        names=['time', 'event_type', 'order_id', 'size', 'price', 'direction'],\n",
    "        index_col=False)\n",
    "\n",
    "    book = pd.read_csv(\n",
    "        b_f,\n",
    "        index_col=False,\n",
    "        header=None\n",
    "    )\n",
    "\n",
    "    m_, b_ = pre_proc_lobster(messages, book, size_bins, allowed_event_types=[1,4])\n",
    "\n",
    "    # save processed message and book\n",
    "    m_path = save_dir + m_f.rsplit('/', maxsplit=1)[-1][:-4] + '_proc.csv'\n",
    "    b_path = save_dir + b_f.rsplit('/', maxsplit=1)[-1][:-4] + '_proc.csv'\n",
    "    m_.to_csv(m_path, index=False, header=False)\n",
    "    b_.to_csv(b_path, index=False, header=False)"
   ]
  },
  {
   "cell_type": "code",
   "execution_count": 284,
   "metadata": {},
   "outputs": [
    {
     "data": {
      "text/html": [
       "<div>\n",
       "<style scoped>\n",
       "    .dataframe tbody tr th:only-of-type {\n",
       "        vertical-align: middle;\n",
       "    }\n",
       "\n",
       "    .dataframe tbody tr th {\n",
       "        vertical-align: top;\n",
       "    }\n",
       "\n",
       "    .dataframe thead th {\n",
       "        text-align: right;\n",
       "    }\n",
       "</style>\n",
       "<table border=\"1\" class=\"dataframe\">\n",
       "  <thead>\n",
       "    <tr style=\"text-align: right;\">\n",
       "      <th></th>\n",
       "      <th>time</th>\n",
       "      <th>event_type</th>\n",
       "      <th>order_id</th>\n",
       "      <th>size</th>\n",
       "      <th>price</th>\n",
       "      <th>direction</th>\n",
       "    </tr>\n",
       "  </thead>\n",
       "  <tbody>\n",
       "    <tr>\n",
       "      <th>2</th>\n",
       "      <td>34200.005789</td>\n",
       "      <td>0</td>\n",
       "      <td>31920330</td>\n",
       "      <td>63</td>\n",
       "      <td>22.0</td>\n",
       "      <td>0</td>\n",
       "    </tr>\n",
       "    <tr>\n",
       "      <th>3</th>\n",
       "      <td>34200.006397</td>\n",
       "      <td>0</td>\n",
       "      <td>31921510</td>\n",
       "      <td>63</td>\n",
       "      <td>1.0</td>\n",
       "      <td>1</td>\n",
       "    </tr>\n",
       "    <tr>\n",
       "      <th>5</th>\n",
       "      <td>34200.006966</td>\n",
       "      <td>0</td>\n",
       "      <td>31922478</td>\n",
       "      <td>21</td>\n",
       "      <td>7.0</td>\n",
       "      <td>1</td>\n",
       "    </tr>\n",
       "    <tr>\n",
       "      <th>6</th>\n",
       "      <td>34200.009470</td>\n",
       "      <td>0</td>\n",
       "      <td>31926114</td>\n",
       "      <td>59</td>\n",
       "      <td>5.0</td>\n",
       "      <td>1</td>\n",
       "    </tr>\n",
       "    <tr>\n",
       "      <th>10</th>\n",
       "      <td>34200.016780</td>\n",
       "      <td>0</td>\n",
       "      <td>31937762</td>\n",
       "      <td>21</td>\n",
       "      <td>5.0</td>\n",
       "      <td>1</td>\n",
       "    </tr>\n",
       "    <tr>\n",
       "      <th>...</th>\n",
       "      <td>...</td>\n",
       "      <td>...</td>\n",
       "      <td>...</td>\n",
       "      <td>...</td>\n",
       "      <td>...</td>\n",
       "      <td>...</td>\n",
       "    </tr>\n",
       "    <tr>\n",
       "      <th>1836147</th>\n",
       "      <td>57599.994821</td>\n",
       "      <td>0</td>\n",
       "      <td>727635970</td>\n",
       "      <td>63</td>\n",
       "      <td>11.0</td>\n",
       "      <td>1</td>\n",
       "    </tr>\n",
       "    <tr>\n",
       "      <th>1836148</th>\n",
       "      <td>57599.994850</td>\n",
       "      <td>0</td>\n",
       "      <td>727635974</td>\n",
       "      <td>63</td>\n",
       "      <td>10.0</td>\n",
       "      <td>1</td>\n",
       "    </tr>\n",
       "    <tr>\n",
       "      <th>1836150</th>\n",
       "      <td>57599.994852</td>\n",
       "      <td>0</td>\n",
       "      <td>727635978</td>\n",
       "      <td>63</td>\n",
       "      <td>10.0</td>\n",
       "      <td>1</td>\n",
       "    </tr>\n",
       "    <tr>\n",
       "      <th>1836151</th>\n",
       "      <td>57599.997158</td>\n",
       "      <td>0</td>\n",
       "      <td>727636550</td>\n",
       "      <td>63</td>\n",
       "      <td>10.0</td>\n",
       "      <td>1</td>\n",
       "    </tr>\n",
       "    <tr>\n",
       "      <th>1836154</th>\n",
       "      <td>57599.999708</td>\n",
       "      <td>0</td>\n",
       "      <td>727638486</td>\n",
       "      <td>59</td>\n",
       "      <td>7.0</td>\n",
       "      <td>1</td>\n",
       "    </tr>\n",
       "  </tbody>\n",
       "</table>\n",
       "<p>943749 rows × 6 columns</p>\n",
       "</div>"
      ],
      "text/plain": [
       "                 time  event_type   order_id  size  price  direction\n",
       "2        34200.005789           0   31920330    63   22.0          0\n",
       "3        34200.006397           0   31921510    63    1.0          1\n",
       "5        34200.006966           0   31922478    21    7.0          1\n",
       "6        34200.009470           0   31926114    59    5.0          1\n",
       "10       34200.016780           0   31937762    21    5.0          1\n",
       "...               ...         ...        ...   ...    ...        ...\n",
       "1836147  57599.994821           0  727635970    63   11.0          1\n",
       "1836148  57599.994850           0  727635974    63   10.0          1\n",
       "1836150  57599.994852           0  727635978    63   10.0          1\n",
       "1836151  57599.997158           0  727636550    63   10.0          1\n",
       "1836154  57599.999708           0  727638486    59    7.0          1\n",
       "\n",
       "[943749 rows x 6 columns]"
      ]
     },
     "execution_count": 284,
     "metadata": {},
     "output_type": "execute_result"
    }
   ],
   "source": [
    "m_"
   ]
  },
  {
   "cell_type": "code",
   "execution_count": 295,
   "metadata": {},
   "outputs": [
    {
     "data": {
      "text/plain": [
       "0.0        105\n",
       "1.0      13706\n",
       "2.0       9152\n",
       "3.0      15134\n",
       "4.0      21622\n",
       "5.0      28293\n",
       "6.0      34845\n",
       "7.0      26895\n",
       "8.0      40070\n",
       "9.0      57480\n",
       "10.0    195918\n",
       "11.0    176574\n",
       "12.0    110898\n",
       "13.0     60406\n",
       "14.0     35032\n",
       "15.0     31865\n",
       "16.0     23512\n",
       "17.0     21372\n",
       "18.0     12993\n",
       "19.0     11104\n",
       "20.0      9970\n",
       "21.0      6183\n",
       "22.0       410\n",
       "23.0       210\n",
       "Name: price, dtype: int64"
      ]
     },
     "execution_count": 295,
     "metadata": {},
     "output_type": "execute_result"
    }
   ],
   "source": [
    "m_['price'].value_counts().sort_index()"
   ]
  },
  {
   "cell_type": "code",
   "execution_count": 213,
   "metadata": {},
   "outputs": [
    {
     "data": {
      "text/plain": [
       "-10.0       209\n",
       "-9.0      23289\n",
       "-8.0      12126\n",
       "-7.0      13809\n",
       "-6.0      29999\n",
       "-5.0      51072\n",
       "-4.0      48074\n",
       "-3.0      47813\n",
       "-2.0      57652\n",
       "-1.0      74236\n",
       " 0.0     245298\n",
       " 1.0     190922\n",
       " 2.0     128258\n",
       " 3.0      49788\n",
       " 4.0      31958\n",
       " 5.0      33535\n",
       " 6.0      32617\n",
       " 7.0      20158\n",
       " 8.0      25511\n",
       " 9.0      10139\n",
       " 10.0      9876\n",
       " 11.0     11180\n",
       " 12.0       251\n",
       " 13.0       174\n",
       "Name: price, dtype: int64"
      ]
     },
     "execution_count": 213,
     "metadata": {},
     "output_type": "execute_result"
    }
   ],
   "source": [
    "df_.price.value_counts().sort_index()"
   ]
  },
  {
   "cell_type": "code",
   "execution_count": 167,
   "metadata": {},
   "outputs": [
    {
     "data": {
      "text/plain": [
       "<AxesSubplot:>"
      ]
     },
     "execution_count": 167,
     "metadata": {},
     "output_type": "execute_result"
    },
    {
     "data": {
      "image/png": "[encoded data removed]",
      "text/plain": [
       "<Figure size 432x288 with 1 Axes>"
      ]
     },
     "metadata": {
      "needs_background": "light"
     },
     "output_type": "display_data"
    }
   ],
   "source": [
    "# what's the approx spread\n",
    "(book.iloc[:, 0] - book.iloc[:, 2]).plot()"
   ]
  },
  {
   "cell_type": "code",
   "execution_count": 169,
   "metadata": {},
   "outputs": [
    {
     "data": {
      "text/plain": [
       "<AxesSubplot:ylabel='Frequency'>"
      ]
     },
     "execution_count": 169,
     "metadata": {},
     "output_type": "execute_result"
    },
    {
     "data": {
      "image/png": "[encoded data removed]",
      "text/plain": [
       "<Figure size 432x288 with 1 Axes>"
      ]
     },
     "metadata": {
      "needs_background": "light"
     },
     "output_type": "display_data"
    }
   ],
   "source": [
    "(book.iloc[:, 0] - book.iloc[:, 2]).plot(kind='hist')"
   ]
  },
  {
   "cell_type": "code",
   "execution_count": 165,
   "metadata": {},
   "outputs": [
    {
     "data": {
      "text/plain": [
       "0.9954228384103818"
      ]
     },
     "execution_count": 165,
     "metadata": {},
     "output_type": "execute_result"
    }
   ],
   "source": [
    "# bid side: best - L10\n",
    "# min tick is 100, hence min 9-level diff is 900\n",
    "# <= 1000 covers 99.54%\n",
    "\n",
    "ten_level_diff = (book.iloc[:, 2] - book.iloc[:, -2])\n",
    "len(ten_level_diff.loc[ten_level_diff <= 1000]) / len(ten_level_diff)"
   ]
  },
  {
   "cell_type": "code",
   "execution_count": 180,
   "metadata": {},
   "outputs": [
    {
     "data": {
      "text/plain": [
       "0.9949025342997566"
      ]
     },
     "execution_count": 180,
     "metadata": {},
     "output_type": "execute_result"
    }
   ],
   "source": [
    "# ask side: L10 - best BID (i.e. including spread)\n",
    "# min tick is 100, hence min 10-level diff is 1000\n",
    "# <= 1100 covers 95.85% on ask side\n",
    "# <= 1400 covers 99.49% on ask side --> use\n",
    "\n",
    "ten_level_diff = (book.iloc[:, 2] - book.iloc[:, -4])\n",
    "len(ten_level_diff.loc[ten_level_diff >= -1400]) / len(ten_level_diff)"
   ]
  },
  {
   "cell_type": "code",
   "execution_count": 147,
   "metadata": {},
   "outputs": [
    {
     "data": {
      "text/plain": [
       "<AxesSubplot:ylabel='Frequency'>"
      ]
     },
     "execution_count": 147,
     "metadata": {},
     "output_type": "execute_result"
    },
    {
     "data": {
      "image/png": "[encoded data removed]",
      "text/plain": [
       "<Figure size 432x288 with 1 Axes>"
      ]
     },
     "metadata": {
      "needs_background": "light"
     },
     "output_type": "display_data"
    }
   ],
   "source": [
    "# what's the approx price difference between 10 levels\n",
    "(book.iloc[10000:, 2] - book.iloc[10000:, -2]).plot(kind='hist', bins=100)"
   ]
  },
  {
   "cell_type": "code",
   "execution_count": 129,
   "metadata": {},
   "outputs": [
    {
     "data": {
      "text/plain": [
       "<AxesSubplot:ylabel='Frequency'>"
      ]
     },
     "execution_count": 129,
     "metadata": {},
     "output_type": "execute_result"
    },
    {
     "data": {
      "image/png": "[encoded data removed]",
      "text/plain": [
       "<Figure size 432x288 with 1 Axes>"
      ]
     },
     "metadata": {
      "needs_background": "light"
     },
     "output_type": "display_data"
    }
   ],
   "source": [
    "df_.price.plot(kind='hist')"
   ]
  },
  {
   "cell_type": "code",
   "execution_count": 104,
   "metadata": {},
   "outputs": [
    {
     "data": {
      "text/html": [
       "<div>\n",
       "<style scoped>\n",
       "    .dataframe tbody tr th:only-of-type {\n",
       "        vertical-align: middle;\n",
       "    }\n",
       "\n",
       "    .dataframe tbody tr th {\n",
       "        vertical-align: top;\n",
       "    }\n",
       "\n",
       "    .dataframe thead th {\n",
       "        text-align: right;\n",
       "    }\n",
       "</style>\n",
       "<table border=\"1\" class=\"dataframe\">\n",
       "  <thead>\n",
       "    <tr style=\"text-align: right;\">\n",
       "      <th></th>\n",
       "      <th>time</th>\n",
       "      <th>event_type</th>\n",
       "      <th>order_id</th>\n",
       "      <th>size</th>\n",
       "      <th>price</th>\n",
       "      <th>direction</th>\n",
       "    </tr>\n",
       "  </thead>\n",
       "  <tbody>\n",
       "    <tr>\n",
       "      <th>1</th>\n",
       "      <td>34200.005721</td>\n",
       "      <td>0</td>\n",
       "      <td>31920154</td>\n",
       "      <td>0</td>\n",
       "      <td>0</td>\n",
       "      <td>0</td>\n",
       "    </tr>\n",
       "    <tr>\n",
       "      <th>2</th>\n",
       "      <td>34200.005789</td>\n",
       "      <td>0</td>\n",
       "      <td>31920330</td>\n",
       "      <td>1</td>\n",
       "      <td>1</td>\n",
       "      <td>1</td>\n",
       "    </tr>\n",
       "    <tr>\n",
       "      <th>3</th>\n",
       "      <td>34200.006397</td>\n",
       "      <td>0</td>\n",
       "      <td>31921510</td>\n",
       "      <td>1</td>\n",
       "      <td>2</td>\n",
       "      <td>0</td>\n",
       "    </tr>\n",
       "    <tr>\n",
       "      <th>5</th>\n",
       "      <td>34200.006966</td>\n",
       "      <td>0</td>\n",
       "      <td>31922478</td>\n",
       "      <td>2</td>\n",
       "      <td>0</td>\n",
       "      <td>0</td>\n",
       "    </tr>\n",
       "    <tr>\n",
       "      <th>6</th>\n",
       "      <td>34200.009470</td>\n",
       "      <td>0</td>\n",
       "      <td>31926114</td>\n",
       "      <td>3</td>\n",
       "      <td>3</td>\n",
       "      <td>0</td>\n",
       "    </tr>\n",
       "    <tr>\n",
       "      <th>...</th>\n",
       "      <td>...</td>\n",
       "      <td>...</td>\n",
       "      <td>...</td>\n",
       "      <td>...</td>\n",
       "      <td>...</td>\n",
       "      <td>...</td>\n",
       "    </tr>\n",
       "    <tr>\n",
       "      <th>1836147</th>\n",
       "      <td>57599.994821</td>\n",
       "      <td>0</td>\n",
       "      <td>727635970</td>\n",
       "      <td>1</td>\n",
       "      <td>219</td>\n",
       "      <td>0</td>\n",
       "    </tr>\n",
       "    <tr>\n",
       "      <th>1836148</th>\n",
       "      <td>57599.994850</td>\n",
       "      <td>0</td>\n",
       "      <td>727635974</td>\n",
       "      <td>1</td>\n",
       "      <td>219</td>\n",
       "      <td>0</td>\n",
       "    </tr>\n",
       "    <tr>\n",
       "      <th>1836150</th>\n",
       "      <td>57599.994852</td>\n",
       "      <td>0</td>\n",
       "      <td>727635978</td>\n",
       "      <td>1</td>\n",
       "      <td>219</td>\n",
       "      <td>0</td>\n",
       "    </tr>\n",
       "    <tr>\n",
       "      <th>1836151</th>\n",
       "      <td>57599.997158</td>\n",
       "      <td>0</td>\n",
       "      <td>727636550</td>\n",
       "      <td>1</td>\n",
       "      <td>219</td>\n",
       "      <td>0</td>\n",
       "    </tr>\n",
       "    <tr>\n",
       "      <th>1836154</th>\n",
       "      <td>57599.999708</td>\n",
       "      <td>0</td>\n",
       "      <td>727638486</td>\n",
       "      <td>3</td>\n",
       "      <td>217</td>\n",
       "      <td>0</td>\n",
       "    </tr>\n",
       "  </tbody>\n",
       "</table>\n",
       "<p>943750 rows × 6 columns</p>\n",
       "</div>"
      ],
      "text/plain": [
       "                 time  event_type   order_id  size  price  direction\n",
       "1        34200.005721           0   31920154     0      0          0\n",
       "2        34200.005789           0   31920330     1      1          1\n",
       "3        34200.006397           0   31921510     1      2          0\n",
       "5        34200.006966           0   31922478     2      0          0\n",
       "6        34200.009470           0   31926114     3      3          0\n",
       "...               ...         ...        ...   ...    ...        ...\n",
       "1836147  57599.994821           0  727635970     1    219          0\n",
       "1836148  57599.994850           0  727635974     1    219          0\n",
       "1836150  57599.994852           0  727635978     1    219          0\n",
       "1836151  57599.997158           0  727636550     1    219          0\n",
       "1836154  57599.999708           0  727638486     3    217          0\n",
       "\n",
       "[943750 rows x 6 columns]"
      ]
     },
     "execution_count": 104,
     "metadata": {},
     "output_type": "execute_result"
    }
   ],
   "source": [
    "normalize_messages(df_)"
   ]
  },
  {
   "cell_type": "code",
   "execution_count": null,
   "metadata": {},
   "outputs": [],
   "source": [
    "# size <= 500 rough 99% of data\n",
    "#      <= 100 85% of orders\n",
    "# propose encoding: every size until 50, bin 5 until 100, then round to every x100\n",
    "\n",
    "# price: ultimately, encode relative to mid-price at the time (not available in messages only)\n",
    "#        for now, just scale absolute price, and bin 10 ticks in distr.\n",
    "\n",
    "# order id: ignore for now"
   ]
  },
  {
   "attachments": {},
   "cell_type": "markdown",
   "metadata": {},
   "source": [
    "order types: start with 1, 4, i.e. ignore referential orders (cancel, delete) and hidden\n",
    "\n",
    "1: Submission of a new limit order\n",
    "\n",
    "2: Cancellation (partial deletion of a limit order)\n",
    "\n",
    "3: Deletion (total deletion of a limit order)\n",
    "\n",
    "4: Execution of a visible limit order\n",
    "\n",
    "5: Execution of a hidden limit order\n",
    "\n",
    "6: Indicates a cross trade, e.g. auction trade\n",
    "\n",
    "7: Trading halt indicator (detailed information below)"
   ]
  },
  {
   "cell_type": "code",
   "execution_count": 42,
   "metadata": {},
   "outputs": [],
   "source": [
    "window_size = 500\n",
    "max_deviations = df.price.rolling(window=window_size).apply(lambda seg: (seg - seg.iloc[0]).max())"
   ]
  },
  {
   "cell_type": "code",
   "execution_count": 52,
   "metadata": {},
   "outputs": [],
   "source": [
    "window_size = 5000\n",
    "max_deviations_long = df.price.rolling(window=window_size).apply(lambda seg: (seg - seg.iloc[0]).max())"
   ]
  },
  {
   "cell_type": "code",
   "execution_count": 48,
   "metadata": {},
   "outputs": [
    {
     "data": {
      "text/plain": [
       "<AxesSubplot:ylabel='Frequency'>"
      ]
     },
     "execution_count": 48,
     "metadata": {},
     "output_type": "execute_result"
    },
    {
     "data": {
      "image/png": "[encoded data removed]",
      "text/plain": [
       "<Figure size 432x288 with 1 Axes>"
      ]
     },
     "metadata": {
      "needs_background": "light"
     },
     "output_type": "display_data"
    }
   ],
   "source": [
    "max_deviations.plot(kind='hist')"
   ]
  },
  {
   "cell_type": "code",
   "execution_count": 53,
   "metadata": {},
   "outputs": [
    {
     "data": {
      "text/plain": [
       "<AxesSubplot:ylabel='Frequency'>"
      ]
     },
     "execution_count": 53,
     "metadata": {},
     "output_type": "execute_result"
    },
    {
     "data": {
      "image/png": "[encoded data removed]",
      "text/plain": [
       "<Figure size 432x288 with 1 Axes>"
      ]
     },
     "metadata": {
      "needs_background": "light"
     },
     "output_type": "display_data"
    }
   ],
   "source": [
    "max_deviations_long.plot(kind='hist')"
   ]
  },
  {
   "cell_type": "code",
   "execution_count": 39,
   "metadata": {},
   "outputs": [
    {
     "data": {
      "text/plain": [
       "count    1.836155e+06\n",
       "mean     9.885920e+05\n",
       "std      4.166003e+03\n",
       "min      9.769000e+05\n",
       "25%      9.861000e+05\n",
       "50%      9.880000e+05\n",
       "75%      9.905000e+05\n",
       "max      1.000000e+06\n",
       "Name: price, dtype: float64"
      ]
     },
     "execution_count": 39,
     "metadata": {},
     "output_type": "execute_result"
    }
   ],
   "source": [
    "df['price'].describe()"
   ]
  },
  {
   "cell_type": "code",
   "execution_count": 19,
   "metadata": {},
   "outputs": [
    {
     "data": {
      "text/plain": [
       "<AxesSubplot:>"
      ]
     },
     "execution_count": 19,
     "metadata": {},
     "output_type": "execute_result"
    },
    {
     "data": {
      "image/png": "[encoded data removed]",
      "text/plain": [
       "<Figure size 432x288 with 1 Axes>"
      ]
     },
     "metadata": {
      "needs_background": "light"
     },
     "output_type": "display_data"
    }
   ],
   "source": [
    "df['size'].plot(kind='box')"
   ]
  },
  {
   "cell_type": "code",
   "execution_count": 37,
   "metadata": {},
   "outputs": [
    {
     "data": {
      "text/plain": [
       "0.8534208713316687"
      ]
     },
     "execution_count": 37,
     "metadata": {},
     "output_type": "execute_result"
    }
   ],
   "source": [
    "len(df.loc[df['size'] <= 100]) / len(df)"
   ]
  },
  {
   "cell_type": "code",
   "execution_count": 31,
   "metadata": {},
   "outputs": [
    {
     "data": {
      "text/plain": [
       "<AxesSubplot:>"
      ]
     },
     "execution_count": 31,
     "metadata": {},
     "output_type": "execute_result"
    },
    {
     "data": {
      "image/png": "[encoded data removed]",
      "text/plain": [
       "<Figure size 432x288 with 1 Axes>"
      ]
     },
     "metadata": {
      "needs_background": "light"
     },
     "output_type": "display_data"
    }
   ],
   "source": [
    "df.loc[df['size'] < 500, 'size'].hist(histtype='step', bins=20)"
   ]
  },
  {
   "cell_type": "code",
   "execution_count": 38,
   "metadata": {},
   "outputs": [
    {
     "data": {
      "text/plain": [
       "<AxesSubplot:>"
      ]
     },
     "execution_count": 38,
     "metadata": {},
     "output_type": "execute_result"
    },
    {
     "data": {
      "image/png": "[encoded data removed]",
      "text/plain": [
       "<Figure size 432x288 with 1 Axes>"
      ]
     },
     "metadata": {
      "needs_background": "light"
     },
     "output_type": "display_data"
    }
   ],
   "source": [
    "df.loc[df['size'] < 100, 'size'].hist(histtype='step', bins=20)"
   ]
  },
  {
   "cell_type": "code",
   "execution_count": null,
   "metadata": {},
   "outputs": [],
   "source": [
    "args = SimpleNamespace(\n",
    "    d_model = 128,  # Number of features, i.e. H, dimension of layer inputs/outputs\n",
    "    n_layers = 6,  # Number of layers in the network\n",
    "    activation_fn = 'half_glu1', # \n",
    "    p_dropout = 0.,  # probability of dropout\n",
    "    mode = 'pool',  # options: (for classification tasks) pool: mean pooling \\\\ last: take last element\n",
    "    prenorm = True,  # True: use prenorm, False: use postnorm\n",
    "    batchnorm = True,  # True: use batchnorm, False: use layernorm\n",
    "    bn_momentum = 0.95,  # batchnorm momentum\n",
    ")\n",
    "\n",
    "d_output = 2 + 7 + 6 # categorical: 2, 7, contin: 6"
   ]
  },
  {
   "cell_type": "code",
   "execution_count": null,
   "metadata": {},
   "outputs": [],
   "source": []
  },
  {
   "cell_type": "code",
   "execution_count": null,
   "metadata": {},
   "outputs": [],
   "source": [
    "ssm_init_fn = init_S5SSM(\n",
    "    H=args.d_model,\n",
    "    P=ssm_size,\n",
    "    Lambda_re_init=Lambda.real,\n",
    "    Lambda_im_init=Lambda.imag,\n",
    "    V=V,\n",
    "    Vinv=Vinv,\n",
    "    C_init=args.C_init,\n",
    "    discretization=args.discretization,\n",
    "    dt_min=args.dt_min,\n",
    "    dt_max=args.dt_max,\n",
    "    conj_sym=args.conj_sym,\n",
    "    clip_eigs=args.clip_eigs,\n",
    "    bidirectional=args.bidirectional)"
   ]
  },
  {
   "cell_type": "code",
   "execution_count": null,
   "metadata": {},
   "outputs": [],
   "source": [
    "model_cls = partial(\n",
    "    LobPredModel,\n",
    "    ssm=ssm_init_fn,\n",
    "    d_output=d_output,\n",
    "    d_model=args.d_model,\n",
    "    n_layers=args.n_layers,\n",
    "    padded=False,\n",
    "    activation=args.activation_fn,\n",
    "    dropout=args.p_dropout,\n",
    "    mode=args.mode,\n",
    "    prenorm=args.prenorm,\n",
    "    batchnorm=args.batchnorm,\n",
    "    bn_momentum=args.bn_momentum,\n",
    ")"
   ]
  },
  {
   "cell_type": "code",
   "execution_count": null,
   "metadata": {},
   "outputs": [],
   "source": []
  },
  {
   "cell_type": "code",
   "execution_count": 296,
   "metadata": {},
   "outputs": [],
   "source": [
    "from lobster_dataloader import LOBSTER_Dataset"
   ]
  },
  {
   "cell_type": "code",
   "execution_count": 297,
   "metadata": {},
   "outputs": [],
   "source": [
    "messages = sorted(glob(save_dir + '*message*.csv'))"
   ]
  },
  {
   "cell_type": "code",
   "execution_count": 298,
   "metadata": {},
   "outputs": [
    {
     "data": {
      "text/plain": [
       "['/nfs/home/peern/LOBS5/data/GOOG_2023-01-30_34200000_57600000_message_10_proc.csv',\n",
       " '/nfs/home/peern/LOBS5/data/GOOG_2023-01-31_34200000_57600000_message_10_proc.csv']"
      ]
     },
     "execution_count": 298,
     "metadata": {},
     "output_type": "execute_result"
    }
   ],
   "source": [
    "messages"
   ]
  },
  {
   "cell_type": "code",
   "execution_count": 328,
   "metadata": {},
   "outputs": [],
   "source": [
    "d = LOBSTER_Dataset(message_files=messages, seq_len=500)"
   ]
  },
  {
   "cell_type": "code",
   "execution_count": 331,
   "metadata": {},
   "outputs": [
    {
     "data": {
      "text/plain": [
       "Array([[3.4203109e+04, 1.0000000e+00, 0.0000000e+00, ..., 0.0000000e+00,\n",
       "        0.0000000e+00, 0.0000000e+00],\n",
       "       [3.4203113e+04, 1.0000000e+00, 0.0000000e+00, ..., 0.0000000e+00,\n",
       "        0.0000000e+00, 0.0000000e+00],\n",
       "       [3.4203133e+04, 1.0000000e+00, 0.0000000e+00, ..., 0.0000000e+00,\n",
       "        0.0000000e+00, 1.0000000e+00],\n",
       "       ...,\n",
       "       [3.4205500e+04, 0.0000000e+00, 1.0000000e+00, ..., 0.0000000e+00,\n",
       "        0.0000000e+00, 1.0000000e+00],\n",
       "       [3.4205500e+04, 0.0000000e+00, 1.0000000e+00, ..., 0.0000000e+00,\n",
       "        0.0000000e+00, 1.0000000e+00],\n",
       "       [3.4205500e+04, 0.0000000e+00, 1.0000000e+00, ..., 0.0000000e+00,\n",
       "        0.0000000e+00, 1.0000000e+00]], dtype=float32)"
      ]
     },
     "execution_count": 331,
     "metadata": {},
     "output_type": "execute_result"
    }
   ],
   "source": [
    "d[1000]"
   ]
  },
  {
   "cell_type": "code",
   "execution_count": null,
   "metadata": {},
   "outputs": [],
   "source": []
  }
 ],
 "metadata": {
  "kernelspec": {
   "display_name": "rlenv",
   "language": "python",
   "name": "rlenv"
  },
  "language_info": {
   "codemirror_mode": {
    "name": "ipython",
    "version": 3
   },
   "file_extension": ".py",
   "mimetype": "text/x-python",
   "name": "python",
   "nbconvert_exporter": "python",
   "pygments_lexer": "ipython3",
   "version": "3.8.10"
  },
  "orig_nbformat": 4,
  "vscode": {
   "interpreter": {
    "hash": "916dbcbb3f70747c44a77c7bcd40155683ae19c65e1c03b4aa3499c5328201f1"
   }
  }
 },
 "nbformat": 4,
 "nbformat_minor": 2
}
