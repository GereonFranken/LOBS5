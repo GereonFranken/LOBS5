{
 "cells": [
  {
   "cell_type": "code",
   "execution_count": 2,
   "metadata": {},
   "outputs": [],
   "source": [
    "import numpy as np\n",
    "import jax.numpy as jnp\n",
    "import pandas as pd\n",
    "from glob import glob\n",
    "from functools import partial\n",
    "from types import SimpleNamespace\n",
    "import functools\n",
    "from sklearn.preprocessing import OrdinalEncoder, OneHotEncoder\n",
    "from typing import Union\n",
    "\n",
    "from preproc import process_message_files, process_book_files\n",
    "from lob_seq_model import LobPredModel\n",
    "from encoding import Vocab, Message_Tokenizer\n",
    "from lobster_dataloader import LOBSTER_Dataset, LOBSTER_Subset, LOBSTER_Sampler, LOBSTER\n",
    "import time\n",
    "\n",
    "from jax.nn import one_hot\n",
    "import torch\n",
    "from tqdm.notebook import tqdm\n",
    "\n",
    "from encoding import Message_Tokenizer, Vocab"
   ]
  },
  {
   "cell_type": "code",
   "execution_count": 3,
   "metadata": {},
   "outputs": [],
   "source": [
    "%load_ext autoreload\n",
    "%autoreload 2"
   ]
  },
  {
   "cell_type": "code",
   "execution_count": 6,
   "metadata": {},
   "outputs": [],
   "source": [
    "%load_ext snakeviz"
   ]
  },
  {
   "cell_type": "code",
   "execution_count": 16,
   "metadata": {},
   "outputs": [],
   "source": [
    "# data_dir = '/nfs/home/peern/LOBS5/data/raw/'\n",
    "data_dir = '/nfs/home/peern/LOBS5/data/raw_new/'\n",
    "save_dir = '/nfs/home/peern/LOBS5/data/'"
   ]
  },
  {
   "cell_type": "code",
   "execution_count": 19,
   "metadata": {},
   "outputs": [
    {
     "name": "stderr",
     "output_type": "stream",
     "text": [
      "/nfs/home/peern/rlenv/lib/python3.8/site-packages/pandas/util/_decorators.py:311: ParserWarning: Length of header or names does not match length of data. This leads to a loss of data with index_col=False.\n",
      "  return func(*args, **kwargs)\n"
     ]
    }
   ],
   "source": [
    "# example loading\n",
    "\n",
    "message_files = sorted(glob(data_dir + '*message*.csv'))\n",
    "book_files = sorted(glob(data_dir + '*orderbook*.csv'))\n",
    "\n",
    "m = pd.read_csv(\n",
    "    message_files[0],\n",
    "    names=['time', 'event_type', 'order_id', 'size', 'price', 'direction'],\n",
    "    index_col=False)\n",
    "\n",
    "b = pd.read_csv(\n",
    "    book_files[0],\n",
    "    index_col=False,\n",
    "    header=None\n",
    ")"
   ]
  },
  {
   "cell_type": "code",
   "execution_count": 99,
   "metadata": {},
   "outputs": [],
   "source": [
    "#b_proc = np.load('/nfs/home/peern/LOBS5/data/test/GOOG_2022-07-01_34200000_57600000_orderbook_10_proc.npy')\n",
    "b_proc = np.load('/nfs/home/peern/LOBS5/data/test/GOOG_2023-01-04_34200000_57600000_orderbook_10_proc.npy')\n"
   ]
  },
  {
   "cell_type": "code",
   "execution_count": 100,
   "metadata": {},
   "outputs": [
    {
     "data": {
      "text/plain": [
       "(3179086, 1001)"
      ]
     },
     "execution_count": 100,
     "metadata": {},
     "output_type": "execute_result"
    }
   ],
   "source": [
    "b_proc.shape"
   ]
  },
  {
   "cell_type": "code",
   "execution_count": 101,
   "metadata": {},
   "outputs": [],
   "source": [
    "b_proc = pd.DataFrame(b_proc)"
   ]
  },
  {
   "cell_type": "code",
   "execution_count": 102,
   "metadata": {},
   "outputs": [
    {
     "data": {
      "text/plain": [
       "0       0\n",
       "1       0\n",
       "2       0\n",
       "3       0\n",
       "4       0\n",
       "       ..\n",
       "996     0\n",
       "997     0\n",
       "998     0\n",
       "999     0\n",
       "1000    0\n",
       "Name: 100000, Length: 1001, dtype: int64"
      ]
     },
     "execution_count": 102,
     "metadata": {},
     "output_type": "execute_result"
    }
   ],
   "source": [
    "b_proc.iloc[100000]"
   ]
  },
  {
   "cell_type": "code",
   "execution_count": 103,
   "metadata": {},
   "outputs": [
    {
     "data": {
      "text/plain": [
       "<AxesSubplot:>"
      ]
     },
     "execution_count": 103,
     "metadata": {},
     "output_type": "execute_result"
    },
    {
     "data": {
      "image/png": "[encoded data removed]",
      "text/plain": [
       "<Figure size 432x288 with 1 Axes>"
      ]
     },
     "metadata": {
      "needs_background": "light"
     },
     "output_type": "display_data"
    }
   ],
   "source": [
    "b_proc.iloc[100000].plot()"
   ]
  },
  {
   "cell_type": "code",
   "execution_count": 86,
   "metadata": {},
   "outputs": [
    {
     "data": {
      "text/html": [
       "<div>\n",
       "<style scoped>\n",
       "    .dataframe tbody tr th:only-of-type {\n",
       "        vertical-align: middle;\n",
       "    }\n",
       "\n",
       "    .dataframe tbody tr th {\n",
       "        vertical-align: top;\n",
       "    }\n",
       "\n",
       "    .dataframe thead th {\n",
       "        text-align: right;\n",
       "    }\n",
       "</style>\n",
       "<table border=\"1\" class=\"dataframe\">\n",
       "  <thead>\n",
       "    <tr style=\"text-align: right;\">\n",
       "      <th></th>\n",
       "      <th>0</th>\n",
       "      <th>1</th>\n",
       "      <th>2</th>\n",
       "      <th>3</th>\n",
       "      <th>4</th>\n",
       "      <th>5</th>\n",
       "      <th>6</th>\n",
       "      <th>7</th>\n",
       "      <th>8</th>\n",
       "      <th>9</th>\n",
       "      <th>...</th>\n",
       "      <th>991</th>\n",
       "      <th>992</th>\n",
       "      <th>993</th>\n",
       "      <th>994</th>\n",
       "      <th>995</th>\n",
       "      <th>996</th>\n",
       "      <th>997</th>\n",
       "      <th>998</th>\n",
       "      <th>999</th>\n",
       "      <th>1000</th>\n",
       "    </tr>\n",
       "  </thead>\n",
       "  <tbody>\n",
       "    <tr>\n",
       "      <th>0</th>\n",
       "      <td>0</td>\n",
       "      <td>0</td>\n",
       "      <td>0</td>\n",
       "      <td>0</td>\n",
       "      <td>0</td>\n",
       "      <td>0</td>\n",
       "      <td>0</td>\n",
       "      <td>0</td>\n",
       "      <td>0</td>\n",
       "      <td>0</td>\n",
       "      <td>...</td>\n",
       "      <td>0</td>\n",
       "      <td>0</td>\n",
       "      <td>0</td>\n",
       "      <td>0</td>\n",
       "      <td>0</td>\n",
       "      <td>0</td>\n",
       "      <td>0</td>\n",
       "      <td>0</td>\n",
       "      <td>0</td>\n",
       "      <td>0</td>\n",
       "    </tr>\n",
       "    <tr>\n",
       "      <th>1</th>\n",
       "      <td>0</td>\n",
       "      <td>0</td>\n",
       "      <td>0</td>\n",
       "      <td>0</td>\n",
       "      <td>0</td>\n",
       "      <td>0</td>\n",
       "      <td>0</td>\n",
       "      <td>0</td>\n",
       "      <td>0</td>\n",
       "      <td>0</td>\n",
       "      <td>...</td>\n",
       "      <td>0</td>\n",
       "      <td>0</td>\n",
       "      <td>0</td>\n",
       "      <td>0</td>\n",
       "      <td>0</td>\n",
       "      <td>0</td>\n",
       "      <td>0</td>\n",
       "      <td>0</td>\n",
       "      <td>0</td>\n",
       "      <td>0</td>\n",
       "    </tr>\n",
       "    <tr>\n",
       "      <th>2</th>\n",
       "      <td>0</td>\n",
       "      <td>0</td>\n",
       "      <td>0</td>\n",
       "      <td>0</td>\n",
       "      <td>0</td>\n",
       "      <td>0</td>\n",
       "      <td>0</td>\n",
       "      <td>0</td>\n",
       "      <td>0</td>\n",
       "      <td>0</td>\n",
       "      <td>...</td>\n",
       "      <td>0</td>\n",
       "      <td>0</td>\n",
       "      <td>0</td>\n",
       "      <td>0</td>\n",
       "      <td>0</td>\n",
       "      <td>0</td>\n",
       "      <td>0</td>\n",
       "      <td>0</td>\n",
       "      <td>0</td>\n",
       "      <td>0</td>\n",
       "    </tr>\n",
       "    <tr>\n",
       "      <th>3</th>\n",
       "      <td>-1</td>\n",
       "      <td>0</td>\n",
       "      <td>0</td>\n",
       "      <td>0</td>\n",
       "      <td>0</td>\n",
       "      <td>0</td>\n",
       "      <td>0</td>\n",
       "      <td>0</td>\n",
       "      <td>0</td>\n",
       "      <td>0</td>\n",
       "      <td>...</td>\n",
       "      <td>0</td>\n",
       "      <td>0</td>\n",
       "      <td>0</td>\n",
       "      <td>0</td>\n",
       "      <td>0</td>\n",
       "      <td>0</td>\n",
       "      <td>0</td>\n",
       "      <td>0</td>\n",
       "      <td>0</td>\n",
       "      <td>0</td>\n",
       "    </tr>\n",
       "    <tr>\n",
       "      <th>4</th>\n",
       "      <td>0</td>\n",
       "      <td>0</td>\n",
       "      <td>0</td>\n",
       "      <td>0</td>\n",
       "      <td>0</td>\n",
       "      <td>0</td>\n",
       "      <td>0</td>\n",
       "      <td>0</td>\n",
       "      <td>0</td>\n",
       "      <td>0</td>\n",
       "      <td>...</td>\n",
       "      <td>0</td>\n",
       "      <td>0</td>\n",
       "      <td>0</td>\n",
       "      <td>0</td>\n",
       "      <td>0</td>\n",
       "      <td>0</td>\n",
       "      <td>0</td>\n",
       "      <td>0</td>\n",
       "      <td>0</td>\n",
       "      <td>0</td>\n",
       "    </tr>\n",
       "    <tr>\n",
       "      <th>...</th>\n",
       "      <td>...</td>\n",
       "      <td>...</td>\n",
       "      <td>...</td>\n",
       "      <td>...</td>\n",
       "      <td>...</td>\n",
       "      <td>...</td>\n",
       "      <td>...</td>\n",
       "      <td>...</td>\n",
       "      <td>...</td>\n",
       "      <td>...</td>\n",
       "      <td>...</td>\n",
       "      <td>...</td>\n",
       "      <td>...</td>\n",
       "      <td>...</td>\n",
       "      <td>...</td>\n",
       "      <td>...</td>\n",
       "      <td>...</td>\n",
       "      <td>...</td>\n",
       "      <td>...</td>\n",
       "      <td>...</td>\n",
       "      <td>...</td>\n",
       "    </tr>\n",
       "    <tr>\n",
       "      <th>467452</th>\n",
       "      <td>0</td>\n",
       "      <td>0</td>\n",
       "      <td>0</td>\n",
       "      <td>0</td>\n",
       "      <td>0</td>\n",
       "      <td>0</td>\n",
       "      <td>0</td>\n",
       "      <td>0</td>\n",
       "      <td>0</td>\n",
       "      <td>0</td>\n",
       "      <td>...</td>\n",
       "      <td>0</td>\n",
       "      <td>0</td>\n",
       "      <td>0</td>\n",
       "      <td>0</td>\n",
       "      <td>0</td>\n",
       "      <td>0</td>\n",
       "      <td>0</td>\n",
       "      <td>0</td>\n",
       "      <td>0</td>\n",
       "      <td>0</td>\n",
       "    </tr>\n",
       "    <tr>\n",
       "      <th>467453</th>\n",
       "      <td>0</td>\n",
       "      <td>0</td>\n",
       "      <td>0</td>\n",
       "      <td>0</td>\n",
       "      <td>0</td>\n",
       "      <td>0</td>\n",
       "      <td>0</td>\n",
       "      <td>0</td>\n",
       "      <td>0</td>\n",
       "      <td>0</td>\n",
       "      <td>...</td>\n",
       "      <td>0</td>\n",
       "      <td>0</td>\n",
       "      <td>0</td>\n",
       "      <td>0</td>\n",
       "      <td>0</td>\n",
       "      <td>0</td>\n",
       "      <td>0</td>\n",
       "      <td>0</td>\n",
       "      <td>0</td>\n",
       "      <td>0</td>\n",
       "    </tr>\n",
       "    <tr>\n",
       "      <th>467454</th>\n",
       "      <td>0</td>\n",
       "      <td>0</td>\n",
       "      <td>0</td>\n",
       "      <td>0</td>\n",
       "      <td>0</td>\n",
       "      <td>0</td>\n",
       "      <td>0</td>\n",
       "      <td>0</td>\n",
       "      <td>0</td>\n",
       "      <td>0</td>\n",
       "      <td>...</td>\n",
       "      <td>0</td>\n",
       "      <td>0</td>\n",
       "      <td>0</td>\n",
       "      <td>0</td>\n",
       "      <td>0</td>\n",
       "      <td>0</td>\n",
       "      <td>0</td>\n",
       "      <td>0</td>\n",
       "      <td>0</td>\n",
       "      <td>0</td>\n",
       "    </tr>\n",
       "    <tr>\n",
       "      <th>467455</th>\n",
       "      <td>0</td>\n",
       "      <td>0</td>\n",
       "      <td>0</td>\n",
       "      <td>0</td>\n",
       "      <td>0</td>\n",
       "      <td>0</td>\n",
       "      <td>0</td>\n",
       "      <td>0</td>\n",
       "      <td>0</td>\n",
       "      <td>0</td>\n",
       "      <td>...</td>\n",
       "      <td>0</td>\n",
       "      <td>0</td>\n",
       "      <td>0</td>\n",
       "      <td>0</td>\n",
       "      <td>0</td>\n",
       "      <td>0</td>\n",
       "      <td>0</td>\n",
       "      <td>0</td>\n",
       "      <td>0</td>\n",
       "      <td>0</td>\n",
       "    </tr>\n",
       "    <tr>\n",
       "      <th>467456</th>\n",
       "      <td>0</td>\n",
       "      <td>0</td>\n",
       "      <td>0</td>\n",
       "      <td>0</td>\n",
       "      <td>0</td>\n",
       "      <td>0</td>\n",
       "      <td>0</td>\n",
       "      <td>0</td>\n",
       "      <td>0</td>\n",
       "      <td>0</td>\n",
       "      <td>...</td>\n",
       "      <td>0</td>\n",
       "      <td>0</td>\n",
       "      <td>0</td>\n",
       "      <td>0</td>\n",
       "      <td>0</td>\n",
       "      <td>0</td>\n",
       "      <td>0</td>\n",
       "      <td>0</td>\n",
       "      <td>0</td>\n",
       "      <td>0</td>\n",
       "    </tr>\n",
       "  </tbody>\n",
       "</table>\n",
       "<p>467457 rows × 1001 columns</p>\n",
       "</div>"
      ],
      "text/plain": [
       "        0     1     2     3     4     5     6     7     8     9     ...  991   \\\n",
       "0          0     0     0     0     0     0     0     0     0     0  ...     0   \n",
       "1          0     0     0     0     0     0     0     0     0     0  ...     0   \n",
       "2          0     0     0     0     0     0     0     0     0     0  ...     0   \n",
       "3         -1     0     0     0     0     0     0     0     0     0  ...     0   \n",
       "4          0     0     0     0     0     0     0     0     0     0  ...     0   \n",
       "...      ...   ...   ...   ...   ...   ...   ...   ...   ...   ...  ...   ...   \n",
       "467452     0     0     0     0     0     0     0     0     0     0  ...     0   \n",
       "467453     0     0     0     0     0     0     0     0     0     0  ...     0   \n",
       "467454     0     0     0     0     0     0     0     0     0     0  ...     0   \n",
       "467455     0     0     0     0     0     0     0     0     0     0  ...     0   \n",
       "467456     0     0     0     0     0     0     0     0     0     0  ...     0   \n",
       "\n",
       "        992   993   994   995   996   997   998   999   1000  \n",
       "0          0     0     0     0     0     0     0     0     0  \n",
       "1          0     0     0     0     0     0     0     0     0  \n",
       "2          0     0     0     0     0     0     0     0     0  \n",
       "3          0     0     0     0     0     0     0     0     0  \n",
       "4          0     0     0     0     0     0     0     0     0  \n",
       "...      ...   ...   ...   ...   ...   ...   ...   ...   ...  \n",
       "467452     0     0     0     0     0     0     0     0     0  \n",
       "467453     0     0     0     0     0     0     0     0     0  \n",
       "467454     0     0     0     0     0     0     0     0     0  \n",
       "467455     0     0     0     0     0     0     0     0     0  \n",
       "467456     0     0     0     0     0     0     0     0     0  \n",
       "\n",
       "[467457 rows x 1001 columns]"
      ]
     },
     "execution_count": 86,
     "metadata": {},
     "output_type": "execute_result"
    }
   ],
   "source": [
    "b_proc.loc[b_proc.iloc[:, 1:].sum(axis=1) > 0]"
   ]
  },
  {
   "cell_type": "code",
   "execution_count": 87,
   "metadata": {},
   "outputs": [
    {
     "data": {
      "text/html": [
       "<div>\n",
       "<style scoped>\n",
       "    .dataframe tbody tr th:only-of-type {\n",
       "        vertical-align: middle;\n",
       "    }\n",
       "\n",
       "    .dataframe tbody tr th {\n",
       "        vertical-align: top;\n",
       "    }\n",
       "\n",
       "    .dataframe thead th {\n",
       "        text-align: right;\n",
       "    }\n",
       "</style>\n",
       "<table border=\"1\" class=\"dataframe\">\n",
       "  <thead>\n",
       "    <tr style=\"text-align: right;\">\n",
       "      <th></th>\n",
       "      <th>0</th>\n",
       "      <th>1</th>\n",
       "      <th>2</th>\n",
       "      <th>3</th>\n",
       "      <th>4</th>\n",
       "      <th>5</th>\n",
       "      <th>6</th>\n",
       "      <th>7</th>\n",
       "      <th>8</th>\n",
       "      <th>9</th>\n",
       "      <th>...</th>\n",
       "      <th>991</th>\n",
       "      <th>992</th>\n",
       "      <th>993</th>\n",
       "      <th>994</th>\n",
       "      <th>995</th>\n",
       "      <th>996</th>\n",
       "      <th>997</th>\n",
       "      <th>998</th>\n",
       "      <th>999</th>\n",
       "      <th>1000</th>\n",
       "    </tr>\n",
       "  </thead>\n",
       "  <tbody>\n",
       "    <tr>\n",
       "      <th>0</th>\n",
       "      <td>0</td>\n",
       "      <td>0</td>\n",
       "      <td>0</td>\n",
       "      <td>0</td>\n",
       "      <td>0</td>\n",
       "      <td>0</td>\n",
       "      <td>0</td>\n",
       "      <td>0</td>\n",
       "      <td>0</td>\n",
       "      <td>0</td>\n",
       "      <td>...</td>\n",
       "      <td>0</td>\n",
       "      <td>0</td>\n",
       "      <td>0</td>\n",
       "      <td>0</td>\n",
       "      <td>0</td>\n",
       "      <td>0</td>\n",
       "      <td>0</td>\n",
       "      <td>0</td>\n",
       "      <td>0</td>\n",
       "      <td>0</td>\n",
       "    </tr>\n",
       "    <tr>\n",
       "      <th>1</th>\n",
       "      <td>0</td>\n",
       "      <td>0</td>\n",
       "      <td>0</td>\n",
       "      <td>0</td>\n",
       "      <td>0</td>\n",
       "      <td>0</td>\n",
       "      <td>0</td>\n",
       "      <td>0</td>\n",
       "      <td>0</td>\n",
       "      <td>0</td>\n",
       "      <td>...</td>\n",
       "      <td>0</td>\n",
       "      <td>0</td>\n",
       "      <td>0</td>\n",
       "      <td>0</td>\n",
       "      <td>0</td>\n",
       "      <td>0</td>\n",
       "      <td>0</td>\n",
       "      <td>0</td>\n",
       "      <td>0</td>\n",
       "      <td>0</td>\n",
       "    </tr>\n",
       "    <tr>\n",
       "      <th>2</th>\n",
       "      <td>0</td>\n",
       "      <td>0</td>\n",
       "      <td>0</td>\n",
       "      <td>0</td>\n",
       "      <td>0</td>\n",
       "      <td>0</td>\n",
       "      <td>0</td>\n",
       "      <td>0</td>\n",
       "      <td>0</td>\n",
       "      <td>0</td>\n",
       "      <td>...</td>\n",
       "      <td>0</td>\n",
       "      <td>0</td>\n",
       "      <td>0</td>\n",
       "      <td>0</td>\n",
       "      <td>0</td>\n",
       "      <td>0</td>\n",
       "      <td>0</td>\n",
       "      <td>0</td>\n",
       "      <td>0</td>\n",
       "      <td>0</td>\n",
       "    </tr>\n",
       "    <tr>\n",
       "      <th>3</th>\n",
       "      <td>-1</td>\n",
       "      <td>0</td>\n",
       "      <td>0</td>\n",
       "      <td>0</td>\n",
       "      <td>0</td>\n",
       "      <td>0</td>\n",
       "      <td>0</td>\n",
       "      <td>0</td>\n",
       "      <td>0</td>\n",
       "      <td>0</td>\n",
       "      <td>...</td>\n",
       "      <td>0</td>\n",
       "      <td>0</td>\n",
       "      <td>0</td>\n",
       "      <td>0</td>\n",
       "      <td>0</td>\n",
       "      <td>0</td>\n",
       "      <td>0</td>\n",
       "      <td>0</td>\n",
       "      <td>0</td>\n",
       "      <td>0</td>\n",
       "    </tr>\n",
       "    <tr>\n",
       "      <th>4</th>\n",
       "      <td>0</td>\n",
       "      <td>0</td>\n",
       "      <td>0</td>\n",
       "      <td>0</td>\n",
       "      <td>0</td>\n",
       "      <td>0</td>\n",
       "      <td>0</td>\n",
       "      <td>0</td>\n",
       "      <td>0</td>\n",
       "      <td>0</td>\n",
       "      <td>...</td>\n",
       "      <td>0</td>\n",
       "      <td>0</td>\n",
       "      <td>0</td>\n",
       "      <td>0</td>\n",
       "      <td>0</td>\n",
       "      <td>0</td>\n",
       "      <td>0</td>\n",
       "      <td>0</td>\n",
       "      <td>0</td>\n",
       "      <td>0</td>\n",
       "    </tr>\n",
       "    <tr>\n",
       "      <th>...</th>\n",
       "      <td>...</td>\n",
       "      <td>...</td>\n",
       "      <td>...</td>\n",
       "      <td>...</td>\n",
       "      <td>...</td>\n",
       "      <td>...</td>\n",
       "      <td>...</td>\n",
       "      <td>...</td>\n",
       "      <td>...</td>\n",
       "      <td>...</td>\n",
       "      <td>...</td>\n",
       "      <td>...</td>\n",
       "      <td>...</td>\n",
       "      <td>...</td>\n",
       "      <td>...</td>\n",
       "      <td>...</td>\n",
       "      <td>...</td>\n",
       "      <td>...</td>\n",
       "      <td>...</td>\n",
       "      <td>...</td>\n",
       "      <td>...</td>\n",
       "    </tr>\n",
       "    <tr>\n",
       "      <th>467452</th>\n",
       "      <td>0</td>\n",
       "      <td>0</td>\n",
       "      <td>0</td>\n",
       "      <td>0</td>\n",
       "      <td>0</td>\n",
       "      <td>0</td>\n",
       "      <td>0</td>\n",
       "      <td>0</td>\n",
       "      <td>0</td>\n",
       "      <td>0</td>\n",
       "      <td>...</td>\n",
       "      <td>0</td>\n",
       "      <td>0</td>\n",
       "      <td>0</td>\n",
       "      <td>0</td>\n",
       "      <td>0</td>\n",
       "      <td>0</td>\n",
       "      <td>0</td>\n",
       "      <td>0</td>\n",
       "      <td>0</td>\n",
       "      <td>0</td>\n",
       "    </tr>\n",
       "    <tr>\n",
       "      <th>467453</th>\n",
       "      <td>0</td>\n",
       "      <td>0</td>\n",
       "      <td>0</td>\n",
       "      <td>0</td>\n",
       "      <td>0</td>\n",
       "      <td>0</td>\n",
       "      <td>0</td>\n",
       "      <td>0</td>\n",
       "      <td>0</td>\n",
       "      <td>0</td>\n",
       "      <td>...</td>\n",
       "      <td>0</td>\n",
       "      <td>0</td>\n",
       "      <td>0</td>\n",
       "      <td>0</td>\n",
       "      <td>0</td>\n",
       "      <td>0</td>\n",
       "      <td>0</td>\n",
       "      <td>0</td>\n",
       "      <td>0</td>\n",
       "      <td>0</td>\n",
       "    </tr>\n",
       "    <tr>\n",
       "      <th>467454</th>\n",
       "      <td>0</td>\n",
       "      <td>0</td>\n",
       "      <td>0</td>\n",
       "      <td>0</td>\n",
       "      <td>0</td>\n",
       "      <td>0</td>\n",
       "      <td>0</td>\n",
       "      <td>0</td>\n",
       "      <td>0</td>\n",
       "      <td>0</td>\n",
       "      <td>...</td>\n",
       "      <td>0</td>\n",
       "      <td>0</td>\n",
       "      <td>0</td>\n",
       "      <td>0</td>\n",
       "      <td>0</td>\n",
       "      <td>0</td>\n",
       "      <td>0</td>\n",
       "      <td>0</td>\n",
       "      <td>0</td>\n",
       "      <td>0</td>\n",
       "    </tr>\n",
       "    <tr>\n",
       "      <th>467455</th>\n",
       "      <td>0</td>\n",
       "      <td>0</td>\n",
       "      <td>0</td>\n",
       "      <td>0</td>\n",
       "      <td>0</td>\n",
       "      <td>0</td>\n",
       "      <td>0</td>\n",
       "      <td>0</td>\n",
       "      <td>0</td>\n",
       "      <td>0</td>\n",
       "      <td>...</td>\n",
       "      <td>0</td>\n",
       "      <td>0</td>\n",
       "      <td>0</td>\n",
       "      <td>0</td>\n",
       "      <td>0</td>\n",
       "      <td>0</td>\n",
       "      <td>0</td>\n",
       "      <td>0</td>\n",
       "      <td>0</td>\n",
       "      <td>0</td>\n",
       "    </tr>\n",
       "    <tr>\n",
       "      <th>467456</th>\n",
       "      <td>0</td>\n",
       "      <td>0</td>\n",
       "      <td>0</td>\n",
       "      <td>0</td>\n",
       "      <td>0</td>\n",
       "      <td>0</td>\n",
       "      <td>0</td>\n",
       "      <td>0</td>\n",
       "      <td>0</td>\n",
       "      <td>0</td>\n",
       "      <td>...</td>\n",
       "      <td>0</td>\n",
       "      <td>0</td>\n",
       "      <td>0</td>\n",
       "      <td>0</td>\n",
       "      <td>0</td>\n",
       "      <td>0</td>\n",
       "      <td>0</td>\n",
       "      <td>0</td>\n",
       "      <td>0</td>\n",
       "      <td>0</td>\n",
       "    </tr>\n",
       "  </tbody>\n",
       "</table>\n",
       "<p>467457 rows × 1001 columns</p>\n",
       "</div>"
      ],
      "text/plain": [
       "        0     1     2     3     4     5     6     7     8     9     ...  991   \\\n",
       "0          0     0     0     0     0     0     0     0     0     0  ...     0   \n",
       "1          0     0     0     0     0     0     0     0     0     0  ...     0   \n",
       "2          0     0     0     0     0     0     0     0     0     0  ...     0   \n",
       "3         -1     0     0     0     0     0     0     0     0     0  ...     0   \n",
       "4          0     0     0     0     0     0     0     0     0     0  ...     0   \n",
       "...      ...   ...   ...   ...   ...   ...   ...   ...   ...   ...  ...   ...   \n",
       "467452     0     0     0     0     0     0     0     0     0     0  ...     0   \n",
       "467453     0     0     0     0     0     0     0     0     0     0  ...     0   \n",
       "467454     0     0     0     0     0     0     0     0     0     0  ...     0   \n",
       "467455     0     0     0     0     0     0     0     0     0     0  ...     0   \n",
       "467456     0     0     0     0     0     0     0     0     0     0  ...     0   \n",
       "\n",
       "        992   993   994   995   996   997   998   999   1000  \n",
       "0          0     0     0     0     0     0     0     0     0  \n",
       "1          0     0     0     0     0     0     0     0     0  \n",
       "2          0     0     0     0     0     0     0     0     0  \n",
       "3          0     0     0     0     0     0     0     0     0  \n",
       "4          0     0     0     0     0     0     0     0     0  \n",
       "...      ...   ...   ...   ...   ...   ...   ...   ...   ...  \n",
       "467452     0     0     0     0     0     0     0     0     0  \n",
       "467453     0     0     0     0     0     0     0     0     0  \n",
       "467454     0     0     0     0     0     0     0     0     0  \n",
       "467455     0     0     0     0     0     0     0     0     0  \n",
       "467456     0     0     0     0     0     0     0     0     0  \n",
       "\n",
       "[467457 rows x 1001 columns]"
      ]
     },
     "execution_count": 87,
     "metadata": {},
     "output_type": "execute_result"
    }
   ],
   "source": [
    "b_proc"
   ]
  },
  {
   "cell_type": "code",
   "execution_count": 61,
   "metadata": {},
   "outputs": [
    {
     "data": {
      "text/plain": [
       "<AxesSubplot:>"
      ]
     },
     "execution_count": 61,
     "metadata": {},
     "output_type": "execute_result"
    },
    {
     "data": {
      "image/png": "[encoded data removed]",
      "text/plain": [
       "<Figure size 432x288 with 1 Axes>"
      ]
     },
     "metadata": {
      "needs_background": "light"
     },
     "output_type": "display_data"
    }
   ],
   "source": [
    "b_proc.iloc[:,1:].plot()"
   ]
  },
  {
   "cell_type": "code",
   "execution_count": 53,
   "metadata": {},
   "outputs": [
    {
     "data": {
      "text/plain": [
       "<AxesSubplot:>"
      ]
     },
     "execution_count": 53,
     "metadata": {},
     "output_type": "execute_result"
    },
    {
     "data": {
      "image/png": "[encoded data removed]",
      "text/plain": [
       "<Figure size 432x288 with 1 Axes>"
      ]
     },
     "metadata": {
      "needs_background": "light"
     },
     "output_type": "display_data"
    }
   ],
   "source": [
    "b_proc.iloc[1000,1:].plot()"
   ]
  },
  {
   "cell_type": "code",
   "execution_count": 24,
   "metadata": {},
   "outputs": [
    {
     "data": {
      "text/plain": [
       "['/nfs/home/peern/LOBS5/data/raw_new/GOOG_2022-07-01_34200000_57600000_orderbook_10.csv']"
      ]
     },
     "execution_count": 24,
     "metadata": {},
     "output_type": "execute_result"
    }
   ],
   "source": [
    "book_files"
   ]
  },
  {
   "cell_type": "code",
   "execution_count": 22,
   "metadata": {},
   "outputs": [
    {
     "data": {
      "text/plain": [
       "time          3.420000e+04\n",
       "event_type    1.000000e+00\n",
       "order_id      3.643425e+07\n",
       "size          9.100000e+01\n",
       "price         2.170310e+07\n",
       "direction    -1.000000e+00\n",
       "Name: 0, dtype: float64"
      ]
     },
     "execution_count": 22,
     "metadata": {},
     "output_type": "execute_result"
    }
   ],
   "source": [
    "m.iloc[0]"
   ]
  },
  {
   "cell_type": "code",
   "execution_count": 37,
   "metadata": {},
   "outputs": [
    {
     "data": {
      "text/plain": [
       "0         21686500.0\n",
       "1         21686500.0\n",
       "2         21686500.0\n",
       "3         21686500.0\n",
       "4         21686500.0\n",
       "             ...    \n",
       "477400    21811800.0\n",
       "477401    21811800.0\n",
       "477402    21811800.0\n",
       "477403    21811800.0\n",
       "477404    21811800.0\n",
       "Length: 477405, dtype: float64"
      ]
     },
     "execution_count": 37,
     "metadata": {},
     "output_type": "execute_result"
    }
   ],
   "source": [
    "((b.iloc[:,0] + b.iloc[:,2]) / 2).round(-2).astype(int)"
   ]
  },
  {
   "cell_type": "code",
   "execution_count": 28,
   "metadata": {},
   "outputs": [
    {
     "data": {
      "text/plain": [
       "<AxesSubplot:>"
      ]
     },
     "execution_count": 28,
     "metadata": {},
     "output_type": "execute_result"
    },
    {
     "data": {
      "image/png": "[encoded data removed]",
      "text/plain": [
       "<Figure size 432x288 with 1 Axes>"
      ]
     },
     "metadata": {
      "needs_background": "light"
     },
     "output_type": "display_data"
    }
   ],
   "source": [
    "(b.iloc[:,0] - b.iloc[:,2]).plot()"
   ]
  },
  {
   "cell_type": "code",
   "execution_count": 6,
   "metadata": {},
   "outputs": [
    {
     "data": {
      "text/plain": [
       "<AxesSubplot:>"
      ]
     },
     "execution_count": 6,
     "metadata": {},
     "output_type": "execute_result"
    },
    {
     "data": {
      "image/png": "[encoded data removed]",
      "text/plain": [
       "<Figure size 432x288 with 1 Axes>"
      ]
     },
     "metadata": {
      "needs_background": "light"
     },
     "output_type": "display_data"
    }
   ],
   "source": [
    "b.iloc[:, 0].plot()"
   ]
  },
  {
   "cell_type": "code",
   "execution_count": 17,
   "metadata": {},
   "outputs": [
    {
     "data": {
      "text/plain": [
       "20985000.0"
      ]
     },
     "execution_count": 17,
     "metadata": {},
     "output_type": "execute_result"
    }
   ],
   "source": [
    "2.19e7 - 915000"
   ]
  },
  {
   "cell_type": "code",
   "execution_count": 15,
   "metadata": {},
   "outputs": [
    {
     "data": {
      "text/plain": [
       "<AxesSubplot:>"
      ]
     },
     "execution_count": 15,
     "metadata": {},
     "output_type": "execute_result"
    },
    {
     "data": {
      "image/png": "[encoded data removed]",
      "text/plain": [
       "<Figure size 432x288 with 1 Axes>"
      ]
     },
     "metadata": {
      "needs_background": "light"
     },
     "output_type": "display_data"
    }
   ],
   "source": [
    "b.iloc[:, 0].plot()"
   ]
  },
  {
   "cell_type": "code",
   "execution_count": 30,
   "metadata": {},
   "outputs": [
    {
     "data": {
      "text/plain": [
       "<AxesSubplot:>"
      ]
     },
     "execution_count": 30,
     "metadata": {},
     "output_type": "execute_result"
    },
    {
     "data": {
      "image/png": "[encoded data removed]",
      "text/plain": [
       "<Figure size 432x288 with 1 Axes>"
      ]
     },
     "metadata": {
      "needs_background": "light"
     },
     "output_type": "display_data"
    }
   ],
   "source": [
    "(b.iloc[:, -4] - b.iloc[:, -2]).div(10000).plot()"
   ]
  },
  {
   "cell_type": "code",
   "execution_count": 16,
   "metadata": {},
   "outputs": [
    {
     "data": {
      "text/plain": [
       "<AxesSubplot:>"
      ]
     },
     "execution_count": 16,
     "metadata": {},
     "output_type": "execute_result"
    },
    {
     "data": {
      "image/png": "[encoded data removed]",
      "text/plain": [
       "<Figure size 432x288 with 1 Axes>"
      ]
     },
     "metadata": {
      "needs_background": "light"
     },
     "output_type": "display_data"
    }
   ],
   "source": [
    "(b.iloc[:, -4] - b.iloc[:, 0]).div(10000).plot()"
   ]
  },
  {
   "cell_type": "code",
   "execution_count": 9,
   "metadata": {},
   "outputs": [
    {
     "data": {
      "text/plain": [
       "<AxesSubplot:>"
      ]
     },
     "execution_count": 9,
     "metadata": {},
     "output_type": "execute_result"
    },
    {
     "data": {
      "image/png": "[encoded data removed]",
      "text/plain": [
       "<Figure size 432x288 with 1 Axes>"
      ]
     },
     "metadata": {
      "needs_background": "light"
     },
     "output_type": "display_data"
    }
   ],
   "source": [
    "b.iloc[:, -4].plot()"
   ]
  },
  {
   "attachments": {},
   "cell_type": "markdown",
   "metadata": {},
   "source": [
    "## Encoding"
   ]
  },
  {
   "cell_type": "code",
   "execution_count": 12,
   "metadata": {},
   "outputs": [],
   "source": [
    "message_files = sorted(glob(data_dir + '*message*.csv'))\n",
    "book_files = sorted(glob(data_dir + '*orderbook*.csv'))"
   ]
  },
  {
   "cell_type": "code",
   "execution_count": 13,
   "metadata": {},
   "outputs": [
    {
     "data": {
      "text/plain": [
       "['/nfs/home/peern/LOBS5/data/raw/GOOG_2023-01-03_34200000_57600000_message_10.csv',\n",
       " '/nfs/home/peern/LOBS5/data/raw/GOOG_2023-01-04_34200000_57600000_message_10.csv',\n",
       " '/nfs/home/peern/LOBS5/data/raw/GOOG_2023-01-05_34200000_57600000_message_10.csv',\n",
       " '/nfs/home/peern/LOBS5/data/raw/GOOG_2023-01-06_34200000_57600000_message_10.csv',\n",
       " '/nfs/home/peern/LOBS5/data/raw/GOOG_2023-01-09_34200000_57600000_message_10.csv',\n",
       " '/nfs/home/peern/LOBS5/data/raw/GOOG_2023-01-10_34200000_57600000_message_10.csv',\n",
       " '/nfs/home/peern/LOBS5/data/raw/GOOG_2023-01-30_34200000_57600000_message_10.csv',\n",
       " '/nfs/home/peern/LOBS5/data/raw/GOOG_2023-01-31_34200000_57600000_message_10.csv']"
      ]
     },
     "execution_count": 13,
     "metadata": {},
     "output_type": "execute_result"
    }
   ],
   "source": [
    "message_files"
   ]
  },
  {
   "cell_type": "code",
   "execution_count": 14,
   "metadata": {},
   "outputs": [
    {
     "data": {
      "text/plain": [
       "['/nfs/home/peern/LOBS5/data/raw/GOOG_2023-01-03_34200000_57600000_orderbook_10.csv',\n",
       " '/nfs/home/peern/LOBS5/data/raw/GOOG_2023-01-04_34200000_57600000_orderbook_10.csv',\n",
       " '/nfs/home/peern/LOBS5/data/raw/GOOG_2023-01-05_34200000_57600000_orderbook_10.csv',\n",
       " '/nfs/home/peern/LOBS5/data/raw/GOOG_2023-01-06_34200000_57600000_orderbook_10.csv',\n",
       " '/nfs/home/peern/LOBS5/data/raw/GOOG_2023-01-09_34200000_57600000_orderbook_10.csv',\n",
       " '/nfs/home/peern/LOBS5/data/raw/GOOG_2023-01-10_34200000_57600000_orderbook_10.csv',\n",
       " '/nfs/home/peern/LOBS5/data/raw/GOOG_2023-01-30_34200000_57600000_orderbook_10.csv',\n",
       " '/nfs/home/peern/LOBS5/data/raw/GOOG_2023-01-31_34200000_57600000_orderbook_10.csv']"
      ]
     },
     "execution_count": 14,
     "metadata": {},
     "output_type": "execute_result"
    }
   ],
   "source": [
    "book_files"
   ]
  },
  {
   "cell_type": "code",
   "execution_count": 27,
   "metadata": {},
   "outputs": [
    {
     "data": {
      "application/vnd.jupyter.widget-view+json": {
       "model_id": "37f9826aaad7450e987376fffd113a2b",
       "version_major": 2,
       "version_minor": 0
      },
      "text/plain": [
       "0it [00:00, ?it/s]"
      ]
     },
     "metadata": {},
     "output_type": "display_data"
    },
    {
     "name": "stdout",
     "output_type": "stream",
     "text": [
      "/nfs/home/peern/LOBS5/data/raw/GOOG_2023-01-03_34200000_57600000_message_10.csv\n",
      "<< pre processing >>\n",
      "truncating 0.0000% of prices > 9900\n",
      "truncating 0.0000% of prices < -9900\n",
      "<< encoding >>\n",
      "saved to /nfs/home/peern/LOBS5/data/l2/GOOG_2023-01-03_34200000_57600000_message_10_proc.npy\n"
     ]
    }
   ],
   "source": [
    "# filter down from 10 to 2 levels, preprocess, encode and save to file (.npy)\n",
    "\n",
    "data_dir = '/nfs/home/peern/LOBS5/data/raw/'\n",
    "save_dir = '/nfs/home/peern/LOBS5/data/l2/'\n",
    "\n",
    "process_message_files(message_files, book_files, save_dir, filter_above_lvl=2)"
   ]
  },
  {
   "cell_type": "code",
   "execution_count": 33,
   "metadata": {},
   "outputs": [
    {
     "data": {
      "application/vnd.jupyter.widget-view+json": {
       "model_id": "d581940855b04e12bab85fac657bed48",
       "version_major": 2,
       "version_minor": 0
      },
      "text/plain": [
       "0it [00:00, ?it/s]"
      ]
     },
     "metadata": {},
     "output_type": "display_data"
    },
    {
     "name": "stdout",
     "output_type": "stream",
     "text": [
      "/nfs/home/peern/LOBS5/data/raw/GOOG_2023-01-03_34200000_57600000_message_10.csv\n",
      "/nfs/home/peern/LOBS5/data/raw/GOOG_2023-01-03_34200000_57600000_orderbook_10.csv\n"
     ]
    },
    {
     "name": "stderr",
     "output_type": "stream",
     "text": [
      "/tmp/ipykernel_574720/1788490804.py:1: DtypeWarning: Columns (6) have mixed types.Specify dtype option on import or set low_memory=False.\n",
      "  process_book_files(\n",
      "/nfs/home/peern/rlenv/lib/python3.8/site-packages/pandas/util/_decorators.py:311: ParserWarning: Length of header or names does not match length of data. This leads to a loss of data with index_col=False.\n",
      "  return func(*args, **kwargs)\n"
     ]
    },
    {
     "name": "stdout",
     "output_type": "stream",
     "text": [
      "/nfs/home/peern/LOBS5/data/raw/GOOG_2023-01-04_34200000_57600000_message_10.csv\n",
      "/nfs/home/peern/LOBS5/data/raw/GOOG_2023-01-04_34200000_57600000_orderbook_10.csv\n",
      "/nfs/home/peern/LOBS5/data/raw/GOOG_2023-01-05_34200000_57600000_message_10.csv\n",
      "/nfs/home/peern/LOBS5/data/raw/GOOG_2023-01-05_34200000_57600000_orderbook_10.csv\n",
      "/nfs/home/peern/LOBS5/data/raw/GOOG_2023-01-06_34200000_57600000_message_10.csv\n",
      "/nfs/home/peern/LOBS5/data/raw/GOOG_2023-01-06_34200000_57600000_orderbook_10.csv\n",
      "/nfs/home/peern/LOBS5/data/raw/GOOG_2023-01-09_34200000_57600000_message_10.csv\n",
      "/nfs/home/peern/LOBS5/data/raw/GOOG_2023-01-09_34200000_57600000_orderbook_10.csv\n",
      "/nfs/home/peern/LOBS5/data/raw/GOOG_2023-01-10_34200000_57600000_message_10.csv\n",
      "/nfs/home/peern/LOBS5/data/raw/GOOG_2023-01-10_34200000_57600000_orderbook_10.csv\n",
      "/nfs/home/peern/LOBS5/data/raw/GOOG_2023-01-30_34200000_57600000_message_10.csv\n",
      "/nfs/home/peern/LOBS5/data/raw/GOOG_2023-01-30_34200000_57600000_orderbook_10.csv\n",
      "/nfs/home/peern/LOBS5/data/raw/GOOG_2023-01-31_34200000_57600000_message_10.csv\n",
      "/nfs/home/peern/LOBS5/data/raw/GOOG_2023-01-31_34200000_57600000_orderbook_10.csv\n"
     ]
    }
   ],
   "source": [
    "process_book_files(\n",
    "    message_files,\n",
    "    book_files,\n",
    "    save_dir,\n",
    "    filter_above_lvl=2,  # 2 best price levels\n",
    "    n_price_series=8  # represented by an 8-tick range\n",
    ")"
   ]
  },
  {
   "cell_type": "code",
   "execution_count": 37,
   "metadata": {},
   "outputs": [
    {
     "data": {
      "text/plain": [
       "[]"
      ]
     },
     "execution_count": 37,
     "metadata": {},
     "output_type": "execute_result"
    }
   ],
   "source": [
    "message_files"
   ]
  },
  {
   "cell_type": "code",
   "execution_count": 43,
   "metadata": {},
   "outputs": [
    {
     "data": {
      "application/vnd.jupyter.widget-view+json": {
       "model_id": "6027dfa131584a52ba34134e4b445e1d",
       "version_major": 2,
       "version_minor": 0
      },
      "text/plain": [
       "0it [00:00, ?it/s]"
      ]
     },
     "metadata": {},
     "output_type": "display_data"
    },
    {
     "name": "stdout",
     "output_type": "stream",
     "text": [
      "n_samples 915496 915496\n",
      "n_samples 1464402 1464402\n",
      "n_samples 1148874 1148874\n",
      "n_samples 1267564 1267564\n",
      "n_samples 1138789 1138789\n",
      "n_samples 1353753 1353753\n",
      "n_samples 1299194 1299194\n",
      "n_samples 1089204 1089204\n"
     ]
    }
   ],
   "source": [
    "# check all file lengths match\n",
    "\n",
    "message_files = sorted(glob(save_dir + '*message*.npy'))\n",
    "book_files = sorted(glob(save_dir + '*orderbook*.npy'))\n",
    "\n",
    "for m_f, b_f in tqdm(zip(message_files, book_files)):\n",
    "    # don't load whole file into memory\n",
    "    m = np.load(m_f, mmap_mode='r')\n",
    "    b = np.load(b_f, mmap_mode='r')\n",
    "    print('n_samples', m.shape[0] + 1, b.shape[0])\n",
    "    assert (m.shape[0] + 1) == b.shape[0], f'{m.shape[0]} != {b.shape[0]}'"
   ]
  },
  {
   "cell_type": "code",
   "execution_count": 8,
   "metadata": {},
   "outputs": [],
   "source": [
    "#import warnings\n",
    "\n",
    "#def my_formatwarning(message, category, filename, lineno, line=None):\n",
    "#    print(message, category)\n",
    "    # lineno is the line number you are looking for\n",
    "#    print('file:', filename, 'line number:', lineno) \n",
    "\n",
    "#warnings.formatwarning = my_formatwarning"
   ]
  },
  {
   "cell_type": "markdown",
   "metadata": {},
   "source": [
    "## DataLoader"
   ]
  },
  {
   "cell_type": "code",
   "execution_count": 8,
   "metadata": {},
   "outputs": [],
   "source": [
    "test_dir = '/nfs/home/peern/LOBS5/data/test/'"
   ]
  },
  {
   "cell_type": "code",
   "execution_count": 17,
   "metadata": {},
   "outputs": [
    {
     "data": {
      "text/plain": [
       "['/nfs/home/peern/LOBS5/data/GOOG_2023-01-03_34200000_57600000_message_10_proc.npy',\n",
       " '/nfs/home/peern/LOBS5/data/GOOG_2023-01-04_34200000_57600000_message_10_proc.npy',\n",
       " '/nfs/home/peern/LOBS5/data/GOOG_2023-01-05_34200000_57600000_message_10_proc.npy',\n",
       " '/nfs/home/peern/LOBS5/data/GOOG_2023-01-06_34200000_57600000_message_10_proc.npy',\n",
       " '/nfs/home/peern/LOBS5/data/GOOG_2023-01-09_34200000_57600000_message_10_proc.npy',\n",
       " '/nfs/home/peern/LOBS5/data/GOOG_2023-01-10_34200000_57600000_message_10_proc.npy',\n",
       " '/nfs/home/peern/LOBS5/data/GOOG_2023-01-30_34200000_57600000_message_10_proc.npy',\n",
       " '/nfs/home/peern/LOBS5/data/GOOG_2023-01-31_34200000_57600000_message_10_proc.npy']"
      ]
     },
     "execution_count": 17,
     "metadata": {},
     "output_type": "execute_result"
    }
   ],
   "source": [
    "messages = sorted(glob(save_dir + '*message*.npy'))\n",
    "messages"
   ]
  },
  {
   "cell_type": "code",
   "execution_count": 18,
   "metadata": {},
   "outputs": [
    {
     "data": {
      "text/plain": [
       "['/nfs/home/peern/LOBS5/data/GOOG_2023-01-03_34200000_57600000_orderbook_10_proc.npy',\n",
       " '/nfs/home/peern/LOBS5/data/GOOG_2023-01-04_34200000_57600000_orderbook_10_proc.npy',\n",
       " '/nfs/home/peern/LOBS5/data/GOOG_2023-01-05_34200000_57600000_orderbook_10_proc.npy',\n",
       " '/nfs/home/peern/LOBS5/data/GOOG_2023-01-06_34200000_57600000_orderbook_10_proc.npy',\n",
       " '/nfs/home/peern/LOBS5/data/GOOG_2023-01-09_34200000_57600000_orderbook_10_proc.npy',\n",
       " '/nfs/home/peern/LOBS5/data/GOOG_2023-01-10_34200000_57600000_orderbook_10_proc.npy',\n",
       " '/nfs/home/peern/LOBS5/data/GOOG_2023-01-30_34200000_57600000_orderbook_10_proc.npy',\n",
       " '/nfs/home/peern/LOBS5/data/GOOG_2023-01-31_34200000_57600000_orderbook_10_proc.npy']"
      ]
     },
     "execution_count": 18,
     "metadata": {},
     "output_type": "execute_result"
    }
   ],
   "source": [
    "books = sorted(glob(save_dir + '*book*.npy'))\n",
    "books"
   ]
  },
  {
   "cell_type": "code",
   "execution_count": 26,
   "metadata": {},
   "outputs": [
    {
     "data": {
      "text/plain": [
       "(memmap([  4, 983, 550, ...,   2,   2,   2]),\n",
       " array([2]),\n",
       " memmap([[0, 0, 0, ..., 0, 0, 0],\n",
       "         [0, 0, 0, ..., 0, 0, 0],\n",
       "         [0, 0, 0, ..., 0, 0, 0],\n",
       "         ...,\n",
       "         [0, 0, 0, ..., 0, 0, 0],\n",
       "         [0, 0, 0, ..., 0, 0, 0],\n",
       "         [0, 0, 0, ..., 0, 0, 0]]))"
      ]
     },
     "execution_count": 26,
     "metadata": {},
     "output_type": "execute_result"
    }
   ],
   "source": [
    "#%%snakeviz -t\n",
    "\n",
    "d = LOBSTER_Dataset(\n",
    "    message_files=messages,\n",
    "    book_files=books,\n",
    "    n_messages=500,\n",
    "    n_cache_files=0,\n",
    "    mask_fn=LOBSTER_Dataset.random_mask,\n",
    "    randomize_offset=True,\n",
    "    seed=42\n",
    ")\n",
    "\n",
    "d[900]"
   ]
  },
  {
   "cell_type": "code",
   "execution_count": 7,
   "metadata": {},
   "outputs": [
    {
     "data": {
      "text/plain": [
       "37627"
      ]
     },
     "execution_count": 7,
     "metadata": {},
     "output_type": "execute_result"
    }
   ],
   "source": [
    "len(d)"
   ]
  },
  {
   "cell_type": "code",
   "execution_count": 8,
   "metadata": {},
   "outputs": [
    {
     "data": {
      "text/plain": [
       "{0: 44, 1: 386, 2: 327, 3: 219, 4: 216, 5: 429, 6: 42, 7: 348}"
      ]
     },
     "execution_count": 8,
     "metadata": {},
     "output_type": "execute_result"
    }
   ],
   "source": [
    "d.seq_offsets"
   ]
  },
  {
   "cell_type": "code",
   "execution_count": 11,
   "metadata": {},
   "outputs": [
    {
     "data": {
      "text/plain": [
       "array([  3,   3, 201, ...,   2,   2,   2])"
      ]
     },
     "execution_count": 11,
     "metadata": {},
     "output_type": "execute_result"
    }
   ],
   "source": [
    "d[0][0]#.shape"
   ]
  },
  {
   "cell_type": "code",
   "execution_count": 228,
   "metadata": {},
   "outputs": [],
   "source": [
    "sub = LOBSTER_Subset(d, [2, 3, 7, 7000, 7001, 7002, 7003])"
   ]
  },
  {
   "cell_type": "code",
   "execution_count": 229,
   "metadata": {},
   "outputs": [],
   "source": [
    "ls = LOBSTER_Sampler(sub, n_files_shuffle=1, batch_size=2, seed=42)"
   ]
  },
  {
   "cell_type": "code",
   "execution_count": 230,
   "metadata": {},
   "outputs": [
    {
     "name": "stdout",
     "output_type": "stream",
     "text": [
      "[7002, 7000]\n",
      "[7003, 7001]\n",
      "[2, 7]\n"
     ]
    }
   ],
   "source": [
    "for i, e in enumerate(ls):\n",
    "    print(e)\n",
    "    if i > 20:\n",
    "        break"
   ]
  },
  {
   "cell_type": "code",
   "execution_count": 6,
   "metadata": {},
   "outputs": [
    {
     "data": {
      "text/plain": [
       "['/nfs/home/peern/LOBS5/data/raw/GOOG_2023-01-30_34200000_57600000_message_10.csv',\n",
       " '/nfs/home/peern/LOBS5/data/raw/GOOG_2023-01-31_34200000_57600000_message_10.csv']"
      ]
     },
     "execution_count": 6,
     "metadata": {},
     "output_type": "execute_result"
    }
   ],
   "source": [
    "message_files"
   ]
  },
  {
   "cell_type": "code",
   "execution_count": 96,
   "metadata": {},
   "outputs": [],
   "source": [
    "dataset_obj = LOBSTER(\n",
    "    'lobster',\n",
    "    data_dir='/nfs/home/peern/LOBS5/data/raw/',\n",
    "    mask_fn=LOBSTER_Dataset.random_mask\n",
    ")\n",
    "dataset_obj.setup()"
   ]
  },
  {
   "cell_type": "code",
   "execution_count": 80,
   "metadata": {},
   "outputs": [
    {
     "data": {
      "text/plain": [
       "4025"
      ]
     },
     "execution_count": 80,
     "metadata": {},
     "output_type": "execute_result"
    }
   ],
   "source": [
    "len(dataset_obj.dataset_train)"
   ]
  },
  {
   "cell_type": "code",
   "execution_count": 81,
   "metadata": {},
   "outputs": [
    {
     "data": {
      "text/plain": [
       "365"
      ]
     },
     "execution_count": 81,
     "metadata": {},
     "output_type": "execute_result"
    }
   ],
   "source": [
    "len(dataset_obj.dataset_test)"
   ]
  },
  {
   "cell_type": "code",
   "execution_count": 82,
   "metadata": {},
   "outputs": [
    {
     "data": {
      "text/plain": [
       "448"
      ]
     },
     "execution_count": 82,
     "metadata": {},
     "output_type": "execute_result"
    }
   ],
   "source": [
    "len(dataset_obj.dataset_val)"
   ]
  },
  {
   "cell_type": "code",
   "execution_count": 99,
   "metadata": {},
   "outputs": [],
   "source": [
    "sampler = LOBSTER_Sampler(dataset_obj.dataset_train, n_files_shuffle=1, batch_size=16, seed=42)"
   ]
  },
  {
   "cell_type": "code",
   "execution_count": 100,
   "metadata": {},
   "outputs": [
    {
     "data": {
      "text/plain": [
       "4024"
      ]
     },
     "execution_count": 100,
     "metadata": {},
     "output_type": "execute_result"
    }
   ],
   "source": [
    "max(dataset_obj.dataset_train.indices_on_day[0])"
   ]
  },
  {
   "cell_type": "code",
   "execution_count": 106,
   "metadata": {},
   "outputs": [
    {
     "name": "stdout",
     "output_type": "stream",
     "text": [
      "0\n",
      "[2708, 933, 3166, 1185, 326, 3503, 953, 3549, 413, 3973, 3981, 1857, 2603, 3416, 1494, 666]\n",
      "16\n",
      "(16, 10000)\n"
     ]
    }
   ],
   "source": [
    "for i, batch_idxs in enumerate(sampler):\n",
    "    print(i)\n",
    "    print(batch_idxs)\n",
    "    data = dataset_obj.dataset_train[batch_idxs]\n",
    "    print(len(data[0]))\n",
    "    batch = jnp.array(data[0])\n",
    "    print(batch.shape)\n",
    "    #print('data', dataset_obj.dataset_train[i])\n",
    "    #print(data)\n",
    "    #print(len(data))\n",
    "    #print(len(data[0]))\n",
    "    #print(len(data[1]))\n",
    "    break\n",
    "    "
   ]
  },
  {
   "cell_type": "code",
   "execution_count": 61,
   "metadata": {},
   "outputs": [
    {
     "data": {
      "text/plain": [
       "{0: 44, 1: 386}"
      ]
     },
     "execution_count": 61,
     "metadata": {},
     "output_type": "execute_result"
    }
   ],
   "source": [
    "d.seq_offsets"
   ]
  },
  {
   "cell_type": "code",
   "execution_count": 50,
   "metadata": {},
   "outputs": [
    {
     "data": {
      "text/plain": [
       "(0, 44)"
      ]
     },
     "execution_count": 50,
     "metadata": {},
     "output_type": "execute_result"
    }
   ],
   "source": [
    "d._get_seq_location(0)"
   ]
  },
  {
   "cell_type": "code",
   "execution_count": 19,
   "metadata": {},
   "outputs": [
    {
     "data": {
      "text/plain": [
       "4065500"
      ]
     },
     "execution_count": 19,
     "metadata": {},
     "output_type": "execute_result"
    }
   ],
   "source": [
    "8131 * 500"
   ]
  },
  {
   "cell_type": "code",
   "execution_count": 17,
   "metadata": {},
   "outputs": [
    {
     "data": {
      "text/plain": [
       "(array([  3,   4, 703, ...,   2,   2,   2]), array([11110]))"
      ]
     },
     "execution_count": 17,
     "metadata": {},
     "output_type": "execute_result"
    }
   ],
   "source": [
    "d[2]"
   ]
  },
  {
   "cell_type": "code",
   "execution_count": 169,
   "metadata": {},
   "outputs": [
    {
     "ename": "TypeError",
     "evalue": "__init__() missing 1 required positional argument: 'mask_fn'",
     "output_type": "error",
     "traceback": [
      "\u001b[0;31m---------------------------------------------------------------------------\u001b[0m",
      "\u001b[0;31mTypeError\u001b[0m                                 Traceback (most recent call last)",
      "\u001b[0;32m/tmp/ipykernel_4472/89712751.py\u001b[0m in \u001b[0;36m<cell line: 1>\u001b[0;34m()\u001b[0m\n\u001b[0;32m----> 1\u001b[0;31m \u001b[0md\u001b[0m \u001b[0;34m=\u001b[0m \u001b[0mLOBSTER_Dataset\u001b[0m\u001b[0;34m(\u001b[0m\u001b[0mmessage_files\u001b[0m\u001b[0;34m=\u001b[0m\u001b[0mmessages\u001b[0m\u001b[0;34m,\u001b[0m \u001b[0mn_messages\u001b[0m\u001b[0;34m=\u001b[0m\u001b[0;36m500\u001b[0m\u001b[0;34m,\u001b[0m \u001b[0mn_buffer_files\u001b[0m\u001b[0;34m=\u001b[0m\u001b[0;36m2\u001b[0m\u001b[0;34m)\u001b[0m\u001b[0;34m\u001b[0m\u001b[0;34m\u001b[0m\u001b[0m\n\u001b[0m\u001b[1;32m      2\u001b[0m \u001b[0;34m\u001b[0m\u001b[0m\n\u001b[1;32m      3\u001b[0m \u001b[0mstart_time\u001b[0m \u001b[0;34m=\u001b[0m \u001b[0mtime\u001b[0m\u001b[0;34m.\u001b[0m\u001b[0mtime\u001b[0m\u001b[0;34m(\u001b[0m\u001b[0;34m)\u001b[0m\u001b[0;34m\u001b[0m\u001b[0;34m\u001b[0m\u001b[0m\n\u001b[1;32m      4\u001b[0m \u001b[0;34m\u001b[0m\u001b[0m\n\u001b[1;32m      5\u001b[0m \u001b[0;32mfor\u001b[0m \u001b[0mi\u001b[0m \u001b[0;32min\u001b[0m \u001b[0mrange\u001b[0m\u001b[0;34m(\u001b[0m\u001b[0;36m5000\u001b[0m\u001b[0;34m)\u001b[0m\u001b[0;34m:\u001b[0m\u001b[0;34m\u001b[0m\u001b[0;34m\u001b[0m\u001b[0m\n",
      "\u001b[0;31mTypeError\u001b[0m: __init__() missing 1 required positional argument: 'mask_fn'"
     ]
    }
   ],
   "source": [
    "d = LOBSTER_Dataset(message_files=messages, n_messages=500, n_cache_files=2)\n",
    "\n",
    "start_time = time.time()\n",
    "\n",
    "for i in range(5000):\n",
    "    d[i]\n",
    "\n",
    "print(\"--- %s seconds ---\" % (time.time() - start_time))"
   ]
  },
  {
   "cell_type": "code",
   "execution_count": 358,
   "metadata": {},
   "outputs": [],
   "source": [
    "d = LOBSTER_Dataset(\n",
    "    message_files=messages,\n",
    "    n_messages=500,\n",
    "    n_cache_files=2,\n",
    "    seed=42,\n",
    "    mask_fn=LOBSTER_Dataset.causal_mask)\n"
   ]
  },
  {
   "cell_type": "code",
   "execution_count": 359,
   "metadata": {},
   "outputs": [],
   "source": [
    "X, y = d[2]"
   ]
  },
  {
   "cell_type": "code",
   "execution_count": 360,
   "metadata": {},
   "outputs": [
    {
     "data": {
      "text/plain": [
       "array([    3,     4,   176,   529,   920,  1006,  1091, 11108, 11007,\n",
       "       11110,     2,     2,     2,     2,     2,     2,     0,     2,\n",
       "           2,     2])"
      ]
     },
     "execution_count": 360,
     "metadata": {},
     "output_type": "execute_result"
    }
   ],
   "source": [
    "X[-20:]"
   ]
  },
  {
   "cell_type": "code",
   "execution_count": 361,
   "metadata": {},
   "outputs": [
    {
     "data": {
      "text/plain": [
       "array([2])"
      ]
     },
     "execution_count": 361,
     "metadata": {},
     "output_type": "execute_result"
    }
   ],
   "source": [
    "y"
   ]
  },
  {
   "cell_type": "code",
   "execution_count": null,
   "metadata": {},
   "outputs": [],
   "source": []
  },
  {
   "cell_type": "code",
   "execution_count": 8,
   "metadata": {},
   "outputs": [
    {
     "data": {
      "text/plain": [
       "{'time': {'000': 3,\n",
       "  '001': 4,\n",
       "  '002': 5,\n",
       "  '003': 6,\n",
       "  '004': 7,\n",
       "  '005': 8,\n",
       "  '006': 9,\n",
       "  '007': 10,\n",
       "  '008': 11,\n",
       "  '009': 12,\n",
       "  '010': 13,\n",
       "  '011': 14,\n",
       "  '012': 15,\n",
       "  '013': 16,\n",
       "  '014': 17,\n",
       "  '015': 18,\n",
       "  '016': 19,\n",
       "  '017': 20,\n",
       "  '018': 21,\n",
       "  '019': 22,\n",
       "  '020': 23,\n",
       "  '021': 24,\n",
       "  '022': 25,\n",
       "  '023': 26,\n",
       "  '024': 27,\n",
       "  '025': 28,\n",
       "  '026': 29,\n",
       "  '027': 30,\n",
       "  '028': 31,\n",
       "  '029': 32,\n",
       "  '030': 33,\n",
       "  '031': 34,\n",
       "  '032': 35,\n",
       "  '033': 36,\n",
       "  '034': 37,\n",
       "  '035': 38,\n",
       "  '036': 39,\n",
       "  '037': 40,\n",
       "  '038': 41,\n",
       "  '039': 42,\n",
       "  '040': 43,\n",
       "  '041': 44,\n",
       "  '042': 45,\n",
       "  '043': 46,\n",
       "  '044': 47,\n",
       "  '045': 48,\n",
       "  '046': 49,\n",
       "  '047': 50,\n",
       "  '048': 51,\n",
       "  '049': 52,\n",
       "  '050': 53,\n",
       "  '051': 54,\n",
       "  '052': 55,\n",
       "  '053': 56,\n",
       "  '054': 57,\n",
       "  '055': 58,\n",
       "  '056': 59,\n",
       "  '057': 60,\n",
       "  '058': 61,\n",
       "  '059': 62,\n",
       "  '060': 63,\n",
       "  '061': 64,\n",
       "  '062': 65,\n",
       "  '063': 66,\n",
       "  '064': 67,\n",
       "  '065': 68,\n",
       "  '066': 69,\n",
       "  '067': 70,\n",
       "  '068': 71,\n",
       "  '069': 72,\n",
       "  '070': 73,\n",
       "  '071': 74,\n",
       "  '072': 75,\n",
       "  '073': 76,\n",
       "  '074': 77,\n",
       "  '075': 78,\n",
       "  '076': 79,\n",
       "  '077': 80,\n",
       "  '078': 81,\n",
       "  '079': 82,\n",
       "  '080': 83,\n",
       "  '081': 84,\n",
       "  '082': 85,\n",
       "  '083': 86,\n",
       "  '084': 87,\n",
       "  '085': 88,\n",
       "  '086': 89,\n",
       "  '087': 90,\n",
       "  '088': 91,\n",
       "  '089': 92,\n",
       "  '090': 93,\n",
       "  '091': 94,\n",
       "  '092': 95,\n",
       "  '093': 96,\n",
       "  '094': 97,\n",
       "  '095': 98,\n",
       "  '096': 99,\n",
       "  '097': 100,\n",
       "  '098': 101,\n",
       "  '099': 102,\n",
       "  '100': 103,\n",
       "  '101': 104,\n",
       "  '102': 105,\n",
       "  '103': 106,\n",
       "  '104': 107,\n",
       "  '105': 108,\n",
       "  '106': 109,\n",
       "  '107': 110,\n",
       "  '108': 111,\n",
       "  '109': 112,\n",
       "  '110': 113,\n",
       "  '111': 114,\n",
       "  '112': 115,\n",
       "  '113': 116,\n",
       "  '114': 117,\n",
       "  '115': 118,\n",
       "  '116': 119,\n",
       "  '117': 120,\n",
       "  '118': 121,\n",
       "  '119': 122,\n",
       "  '120': 123,\n",
       "  '121': 124,\n",
       "  '122': 125,\n",
       "  '123': 126,\n",
       "  '124': 127,\n",
       "  '125': 128,\n",
       "  '126': 129,\n",
       "  '127': 130,\n",
       "  '128': 131,\n",
       "  '129': 132,\n",
       "  '130': 133,\n",
       "  '131': 134,\n",
       "  '132': 135,\n",
       "  '133': 136,\n",
       "  '134': 137,\n",
       "  '135': 138,\n",
       "  '136': 139,\n",
       "  '137': 140,\n",
       "  '138': 141,\n",
       "  '139': 142,\n",
       "  '140': 143,\n",
       "  '141': 144,\n",
       "  '142': 145,\n",
       "  '143': 146,\n",
       "  '144': 147,\n",
       "  '145': 148,\n",
       "  '146': 149,\n",
       "  '147': 150,\n",
       "  '148': 151,\n",
       "  '149': 152,\n",
       "  '150': 153,\n",
       "  '151': 154,\n",
       "  '152': 155,\n",
       "  '153': 156,\n",
       "  '154': 157,\n",
       "  '155': 158,\n",
       "  '156': 159,\n",
       "  '157': 160,\n",
       "  '158': 161,\n",
       "  '159': 162,\n",
       "  '160': 163,\n",
       "  '161': 164,\n",
       "  '162': 165,\n",
       "  '163': 166,\n",
       "  '164': 167,\n",
       "  '165': 168,\n",
       "  '166': 169,\n",
       "  '167': 170,\n",
       "  '168': 171,\n",
       "  '169': 172,\n",
       "  '170': 173,\n",
       "  '171': 174,\n",
       "  '172': 175,\n",
       "  '173': 176,\n",
       "  '174': 177,\n",
       "  '175': 178,\n",
       "  '176': 179,\n",
       "  '177': 180,\n",
       "  '178': 181,\n",
       "  '179': 182,\n",
       "  '180': 183,\n",
       "  '181': 184,\n",
       "  '182': 185,\n",
       "  '183': 186,\n",
       "  '184': 187,\n",
       "  '185': 188,\n",
       "  '186': 189,\n",
       "  '187': 190,\n",
       "  '188': 191,\n",
       "  '189': 192,\n",
       "  '190': 193,\n",
       "  '191': 194,\n",
       "  '192': 195,\n",
       "  '193': 196,\n",
       "  '194': 197,\n",
       "  '195': 198,\n",
       "  '196': 199,\n",
       "  '197': 200,\n",
       "  '198': 201,\n",
       "  '199': 202,\n",
       "  '200': 203,\n",
       "  '201': 204,\n",
       "  '202': 205,\n",
       "  '203': 206,\n",
       "  '204': 207,\n",
       "  '205': 208,\n",
       "  '206': 209,\n",
       "  '207': 210,\n",
       "  '208': 211,\n",
       "  '209': 212,\n",
       "  '210': 213,\n",
       "  '211': 214,\n",
       "  '212': 215,\n",
       "  '213': 216,\n",
       "  '214': 217,\n",
       "  '215': 218,\n",
       "  '216': 219,\n",
       "  '217': 220,\n",
       "  '218': 221,\n",
       "  '219': 222,\n",
       "  '220': 223,\n",
       "  '221': 224,\n",
       "  '222': 225,\n",
       "  '223': 226,\n",
       "  '224': 227,\n",
       "  '225': 228,\n",
       "  '226': 229,\n",
       "  '227': 230,\n",
       "  '228': 231,\n",
       "  '229': 232,\n",
       "  '230': 233,\n",
       "  '231': 234,\n",
       "  '232': 235,\n",
       "  '233': 236,\n",
       "  '234': 237,\n",
       "  '235': 238,\n",
       "  '236': 239,\n",
       "  '237': 240,\n",
       "  '238': 241,\n",
       "  '239': 242,\n",
       "  '240': 243,\n",
       "  '241': 244,\n",
       "  '242': 245,\n",
       "  '243': 246,\n",
       "  '244': 247,\n",
       "  '245': 248,\n",
       "  '246': 249,\n",
       "  '247': 250,\n",
       "  '248': 251,\n",
       "  '249': 252,\n",
       "  '250': 253,\n",
       "  '251': 254,\n",
       "  '252': 255,\n",
       "  '253': 256,\n",
       "  '254': 257,\n",
       "  '255': 258,\n",
       "  '256': 259,\n",
       "  '257': 260,\n",
       "  '258': 261,\n",
       "  '259': 262,\n",
       "  '260': 263,\n",
       "  '261': 264,\n",
       "  '262': 265,\n",
       "  '263': 266,\n",
       "  '264': 267,\n",
       "  '265': 268,\n",
       "  '266': 269,\n",
       "  '267': 270,\n",
       "  '268': 271,\n",
       "  '269': 272,\n",
       "  '270': 273,\n",
       "  '271': 274,\n",
       "  '272': 275,\n",
       "  '273': 276,\n",
       "  '274': 277,\n",
       "  '275': 278,\n",
       "  '276': 279,\n",
       "  '277': 280,\n",
       "  '278': 281,\n",
       "  '279': 282,\n",
       "  '280': 283,\n",
       "  '281': 284,\n",
       "  '282': 285,\n",
       "  '283': 286,\n",
       "  '284': 287,\n",
       "  '285': 288,\n",
       "  '286': 289,\n",
       "  '287': 290,\n",
       "  '288': 291,\n",
       "  '289': 292,\n",
       "  '290': 293,\n",
       "  '291': 294,\n",
       "  '292': 295,\n",
       "  '293': 296,\n",
       "  '294': 297,\n",
       "  '295': 298,\n",
       "  '296': 299,\n",
       "  '297': 300,\n",
       "  '298': 301,\n",
       "  '299': 302,\n",
       "  '300': 303,\n",
       "  '301': 304,\n",
       "  '302': 305,\n",
       "  '303': 306,\n",
       "  '304': 307,\n",
       "  '305': 308,\n",
       "  '306': 309,\n",
       "  '307': 310,\n",
       "  '308': 311,\n",
       "  '309': 312,\n",
       "  '310': 313,\n",
       "  '311': 314,\n",
       "  '312': 315,\n",
       "  '313': 316,\n",
       "  '314': 317,\n",
       "  '315': 318,\n",
       "  '316': 319,\n",
       "  '317': 320,\n",
       "  '318': 321,\n",
       "  '319': 322,\n",
       "  '320': 323,\n",
       "  '321': 324,\n",
       "  '322': 325,\n",
       "  '323': 326,\n",
       "  '324': 327,\n",
       "  '325': 328,\n",
       "  '326': 329,\n",
       "  '327': 330,\n",
       "  '328': 331,\n",
       "  '329': 332,\n",
       "  '330': 333,\n",
       "  '331': 334,\n",
       "  '332': 335,\n",
       "  '333': 336,\n",
       "  '334': 337,\n",
       "  '335': 338,\n",
       "  '336': 339,\n",
       "  '337': 340,\n",
       "  '338': 341,\n",
       "  '339': 342,\n",
       "  '340': 343,\n",
       "  '341': 344,\n",
       "  '342': 345,\n",
       "  '343': 346,\n",
       "  '344': 347,\n",
       "  '345': 348,\n",
       "  '346': 349,\n",
       "  '347': 350,\n",
       "  '348': 351,\n",
       "  '349': 352,\n",
       "  '350': 353,\n",
       "  '351': 354,\n",
       "  '352': 355,\n",
       "  '353': 356,\n",
       "  '354': 357,\n",
       "  '355': 358,\n",
       "  '356': 359,\n",
       "  '357': 360,\n",
       "  '358': 361,\n",
       "  '359': 362,\n",
       "  '360': 363,\n",
       "  '361': 364,\n",
       "  '362': 365,\n",
       "  '363': 366,\n",
       "  '364': 367,\n",
       "  '365': 368,\n",
       "  '366': 369,\n",
       "  '367': 370,\n",
       "  '368': 371,\n",
       "  '369': 372,\n",
       "  '370': 373,\n",
       "  '371': 374,\n",
       "  '372': 375,\n",
       "  '373': 376,\n",
       "  '374': 377,\n",
       "  '375': 378,\n",
       "  '376': 379,\n",
       "  '377': 380,\n",
       "  '378': 381,\n",
       "  '379': 382,\n",
       "  '380': 383,\n",
       "  '381': 384,\n",
       "  '382': 385,\n",
       "  '383': 386,\n",
       "  '384': 387,\n",
       "  '385': 388,\n",
       "  '386': 389,\n",
       "  '387': 390,\n",
       "  '388': 391,\n",
       "  '389': 392,\n",
       "  '390': 393,\n",
       "  '391': 394,\n",
       "  '392': 395,\n",
       "  '393': 396,\n",
       "  '394': 397,\n",
       "  '395': 398,\n",
       "  '396': 399,\n",
       "  '397': 400,\n",
       "  '398': 401,\n",
       "  '399': 402,\n",
       "  '400': 403,\n",
       "  '401': 404,\n",
       "  '402': 405,\n",
       "  '403': 406,\n",
       "  '404': 407,\n",
       "  '405': 408,\n",
       "  '406': 409,\n",
       "  '407': 410,\n",
       "  '408': 411,\n",
       "  '409': 412,\n",
       "  '410': 413,\n",
       "  '411': 414,\n",
       "  '412': 415,\n",
       "  '413': 416,\n",
       "  '414': 417,\n",
       "  '415': 418,\n",
       "  '416': 419,\n",
       "  '417': 420,\n",
       "  '418': 421,\n",
       "  '419': 422,\n",
       "  '420': 423,\n",
       "  '421': 424,\n",
       "  '422': 425,\n",
       "  '423': 426,\n",
       "  '424': 427,\n",
       "  '425': 428,\n",
       "  '426': 429,\n",
       "  '427': 430,\n",
       "  '428': 431,\n",
       "  '429': 432,\n",
       "  '430': 433,\n",
       "  '431': 434,\n",
       "  '432': 435,\n",
       "  '433': 436,\n",
       "  '434': 437,\n",
       "  '435': 438,\n",
       "  '436': 439,\n",
       "  '437': 440,\n",
       "  '438': 441,\n",
       "  '439': 442,\n",
       "  '440': 443,\n",
       "  '441': 444,\n",
       "  '442': 445,\n",
       "  '443': 446,\n",
       "  '444': 447,\n",
       "  '445': 448,\n",
       "  '446': 449,\n",
       "  '447': 450,\n",
       "  '448': 451,\n",
       "  '449': 452,\n",
       "  '450': 453,\n",
       "  '451': 454,\n",
       "  '452': 455,\n",
       "  '453': 456,\n",
       "  '454': 457,\n",
       "  '455': 458,\n",
       "  '456': 459,\n",
       "  '457': 460,\n",
       "  '458': 461,\n",
       "  '459': 462,\n",
       "  '460': 463,\n",
       "  '461': 464,\n",
       "  '462': 465,\n",
       "  '463': 466,\n",
       "  '464': 467,\n",
       "  '465': 468,\n",
       "  '466': 469,\n",
       "  '467': 470,\n",
       "  '468': 471,\n",
       "  '469': 472,\n",
       "  '470': 473,\n",
       "  '471': 474,\n",
       "  '472': 475,\n",
       "  '473': 476,\n",
       "  '474': 477,\n",
       "  '475': 478,\n",
       "  '476': 479,\n",
       "  '477': 480,\n",
       "  '478': 481,\n",
       "  '479': 482,\n",
       "  '480': 483,\n",
       "  '481': 484,\n",
       "  '482': 485,\n",
       "  '483': 486,\n",
       "  '484': 487,\n",
       "  '485': 488,\n",
       "  '486': 489,\n",
       "  '487': 490,\n",
       "  '488': 491,\n",
       "  '489': 492,\n",
       "  '490': 493,\n",
       "  '491': 494,\n",
       "  '492': 495,\n",
       "  '493': 496,\n",
       "  '494': 497,\n",
       "  '495': 498,\n",
       "  '496': 499,\n",
       "  '497': 500,\n",
       "  '498': 501,\n",
       "  '499': 502,\n",
       "  '500': 503,\n",
       "  '501': 504,\n",
       "  '502': 505,\n",
       "  '503': 506,\n",
       "  '504': 507,\n",
       "  '505': 508,\n",
       "  '506': 509,\n",
       "  '507': 510,\n",
       "  '508': 511,\n",
       "  '509': 512,\n",
       "  '510': 513,\n",
       "  '511': 514,\n",
       "  '512': 515,\n",
       "  '513': 516,\n",
       "  '514': 517,\n",
       "  '515': 518,\n",
       "  '516': 519,\n",
       "  '517': 520,\n",
       "  '518': 521,\n",
       "  '519': 522,\n",
       "  '520': 523,\n",
       "  '521': 524,\n",
       "  '522': 525,\n",
       "  '523': 526,\n",
       "  '524': 527,\n",
       "  '525': 528,\n",
       "  '526': 529,\n",
       "  '527': 530,\n",
       "  '528': 531,\n",
       "  '529': 532,\n",
       "  '530': 533,\n",
       "  '531': 534,\n",
       "  '532': 535,\n",
       "  '533': 536,\n",
       "  '534': 537,\n",
       "  '535': 538,\n",
       "  '536': 539,\n",
       "  '537': 540,\n",
       "  '538': 541,\n",
       "  '539': 542,\n",
       "  '540': 543,\n",
       "  '541': 544,\n",
       "  '542': 545,\n",
       "  '543': 546,\n",
       "  '544': 547,\n",
       "  '545': 548,\n",
       "  '546': 549,\n",
       "  '547': 550,\n",
       "  '548': 551,\n",
       "  '549': 552,\n",
       "  '550': 553,\n",
       "  '551': 554,\n",
       "  '552': 555,\n",
       "  '553': 556,\n",
       "  '554': 557,\n",
       "  '555': 558,\n",
       "  '556': 559,\n",
       "  '557': 560,\n",
       "  '558': 561,\n",
       "  '559': 562,\n",
       "  '560': 563,\n",
       "  '561': 564,\n",
       "  '562': 565,\n",
       "  '563': 566,\n",
       "  '564': 567,\n",
       "  '565': 568,\n",
       "  '566': 569,\n",
       "  '567': 570,\n",
       "  '568': 571,\n",
       "  '569': 572,\n",
       "  '570': 573,\n",
       "  '571': 574,\n",
       "  '572': 575,\n",
       "  '573': 576,\n",
       "  '574': 577,\n",
       "  '575': 578,\n",
       "  '576': 579,\n",
       "  '577': 580,\n",
       "  '578': 581,\n",
       "  '579': 582,\n",
       "  '580': 583,\n",
       "  '581': 584,\n",
       "  '582': 585,\n",
       "  '583': 586,\n",
       "  '584': 587,\n",
       "  '585': 588,\n",
       "  '586': 589,\n",
       "  '587': 590,\n",
       "  '588': 591,\n",
       "  '589': 592,\n",
       "  '590': 593,\n",
       "  '591': 594,\n",
       "  '592': 595,\n",
       "  '593': 596,\n",
       "  '594': 597,\n",
       "  '595': 598,\n",
       "  '596': 599,\n",
       "  '597': 600,\n",
       "  '598': 601,\n",
       "  '599': 602,\n",
       "  '600': 603,\n",
       "  '601': 604,\n",
       "  '602': 605,\n",
       "  '603': 606,\n",
       "  '604': 607,\n",
       "  '605': 608,\n",
       "  '606': 609,\n",
       "  '607': 610,\n",
       "  '608': 611,\n",
       "  '609': 612,\n",
       "  '610': 613,\n",
       "  '611': 614,\n",
       "  '612': 615,\n",
       "  '613': 616,\n",
       "  '614': 617,\n",
       "  '615': 618,\n",
       "  '616': 619,\n",
       "  '617': 620,\n",
       "  '618': 621,\n",
       "  '619': 622,\n",
       "  '620': 623,\n",
       "  '621': 624,\n",
       "  '622': 625,\n",
       "  '623': 626,\n",
       "  '624': 627,\n",
       "  '625': 628,\n",
       "  '626': 629,\n",
       "  '627': 630,\n",
       "  '628': 631,\n",
       "  '629': 632,\n",
       "  '630': 633,\n",
       "  '631': 634,\n",
       "  '632': 635,\n",
       "  '633': 636,\n",
       "  '634': 637,\n",
       "  '635': 638,\n",
       "  '636': 639,\n",
       "  '637': 640,\n",
       "  '638': 641,\n",
       "  '639': 642,\n",
       "  '640': 643,\n",
       "  '641': 644,\n",
       "  '642': 645,\n",
       "  '643': 646,\n",
       "  '644': 647,\n",
       "  '645': 648,\n",
       "  '646': 649,\n",
       "  '647': 650,\n",
       "  '648': 651,\n",
       "  '649': 652,\n",
       "  '650': 653,\n",
       "  '651': 654,\n",
       "  '652': 655,\n",
       "  '653': 656,\n",
       "  '654': 657,\n",
       "  '655': 658,\n",
       "  '656': 659,\n",
       "  '657': 660,\n",
       "  '658': 661,\n",
       "  '659': 662,\n",
       "  '660': 663,\n",
       "  '661': 664,\n",
       "  '662': 665,\n",
       "  '663': 666,\n",
       "  '664': 667,\n",
       "  '665': 668,\n",
       "  '666': 669,\n",
       "  '667': 670,\n",
       "  '668': 671,\n",
       "  '669': 672,\n",
       "  '670': 673,\n",
       "  '671': 674,\n",
       "  '672': 675,\n",
       "  '673': 676,\n",
       "  '674': 677,\n",
       "  '675': 678,\n",
       "  '676': 679,\n",
       "  '677': 680,\n",
       "  '678': 681,\n",
       "  '679': 682,\n",
       "  '680': 683,\n",
       "  '681': 684,\n",
       "  '682': 685,\n",
       "  '683': 686,\n",
       "  '684': 687,\n",
       "  '685': 688,\n",
       "  '686': 689,\n",
       "  '687': 690,\n",
       "  '688': 691,\n",
       "  '689': 692,\n",
       "  '690': 693,\n",
       "  '691': 694,\n",
       "  '692': 695,\n",
       "  '693': 696,\n",
       "  '694': 697,\n",
       "  '695': 698,\n",
       "  '696': 699,\n",
       "  '697': 700,\n",
       "  '698': 701,\n",
       "  '699': 702,\n",
       "  '700': 703,\n",
       "  '701': 704,\n",
       "  '702': 705,\n",
       "  '703': 706,\n",
       "  '704': 707,\n",
       "  '705': 708,\n",
       "  '706': 709,\n",
       "  '707': 710,\n",
       "  '708': 711,\n",
       "  '709': 712,\n",
       "  '710': 713,\n",
       "  '711': 714,\n",
       "  '712': 715,\n",
       "  '713': 716,\n",
       "  '714': 717,\n",
       "  '715': 718,\n",
       "  '716': 719,\n",
       "  '717': 720,\n",
       "  '718': 721,\n",
       "  '719': 722,\n",
       "  '720': 723,\n",
       "  '721': 724,\n",
       "  '722': 725,\n",
       "  '723': 726,\n",
       "  '724': 727,\n",
       "  '725': 728,\n",
       "  '726': 729,\n",
       "  '727': 730,\n",
       "  '728': 731,\n",
       "  '729': 732,\n",
       "  '730': 733,\n",
       "  '731': 734,\n",
       "  '732': 735,\n",
       "  '733': 736,\n",
       "  '734': 737,\n",
       "  '735': 738,\n",
       "  '736': 739,\n",
       "  '737': 740,\n",
       "  '738': 741,\n",
       "  '739': 742,\n",
       "  '740': 743,\n",
       "  '741': 744,\n",
       "  '742': 745,\n",
       "  '743': 746,\n",
       "  '744': 747,\n",
       "  '745': 748,\n",
       "  '746': 749,\n",
       "  '747': 750,\n",
       "  '748': 751,\n",
       "  '749': 752,\n",
       "  '750': 753,\n",
       "  '751': 754,\n",
       "  '752': 755,\n",
       "  '753': 756,\n",
       "  '754': 757,\n",
       "  '755': 758,\n",
       "  '756': 759,\n",
       "  '757': 760,\n",
       "  '758': 761,\n",
       "  '759': 762,\n",
       "  '760': 763,\n",
       "  '761': 764,\n",
       "  '762': 765,\n",
       "  '763': 766,\n",
       "  '764': 767,\n",
       "  '765': 768,\n",
       "  '766': 769,\n",
       "  '767': 770,\n",
       "  '768': 771,\n",
       "  '769': 772,\n",
       "  '770': 773,\n",
       "  '771': 774,\n",
       "  '772': 775,\n",
       "  '773': 776,\n",
       "  '774': 777,\n",
       "  '775': 778,\n",
       "  '776': 779,\n",
       "  '777': 780,\n",
       "  '778': 781,\n",
       "  '779': 782,\n",
       "  '780': 783,\n",
       "  '781': 784,\n",
       "  '782': 785,\n",
       "  '783': 786,\n",
       "  '784': 787,\n",
       "  '785': 788,\n",
       "  '786': 789,\n",
       "  '787': 790,\n",
       "  '788': 791,\n",
       "  '789': 792,\n",
       "  '790': 793,\n",
       "  '791': 794,\n",
       "  '792': 795,\n",
       "  '793': 796,\n",
       "  '794': 797,\n",
       "  '795': 798,\n",
       "  '796': 799,\n",
       "  '797': 800,\n",
       "  '798': 801,\n",
       "  '799': 802,\n",
       "  '800': 803,\n",
       "  '801': 804,\n",
       "  '802': 805,\n",
       "  '803': 806,\n",
       "  '804': 807,\n",
       "  '805': 808,\n",
       "  '806': 809,\n",
       "  '807': 810,\n",
       "  '808': 811,\n",
       "  '809': 812,\n",
       "  '810': 813,\n",
       "  '811': 814,\n",
       "  '812': 815,\n",
       "  '813': 816,\n",
       "  '814': 817,\n",
       "  '815': 818,\n",
       "  '816': 819,\n",
       "  '817': 820,\n",
       "  '818': 821,\n",
       "  '819': 822,\n",
       "  '820': 823,\n",
       "  '821': 824,\n",
       "  '822': 825,\n",
       "  '823': 826,\n",
       "  '824': 827,\n",
       "  '825': 828,\n",
       "  '826': 829,\n",
       "  '827': 830,\n",
       "  '828': 831,\n",
       "  '829': 832,\n",
       "  '830': 833,\n",
       "  '831': 834,\n",
       "  '832': 835,\n",
       "  '833': 836,\n",
       "  '834': 837,\n",
       "  '835': 838,\n",
       "  '836': 839,\n",
       "  '837': 840,\n",
       "  '838': 841,\n",
       "  '839': 842,\n",
       "  '840': 843,\n",
       "  '841': 844,\n",
       "  '842': 845,\n",
       "  '843': 846,\n",
       "  '844': 847,\n",
       "  '845': 848,\n",
       "  '846': 849,\n",
       "  '847': 850,\n",
       "  '848': 851,\n",
       "  '849': 852,\n",
       "  '850': 853,\n",
       "  '851': 854,\n",
       "  '852': 855,\n",
       "  '853': 856,\n",
       "  '854': 857,\n",
       "  '855': 858,\n",
       "  '856': 859,\n",
       "  '857': 860,\n",
       "  '858': 861,\n",
       "  '859': 862,\n",
       "  '860': 863,\n",
       "  '861': 864,\n",
       "  '862': 865,\n",
       "  '863': 866,\n",
       "  '864': 867,\n",
       "  '865': 868,\n",
       "  '866': 869,\n",
       "  '867': 870,\n",
       "  '868': 871,\n",
       "  '869': 872,\n",
       "  '870': 873,\n",
       "  '871': 874,\n",
       "  '872': 875,\n",
       "  '873': 876,\n",
       "  '874': 877,\n",
       "  '875': 878,\n",
       "  '876': 879,\n",
       "  '877': 880,\n",
       "  '878': 881,\n",
       "  '879': 882,\n",
       "  '880': 883,\n",
       "  '881': 884,\n",
       "  '882': 885,\n",
       "  '883': 886,\n",
       "  '884': 887,\n",
       "  '885': 888,\n",
       "  '886': 889,\n",
       "  '887': 890,\n",
       "  '888': 891,\n",
       "  '889': 892,\n",
       "  '890': 893,\n",
       "  '891': 894,\n",
       "  '892': 895,\n",
       "  '893': 896,\n",
       "  '894': 897,\n",
       "  '895': 898,\n",
       "  '896': 899,\n",
       "  '897': 900,\n",
       "  '898': 901,\n",
       "  '899': 902,\n",
       "  '900': 903,\n",
       "  '901': 904,\n",
       "  '902': 905,\n",
       "  '903': 906,\n",
       "  '904': 907,\n",
       "  '905': 908,\n",
       "  '906': 909,\n",
       "  '907': 910,\n",
       "  '908': 911,\n",
       "  '909': 912,\n",
       "  '910': 913,\n",
       "  '911': 914,\n",
       "  '912': 915,\n",
       "  '913': 916,\n",
       "  '914': 917,\n",
       "  '915': 918,\n",
       "  '916': 919,\n",
       "  '917': 920,\n",
       "  '918': 921,\n",
       "  '919': 922,\n",
       "  '920': 923,\n",
       "  '921': 924,\n",
       "  '922': 925,\n",
       "  '923': 926,\n",
       "  '924': 927,\n",
       "  '925': 928,\n",
       "  '926': 929,\n",
       "  '927': 930,\n",
       "  '928': 931,\n",
       "  '929': 932,\n",
       "  '930': 933,\n",
       "  '931': 934,\n",
       "  '932': 935,\n",
       "  '933': 936,\n",
       "  '934': 937,\n",
       "  '935': 938,\n",
       "  '936': 939,\n",
       "  '937': 940,\n",
       "  '938': 941,\n",
       "  '939': 942,\n",
       "  '940': 943,\n",
       "  '941': 944,\n",
       "  '942': 945,\n",
       "  '943': 946,\n",
       "  '944': 947,\n",
       "  '945': 948,\n",
       "  '946': 949,\n",
       "  '947': 950,\n",
       "  '948': 951,\n",
       "  '949': 952,\n",
       "  '950': 953,\n",
       "  '951': 954,\n",
       "  '952': 955,\n",
       "  '953': 956,\n",
       "  '954': 957,\n",
       "  '955': 958,\n",
       "  '956': 959,\n",
       "  '957': 960,\n",
       "  '958': 961,\n",
       "  '959': 962,\n",
       "  '960': 963,\n",
       "  '961': 964,\n",
       "  '962': 965,\n",
       "  '963': 966,\n",
       "  '964': 967,\n",
       "  '965': 968,\n",
       "  '966': 969,\n",
       "  '967': 970,\n",
       "  '968': 971,\n",
       "  '969': 972,\n",
       "  '970': 973,\n",
       "  '971': 974,\n",
       "  '972': 975,\n",
       "  '973': 976,\n",
       "  '974': 977,\n",
       "  '975': 978,\n",
       "  '976': 979,\n",
       "  '977': 980,\n",
       "  '978': 981,\n",
       "  '979': 982,\n",
       "  '980': 983,\n",
       "  '981': 984,\n",
       "  '982': 985,\n",
       "  '983': 986,\n",
       "  '984': 987,\n",
       "  '985': 988,\n",
       "  '986': 989,\n",
       "  '987': 990,\n",
       "  '988': 991,\n",
       "  '989': 992,\n",
       "  '990': 993,\n",
       "  '991': 994,\n",
       "  '992': 995,\n",
       "  '993': 996,\n",
       "  '994': 997,\n",
       "  '995': 998,\n",
       "  '996': 999,\n",
       "  '997': 1000,\n",
       "  '998': 1001,\n",
       "  '999': 1002,\n",
       "  ...},\n",
       " 'event_type': {'1': 1003,\n",
       "  '2': 1004,\n",
       "  '3': 1005,\n",
       "  '4': 1006,\n",
       "  0: 'MSK',\n",
       "  1: 'HID',\n",
       "  2: 'NAN'},\n",
       " 'size': {'0000': 1007,\n",
       "  '0001': 1008,\n",
       "  '0002': 1009,\n",
       "  '0003': 1010,\n",
       "  '0004': 1011,\n",
       "  '0005': 1012,\n",
       "  '0006': 1013,\n",
       "  '0007': 1014,\n",
       "  '0008': 1015,\n",
       "  '0009': 1016,\n",
       "  '0010': 1017,\n",
       "  '0011': 1018,\n",
       "  '0012': 1019,\n",
       "  '0013': 1020,\n",
       "  '0014': 1021,\n",
       "  '0015': 1022,\n",
       "  '0016': 1023,\n",
       "  '0017': 1024,\n",
       "  '0018': 1025,\n",
       "  '0019': 1026,\n",
       "  '0020': 1027,\n",
       "  '0021': 1028,\n",
       "  '0022': 1029,\n",
       "  '0023': 1030,\n",
       "  '0024': 1031,\n",
       "  '0025': 1032,\n",
       "  '0026': 1033,\n",
       "  '0027': 1034,\n",
       "  '0028': 1035,\n",
       "  '0029': 1036,\n",
       "  '0030': 1037,\n",
       "  '0031': 1038,\n",
       "  '0032': 1039,\n",
       "  '0033': 1040,\n",
       "  '0034': 1041,\n",
       "  '0035': 1042,\n",
       "  '0036': 1043,\n",
       "  '0037': 1044,\n",
       "  '0038': 1045,\n",
       "  '0039': 1046,\n",
       "  '0040': 1047,\n",
       "  '0041': 1048,\n",
       "  '0042': 1049,\n",
       "  '0043': 1050,\n",
       "  '0044': 1051,\n",
       "  '0045': 1052,\n",
       "  '0046': 1053,\n",
       "  '0047': 1054,\n",
       "  '0048': 1055,\n",
       "  '0049': 1056,\n",
       "  '0050': 1057,\n",
       "  '0051': 1058,\n",
       "  '0052': 1059,\n",
       "  '0053': 1060,\n",
       "  '0054': 1061,\n",
       "  '0055': 1062,\n",
       "  '0056': 1063,\n",
       "  '0057': 1064,\n",
       "  '0058': 1065,\n",
       "  '0059': 1066,\n",
       "  '0060': 1067,\n",
       "  '0061': 1068,\n",
       "  '0062': 1069,\n",
       "  '0063': 1070,\n",
       "  '0064': 1071,\n",
       "  '0065': 1072,\n",
       "  '0066': 1073,\n",
       "  '0067': 1074,\n",
       "  '0068': 1075,\n",
       "  '0069': 1076,\n",
       "  '0070': 1077,\n",
       "  '0071': 1078,\n",
       "  '0072': 1079,\n",
       "  '0073': 1080,\n",
       "  '0074': 1081,\n",
       "  '0075': 1082,\n",
       "  '0076': 1083,\n",
       "  '0077': 1084,\n",
       "  '0078': 1085,\n",
       "  '0079': 1086,\n",
       "  '0080': 1087,\n",
       "  '0081': 1088,\n",
       "  '0082': 1089,\n",
       "  '0083': 1090,\n",
       "  '0084': 1091,\n",
       "  '0085': 1092,\n",
       "  '0086': 1093,\n",
       "  '0087': 1094,\n",
       "  '0088': 1095,\n",
       "  '0089': 1096,\n",
       "  '0090': 1097,\n",
       "  '0091': 1098,\n",
       "  '0092': 1099,\n",
       "  '0093': 1100,\n",
       "  '0094': 1101,\n",
       "  '0095': 1102,\n",
       "  '0096': 1103,\n",
       "  '0097': 1104,\n",
       "  '0098': 1105,\n",
       "  '0099': 1106,\n",
       "  '0100': 1107,\n",
       "  '0101': 1108,\n",
       "  '0102': 1109,\n",
       "  '0103': 1110,\n",
       "  '0104': 1111,\n",
       "  '0105': 1112,\n",
       "  '0106': 1113,\n",
       "  '0107': 1114,\n",
       "  '0108': 1115,\n",
       "  '0109': 1116,\n",
       "  '0110': 1117,\n",
       "  '0111': 1118,\n",
       "  '0112': 1119,\n",
       "  '0113': 1120,\n",
       "  '0114': 1121,\n",
       "  '0115': 1122,\n",
       "  '0116': 1123,\n",
       "  '0117': 1124,\n",
       "  '0118': 1125,\n",
       "  '0119': 1126,\n",
       "  '0120': 1127,\n",
       "  '0121': 1128,\n",
       "  '0122': 1129,\n",
       "  '0123': 1130,\n",
       "  '0124': 1131,\n",
       "  '0125': 1132,\n",
       "  '0126': 1133,\n",
       "  '0127': 1134,\n",
       "  '0128': 1135,\n",
       "  '0129': 1136,\n",
       "  '0130': 1137,\n",
       "  '0131': 1138,\n",
       "  '0132': 1139,\n",
       "  '0133': 1140,\n",
       "  '0134': 1141,\n",
       "  '0135': 1142,\n",
       "  '0136': 1143,\n",
       "  '0137': 1144,\n",
       "  '0138': 1145,\n",
       "  '0139': 1146,\n",
       "  '0140': 1147,\n",
       "  '0141': 1148,\n",
       "  '0142': 1149,\n",
       "  '0143': 1150,\n",
       "  '0144': 1151,\n",
       "  '0145': 1152,\n",
       "  '0146': 1153,\n",
       "  '0147': 1154,\n",
       "  '0148': 1155,\n",
       "  '0149': 1156,\n",
       "  '0150': 1157,\n",
       "  '0151': 1158,\n",
       "  '0152': 1159,\n",
       "  '0153': 1160,\n",
       "  '0154': 1161,\n",
       "  '0155': 1162,\n",
       "  '0156': 1163,\n",
       "  '0157': 1164,\n",
       "  '0158': 1165,\n",
       "  '0159': 1166,\n",
       "  '0160': 1167,\n",
       "  '0161': 1168,\n",
       "  '0162': 1169,\n",
       "  '0163': 1170,\n",
       "  '0164': 1171,\n",
       "  '0165': 1172,\n",
       "  '0166': 1173,\n",
       "  '0167': 1174,\n",
       "  '0168': 1175,\n",
       "  '0169': 1176,\n",
       "  '0170': 1177,\n",
       "  '0171': 1178,\n",
       "  '0172': 1179,\n",
       "  '0173': 1180,\n",
       "  '0174': 1181,\n",
       "  '0175': 1182,\n",
       "  '0176': 1183,\n",
       "  '0177': 1184,\n",
       "  '0178': 1185,\n",
       "  '0179': 1186,\n",
       "  '0180': 1187,\n",
       "  '0181': 1188,\n",
       "  '0182': 1189,\n",
       "  '0183': 1190,\n",
       "  '0184': 1191,\n",
       "  '0185': 1192,\n",
       "  '0186': 1193,\n",
       "  '0187': 1194,\n",
       "  '0188': 1195,\n",
       "  '0189': 1196,\n",
       "  '0190': 1197,\n",
       "  '0191': 1198,\n",
       "  '0192': 1199,\n",
       "  '0193': 1200,\n",
       "  '0194': 1201,\n",
       "  '0195': 1202,\n",
       "  '0196': 1203,\n",
       "  '0197': 1204,\n",
       "  '0198': 1205,\n",
       "  '0199': 1206,\n",
       "  '0200': 1207,\n",
       "  '0201': 1208,\n",
       "  '0202': 1209,\n",
       "  '0203': 1210,\n",
       "  '0204': 1211,\n",
       "  '0205': 1212,\n",
       "  '0206': 1213,\n",
       "  '0207': 1214,\n",
       "  '0208': 1215,\n",
       "  '0209': 1216,\n",
       "  '0210': 1217,\n",
       "  '0211': 1218,\n",
       "  '0212': 1219,\n",
       "  '0213': 1220,\n",
       "  '0214': 1221,\n",
       "  '0215': 1222,\n",
       "  '0216': 1223,\n",
       "  '0217': 1224,\n",
       "  '0218': 1225,\n",
       "  '0219': 1226,\n",
       "  '0220': 1227,\n",
       "  '0221': 1228,\n",
       "  '0222': 1229,\n",
       "  '0223': 1230,\n",
       "  '0224': 1231,\n",
       "  '0225': 1232,\n",
       "  '0226': 1233,\n",
       "  '0227': 1234,\n",
       "  '0228': 1235,\n",
       "  '0229': 1236,\n",
       "  '0230': 1237,\n",
       "  '0231': 1238,\n",
       "  '0232': 1239,\n",
       "  '0233': 1240,\n",
       "  '0234': 1241,\n",
       "  '0235': 1242,\n",
       "  '0236': 1243,\n",
       "  '0237': 1244,\n",
       "  '0238': 1245,\n",
       "  '0239': 1246,\n",
       "  '0240': 1247,\n",
       "  '0241': 1248,\n",
       "  '0242': 1249,\n",
       "  '0243': 1250,\n",
       "  '0244': 1251,\n",
       "  '0245': 1252,\n",
       "  '0246': 1253,\n",
       "  '0247': 1254,\n",
       "  '0248': 1255,\n",
       "  '0249': 1256,\n",
       "  '0250': 1257,\n",
       "  '0251': 1258,\n",
       "  '0252': 1259,\n",
       "  '0253': 1260,\n",
       "  '0254': 1261,\n",
       "  '0255': 1262,\n",
       "  '0256': 1263,\n",
       "  '0257': 1264,\n",
       "  '0258': 1265,\n",
       "  '0259': 1266,\n",
       "  '0260': 1267,\n",
       "  '0261': 1268,\n",
       "  '0262': 1269,\n",
       "  '0263': 1270,\n",
       "  '0264': 1271,\n",
       "  '0265': 1272,\n",
       "  '0266': 1273,\n",
       "  '0267': 1274,\n",
       "  '0268': 1275,\n",
       "  '0269': 1276,\n",
       "  '0270': 1277,\n",
       "  '0271': 1278,\n",
       "  '0272': 1279,\n",
       "  '0273': 1280,\n",
       "  '0274': 1281,\n",
       "  '0275': 1282,\n",
       "  '0276': 1283,\n",
       "  '0277': 1284,\n",
       "  '0278': 1285,\n",
       "  '0279': 1286,\n",
       "  '0280': 1287,\n",
       "  '0281': 1288,\n",
       "  '0282': 1289,\n",
       "  '0283': 1290,\n",
       "  '0284': 1291,\n",
       "  '0285': 1292,\n",
       "  '0286': 1293,\n",
       "  '0287': 1294,\n",
       "  '0288': 1295,\n",
       "  '0289': 1296,\n",
       "  '0290': 1297,\n",
       "  '0291': 1298,\n",
       "  '0292': 1299,\n",
       "  '0293': 1300,\n",
       "  '0294': 1301,\n",
       "  '0295': 1302,\n",
       "  '0296': 1303,\n",
       "  '0297': 1304,\n",
       "  '0298': 1305,\n",
       "  '0299': 1306,\n",
       "  '0300': 1307,\n",
       "  '0301': 1308,\n",
       "  '0302': 1309,\n",
       "  '0303': 1310,\n",
       "  '0304': 1311,\n",
       "  '0305': 1312,\n",
       "  '0306': 1313,\n",
       "  '0307': 1314,\n",
       "  '0308': 1315,\n",
       "  '0309': 1316,\n",
       "  '0310': 1317,\n",
       "  '0311': 1318,\n",
       "  '0312': 1319,\n",
       "  '0313': 1320,\n",
       "  '0314': 1321,\n",
       "  '0315': 1322,\n",
       "  '0316': 1323,\n",
       "  '0317': 1324,\n",
       "  '0318': 1325,\n",
       "  '0319': 1326,\n",
       "  '0320': 1327,\n",
       "  '0321': 1328,\n",
       "  '0322': 1329,\n",
       "  '0323': 1330,\n",
       "  '0324': 1331,\n",
       "  '0325': 1332,\n",
       "  '0326': 1333,\n",
       "  '0327': 1334,\n",
       "  '0328': 1335,\n",
       "  '0329': 1336,\n",
       "  '0330': 1337,\n",
       "  '0331': 1338,\n",
       "  '0332': 1339,\n",
       "  '0333': 1340,\n",
       "  '0334': 1341,\n",
       "  '0335': 1342,\n",
       "  '0336': 1343,\n",
       "  '0337': 1344,\n",
       "  '0338': 1345,\n",
       "  '0339': 1346,\n",
       "  '0340': 1347,\n",
       "  '0341': 1348,\n",
       "  '0342': 1349,\n",
       "  '0343': 1350,\n",
       "  '0344': 1351,\n",
       "  '0345': 1352,\n",
       "  '0346': 1353,\n",
       "  '0347': 1354,\n",
       "  '0348': 1355,\n",
       "  '0349': 1356,\n",
       "  '0350': 1357,\n",
       "  '0351': 1358,\n",
       "  '0352': 1359,\n",
       "  '0353': 1360,\n",
       "  '0354': 1361,\n",
       "  '0355': 1362,\n",
       "  '0356': 1363,\n",
       "  '0357': 1364,\n",
       "  '0358': 1365,\n",
       "  '0359': 1366,\n",
       "  '0360': 1367,\n",
       "  '0361': 1368,\n",
       "  '0362': 1369,\n",
       "  '0363': 1370,\n",
       "  '0364': 1371,\n",
       "  '0365': 1372,\n",
       "  '0366': 1373,\n",
       "  '0367': 1374,\n",
       "  '0368': 1375,\n",
       "  '0369': 1376,\n",
       "  '0370': 1377,\n",
       "  '0371': 1378,\n",
       "  '0372': 1379,\n",
       "  '0373': 1380,\n",
       "  '0374': 1381,\n",
       "  '0375': 1382,\n",
       "  '0376': 1383,\n",
       "  '0377': 1384,\n",
       "  '0378': 1385,\n",
       "  '0379': 1386,\n",
       "  '0380': 1387,\n",
       "  '0381': 1388,\n",
       "  '0382': 1389,\n",
       "  '0383': 1390,\n",
       "  '0384': 1391,\n",
       "  '0385': 1392,\n",
       "  '0386': 1393,\n",
       "  '0387': 1394,\n",
       "  '0388': 1395,\n",
       "  '0389': 1396,\n",
       "  '0390': 1397,\n",
       "  '0391': 1398,\n",
       "  '0392': 1399,\n",
       "  '0393': 1400,\n",
       "  '0394': 1401,\n",
       "  '0395': 1402,\n",
       "  '0396': 1403,\n",
       "  '0397': 1404,\n",
       "  '0398': 1405,\n",
       "  '0399': 1406,\n",
       "  '0400': 1407,\n",
       "  '0401': 1408,\n",
       "  '0402': 1409,\n",
       "  '0403': 1410,\n",
       "  '0404': 1411,\n",
       "  '0405': 1412,\n",
       "  '0406': 1413,\n",
       "  '0407': 1414,\n",
       "  '0408': 1415,\n",
       "  '0409': 1416,\n",
       "  '0410': 1417,\n",
       "  '0411': 1418,\n",
       "  '0412': 1419,\n",
       "  '0413': 1420,\n",
       "  '0414': 1421,\n",
       "  '0415': 1422,\n",
       "  '0416': 1423,\n",
       "  '0417': 1424,\n",
       "  '0418': 1425,\n",
       "  '0419': 1426,\n",
       "  '0420': 1427,\n",
       "  '0421': 1428,\n",
       "  '0422': 1429,\n",
       "  '0423': 1430,\n",
       "  '0424': 1431,\n",
       "  '0425': 1432,\n",
       "  '0426': 1433,\n",
       "  '0427': 1434,\n",
       "  '0428': 1435,\n",
       "  '0429': 1436,\n",
       "  '0430': 1437,\n",
       "  '0431': 1438,\n",
       "  '0432': 1439,\n",
       "  '0433': 1440,\n",
       "  '0434': 1441,\n",
       "  '0435': 1442,\n",
       "  '0436': 1443,\n",
       "  '0437': 1444,\n",
       "  '0438': 1445,\n",
       "  '0439': 1446,\n",
       "  '0440': 1447,\n",
       "  '0441': 1448,\n",
       "  '0442': 1449,\n",
       "  '0443': 1450,\n",
       "  '0444': 1451,\n",
       "  '0445': 1452,\n",
       "  '0446': 1453,\n",
       "  '0447': 1454,\n",
       "  '0448': 1455,\n",
       "  '0449': 1456,\n",
       "  '0450': 1457,\n",
       "  '0451': 1458,\n",
       "  '0452': 1459,\n",
       "  '0453': 1460,\n",
       "  '0454': 1461,\n",
       "  '0455': 1462,\n",
       "  '0456': 1463,\n",
       "  '0457': 1464,\n",
       "  '0458': 1465,\n",
       "  '0459': 1466,\n",
       "  '0460': 1467,\n",
       "  '0461': 1468,\n",
       "  '0462': 1469,\n",
       "  '0463': 1470,\n",
       "  '0464': 1471,\n",
       "  '0465': 1472,\n",
       "  '0466': 1473,\n",
       "  '0467': 1474,\n",
       "  '0468': 1475,\n",
       "  '0469': 1476,\n",
       "  '0470': 1477,\n",
       "  '0471': 1478,\n",
       "  '0472': 1479,\n",
       "  '0473': 1480,\n",
       "  '0474': 1481,\n",
       "  '0475': 1482,\n",
       "  '0476': 1483,\n",
       "  '0477': 1484,\n",
       "  '0478': 1485,\n",
       "  '0479': 1486,\n",
       "  '0480': 1487,\n",
       "  '0481': 1488,\n",
       "  '0482': 1489,\n",
       "  '0483': 1490,\n",
       "  '0484': 1491,\n",
       "  '0485': 1492,\n",
       "  '0486': 1493,\n",
       "  '0487': 1494,\n",
       "  '0488': 1495,\n",
       "  '0489': 1496,\n",
       "  '0490': 1497,\n",
       "  '0491': 1498,\n",
       "  '0492': 1499,\n",
       "  '0493': 1500,\n",
       "  '0494': 1501,\n",
       "  '0495': 1502,\n",
       "  '0496': 1503,\n",
       "  '0497': 1504,\n",
       "  '0498': 1505,\n",
       "  '0499': 1506,\n",
       "  '0500': 1507,\n",
       "  '0501': 1508,\n",
       "  '0502': 1509,\n",
       "  '0503': 1510,\n",
       "  '0504': 1511,\n",
       "  '0505': 1512,\n",
       "  '0506': 1513,\n",
       "  '0507': 1514,\n",
       "  '0508': 1515,\n",
       "  '0509': 1516,\n",
       "  '0510': 1517,\n",
       "  '0511': 1518,\n",
       "  '0512': 1519,\n",
       "  '0513': 1520,\n",
       "  '0514': 1521,\n",
       "  '0515': 1522,\n",
       "  '0516': 1523,\n",
       "  '0517': 1524,\n",
       "  '0518': 1525,\n",
       "  '0519': 1526,\n",
       "  '0520': 1527,\n",
       "  '0521': 1528,\n",
       "  '0522': 1529,\n",
       "  '0523': 1530,\n",
       "  '0524': 1531,\n",
       "  '0525': 1532,\n",
       "  '0526': 1533,\n",
       "  '0527': 1534,\n",
       "  '0528': 1535,\n",
       "  '0529': 1536,\n",
       "  '0530': 1537,\n",
       "  '0531': 1538,\n",
       "  '0532': 1539,\n",
       "  '0533': 1540,\n",
       "  '0534': 1541,\n",
       "  '0535': 1542,\n",
       "  '0536': 1543,\n",
       "  '0537': 1544,\n",
       "  '0538': 1545,\n",
       "  '0539': 1546,\n",
       "  '0540': 1547,\n",
       "  '0541': 1548,\n",
       "  '0542': 1549,\n",
       "  '0543': 1550,\n",
       "  '0544': 1551,\n",
       "  '0545': 1552,\n",
       "  '0546': 1553,\n",
       "  '0547': 1554,\n",
       "  '0548': 1555,\n",
       "  '0549': 1556,\n",
       "  '0550': 1557,\n",
       "  '0551': 1558,\n",
       "  '0552': 1559,\n",
       "  '0553': 1560,\n",
       "  '0554': 1561,\n",
       "  '0555': 1562,\n",
       "  '0556': 1563,\n",
       "  '0557': 1564,\n",
       "  '0558': 1565,\n",
       "  '0559': 1566,\n",
       "  '0560': 1567,\n",
       "  '0561': 1568,\n",
       "  '0562': 1569,\n",
       "  '0563': 1570,\n",
       "  '0564': 1571,\n",
       "  '0565': 1572,\n",
       "  '0566': 1573,\n",
       "  '0567': 1574,\n",
       "  '0568': 1575,\n",
       "  '0569': 1576,\n",
       "  '0570': 1577,\n",
       "  '0571': 1578,\n",
       "  '0572': 1579,\n",
       "  '0573': 1580,\n",
       "  '0574': 1581,\n",
       "  '0575': 1582,\n",
       "  '0576': 1583,\n",
       "  '0577': 1584,\n",
       "  '0578': 1585,\n",
       "  '0579': 1586,\n",
       "  '0580': 1587,\n",
       "  '0581': 1588,\n",
       "  '0582': 1589,\n",
       "  '0583': 1590,\n",
       "  '0584': 1591,\n",
       "  '0585': 1592,\n",
       "  '0586': 1593,\n",
       "  '0587': 1594,\n",
       "  '0588': 1595,\n",
       "  '0589': 1596,\n",
       "  '0590': 1597,\n",
       "  '0591': 1598,\n",
       "  '0592': 1599,\n",
       "  '0593': 1600,\n",
       "  '0594': 1601,\n",
       "  '0595': 1602,\n",
       "  '0596': 1603,\n",
       "  '0597': 1604,\n",
       "  '0598': 1605,\n",
       "  '0599': 1606,\n",
       "  '0600': 1607,\n",
       "  '0601': 1608,\n",
       "  '0602': 1609,\n",
       "  '0603': 1610,\n",
       "  '0604': 1611,\n",
       "  '0605': 1612,\n",
       "  '0606': 1613,\n",
       "  '0607': 1614,\n",
       "  '0608': 1615,\n",
       "  '0609': 1616,\n",
       "  '0610': 1617,\n",
       "  '0611': 1618,\n",
       "  '0612': 1619,\n",
       "  '0613': 1620,\n",
       "  '0614': 1621,\n",
       "  '0615': 1622,\n",
       "  '0616': 1623,\n",
       "  '0617': 1624,\n",
       "  '0618': 1625,\n",
       "  '0619': 1626,\n",
       "  '0620': 1627,\n",
       "  '0621': 1628,\n",
       "  '0622': 1629,\n",
       "  '0623': 1630,\n",
       "  '0624': 1631,\n",
       "  '0625': 1632,\n",
       "  '0626': 1633,\n",
       "  '0627': 1634,\n",
       "  '0628': 1635,\n",
       "  '0629': 1636,\n",
       "  '0630': 1637,\n",
       "  '0631': 1638,\n",
       "  '0632': 1639,\n",
       "  '0633': 1640,\n",
       "  '0634': 1641,\n",
       "  '0635': 1642,\n",
       "  '0636': 1643,\n",
       "  '0637': 1644,\n",
       "  '0638': 1645,\n",
       "  '0639': 1646,\n",
       "  '0640': 1647,\n",
       "  '0641': 1648,\n",
       "  '0642': 1649,\n",
       "  '0643': 1650,\n",
       "  '0644': 1651,\n",
       "  '0645': 1652,\n",
       "  '0646': 1653,\n",
       "  '0647': 1654,\n",
       "  '0648': 1655,\n",
       "  '0649': 1656,\n",
       "  '0650': 1657,\n",
       "  '0651': 1658,\n",
       "  '0652': 1659,\n",
       "  '0653': 1660,\n",
       "  '0654': 1661,\n",
       "  '0655': 1662,\n",
       "  '0656': 1663,\n",
       "  '0657': 1664,\n",
       "  '0658': 1665,\n",
       "  '0659': 1666,\n",
       "  '0660': 1667,\n",
       "  '0661': 1668,\n",
       "  '0662': 1669,\n",
       "  '0663': 1670,\n",
       "  '0664': 1671,\n",
       "  '0665': 1672,\n",
       "  '0666': 1673,\n",
       "  '0667': 1674,\n",
       "  '0668': 1675,\n",
       "  '0669': 1676,\n",
       "  '0670': 1677,\n",
       "  '0671': 1678,\n",
       "  '0672': 1679,\n",
       "  '0673': 1680,\n",
       "  '0674': 1681,\n",
       "  '0675': 1682,\n",
       "  '0676': 1683,\n",
       "  '0677': 1684,\n",
       "  '0678': 1685,\n",
       "  '0679': 1686,\n",
       "  '0680': 1687,\n",
       "  '0681': 1688,\n",
       "  '0682': 1689,\n",
       "  '0683': 1690,\n",
       "  '0684': 1691,\n",
       "  '0685': 1692,\n",
       "  '0686': 1693,\n",
       "  '0687': 1694,\n",
       "  '0688': 1695,\n",
       "  '0689': 1696,\n",
       "  '0690': 1697,\n",
       "  '0691': 1698,\n",
       "  '0692': 1699,\n",
       "  '0693': 1700,\n",
       "  '0694': 1701,\n",
       "  '0695': 1702,\n",
       "  '0696': 1703,\n",
       "  '0697': 1704,\n",
       "  '0698': 1705,\n",
       "  '0699': 1706,\n",
       "  '0700': 1707,\n",
       "  '0701': 1708,\n",
       "  '0702': 1709,\n",
       "  '0703': 1710,\n",
       "  '0704': 1711,\n",
       "  '0705': 1712,\n",
       "  '0706': 1713,\n",
       "  '0707': 1714,\n",
       "  '0708': 1715,\n",
       "  '0709': 1716,\n",
       "  '0710': 1717,\n",
       "  '0711': 1718,\n",
       "  '0712': 1719,\n",
       "  '0713': 1720,\n",
       "  '0714': 1721,\n",
       "  '0715': 1722,\n",
       "  '0716': 1723,\n",
       "  '0717': 1724,\n",
       "  '0718': 1725,\n",
       "  '0719': 1726,\n",
       "  '0720': 1727,\n",
       "  '0721': 1728,\n",
       "  '0722': 1729,\n",
       "  '0723': 1730,\n",
       "  '0724': 1731,\n",
       "  '0725': 1732,\n",
       "  '0726': 1733,\n",
       "  '0727': 1734,\n",
       "  '0728': 1735,\n",
       "  '0729': 1736,\n",
       "  '0730': 1737,\n",
       "  '0731': 1738,\n",
       "  '0732': 1739,\n",
       "  '0733': 1740,\n",
       "  '0734': 1741,\n",
       "  '0735': 1742,\n",
       "  '0736': 1743,\n",
       "  '0737': 1744,\n",
       "  '0738': 1745,\n",
       "  '0739': 1746,\n",
       "  '0740': 1747,\n",
       "  '0741': 1748,\n",
       "  '0742': 1749,\n",
       "  '0743': 1750,\n",
       "  '0744': 1751,\n",
       "  '0745': 1752,\n",
       "  '0746': 1753,\n",
       "  '0747': 1754,\n",
       "  '0748': 1755,\n",
       "  '0749': 1756,\n",
       "  '0750': 1757,\n",
       "  '0751': 1758,\n",
       "  '0752': 1759,\n",
       "  '0753': 1760,\n",
       "  '0754': 1761,\n",
       "  '0755': 1762,\n",
       "  '0756': 1763,\n",
       "  '0757': 1764,\n",
       "  '0758': 1765,\n",
       "  '0759': 1766,\n",
       "  '0760': 1767,\n",
       "  '0761': 1768,\n",
       "  '0762': 1769,\n",
       "  '0763': 1770,\n",
       "  '0764': 1771,\n",
       "  '0765': 1772,\n",
       "  '0766': 1773,\n",
       "  '0767': 1774,\n",
       "  '0768': 1775,\n",
       "  '0769': 1776,\n",
       "  '0770': 1777,\n",
       "  '0771': 1778,\n",
       "  '0772': 1779,\n",
       "  '0773': 1780,\n",
       "  '0774': 1781,\n",
       "  '0775': 1782,\n",
       "  '0776': 1783,\n",
       "  '0777': 1784,\n",
       "  '0778': 1785,\n",
       "  '0779': 1786,\n",
       "  '0780': 1787,\n",
       "  '0781': 1788,\n",
       "  '0782': 1789,\n",
       "  '0783': 1790,\n",
       "  '0784': 1791,\n",
       "  '0785': 1792,\n",
       "  '0786': 1793,\n",
       "  '0787': 1794,\n",
       "  '0788': 1795,\n",
       "  '0789': 1796,\n",
       "  '0790': 1797,\n",
       "  '0791': 1798,\n",
       "  '0792': 1799,\n",
       "  '0793': 1800,\n",
       "  '0794': 1801,\n",
       "  '0795': 1802,\n",
       "  '0796': 1803,\n",
       "  '0797': 1804,\n",
       "  '0798': 1805,\n",
       "  '0799': 1806,\n",
       "  '0800': 1807,\n",
       "  '0801': 1808,\n",
       "  '0802': 1809,\n",
       "  '0803': 1810,\n",
       "  '0804': 1811,\n",
       "  '0805': 1812,\n",
       "  '0806': 1813,\n",
       "  '0807': 1814,\n",
       "  '0808': 1815,\n",
       "  '0809': 1816,\n",
       "  '0810': 1817,\n",
       "  '0811': 1818,\n",
       "  '0812': 1819,\n",
       "  '0813': 1820,\n",
       "  '0814': 1821,\n",
       "  '0815': 1822,\n",
       "  '0816': 1823,\n",
       "  '0817': 1824,\n",
       "  '0818': 1825,\n",
       "  '0819': 1826,\n",
       "  '0820': 1827,\n",
       "  '0821': 1828,\n",
       "  '0822': 1829,\n",
       "  '0823': 1830,\n",
       "  '0824': 1831,\n",
       "  '0825': 1832,\n",
       "  '0826': 1833,\n",
       "  '0827': 1834,\n",
       "  '0828': 1835,\n",
       "  '0829': 1836,\n",
       "  '0830': 1837,\n",
       "  '0831': 1838,\n",
       "  '0832': 1839,\n",
       "  '0833': 1840,\n",
       "  '0834': 1841,\n",
       "  '0835': 1842,\n",
       "  '0836': 1843,\n",
       "  '0837': 1844,\n",
       "  '0838': 1845,\n",
       "  '0839': 1846,\n",
       "  '0840': 1847,\n",
       "  '0841': 1848,\n",
       "  '0842': 1849,\n",
       "  '0843': 1850,\n",
       "  '0844': 1851,\n",
       "  '0845': 1852,\n",
       "  '0846': 1853,\n",
       "  '0847': 1854,\n",
       "  '0848': 1855,\n",
       "  '0849': 1856,\n",
       "  '0850': 1857,\n",
       "  '0851': 1858,\n",
       "  '0852': 1859,\n",
       "  '0853': 1860,\n",
       "  '0854': 1861,\n",
       "  '0855': 1862,\n",
       "  '0856': 1863,\n",
       "  '0857': 1864,\n",
       "  '0858': 1865,\n",
       "  '0859': 1866,\n",
       "  '0860': 1867,\n",
       "  '0861': 1868,\n",
       "  '0862': 1869,\n",
       "  '0863': 1870,\n",
       "  '0864': 1871,\n",
       "  '0865': 1872,\n",
       "  '0866': 1873,\n",
       "  '0867': 1874,\n",
       "  '0868': 1875,\n",
       "  '0869': 1876,\n",
       "  '0870': 1877,\n",
       "  '0871': 1878,\n",
       "  '0872': 1879,\n",
       "  '0873': 1880,\n",
       "  '0874': 1881,\n",
       "  '0875': 1882,\n",
       "  '0876': 1883,\n",
       "  '0877': 1884,\n",
       "  '0878': 1885,\n",
       "  '0879': 1886,\n",
       "  '0880': 1887,\n",
       "  '0881': 1888,\n",
       "  '0882': 1889,\n",
       "  '0883': 1890,\n",
       "  '0884': 1891,\n",
       "  '0885': 1892,\n",
       "  '0886': 1893,\n",
       "  '0887': 1894,\n",
       "  '0888': 1895,\n",
       "  '0889': 1896,\n",
       "  '0890': 1897,\n",
       "  '0891': 1898,\n",
       "  '0892': 1899,\n",
       "  '0893': 1900,\n",
       "  '0894': 1901,\n",
       "  '0895': 1902,\n",
       "  '0896': 1903,\n",
       "  '0897': 1904,\n",
       "  '0898': 1905,\n",
       "  '0899': 1906,\n",
       "  '0900': 1907,\n",
       "  '0901': 1908,\n",
       "  '0902': 1909,\n",
       "  '0903': 1910,\n",
       "  '0904': 1911,\n",
       "  '0905': 1912,\n",
       "  '0906': 1913,\n",
       "  '0907': 1914,\n",
       "  '0908': 1915,\n",
       "  '0909': 1916,\n",
       "  '0910': 1917,\n",
       "  '0911': 1918,\n",
       "  '0912': 1919,\n",
       "  '0913': 1920,\n",
       "  '0914': 1921,\n",
       "  '0915': 1922,\n",
       "  '0916': 1923,\n",
       "  '0917': 1924,\n",
       "  '0918': 1925,\n",
       "  '0919': 1926,\n",
       "  '0920': 1927,\n",
       "  '0921': 1928,\n",
       "  '0922': 1929,\n",
       "  '0923': 1930,\n",
       "  '0924': 1931,\n",
       "  '0925': 1932,\n",
       "  '0926': 1933,\n",
       "  '0927': 1934,\n",
       "  '0928': 1935,\n",
       "  '0929': 1936,\n",
       "  '0930': 1937,\n",
       "  '0931': 1938,\n",
       "  '0932': 1939,\n",
       "  '0933': 1940,\n",
       "  '0934': 1941,\n",
       "  '0935': 1942,\n",
       "  '0936': 1943,\n",
       "  '0937': 1944,\n",
       "  '0938': 1945,\n",
       "  '0939': 1946,\n",
       "  '0940': 1947,\n",
       "  '0941': 1948,\n",
       "  '0942': 1949,\n",
       "  '0943': 1950,\n",
       "  '0944': 1951,\n",
       "  '0945': 1952,\n",
       "  '0946': 1953,\n",
       "  '0947': 1954,\n",
       "  '0948': 1955,\n",
       "  '0949': 1956,\n",
       "  '0950': 1957,\n",
       "  '0951': 1958,\n",
       "  '0952': 1959,\n",
       "  '0953': 1960,\n",
       "  '0954': 1961,\n",
       "  '0955': 1962,\n",
       "  '0956': 1963,\n",
       "  '0957': 1964,\n",
       "  '0958': 1965,\n",
       "  '0959': 1966,\n",
       "  '0960': 1967,\n",
       "  '0961': 1968,\n",
       "  '0962': 1969,\n",
       "  '0963': 1970,\n",
       "  '0964': 1971,\n",
       "  '0965': 1972,\n",
       "  '0966': 1973,\n",
       "  '0967': 1974,\n",
       "  '0968': 1975,\n",
       "  '0969': 1976,\n",
       "  '0970': 1977,\n",
       "  '0971': 1978,\n",
       "  '0972': 1979,\n",
       "  '0973': 1980,\n",
       "  '0974': 1981,\n",
       "  '0975': 1982,\n",
       "  '0976': 1983,\n",
       "  '0977': 1984,\n",
       "  '0978': 1985,\n",
       "  '0979': 1986,\n",
       "  '0980': 1987,\n",
       "  '0981': 1988,\n",
       "  '0982': 1989,\n",
       "  '0983': 1990,\n",
       "  '0984': 1991,\n",
       "  '0985': 1992,\n",
       "  '0986': 1993,\n",
       "  '0987': 1994,\n",
       "  '0988': 1995,\n",
       "  '0989': 1996,\n",
       "  '0990': 1997,\n",
       "  '0991': 1998,\n",
       "  '0992': 1999,\n",
       "  '0993': 2000,\n",
       "  '0994': 2001,\n",
       "  '0995': 2002,\n",
       "  '0996': 2003,\n",
       "  '0997': 2004,\n",
       "  '0998': 2005,\n",
       "  '0999': 2006,\n",
       "  ...},\n",
       " 'price': {'00': 11007,\n",
       "  '01': 11008,\n",
       "  '02': 11009,\n",
       "  '03': 11010,\n",
       "  '04': 11011,\n",
       "  '05': 11012,\n",
       "  '06': 11013,\n",
       "  '07': 11014,\n",
       "  '08': 11015,\n",
       "  '09': 11016,\n",
       "  '10': 11017,\n",
       "  '11': 11018,\n",
       "  '12': 11019,\n",
       "  '13': 11020,\n",
       "  '14': 11021,\n",
       "  '15': 11022,\n",
       "  '16': 11023,\n",
       "  '17': 11024,\n",
       "  '18': 11025,\n",
       "  '19': 11026,\n",
       "  '20': 11027,\n",
       "  '21': 11028,\n",
       "  '22': 11029,\n",
       "  '23': 11030,\n",
       "  '24': 11031,\n",
       "  '25': 11032,\n",
       "  '26': 11033,\n",
       "  '27': 11034,\n",
       "  '28': 11035,\n",
       "  '29': 11036,\n",
       "  '30': 11037,\n",
       "  '31': 11038,\n",
       "  '32': 11039,\n",
       "  '33': 11040,\n",
       "  '34': 11041,\n",
       "  '35': 11042,\n",
       "  '36': 11043,\n",
       "  '37': 11044,\n",
       "  '38': 11045,\n",
       "  '39': 11046,\n",
       "  '40': 11047,\n",
       "  '41': 11048,\n",
       "  '42': 11049,\n",
       "  '43': 11050,\n",
       "  '44': 11051,\n",
       "  '45': 11052,\n",
       "  '46': 11053,\n",
       "  '47': 11054,\n",
       "  '48': 11055,\n",
       "  '49': 11056,\n",
       "  '50': 11057,\n",
       "  '51': 11058,\n",
       "  '52': 11059,\n",
       "  '53': 11060,\n",
       "  '54': 11061,\n",
       "  '55': 11062,\n",
       "  '56': 11063,\n",
       "  '57': 11064,\n",
       "  '58': 11065,\n",
       "  '59': 11066,\n",
       "  '60': 11067,\n",
       "  '61': 11068,\n",
       "  '62': 11069,\n",
       "  '63': 11070,\n",
       "  '64': 11071,\n",
       "  '65': 11072,\n",
       "  '66': 11073,\n",
       "  '67': 11074,\n",
       "  '68': 11075,\n",
       "  '69': 11076,\n",
       "  '70': 11077,\n",
       "  '71': 11078,\n",
       "  '72': 11079,\n",
       "  '73': 11080,\n",
       "  '74': 11081,\n",
       "  '75': 11082,\n",
       "  '76': 11083,\n",
       "  '77': 11084,\n",
       "  '78': 11085,\n",
       "  '79': 11086,\n",
       "  '80': 11087,\n",
       "  '81': 11088,\n",
       "  '82': 11089,\n",
       "  '83': 11090,\n",
       "  '84': 11091,\n",
       "  '85': 11092,\n",
       "  '86': 11093,\n",
       "  '87': 11094,\n",
       "  '88': 11095,\n",
       "  '89': 11096,\n",
       "  '90': 11097,\n",
       "  '91': 11098,\n",
       "  '92': 11099,\n",
       "  '93': 11100,\n",
       "  '94': 11101,\n",
       "  '95': 11102,\n",
       "  '96': 11103,\n",
       "  '97': 11104,\n",
       "  '98': 11105,\n",
       "  '99': 11106,\n",
       "  '+': 11107,\n",
       "  '-': 11108,\n",
       "  0: 'MSK',\n",
       "  1: 'HID',\n",
       "  2: 'NAN'},\n",
       " 'direction': {'0': 11109, '1': 11110, 0: 'MSK', 1: 'HID', 2: 'NAN'},\n",
       " 'generic': {'MSK': 0, 'HID': 1, 'NAN': 2}}"
      ]
     },
     "execution_count": 8,
     "metadata": {},
     "output_type": "execute_result"
    }
   ],
   "source": [
    "v = Vocab()\n",
    "v.ENCODING"
   ]
  },
  {
   "cell_type": "code",
   "execution_count": 9,
   "metadata": {},
   "outputs": [
    {
     "data": {
      "text/plain": [
       "11111"
      ]
     },
     "execution_count": 9,
     "metadata": {},
     "output_type": "execute_result"
    }
   ],
   "source": [
    "len(v)"
   ]
  },
  {
   "cell_type": "code",
   "execution_count": 10,
   "metadata": {},
   "outputs": [],
   "source": [
    "m_ = m.copy()"
   ]
  },
  {
   "cell_type": "code",
   "execution_count": 130,
   "metadata": {},
   "outputs": [],
   "source": [
    "# TODO: for now ignore canc/del from previous days? --> use unknown token in original msg."
   ]
  },
  {
   "cell_type": "code",
   "execution_count": 11,
   "metadata": {},
   "outputs": [],
   "source": [
    "tok = Message_Tokenizer()"
   ]
  },
  {
   "cell_type": "code",
   "execution_count": 13,
   "metadata": {},
   "outputs": [
    {
     "name": "stdout",
     "output_type": "stream",
     "text": [
      "truncating 0.0000% of prices > 9900\n",
      "truncating 0.0000% of prices < -9900\n"
     ]
    }
   ],
   "source": [
    "m_ = tok.preproc(m, b)"
   ]
  },
  {
   "cell_type": "code",
   "execution_count": 14,
   "metadata": {},
   "outputs": [
    {
     "data": {
      "text/html": [
       "<div>\n",
       "<style scoped>\n",
       "    .dataframe tbody tr th:only-of-type {\n",
       "        vertical-align: middle;\n",
       "    }\n",
       "\n",
       "    .dataframe tbody tr th {\n",
       "        vertical-align: top;\n",
       "    }\n",
       "\n",
       "    .dataframe thead th {\n",
       "        text-align: right;\n",
       "    }\n",
       "</style>\n",
       "<table border=\"1\" class=\"dataframe\">\n",
       "  <thead>\n",
       "    <tr style=\"text-align: right;\">\n",
       "      <th></th>\n",
       "      <th>time</th>\n",
       "      <th>event_type</th>\n",
       "      <th>order_id</th>\n",
       "      <th>size</th>\n",
       "      <th>price</th>\n",
       "      <th>direction</th>\n",
       "      <th>time_new</th>\n",
       "      <th>event_type_new</th>\n",
       "      <th>size_new</th>\n",
       "      <th>price_new</th>\n",
       "      <th>direction_new</th>\n",
       "    </tr>\n",
       "  </thead>\n",
       "  <tbody>\n",
       "    <tr>\n",
       "      <th>1</th>\n",
       "      <td>000000001095123</td>\n",
       "      <td>4.0</td>\n",
       "      <td>26617106</td>\n",
       "      <td>0100</td>\n",
       "      <td>+02</td>\n",
       "      <td>0.0</td>\n",
       "      <td>NaN</td>\n",
       "      <td>NaN</td>\n",
       "      <td>NaN</td>\n",
       "      <td>NaN</td>\n",
       "      <td>NaN</td>\n",
       "    </tr>\n",
       "    <tr>\n",
       "      <th>2</th>\n",
       "      <td>000000002310775</td>\n",
       "      <td>1.0</td>\n",
       "      <td>26628478</td>\n",
       "      <td>1700</td>\n",
       "      <td>-13</td>\n",
       "      <td>1.0</td>\n",
       "      <td>NaN</td>\n",
       "      <td>NaN</td>\n",
       "      <td>NaN</td>\n",
       "      <td>NaN</td>\n",
       "      <td>NaN</td>\n",
       "    </tr>\n",
       "    <tr>\n",
       "      <th>3</th>\n",
       "      <td>000000002364829</td>\n",
       "      <td>1.0</td>\n",
       "      <td>26628606</td>\n",
       "      <td>2300</td>\n",
       "      <td>-07</td>\n",
       "      <td>1.0</td>\n",
       "      <td>NaN</td>\n",
       "      <td>NaN</td>\n",
       "      <td>NaN</td>\n",
       "      <td>NaN</td>\n",
       "      <td>NaN</td>\n",
       "    </tr>\n",
       "    <tr>\n",
       "      <th>4</th>\n",
       "      <td>000000002446746</td>\n",
       "      <td>1.0</td>\n",
       "      <td>26628742</td>\n",
       "      <td>2254</td>\n",
       "      <td>-05</td>\n",
       "      <td>1.0</td>\n",
       "      <td>NaN</td>\n",
       "      <td>NaN</td>\n",
       "      <td>NaN</td>\n",
       "      <td>NaN</td>\n",
       "      <td>NaN</td>\n",
       "    </tr>\n",
       "    <tr>\n",
       "      <th>5</th>\n",
       "      <td>000000002469623</td>\n",
       "      <td>4.0</td>\n",
       "      <td>26617106</td>\n",
       "      <td>0207</td>\n",
       "      <td>+02</td>\n",
       "      <td>0.0</td>\n",
       "      <td>NaN</td>\n",
       "      <td>NaN</td>\n",
       "      <td>NaN</td>\n",
       "      <td>NaN</td>\n",
       "      <td>NaN</td>\n",
       "    </tr>\n",
       "    <tr>\n",
       "      <th>...</th>\n",
       "      <td>...</td>\n",
       "      <td>...</td>\n",
       "      <td>...</td>\n",
       "      <td>...</td>\n",
       "      <td>...</td>\n",
       "      <td>...</td>\n",
       "      <td>...</td>\n",
       "      <td>...</td>\n",
       "      <td>...</td>\n",
       "      <td>...</td>\n",
       "      <td>...</td>\n",
       "    </tr>\n",
       "    <tr>\n",
       "      <th>1962415</th>\n",
       "      <td>023399985151757</td>\n",
       "      <td>1.0</td>\n",
       "      <td>905843398</td>\n",
       "      <td>6159</td>\n",
       "      <td>-01</td>\n",
       "      <td>1.0</td>\n",
       "      <td>NaN</td>\n",
       "      <td>NaN</td>\n",
       "      <td>NaN</td>\n",
       "      <td>NaN</td>\n",
       "      <td>NaN</td>\n",
       "    </tr>\n",
       "    <tr>\n",
       "      <th>1962416</th>\n",
       "      <td>023399985166759</td>\n",
       "      <td>1.0</td>\n",
       "      <td>905843410</td>\n",
       "      <td>6159</td>\n",
       "      <td>+07</td>\n",
       "      <td>0.0</td>\n",
       "      <td>NaN</td>\n",
       "      <td>NaN</td>\n",
       "      <td>NaN</td>\n",
       "      <td>NaN</td>\n",
       "      <td>NaN</td>\n",
       "    </tr>\n",
       "    <tr>\n",
       "      <th>1962417</th>\n",
       "      <td>023399985729067</td>\n",
       "      <td>1.0</td>\n",
       "      <td>905843602</td>\n",
       "      <td>9999</td>\n",
       "      <td>+03</td>\n",
       "      <td>0.0</td>\n",
       "      <td>NaN</td>\n",
       "      <td>NaN</td>\n",
       "      <td>NaN</td>\n",
       "      <td>NaN</td>\n",
       "      <td>NaN</td>\n",
       "    </tr>\n",
       "    <tr>\n",
       "      <th>1962418</th>\n",
       "      <td>023399986159522</td>\n",
       "      <td>1.0</td>\n",
       "      <td>905843674</td>\n",
       "      <td>4500</td>\n",
       "      <td>+04</td>\n",
       "      <td>0.0</td>\n",
       "      <td>NaN</td>\n",
       "      <td>NaN</td>\n",
       "      <td>NaN</td>\n",
       "      <td>NaN</td>\n",
       "      <td>NaN</td>\n",
       "    </tr>\n",
       "    <tr>\n",
       "      <th>1962419</th>\n",
       "      <td>023399986217028</td>\n",
       "      <td>1.0</td>\n",
       "      <td>905843686</td>\n",
       "      <td>6500</td>\n",
       "      <td>+05</td>\n",
       "      <td>0.0</td>\n",
       "      <td>NaN</td>\n",
       "      <td>NaN</td>\n",
       "      <td>NaN</td>\n",
       "      <td>NaN</td>\n",
       "      <td>NaN</td>\n",
       "    </tr>\n",
       "  </tbody>\n",
       "</table>\n",
       "<p>1953627 rows × 11 columns</p>\n",
       "</div>"
      ],
      "text/plain": [
       "                    time  event_type   order_id  size price  direction  \\\n",
       "1        000000001095123         4.0   26617106  0100   +02        0.0   \n",
       "2        000000002310775         1.0   26628478  1700   -13        1.0   \n",
       "3        000000002364829         1.0   26628606  2300   -07        1.0   \n",
       "4        000000002446746         1.0   26628742  2254   -05        1.0   \n",
       "5        000000002469623         4.0   26617106  0207   +02        0.0   \n",
       "...                  ...         ...        ...   ...   ...        ...   \n",
       "1962415  023399985151757         1.0  905843398  6159   -01        1.0   \n",
       "1962416  023399985166759         1.0  905843410  6159   +07        0.0   \n",
       "1962417  023399985729067         1.0  905843602  9999   +03        0.0   \n",
       "1962418  023399986159522         1.0  905843674  4500   +04        0.0   \n",
       "1962419  023399986217028         1.0  905843686  6500   +05        0.0   \n",
       "\n",
       "        time_new  event_type_new size_new price_new  direction_new  \n",
       "1            NaN             NaN      NaN       NaN            NaN  \n",
       "2            NaN             NaN      NaN       NaN            NaN  \n",
       "3            NaN             NaN      NaN       NaN            NaN  \n",
       "4            NaN             NaN      NaN       NaN            NaN  \n",
       "5            NaN             NaN      NaN       NaN            NaN  \n",
       "...          ...             ...      ...       ...            ...  \n",
       "1962415      NaN             NaN      NaN       NaN            NaN  \n",
       "1962416      NaN             NaN      NaN       NaN            NaN  \n",
       "1962417      NaN             NaN      NaN       NaN            NaN  \n",
       "1962418      NaN             NaN      NaN       NaN            NaN  \n",
       "1962419      NaN             NaN      NaN       NaN            NaN  \n",
       "\n",
       "[1953627 rows x 11 columns]"
      ]
     },
     "execution_count": 14,
     "metadata": {},
     "output_type": "execute_result"
    }
   ],
   "source": [
    "m_"
   ]
  },
  {
   "cell_type": "code",
   "execution_count": 21,
   "metadata": {},
   "outputs": [
    {
     "data": {
      "text/plain": [
       "count    9.347010e+05\n",
       "mean     2.506914e+09\n",
       "std      1.482507e+10\n",
       "min      1.439000e+03\n",
       "25%      2.190181e+07\n",
       "50%      2.595456e+08\n",
       "75%      1.295224e+09\n",
       "max      2.766824e+12\n",
       "dtype: float64"
      ]
     },
     "execution_count": 21,
     "metadata": {},
     "output_type": "execute_result"
    }
   ],
   "source": [
    "mod_times = (m_.time_new.astype(float) - m_.time.astype(float)).dropna()\n",
    "mod_times.describe()"
   ]
  },
  {
   "cell_type": "code",
   "execution_count": 27,
   "metadata": {},
   "outputs": [
    {
     "data": {
      "text/plain": [
       "4.185368577"
      ]
     },
     "execution_count": 27,
     "metadata": {},
     "output_type": "execute_result"
    }
   ],
   "source": [
    "mod_times.quantile(0.90) / 1e9"
   ]
  },
  {
   "cell_type": "code",
   "execution_count": 27,
   "metadata": {},
   "outputs": [
    {
     "name": "stdout",
     "output_type": "stream",
     "text": [
      "time\n",
      "event_type\n",
      "size\n",
      "price\n",
      "direction\n",
      "time_new\n",
      "event_type_new\n",
      "size_new\n",
      "price_new\n",
      "direction_new\n"
     ]
    }
   ],
   "source": [
    "m_enc = tok.encode(m_, v)"
   ]
  },
  {
   "cell_type": "code",
   "execution_count": 28,
   "metadata": {},
   "outputs": [
    {
     "data": {
      "text/plain": [
       "array([[    3,     3,     3, ...,     2,     2,     2],\n",
       "       [    3,     3,     3, ...,     2,     2,     2],\n",
       "       [    3,     3,     3, ...,     2,     2,     2],\n",
       "       ...,\n",
       "       [   26,   402,  1000, ...,     2,     2,     2],\n",
       "       [   26,   402,   999, ..., 11108, 11007, 11110],\n",
       "       [   26,   402,   985, ..., 11107, 11009, 11109]])"
      ]
     },
     "execution_count": 28,
     "metadata": {},
     "output_type": "execute_result"
    }
   ],
   "source": [
    "m_enc"
   ]
  },
  {
   "cell_type": "code",
   "execution_count": 29,
   "metadata": {},
   "outputs": [
    {
     "data": {
      "text/plain": [
       "(2237220, 20)"
      ]
     },
     "execution_count": 29,
     "metadata": {},
     "output_type": "execute_result"
    }
   ],
   "source": [
    "m_enc.shape"
   ]
  },
  {
   "cell_type": "code",
   "execution_count": 30,
   "metadata": {},
   "outputs": [
    {
     "data": {
      "text/plain": [
       "array([[    3,     3,     3,   116,   282,  1006,  1207, 11107, 11008,\n",
       "        11109,     2,     2,     2,     2,     2,     2,     2,     2,\n",
       "            2,     2],\n",
       "       [    3,     3,     3,   271,   907,  1006,  1107, 11107, 11009,\n",
       "        11109,     2,     2,     2,     2,     2,     2,     2,     2,\n",
       "            2,     2]])"
      ]
     },
     "execution_count": 30,
     "metadata": {},
     "output_type": "execute_result"
    }
   ],
   "source": [
    "m_enc[:2]"
   ]
  },
  {
   "cell_type": "code",
   "execution_count": 31,
   "metadata": {},
   "outputs": [
    {
     "name": "stdout",
     "output_type": "stream",
     "text": [
      "[['000' '000' '000' '113' '279' '4' '020' '+' '01' '0' 'NAN' 'NAN' 'NAN'\n",
      "  'NAN' 'NAN' 'NAN' 'NAN' 'NAN' 'NAN' 'NAN']\n",
      " ['000' '000' '000' '268' '904' '4' '010' '+' '02' '0' 'NAN' 'NAN' 'NAN'\n",
      "  'NAN' 'NAN' 'NAN' 'NAN' 'NAN' 'NAN' 'NAN']\n",
      " ['000' '000' '000' '280' '750' '1' '010' '+' '01' '0' 'NAN' 'NAN' 'NAN'\n",
      "  'NAN' 'NAN' 'NAN' 'NAN' 'NAN' 'NAN' 'NAN']\n",
      " ['NAN' 'NAN' 'NAN' 'NAN' 'NAN' 'NAN' 'NAN' 'NAN' 'NAN' 'NAN' '000' '000'\n",
      "  '001' '138' '045' '3' '010' '-' '10' '1']]\n"
     ]
    },
    {
     "data": {
      "text/plain": [
       "array([[ 1.132790e+05,  4.000000e+00,  2.000000e+01,  1.000000e+00,\n",
       "         0.000000e+00,           nan,           nan,           nan,\n",
       "                  nan,           nan],\n",
       "       [ 2.689040e+05,  4.000000e+00,  1.000000e+01,  2.000000e+00,\n",
       "         0.000000e+00,           nan,           nan,           nan,\n",
       "                  nan,           nan],\n",
       "       [ 2.807500e+05,  1.000000e+00,  1.000000e+01,  1.000000e+00,\n",
       "         0.000000e+00,           nan,           nan,           nan,\n",
       "                  nan,           nan],\n",
       "       [          nan,           nan,           nan,           nan,\n",
       "                  nan,  1.138045e+06,  3.000000e+00,  1.000000e+01,\n",
       "        -1.000000e+01,  1.000000e+00]])"
      ]
     },
     "execution_count": 31,
     "metadata": {},
     "output_type": "execute_result"
    }
   ],
   "source": [
    "tok.decode(m_enc[:4], v)"
   ]
  },
  {
   "cell_type": "code",
   "execution_count": null,
   "metadata": {},
   "outputs": [
    {
     "data": {
      "text/plain": [
       "array([[1.13279e+05, 4.00000e+00, 2.00000e+02, 1.00000e+00, 0.00000e+00,\n",
       "                nan,         nan,         nan,         nan,         nan],\n",
       "       [2.68904e+05, 4.00000e+00, 1.00000e+02, 2.00000e+00, 0.00000e+00,\n",
       "                nan,         nan,         nan,         nan,         nan]])"
      ]
     },
     "metadata": {},
     "output_type": "display_data"
    }
   ],
   "source": [
    "tok.decode(m_enc[:2], v)"
   ]
  },
  {
   "cell_type": "code",
   "execution_count": 62,
   "metadata": {},
   "outputs": [
    {
     "data": {
      "text/html": [
       "<div>\n",
       "<style scoped>\n",
       "    .dataframe tbody tr th:only-of-type {\n",
       "        vertical-align: middle;\n",
       "    }\n",
       "\n",
       "    .dataframe tbody tr th {\n",
       "        vertical-align: top;\n",
       "    }\n",
       "\n",
       "    .dataframe thead th {\n",
       "        text-align: right;\n",
       "    }\n",
       "</style>\n",
       "<table border=\"1\" class=\"dataframe\">\n",
       "  <thead>\n",
       "    <tr style=\"text-align: right;\">\n",
       "      <th></th>\n",
       "      <th>time</th>\n",
       "      <th>event_type</th>\n",
       "      <th>order_id</th>\n",
       "      <th>size</th>\n",
       "      <th>price</th>\n",
       "      <th>direction</th>\n",
       "    </tr>\n",
       "  </thead>\n",
       "  <tbody>\n",
       "    <tr>\n",
       "      <th>1</th>\n",
       "      <td>34200.000113</td>\n",
       "      <td>4</td>\n",
       "      <td>25053166</td>\n",
       "      <td>200</td>\n",
       "      <td>987500</td>\n",
       "      <td>-1</td>\n",
       "    </tr>\n",
       "    <tr>\n",
       "      <th>6</th>\n",
       "      <td>34200.000269</td>\n",
       "      <td>4</td>\n",
       "      <td>24918322</td>\n",
       "      <td>100</td>\n",
       "      <td>987600</td>\n",
       "      <td>-1</td>\n",
       "    </tr>\n",
       "  </tbody>\n",
       "</table>\n",
       "</div>"
      ],
      "text/plain": [
       "           time  event_type  order_id  size   price  direction\n",
       "1  34200.000113           4  25053166   200  987500         -1\n",
       "6  34200.000269           4  24918322   100  987600         -1"
      ]
     },
     "execution_count": 62,
     "metadata": {},
     "output_type": "execute_result"
    }
   ],
   "source": [
    "m.loc[m.event_type < 5].iloc[1:3]"
   ]
  },
  {
   "cell_type": "code",
   "execution_count": 64,
   "metadata": {},
   "outputs": [
    {
     "data": {
      "text/plain": [
       "2244841"
      ]
     },
     "execution_count": 64,
     "metadata": {},
     "output_type": "execute_result"
    }
   ],
   "source": [
    "len(m)"
   ]
  },
  {
   "cell_type": "code",
   "execution_count": 70,
   "metadata": {},
   "outputs": [
    {
     "data": {
      "text/html": [
       "<div>\n",
       "<style scoped>\n",
       "    .dataframe tbody tr th:only-of-type {\n",
       "        vertical-align: middle;\n",
       "    }\n",
       "\n",
       "    .dataframe tbody tr th {\n",
       "        vertical-align: top;\n",
       "    }\n",
       "\n",
       "    .dataframe thead th {\n",
       "        text-align: right;\n",
       "    }\n",
       "</style>\n",
       "<table border=\"1\" class=\"dataframe\">\n",
       "  <thead>\n",
       "    <tr style=\"text-align: right;\">\n",
       "      <th></th>\n",
       "      <th>time</th>\n",
       "      <th>event_type</th>\n",
       "      <th>order_id</th>\n",
       "      <th>size</th>\n",
       "      <th>price</th>\n",
       "      <th>direction</th>\n",
       "    </tr>\n",
       "  </thead>\n",
       "  <tbody>\n",
       "  </tbody>\n",
       "</table>\n",
       "</div>"
      ],
      "text/plain": [
       "Empty DataFrame\n",
       "Columns: [time, event_type, order_id, size, price, direction]\n",
       "Index: []"
      ]
     },
     "execution_count": 70,
     "metadata": {},
     "output_type": "execute_result"
    }
   ],
   "source": [
    "m.loc[m.event_type == 1].loc[m.duplicated(keep=False)]"
   ]
  },
  {
   "cell_type": "code",
   "execution_count": 109,
   "metadata": {},
   "outputs": [
    {
     "data": {
      "text/plain": [
       "1             [8, 8, 8, 8, 8, 8, 8, 8, 9, 9, 11, 10, 15, 17]\n",
       "6            [8, 8, 8, 8, 8, 8, 8, 8, 10, 14, 16, 17, 8, 12]\n",
       "7             [8, 8, 8, 8, 8, 8, 8, 8, 10, 16, 8, 15, 13, 8]\n",
       "8             [8, 8, 8, 8, 8, 8, 8, 9, 9, 11, 16, 8, 12, 13]\n",
       "9           [8, 8, 8, 8, 8, 8, 8, 9, 11, 15, 13, 17, 11, 17]\n",
       "                                 ...                        \n",
       "2244836    [10, 11, 11, 17, 17, 17, 17, 14, 13, 8, 15, 11...\n",
       "2244837    [10, 11, 11, 17, 17, 17, 17, 14, 13, 12, 9, 12...\n",
       "2244838    [10, 11, 11, 17, 17, 17, 17, 15, 9, 12, 15, 8,...\n",
       "2244839    [10, 11, 11, 17, 17, 17, 17, 15, 13, 10, 9, 10...\n",
       "2244840    [10, 11, 11, 17, 17, 17, 17, 15, 15, 14, 14, 8...\n",
       "Name: time, Length: 2237220, dtype: object"
      ]
     },
     "execution_count": 109,
     "metadata": {},
     "output_type": "execute_result"
    }
   ],
   "source": [
    "enc = v.ENCODING['generic']\n",
    "m_.time.apply(lambda num: [enc[d] for d in str(num)])"
   ]
  },
  {
   "cell_type": "markdown",
   "metadata": {},
   "source": [
    "### Book State Preprocessing"
   ]
  },
  {
   "cell_type": "code",
   "execution_count": 6,
   "metadata": {},
   "outputs": [
    {
     "data": {
      "text/plain": [
       "['/nfs/home/peern/LOBS5/data/raw/GOOG_2023-01-03_34200000_57600000_orderbook_10.csv',\n",
       " '/nfs/home/peern/LOBS5/data/raw/GOOG_2023-01-04_34200000_57600000_orderbook_10.csv',\n",
       " '/nfs/home/peern/LOBS5/data/raw/GOOG_2023-01-05_34200000_57600000_orderbook_10.csv',\n",
       " '/nfs/home/peern/LOBS5/data/raw/GOOG_2023-01-06_34200000_57600000_orderbook_10.csv',\n",
       " '/nfs/home/peern/LOBS5/data/raw/GOOG_2023-01-09_34200000_57600000_orderbook_10.csv',\n",
       " '/nfs/home/peern/LOBS5/data/raw/GOOG_2023-01-10_34200000_57600000_orderbook_10.csv',\n",
       " '/nfs/home/peern/LOBS5/data/raw/GOOG_2023-01-30_34200000_57600000_orderbook_10.csv',\n",
       " '/nfs/home/peern/LOBS5/data/raw/GOOG_2023-01-31_34200000_57600000_orderbook_10.csv']"
      ]
     },
     "execution_count": 6,
     "metadata": {},
     "output_type": "execute_result"
    }
   ],
   "source": [
    "book_files = sorted(glob(data_dir + '*orderbook*.csv'))\n",
    "book_files"
   ]
  },
  {
   "cell_type": "code",
   "execution_count": 7,
   "metadata": {},
   "outputs": [],
   "source": [
    "# def process_book(b, price_levels):\n",
    "#     b_indices = b.iloc[:, ::2].sub(b[2], axis=0).div(100).astype(int)\n",
    "#     b_indices = b_indices + price_levels // 2 - 2  # -2 to account for average spread\n",
    "#     b_indices.columns = list(range(b_indices.shape[1]))\n",
    "#     vol_book = b.iloc[:, 1::2]\n",
    "#     vol_book.columns = list(range(vol_book.shape[1]))\n",
    "\n",
    "#     # convert to book representation with volume at each price level relative to best bid\n",
    "#     # i.e. at each time we have a fixed width snapshot around the best bid\n",
    "#     # therefore movement of the mid price needs to be a separate feature (e.g. relative to previous price)\n",
    "\n",
    "#     mybook = np.zeros((len(b), price_levels), dtype=np.int32)\n",
    "\n",
    "#     a = b_indices.values\n",
    "#     for i in range(a.shape[0]):\n",
    "#         for j in range(a.shape[1]):\n",
    "#             price = a[i, j]\n",
    "#             if price >= 0 and price < price_levels:\n",
    "#                 mybook[i, price] = vol_book.values[i, j]\n",
    "\n",
    "#     # prepend column with best bid changes (in ticks)\n",
    "#     bid_diff = b[2].div(100).diff().fillna(0).astype(int).values\n",
    "#     return np.concatenate([bid_diff[:, None], mybook], axis=1)"
   ]
  },
  {
   "cell_type": "code",
   "execution_count": 8,
   "metadata": {},
   "outputs": [
    {
     "data": {
      "text/plain": [
       "['/nfs/home/peern/LOBS5/data/raw/GOOG_2023-01-03_34200000_57600000_orderbook_10.csv',\n",
       " '/nfs/home/peern/LOBS5/data/raw/GOOG_2023-01-04_34200000_57600000_orderbook_10.csv',\n",
       " '/nfs/home/peern/LOBS5/data/raw/GOOG_2023-01-05_34200000_57600000_orderbook_10.csv',\n",
       " '/nfs/home/peern/LOBS5/data/raw/GOOG_2023-01-06_34200000_57600000_orderbook_10.csv',\n",
       " '/nfs/home/peern/LOBS5/data/raw/GOOG_2023-01-09_34200000_57600000_orderbook_10.csv',\n",
       " '/nfs/home/peern/LOBS5/data/raw/GOOG_2023-01-10_34200000_57600000_orderbook_10.csv',\n",
       " '/nfs/home/peern/LOBS5/data/raw/GOOG_2023-01-30_34200000_57600000_orderbook_10.csv',\n",
       " '/nfs/home/peern/LOBS5/data/raw/GOOG_2023-01-31_34200000_57600000_orderbook_10.csv']"
      ]
     },
     "execution_count": 8,
     "metadata": {},
     "output_type": "execute_result"
    }
   ],
   "source": [
    "book_files"
   ]
  },
  {
   "cell_type": "code",
   "execution_count": 5,
   "metadata": {},
   "outputs": [],
   "source": [
    "from tqdm.notebook import tqdm\n",
    "from preproc import process_book"
   ]
  },
  {
   "cell_type": "code",
   "execution_count": 7,
   "metadata": {},
   "outputs": [
    {
     "data": {
      "application/vnd.jupyter.widget-view+json": {
       "model_id": "55b7cc7df97d45a8ab93e8948bde80ca",
       "version_major": 2,
       "version_minor": 0
      },
      "text/plain": [
       "0it [00:00, ?it/s]"
      ]
     },
     "metadata": {},
     "output_type": "display_data"
    },
    {
     "name": "stdout",
     "output_type": "stream",
     "text": [
      "/nfs/home/peern/LOBS5/data/raw/GOOG_2023-01-03_34200000_57600000_message_10.csv\n",
      "/nfs/home/peern/LOBS5/data/raw/GOOG_2023-01-03_34200000_57600000_orderbook_10.csv\n",
      "\n",
      "/nfs/home/peern/LOBS5/data/raw/GOOG_2023-01-04_34200000_57600000_message_10.csv\n",
      "/nfs/home/peern/LOBS5/data/raw/GOOG_2023-01-04_34200000_57600000_orderbook_10.csv\n",
      "\n",
      "/nfs/home/peern/LOBS5/data/raw/GOOG_2023-01-05_34200000_57600000_message_10.csv\n",
      "/nfs/home/peern/LOBS5/data/raw/GOOG_2023-01-05_34200000_57600000_orderbook_10.csv\n",
      "\n",
      "/nfs/home/peern/LOBS5/data/raw/GOOG_2023-01-06_34200000_57600000_message_10.csv\n",
      "/nfs/home/peern/LOBS5/data/raw/GOOG_2023-01-06_34200000_57600000_orderbook_10.csv\n",
      "\n",
      "/nfs/home/peern/LOBS5/data/raw/GOOG_2023-01-09_34200000_57600000_message_10.csv\n",
      "/nfs/home/peern/LOBS5/data/raw/GOOG_2023-01-09_34200000_57600000_orderbook_10.csv\n",
      "\n",
      "/nfs/home/peern/LOBS5/data/raw/GOOG_2023-01-10_34200000_57600000_message_10.csv\n",
      "/nfs/home/peern/LOBS5/data/raw/GOOG_2023-01-10_34200000_57600000_orderbook_10.csv\n",
      "\n",
      "/nfs/home/peern/LOBS5/data/raw/GOOG_2023-01-30_34200000_57600000_message_10.csv\n",
      "/nfs/home/peern/LOBS5/data/raw/GOOG_2023-01-30_34200000_57600000_orderbook_10.csv\n",
      "\n",
      "/nfs/home/peern/LOBS5/data/raw/GOOG_2023-01-31_34200000_57600000_message_10.csv\n",
      "/nfs/home/peern/LOBS5/data/raw/GOOG_2023-01-31_34200000_57600000_orderbook_10.csv\n",
      "\n"
     ]
    }
   ],
   "source": [
    "for m_f, b_f in tqdm(zip(message_files, book_files)):\n",
    "    print(m_f)\n",
    "    print(b_f)\n",
    "    print()\n",
    "\n",
    "    messages = pd.read_csv(\n",
    "        m_f,\n",
    "        names=['time', 'event_type', 'order_id', 'size', 'price', 'direction'],\n",
    "        index_col=False)\n",
    "\n",
    "    book = pd.read_csv(\n",
    "        b_f,\n",
    "        index_col=False,\n",
    "        header=None\n",
    "    )\n",
    "\n",
    "    # remove diallowed order types\n",
    "    messages = messages.loc[messages.event_type.isin([1, 2, 3, 4])]\n",
    "    book = book.loc[messages.index]\n",
    "\n",
    "    book = process_book(book, price_levels=40)\n",
    "    b_path = save_dir + b_f.rsplit('/', maxsplit=1)[-1][:-4] + '_proc.npy'\n",
    "    np.save(b_path, book, allow_pickle=True)"
   ]
  },
  {
   "cell_type": "code",
   "execution_count": 125,
   "metadata": {},
   "outputs": [],
   "source": [
    "my_book = process_book(b, 40)"
   ]
  },
  {
   "cell_type": "code",
   "execution_count": 126,
   "metadata": {},
   "outputs": [],
   "source": [
    "my_book_df = pd.DataFrame(my_book)"
   ]
  },
  {
   "cell_type": "code",
   "execution_count": 127,
   "metadata": {},
   "outputs": [
    {
     "data": {
      "text/plain": [
       "<AxesSubplot:>"
      ]
     },
     "execution_count": 127,
     "metadata": {},
     "output_type": "execute_result"
    },
    {
     "data": {
      "image/png": "[encoded data removed]",
      "text/plain": [
       "<Figure size 432x288 with 1 Axes>"
      ]
     },
     "metadata": {
      "needs_background": "light"
     },
     "output_type": "display_data"
    }
   ],
   "source": [
    "my_book_df.iloc[:,7].plot()"
   ]
  },
  {
   "cell_type": "code",
   "execution_count": 128,
   "metadata": {},
   "outputs": [
    {
     "data": {
      "text/html": [
       "<div>\n",
       "<style scoped>\n",
       "    .dataframe tbody tr th:only-of-type {\n",
       "        vertical-align: middle;\n",
       "    }\n",
       "\n",
       "    .dataframe tbody tr th {\n",
       "        vertical-align: top;\n",
       "    }\n",
       "\n",
       "    .dataframe thead th {\n",
       "        text-align: right;\n",
       "    }\n",
       "</style>\n",
       "<table border=\"1\" class=\"dataframe\">\n",
       "  <thead>\n",
       "    <tr style=\"text-align: right;\">\n",
       "      <th></th>\n",
       "      <th>0</th>\n",
       "      <th>1</th>\n",
       "      <th>2</th>\n",
       "      <th>3</th>\n",
       "      <th>4</th>\n",
       "      <th>5</th>\n",
       "      <th>6</th>\n",
       "      <th>7</th>\n",
       "      <th>8</th>\n",
       "      <th>9</th>\n",
       "      <th>...</th>\n",
       "      <th>31</th>\n",
       "      <th>32</th>\n",
       "      <th>33</th>\n",
       "      <th>34</th>\n",
       "      <th>35</th>\n",
       "      <th>36</th>\n",
       "      <th>37</th>\n",
       "      <th>38</th>\n",
       "      <th>39</th>\n",
       "      <th>40</th>\n",
       "    </tr>\n",
       "  </thead>\n",
       "  <tbody>\n",
       "    <tr>\n",
       "      <th>count</th>\n",
       "      <td>1.962420e+06</td>\n",
       "      <td>1962420.0</td>\n",
       "      <td>1.962420e+06</td>\n",
       "      <td>1.962420e+06</td>\n",
       "      <td>1.962420e+06</td>\n",
       "      <td>1.962420e+06</td>\n",
       "      <td>1.962420e+06</td>\n",
       "      <td>1.962420e+06</td>\n",
       "      <td>1.962420e+06</td>\n",
       "      <td>1.962420e+06</td>\n",
       "      <td>...</td>\n",
       "      <td>1.962420e+06</td>\n",
       "      <td>1.962420e+06</td>\n",
       "      <td>1.962420e+06</td>\n",
       "      <td>1.962420e+06</td>\n",
       "      <td>1.962420e+06</td>\n",
       "      <td>1.962420e+06</td>\n",
       "      <td>1.962420e+06</td>\n",
       "      <td>1.962420e+06</td>\n",
       "      <td>1.962420e+06</td>\n",
       "      <td>1.962420e+06</td>\n",
       "    </tr>\n",
       "    <tr>\n",
       "      <th>mean</th>\n",
       "      <td>-7.134049e-06</td>\n",
       "      <td>0.0</td>\n",
       "      <td>2.104137e-02</td>\n",
       "      <td>1.816380e-02</td>\n",
       "      <td>9.918519e-02</td>\n",
       "      <td>2.238364e-01</td>\n",
       "      <td>5.072171e-01</td>\n",
       "      <td>8.497982e-01</td>\n",
       "      <td>2.636656e+00</td>\n",
       "      <td>1.388989e+01</td>\n",
       "      <td>...</td>\n",
       "      <td>5.820159e+01</td>\n",
       "      <td>1.527995e+01</td>\n",
       "      <td>4.735169e+00</td>\n",
       "      <td>1.612250e+00</td>\n",
       "      <td>4.961074e-01</td>\n",
       "      <td>2.170198e-01</td>\n",
       "      <td>1.049047e-01</td>\n",
       "      <td>8.043283e-02</td>\n",
       "      <td>3.201048e-02</td>\n",
       "      <td>3.042060e-02</td>\n",
       "    </tr>\n",
       "    <tr>\n",
       "      <th>std</th>\n",
       "      <td>1.683192e-01</td>\n",
       "      <td>0.0</td>\n",
       "      <td>4.517930e+00</td>\n",
       "      <td>4.309747e+00</td>\n",
       "      <td>1.096578e+01</td>\n",
       "      <td>1.461462e+01</td>\n",
       "      <td>6.657229e+01</td>\n",
       "      <td>6.008135e+01</td>\n",
       "      <td>7.422632e+01</td>\n",
       "      <td>1.492593e+02</td>\n",
       "      <td>...</td>\n",
       "      <td>2.499058e+02</td>\n",
       "      <td>1.130011e+02</td>\n",
       "      <td>6.718697e+01</td>\n",
       "      <td>3.934303e+01</td>\n",
       "      <td>1.966742e+01</td>\n",
       "      <td>1.172099e+01</td>\n",
       "      <td>9.794400e+00</td>\n",
       "      <td>1.043434e+01</td>\n",
       "      <td>2.983703e+00</td>\n",
       "      <td>2.435108e+00</td>\n",
       "    </tr>\n",
       "    <tr>\n",
       "      <th>min</th>\n",
       "      <td>-5.000000e+00</td>\n",
       "      <td>0.0</td>\n",
       "      <td>0.000000e+00</td>\n",
       "      <td>0.000000e+00</td>\n",
       "      <td>0.000000e+00</td>\n",
       "      <td>0.000000e+00</td>\n",
       "      <td>0.000000e+00</td>\n",
       "      <td>0.000000e+00</td>\n",
       "      <td>0.000000e+00</td>\n",
       "      <td>0.000000e+00</td>\n",
       "      <td>...</td>\n",
       "      <td>0.000000e+00</td>\n",
       "      <td>0.000000e+00</td>\n",
       "      <td>0.000000e+00</td>\n",
       "      <td>0.000000e+00</td>\n",
       "      <td>0.000000e+00</td>\n",
       "      <td>0.000000e+00</td>\n",
       "      <td>0.000000e+00</td>\n",
       "      <td>0.000000e+00</td>\n",
       "      <td>0.000000e+00</td>\n",
       "      <td>0.000000e+00</td>\n",
       "    </tr>\n",
       "    <tr>\n",
       "      <th>25%</th>\n",
       "      <td>0.000000e+00</td>\n",
       "      <td>0.0</td>\n",
       "      <td>0.000000e+00</td>\n",
       "      <td>0.000000e+00</td>\n",
       "      <td>0.000000e+00</td>\n",
       "      <td>0.000000e+00</td>\n",
       "      <td>0.000000e+00</td>\n",
       "      <td>0.000000e+00</td>\n",
       "      <td>0.000000e+00</td>\n",
       "      <td>0.000000e+00</td>\n",
       "      <td>...</td>\n",
       "      <td>0.000000e+00</td>\n",
       "      <td>0.000000e+00</td>\n",
       "      <td>0.000000e+00</td>\n",
       "      <td>0.000000e+00</td>\n",
       "      <td>0.000000e+00</td>\n",
       "      <td>0.000000e+00</td>\n",
       "      <td>0.000000e+00</td>\n",
       "      <td>0.000000e+00</td>\n",
       "      <td>0.000000e+00</td>\n",
       "      <td>0.000000e+00</td>\n",
       "    </tr>\n",
       "    <tr>\n",
       "      <th>50%</th>\n",
       "      <td>0.000000e+00</td>\n",
       "      <td>0.0</td>\n",
       "      <td>0.000000e+00</td>\n",
       "      <td>0.000000e+00</td>\n",
       "      <td>0.000000e+00</td>\n",
       "      <td>0.000000e+00</td>\n",
       "      <td>0.000000e+00</td>\n",
       "      <td>0.000000e+00</td>\n",
       "      <td>0.000000e+00</td>\n",
       "      <td>0.000000e+00</td>\n",
       "      <td>...</td>\n",
       "      <td>0.000000e+00</td>\n",
       "      <td>0.000000e+00</td>\n",
       "      <td>0.000000e+00</td>\n",
       "      <td>0.000000e+00</td>\n",
       "      <td>0.000000e+00</td>\n",
       "      <td>0.000000e+00</td>\n",
       "      <td>0.000000e+00</td>\n",
       "      <td>0.000000e+00</td>\n",
       "      <td>0.000000e+00</td>\n",
       "      <td>0.000000e+00</td>\n",
       "    </tr>\n",
       "    <tr>\n",
       "      <th>75%</th>\n",
       "      <td>0.000000e+00</td>\n",
       "      <td>0.0</td>\n",
       "      <td>0.000000e+00</td>\n",
       "      <td>0.000000e+00</td>\n",
       "      <td>0.000000e+00</td>\n",
       "      <td>0.000000e+00</td>\n",
       "      <td>0.000000e+00</td>\n",
       "      <td>0.000000e+00</td>\n",
       "      <td>0.000000e+00</td>\n",
       "      <td>0.000000e+00</td>\n",
       "      <td>...</td>\n",
       "      <td>0.000000e+00</td>\n",
       "      <td>0.000000e+00</td>\n",
       "      <td>0.000000e+00</td>\n",
       "      <td>0.000000e+00</td>\n",
       "      <td>0.000000e+00</td>\n",
       "      <td>0.000000e+00</td>\n",
       "      <td>0.000000e+00</td>\n",
       "      <td>0.000000e+00</td>\n",
       "      <td>0.000000e+00</td>\n",
       "      <td>0.000000e+00</td>\n",
       "    </tr>\n",
       "    <tr>\n",
       "      <th>max</th>\n",
       "      <td>8.000000e+00</td>\n",
       "      <td>0.0</td>\n",
       "      <td>1.000000e+03</td>\n",
       "      <td>1.700000e+03</td>\n",
       "      <td>2.300000e+03</td>\n",
       "      <td>2.300000e+03</td>\n",
       "      <td>1.544500e+04</td>\n",
       "      <td>1.544500e+04</td>\n",
       "      <td>1.544500e+04</td>\n",
       "      <td>1.565300e+04</td>\n",
       "      <td>...</td>\n",
       "      <td>9.900000e+03</td>\n",
       "      <td>5.790000e+03</td>\n",
       "      <td>5.790000e+03</td>\n",
       "      <td>2.354000e+03</td>\n",
       "      <td>2.354000e+03</td>\n",
       "      <td>2.001000e+03</td>\n",
       "      <td>2.354000e+03</td>\n",
       "      <td>2.254000e+03</td>\n",
       "      <td>2.254000e+03</td>\n",
       "      <td>5.670000e+02</td>\n",
       "    </tr>\n",
       "  </tbody>\n",
       "</table>\n",
       "<p>8 rows × 41 columns</p>\n",
       "</div>"
      ],
      "text/plain": [
       "                 0          1             2             3             4   \\\n",
       "count  1.962420e+06  1962420.0  1.962420e+06  1.962420e+06  1.962420e+06   \n",
       "mean  -7.134049e-06        0.0  2.104137e-02  1.816380e-02  9.918519e-02   \n",
       "std    1.683192e-01        0.0  4.517930e+00  4.309747e+00  1.096578e+01   \n",
       "min   -5.000000e+00        0.0  0.000000e+00  0.000000e+00  0.000000e+00   \n",
       "25%    0.000000e+00        0.0  0.000000e+00  0.000000e+00  0.000000e+00   \n",
       "50%    0.000000e+00        0.0  0.000000e+00  0.000000e+00  0.000000e+00   \n",
       "75%    0.000000e+00        0.0  0.000000e+00  0.000000e+00  0.000000e+00   \n",
       "max    8.000000e+00        0.0  1.000000e+03  1.700000e+03  2.300000e+03   \n",
       "\n",
       "                 5             6             7             8             9   \\\n",
       "count  1.962420e+06  1.962420e+06  1.962420e+06  1.962420e+06  1.962420e+06   \n",
       "mean   2.238364e-01  5.072171e-01  8.497982e-01  2.636656e+00  1.388989e+01   \n",
       "std    1.461462e+01  6.657229e+01  6.008135e+01  7.422632e+01  1.492593e+02   \n",
       "min    0.000000e+00  0.000000e+00  0.000000e+00  0.000000e+00  0.000000e+00   \n",
       "25%    0.000000e+00  0.000000e+00  0.000000e+00  0.000000e+00  0.000000e+00   \n",
       "50%    0.000000e+00  0.000000e+00  0.000000e+00  0.000000e+00  0.000000e+00   \n",
       "75%    0.000000e+00  0.000000e+00  0.000000e+00  0.000000e+00  0.000000e+00   \n",
       "max    2.300000e+03  1.544500e+04  1.544500e+04  1.544500e+04  1.565300e+04   \n",
       "\n",
       "       ...            31            32            33            34  \\\n",
       "count  ...  1.962420e+06  1.962420e+06  1.962420e+06  1.962420e+06   \n",
       "mean   ...  5.820159e+01  1.527995e+01  4.735169e+00  1.612250e+00   \n",
       "std    ...  2.499058e+02  1.130011e+02  6.718697e+01  3.934303e+01   \n",
       "min    ...  0.000000e+00  0.000000e+00  0.000000e+00  0.000000e+00   \n",
       "25%    ...  0.000000e+00  0.000000e+00  0.000000e+00  0.000000e+00   \n",
       "50%    ...  0.000000e+00  0.000000e+00  0.000000e+00  0.000000e+00   \n",
       "75%    ...  0.000000e+00  0.000000e+00  0.000000e+00  0.000000e+00   \n",
       "max    ...  9.900000e+03  5.790000e+03  5.790000e+03  2.354000e+03   \n",
       "\n",
       "                 35            36            37            38            39  \\\n",
       "count  1.962420e+06  1.962420e+06  1.962420e+06  1.962420e+06  1.962420e+06   \n",
       "mean   4.961074e-01  2.170198e-01  1.049047e-01  8.043283e-02  3.201048e-02   \n",
       "std    1.966742e+01  1.172099e+01  9.794400e+00  1.043434e+01  2.983703e+00   \n",
       "min    0.000000e+00  0.000000e+00  0.000000e+00  0.000000e+00  0.000000e+00   \n",
       "25%    0.000000e+00  0.000000e+00  0.000000e+00  0.000000e+00  0.000000e+00   \n",
       "50%    0.000000e+00  0.000000e+00  0.000000e+00  0.000000e+00  0.000000e+00   \n",
       "75%    0.000000e+00  0.000000e+00  0.000000e+00  0.000000e+00  0.000000e+00   \n",
       "max    2.354000e+03  2.001000e+03  2.354000e+03  2.254000e+03  2.254000e+03   \n",
       "\n",
       "                 40  \n",
       "count  1.962420e+06  \n",
       "mean   3.042060e-02  \n",
       "std    2.435108e+00  \n",
       "min    0.000000e+00  \n",
       "25%    0.000000e+00  \n",
       "50%    0.000000e+00  \n",
       "75%    0.000000e+00  \n",
       "max    5.670000e+02  \n",
       "\n",
       "[8 rows x 41 columns]"
      ]
     },
     "execution_count": 128,
     "metadata": {},
     "output_type": "execute_result"
    }
   ],
   "source": [
    "my_book_df.describe()"
   ]
  },
  {
   "cell_type": "code",
   "execution_count": null,
   "metadata": {},
   "outputs": [],
   "source": []
  },
  {
   "cell_type": "code",
   "execution_count": 45,
   "metadata": {},
   "outputs": [
    {
     "data": {
      "text/html": [
       "<div>\n",
       "<style scoped>\n",
       "    .dataframe tbody tr th:only-of-type {\n",
       "        vertical-align: middle;\n",
       "    }\n",
       "\n",
       "    .dataframe tbody tr th {\n",
       "        vertical-align: top;\n",
       "    }\n",
       "\n",
       "    .dataframe thead th {\n",
       "        text-align: right;\n",
       "    }\n",
       "</style>\n",
       "<table border=\"1\" class=\"dataframe\">\n",
       "  <thead>\n",
       "    <tr style=\"text-align: right;\">\n",
       "      <th></th>\n",
       "      <th>0</th>\n",
       "      <th>2</th>\n",
       "      <th>4</th>\n",
       "      <th>6</th>\n",
       "      <th>8</th>\n",
       "      <th>10</th>\n",
       "      <th>12</th>\n",
       "      <th>14</th>\n",
       "      <th>16</th>\n",
       "      <th>18</th>\n",
       "      <th>20</th>\n",
       "      <th>22</th>\n",
       "      <th>24</th>\n",
       "      <th>26</th>\n",
       "      <th>28</th>\n",
       "      <th>30</th>\n",
       "      <th>32</th>\n",
       "      <th>34</th>\n",
       "      <th>36</th>\n",
       "      <th>38</th>\n",
       "    </tr>\n",
       "  </thead>\n",
       "  <tbody>\n",
       "    <tr>\n",
       "      <th>0</th>\n",
       "      <td>2</td>\n",
       "      <td>0</td>\n",
       "      <td>15</td>\n",
       "      <td>-1</td>\n",
       "      <td>19</td>\n",
       "      <td>-2</td>\n",
       "      <td>30</td>\n",
       "      <td>-3</td>\n",
       "      <td>31</td>\n",
       "      <td>-4</td>\n",
       "      <td>35</td>\n",
       "      <td>-7</td>\n",
       "      <td>37</td>\n",
       "      <td>-14</td>\n",
       "      <td>40</td>\n",
       "      <td>-15</td>\n",
       "      <td>47</td>\n",
       "      <td>-16</td>\n",
       "      <td>50</td>\n",
       "      <td>-23</td>\n",
       "    </tr>\n",
       "    <tr>\n",
       "      <th>1</th>\n",
       "      <td>2</td>\n",
       "      <td>0</td>\n",
       "      <td>15</td>\n",
       "      <td>-1</td>\n",
       "      <td>19</td>\n",
       "      <td>-2</td>\n",
       "      <td>30</td>\n",
       "      <td>-3</td>\n",
       "      <td>31</td>\n",
       "      <td>-4</td>\n",
       "      <td>35</td>\n",
       "      <td>-7</td>\n",
       "      <td>37</td>\n",
       "      <td>-14</td>\n",
       "      <td>40</td>\n",
       "      <td>-15</td>\n",
       "      <td>47</td>\n",
       "      <td>-16</td>\n",
       "      <td>50</td>\n",
       "      <td>-23</td>\n",
       "    </tr>\n",
       "    <tr>\n",
       "      <th>2</th>\n",
       "      <td>2</td>\n",
       "      <td>0</td>\n",
       "      <td>15</td>\n",
       "      <td>-1</td>\n",
       "      <td>19</td>\n",
       "      <td>-2</td>\n",
       "      <td>30</td>\n",
       "      <td>-3</td>\n",
       "      <td>31</td>\n",
       "      <td>-4</td>\n",
       "      <td>35</td>\n",
       "      <td>-7</td>\n",
       "      <td>37</td>\n",
       "      <td>-13</td>\n",
       "      <td>40</td>\n",
       "      <td>-14</td>\n",
       "      <td>47</td>\n",
       "      <td>-15</td>\n",
       "      <td>50</td>\n",
       "      <td>-16</td>\n",
       "    </tr>\n",
       "    <tr>\n",
       "      <th>3</th>\n",
       "      <td>2</td>\n",
       "      <td>0</td>\n",
       "      <td>15</td>\n",
       "      <td>-1</td>\n",
       "      <td>19</td>\n",
       "      <td>-2</td>\n",
       "      <td>30</td>\n",
       "      <td>-3</td>\n",
       "      <td>31</td>\n",
       "      <td>-4</td>\n",
       "      <td>35</td>\n",
       "      <td>-7</td>\n",
       "      <td>37</td>\n",
       "      <td>-13</td>\n",
       "      <td>40</td>\n",
       "      <td>-14</td>\n",
       "      <td>47</td>\n",
       "      <td>-15</td>\n",
       "      <td>50</td>\n",
       "      <td>-16</td>\n",
       "    </tr>\n",
       "    <tr>\n",
       "      <th>4</th>\n",
       "      <td>2</td>\n",
       "      <td>0</td>\n",
       "      <td>15</td>\n",
       "      <td>-1</td>\n",
       "      <td>19</td>\n",
       "      <td>-2</td>\n",
       "      <td>30</td>\n",
       "      <td>-3</td>\n",
       "      <td>31</td>\n",
       "      <td>-4</td>\n",
       "      <td>35</td>\n",
       "      <td>-5</td>\n",
       "      <td>37</td>\n",
       "      <td>-7</td>\n",
       "      <td>40</td>\n",
       "      <td>-13</td>\n",
       "      <td>47</td>\n",
       "      <td>-14</td>\n",
       "      <td>50</td>\n",
       "      <td>-15</td>\n",
       "    </tr>\n",
       "    <tr>\n",
       "      <th>...</th>\n",
       "      <td>...</td>\n",
       "      <td>...</td>\n",
       "      <td>...</td>\n",
       "      <td>...</td>\n",
       "      <td>...</td>\n",
       "      <td>...</td>\n",
       "      <td>...</td>\n",
       "      <td>...</td>\n",
       "      <td>...</td>\n",
       "      <td>...</td>\n",
       "      <td>...</td>\n",
       "      <td>...</td>\n",
       "      <td>...</td>\n",
       "      <td>...</td>\n",
       "      <td>...</td>\n",
       "      <td>...</td>\n",
       "      <td>...</td>\n",
       "      <td>...</td>\n",
       "      <td>...</td>\n",
       "      <td>...</td>\n",
       "    </tr>\n",
       "    <tr>\n",
       "      <th>1962415</th>\n",
       "      <td>1</td>\n",
       "      <td>0</td>\n",
       "      <td>2</td>\n",
       "      <td>-1</td>\n",
       "      <td>3</td>\n",
       "      <td>-2</td>\n",
       "      <td>4</td>\n",
       "      <td>-3</td>\n",
       "      <td>5</td>\n",
       "      <td>-4</td>\n",
       "      <td>6</td>\n",
       "      <td>-5</td>\n",
       "      <td>7</td>\n",
       "      <td>-6</td>\n",
       "      <td>8</td>\n",
       "      <td>-7</td>\n",
       "      <td>9</td>\n",
       "      <td>-8</td>\n",
       "      <td>10</td>\n",
       "      <td>-9</td>\n",
       "    </tr>\n",
       "    <tr>\n",
       "      <th>1962416</th>\n",
       "      <td>1</td>\n",
       "      <td>0</td>\n",
       "      <td>2</td>\n",
       "      <td>-1</td>\n",
       "      <td>3</td>\n",
       "      <td>-2</td>\n",
       "      <td>4</td>\n",
       "      <td>-3</td>\n",
       "      <td>5</td>\n",
       "      <td>-4</td>\n",
       "      <td>6</td>\n",
       "      <td>-5</td>\n",
       "      <td>7</td>\n",
       "      <td>-6</td>\n",
       "      <td>8</td>\n",
       "      <td>-7</td>\n",
       "      <td>9</td>\n",
       "      <td>-8</td>\n",
       "      <td>10</td>\n",
       "      <td>-9</td>\n",
       "    </tr>\n",
       "    <tr>\n",
       "      <th>1962417</th>\n",
       "      <td>1</td>\n",
       "      <td>0</td>\n",
       "      <td>2</td>\n",
       "      <td>-1</td>\n",
       "      <td>3</td>\n",
       "      <td>-2</td>\n",
       "      <td>4</td>\n",
       "      <td>-3</td>\n",
       "      <td>5</td>\n",
       "      <td>-4</td>\n",
       "      <td>6</td>\n",
       "      <td>-5</td>\n",
       "      <td>7</td>\n",
       "      <td>-6</td>\n",
       "      <td>8</td>\n",
       "      <td>-7</td>\n",
       "      <td>9</td>\n",
       "      <td>-8</td>\n",
       "      <td>10</td>\n",
       "      <td>-9</td>\n",
       "    </tr>\n",
       "    <tr>\n",
       "      <th>1962418</th>\n",
       "      <td>1</td>\n",
       "      <td>0</td>\n",
       "      <td>2</td>\n",
       "      <td>-1</td>\n",
       "      <td>3</td>\n",
       "      <td>-2</td>\n",
       "      <td>4</td>\n",
       "      <td>-3</td>\n",
       "      <td>5</td>\n",
       "      <td>-4</td>\n",
       "      <td>6</td>\n",
       "      <td>-5</td>\n",
       "      <td>7</td>\n",
       "      <td>-6</td>\n",
       "      <td>8</td>\n",
       "      <td>-7</td>\n",
       "      <td>9</td>\n",
       "      <td>-8</td>\n",
       "      <td>10</td>\n",
       "      <td>-9</td>\n",
       "    </tr>\n",
       "    <tr>\n",
       "      <th>1962419</th>\n",
       "      <td>1</td>\n",
       "      <td>0</td>\n",
       "      <td>2</td>\n",
       "      <td>-1</td>\n",
       "      <td>3</td>\n",
       "      <td>-2</td>\n",
       "      <td>4</td>\n",
       "      <td>-3</td>\n",
       "      <td>5</td>\n",
       "      <td>-4</td>\n",
       "      <td>6</td>\n",
       "      <td>-5</td>\n",
       "      <td>7</td>\n",
       "      <td>-6</td>\n",
       "      <td>8</td>\n",
       "      <td>-7</td>\n",
       "      <td>9</td>\n",
       "      <td>-8</td>\n",
       "      <td>10</td>\n",
       "      <td>-9</td>\n",
       "    </tr>\n",
       "  </tbody>\n",
       "</table>\n",
       "<p>1962420 rows × 20 columns</p>\n",
       "</div>"
      ],
      "text/plain": [
       "         0   2   4   6   8   10  12  14  16  18  20  22  24  26  28  30  32  \\\n",
       "0         2   0  15  -1  19  -2  30  -3  31  -4  35  -7  37 -14  40 -15  47   \n",
       "1         2   0  15  -1  19  -2  30  -3  31  -4  35  -7  37 -14  40 -15  47   \n",
       "2         2   0  15  -1  19  -2  30  -3  31  -4  35  -7  37 -13  40 -14  47   \n",
       "3         2   0  15  -1  19  -2  30  -3  31  -4  35  -7  37 -13  40 -14  47   \n",
       "4         2   0  15  -1  19  -2  30  -3  31  -4  35  -5  37  -7  40 -13  47   \n",
       "...      ..  ..  ..  ..  ..  ..  ..  ..  ..  ..  ..  ..  ..  ..  ..  ..  ..   \n",
       "1962415   1   0   2  -1   3  -2   4  -3   5  -4   6  -5   7  -6   8  -7   9   \n",
       "1962416   1   0   2  -1   3  -2   4  -3   5  -4   6  -5   7  -6   8  -7   9   \n",
       "1962417   1   0   2  -1   3  -2   4  -3   5  -4   6  -5   7  -6   8  -7   9   \n",
       "1962418   1   0   2  -1   3  -2   4  -3   5  -4   6  -5   7  -6   8  -7   9   \n",
       "1962419   1   0   2  -1   3  -2   4  -3   5  -4   6  -5   7  -6   8  -7   9   \n",
       "\n",
       "         34  36  38  \n",
       "0       -16  50 -23  \n",
       "1       -16  50 -23  \n",
       "2       -15  50 -16  \n",
       "3       -15  50 -16  \n",
       "4       -14  50 -15  \n",
       "...      ..  ..  ..  \n",
       "1962415  -8  10  -9  \n",
       "1962416  -8  10  -9  \n",
       "1962417  -8  10  -9  \n",
       "1962418  -8  10  -9  \n",
       "1962419  -8  10  -9  \n",
       "\n",
       "[1962420 rows x 20 columns]"
      ]
     },
     "execution_count": 45,
     "metadata": {},
     "output_type": "execute_result"
    }
   ],
   "source": [
    "# prices in ticks from best bid\n",
    "b_ticks = b.iloc[:, ::2].sub(b[2], axis=0).div(100).astype(int)\n",
    "b_ticks"
   ]
  },
  {
   "cell_type": "code",
   "execution_count": 67,
   "metadata": {},
   "outputs": [
    {
     "data": {
      "text/html": [
       "<div>\n",
       "<style scoped>\n",
       "    .dataframe tbody tr th:only-of-type {\n",
       "        vertical-align: middle;\n",
       "    }\n",
       "\n",
       "    .dataframe tbody tr th {\n",
       "        vertical-align: top;\n",
       "    }\n",
       "\n",
       "    .dataframe thead th {\n",
       "        text-align: right;\n",
       "    }\n",
       "</style>\n",
       "<table border=\"1\" class=\"dataframe\">\n",
       "  <thead>\n",
       "    <tr style=\"text-align: right;\">\n",
       "      <th></th>\n",
       "      <th>0</th>\n",
       "      <th>1</th>\n",
       "      <th>2</th>\n",
       "      <th>3</th>\n",
       "      <th>4</th>\n",
       "      <th>5</th>\n",
       "      <th>6</th>\n",
       "      <th>7</th>\n",
       "      <th>8</th>\n",
       "      <th>9</th>\n",
       "      <th>10</th>\n",
       "      <th>11</th>\n",
       "      <th>12</th>\n",
       "      <th>13</th>\n",
       "      <th>14</th>\n",
       "      <th>15</th>\n",
       "      <th>16</th>\n",
       "      <th>17</th>\n",
       "      <th>18</th>\n",
       "      <th>19</th>\n",
       "    </tr>\n",
       "  </thead>\n",
       "  <tbody>\n",
       "    <tr>\n",
       "      <th>0</th>\n",
       "      <td>20</td>\n",
       "      <td>18</td>\n",
       "      <td>33</td>\n",
       "      <td>17</td>\n",
       "      <td>37</td>\n",
       "      <td>16</td>\n",
       "      <td>48</td>\n",
       "      <td>15</td>\n",
       "      <td>49</td>\n",
       "      <td>14</td>\n",
       "      <td>53</td>\n",
       "      <td>11</td>\n",
       "      <td>55</td>\n",
       "      <td>4</td>\n",
       "      <td>58</td>\n",
       "      <td>3</td>\n",
       "      <td>65</td>\n",
       "      <td>2</td>\n",
       "      <td>68</td>\n",
       "      <td>-5</td>\n",
       "    </tr>\n",
       "    <tr>\n",
       "      <th>1</th>\n",
       "      <td>20</td>\n",
       "      <td>18</td>\n",
       "      <td>33</td>\n",
       "      <td>17</td>\n",
       "      <td>37</td>\n",
       "      <td>16</td>\n",
       "      <td>48</td>\n",
       "      <td>15</td>\n",
       "      <td>49</td>\n",
       "      <td>14</td>\n",
       "      <td>53</td>\n",
       "      <td>11</td>\n",
       "      <td>55</td>\n",
       "      <td>4</td>\n",
       "      <td>58</td>\n",
       "      <td>3</td>\n",
       "      <td>65</td>\n",
       "      <td>2</td>\n",
       "      <td>68</td>\n",
       "      <td>-5</td>\n",
       "    </tr>\n",
       "    <tr>\n",
       "      <th>2</th>\n",
       "      <td>20</td>\n",
       "      <td>18</td>\n",
       "      <td>33</td>\n",
       "      <td>17</td>\n",
       "      <td>37</td>\n",
       "      <td>16</td>\n",
       "      <td>48</td>\n",
       "      <td>15</td>\n",
       "      <td>49</td>\n",
       "      <td>14</td>\n",
       "      <td>53</td>\n",
       "      <td>11</td>\n",
       "      <td>55</td>\n",
       "      <td>5</td>\n",
       "      <td>58</td>\n",
       "      <td>4</td>\n",
       "      <td>65</td>\n",
       "      <td>3</td>\n",
       "      <td>68</td>\n",
       "      <td>2</td>\n",
       "    </tr>\n",
       "    <tr>\n",
       "      <th>3</th>\n",
       "      <td>20</td>\n",
       "      <td>18</td>\n",
       "      <td>33</td>\n",
       "      <td>17</td>\n",
       "      <td>37</td>\n",
       "      <td>16</td>\n",
       "      <td>48</td>\n",
       "      <td>15</td>\n",
       "      <td>49</td>\n",
       "      <td>14</td>\n",
       "      <td>53</td>\n",
       "      <td>11</td>\n",
       "      <td>55</td>\n",
       "      <td>5</td>\n",
       "      <td>58</td>\n",
       "      <td>4</td>\n",
       "      <td>65</td>\n",
       "      <td>3</td>\n",
       "      <td>68</td>\n",
       "      <td>2</td>\n",
       "    </tr>\n",
       "    <tr>\n",
       "      <th>4</th>\n",
       "      <td>20</td>\n",
       "      <td>18</td>\n",
       "      <td>33</td>\n",
       "      <td>17</td>\n",
       "      <td>37</td>\n",
       "      <td>16</td>\n",
       "      <td>48</td>\n",
       "      <td>15</td>\n",
       "      <td>49</td>\n",
       "      <td>14</td>\n",
       "      <td>53</td>\n",
       "      <td>13</td>\n",
       "      <td>55</td>\n",
       "      <td>11</td>\n",
       "      <td>58</td>\n",
       "      <td>5</td>\n",
       "      <td>65</td>\n",
       "      <td>4</td>\n",
       "      <td>68</td>\n",
       "      <td>3</td>\n",
       "    </tr>\n",
       "    <tr>\n",
       "      <th>...</th>\n",
       "      <td>...</td>\n",
       "      <td>...</td>\n",
       "      <td>...</td>\n",
       "      <td>...</td>\n",
       "      <td>...</td>\n",
       "      <td>...</td>\n",
       "      <td>...</td>\n",
       "      <td>...</td>\n",
       "      <td>...</td>\n",
       "      <td>...</td>\n",
       "      <td>...</td>\n",
       "      <td>...</td>\n",
       "      <td>...</td>\n",
       "      <td>...</td>\n",
       "      <td>...</td>\n",
       "      <td>...</td>\n",
       "      <td>...</td>\n",
       "      <td>...</td>\n",
       "      <td>...</td>\n",
       "      <td>...</td>\n",
       "    </tr>\n",
       "    <tr>\n",
       "      <th>1962415</th>\n",
       "      <td>19</td>\n",
       "      <td>18</td>\n",
       "      <td>20</td>\n",
       "      <td>17</td>\n",
       "      <td>21</td>\n",
       "      <td>16</td>\n",
       "      <td>22</td>\n",
       "      <td>15</td>\n",
       "      <td>23</td>\n",
       "      <td>14</td>\n",
       "      <td>24</td>\n",
       "      <td>13</td>\n",
       "      <td>25</td>\n",
       "      <td>12</td>\n",
       "      <td>26</td>\n",
       "      <td>11</td>\n",
       "      <td>27</td>\n",
       "      <td>10</td>\n",
       "      <td>28</td>\n",
       "      <td>9</td>\n",
       "    </tr>\n",
       "    <tr>\n",
       "      <th>1962416</th>\n",
       "      <td>19</td>\n",
       "      <td>18</td>\n",
       "      <td>20</td>\n",
       "      <td>17</td>\n",
       "      <td>21</td>\n",
       "      <td>16</td>\n",
       "      <td>22</td>\n",
       "      <td>15</td>\n",
       "      <td>23</td>\n",
       "      <td>14</td>\n",
       "      <td>24</td>\n",
       "      <td>13</td>\n",
       "      <td>25</td>\n",
       "      <td>12</td>\n",
       "      <td>26</td>\n",
       "      <td>11</td>\n",
       "      <td>27</td>\n",
       "      <td>10</td>\n",
       "      <td>28</td>\n",
       "      <td>9</td>\n",
       "    </tr>\n",
       "    <tr>\n",
       "      <th>1962417</th>\n",
       "      <td>19</td>\n",
       "      <td>18</td>\n",
       "      <td>20</td>\n",
       "      <td>17</td>\n",
       "      <td>21</td>\n",
       "      <td>16</td>\n",
       "      <td>22</td>\n",
       "      <td>15</td>\n",
       "      <td>23</td>\n",
       "      <td>14</td>\n",
       "      <td>24</td>\n",
       "      <td>13</td>\n",
       "      <td>25</td>\n",
       "      <td>12</td>\n",
       "      <td>26</td>\n",
       "      <td>11</td>\n",
       "      <td>27</td>\n",
       "      <td>10</td>\n",
       "      <td>28</td>\n",
       "      <td>9</td>\n",
       "    </tr>\n",
       "    <tr>\n",
       "      <th>1962418</th>\n",
       "      <td>19</td>\n",
       "      <td>18</td>\n",
       "      <td>20</td>\n",
       "      <td>17</td>\n",
       "      <td>21</td>\n",
       "      <td>16</td>\n",
       "      <td>22</td>\n",
       "      <td>15</td>\n",
       "      <td>23</td>\n",
       "      <td>14</td>\n",
       "      <td>24</td>\n",
       "      <td>13</td>\n",
       "      <td>25</td>\n",
       "      <td>12</td>\n",
       "      <td>26</td>\n",
       "      <td>11</td>\n",
       "      <td>27</td>\n",
       "      <td>10</td>\n",
       "      <td>28</td>\n",
       "      <td>9</td>\n",
       "    </tr>\n",
       "    <tr>\n",
       "      <th>1962419</th>\n",
       "      <td>19</td>\n",
       "      <td>18</td>\n",
       "      <td>20</td>\n",
       "      <td>17</td>\n",
       "      <td>21</td>\n",
       "      <td>16</td>\n",
       "      <td>22</td>\n",
       "      <td>15</td>\n",
       "      <td>23</td>\n",
       "      <td>14</td>\n",
       "      <td>24</td>\n",
       "      <td>13</td>\n",
       "      <td>25</td>\n",
       "      <td>12</td>\n",
       "      <td>26</td>\n",
       "      <td>11</td>\n",
       "      <td>27</td>\n",
       "      <td>10</td>\n",
       "      <td>28</td>\n",
       "      <td>9</td>\n",
       "    </tr>\n",
       "  </tbody>\n",
       "</table>\n",
       "<p>1962420 rows × 20 columns</p>\n",
       "</div>"
      ],
      "text/plain": [
       "         0   1   2   3   4   5   6   7   8   9   10  11  12  13  14  15  16  \\\n",
       "0        20  18  33  17  37  16  48  15  49  14  53  11  55   4  58   3  65   \n",
       "1        20  18  33  17  37  16  48  15  49  14  53  11  55   4  58   3  65   \n",
       "2        20  18  33  17  37  16  48  15  49  14  53  11  55   5  58   4  65   \n",
       "3        20  18  33  17  37  16  48  15  49  14  53  11  55   5  58   4  65   \n",
       "4        20  18  33  17  37  16  48  15  49  14  53  13  55  11  58   5  65   \n",
       "...      ..  ..  ..  ..  ..  ..  ..  ..  ..  ..  ..  ..  ..  ..  ..  ..  ..   \n",
       "1962415  19  18  20  17  21  16  22  15  23  14  24  13  25  12  26  11  27   \n",
       "1962416  19  18  20  17  21  16  22  15  23  14  24  13  25  12  26  11  27   \n",
       "1962417  19  18  20  17  21  16  22  15  23  14  24  13  25  12  26  11  27   \n",
       "1962418  19  18  20  17  21  16  22  15  23  14  24  13  25  12  26  11  27   \n",
       "1962419  19  18  20  17  21  16  22  15  23  14  24  13  25  12  26  11  27   \n",
       "\n",
       "         17  18  19  \n",
       "0         2  68  -5  \n",
       "1         2  68  -5  \n",
       "2         3  68   2  \n",
       "3         3  68   2  \n",
       "4         4  68   3  \n",
       "...      ..  ..  ..  \n",
       "1962415  10  28   9  \n",
       "1962416  10  28   9  \n",
       "1962417  10  28   9  \n",
       "1962418  10  28   9  \n",
       "1962419  10  28   9  \n",
       "\n",
       "[1962420 rows x 20 columns]"
      ]
     },
     "execution_count": 67,
     "metadata": {},
     "output_type": "execute_result"
    }
   ],
   "source": [
    "price_levels = 40\n",
    "b_indices = b_ticks + price_levels // 2 - 2  # -2 to account for average spread\n",
    "b_indices.columns = list(range(b_indices.shape[1]))\n",
    "b_indices"
   ]
  },
  {
   "cell_type": "code",
   "execution_count": 68,
   "metadata": {},
   "outputs": [
    {
     "data": {
      "text/html": [
       "<div>\n",
       "<style scoped>\n",
       "    .dataframe tbody tr th:only-of-type {\n",
       "        vertical-align: middle;\n",
       "    }\n",
       "\n",
       "    .dataframe tbody tr th {\n",
       "        vertical-align: top;\n",
       "    }\n",
       "\n",
       "    .dataframe thead th {\n",
       "        text-align: right;\n",
       "    }\n",
       "</style>\n",
       "<table border=\"1\" class=\"dataframe\">\n",
       "  <thead>\n",
       "    <tr style=\"text-align: right;\">\n",
       "      <th></th>\n",
       "      <th>0</th>\n",
       "      <th>1</th>\n",
       "      <th>2</th>\n",
       "      <th>3</th>\n",
       "      <th>4</th>\n",
       "      <th>5</th>\n",
       "      <th>6</th>\n",
       "      <th>7</th>\n",
       "      <th>8</th>\n",
       "      <th>9</th>\n",
       "      <th>10</th>\n",
       "      <th>11</th>\n",
       "      <th>12</th>\n",
       "      <th>13</th>\n",
       "      <th>14</th>\n",
       "      <th>15</th>\n",
       "      <th>16</th>\n",
       "      <th>17</th>\n",
       "      <th>18</th>\n",
       "      <th>19</th>\n",
       "    </tr>\n",
       "  </thead>\n",
       "  <tbody>\n",
       "    <tr>\n",
       "      <th>0</th>\n",
       "      <td>307</td>\n",
       "      <td>355</td>\n",
       "      <td>6</td>\n",
       "      <td>2353</td>\n",
       "      <td>22</td>\n",
       "      <td>2817</td>\n",
       "      <td>100</td>\n",
       "      <td>25</td>\n",
       "      <td>200</td>\n",
       "      <td>47</td>\n",
       "      <td>66</td>\n",
       "      <td>400</td>\n",
       "      <td>1</td>\n",
       "      <td>200</td>\n",
       "      <td>100</td>\n",
       "      <td>300</td>\n",
       "      <td>1</td>\n",
       "      <td>200</td>\n",
       "      <td>1300</td>\n",
       "      <td>2</td>\n",
       "    </tr>\n",
       "    <tr>\n",
       "      <th>1</th>\n",
       "      <td>207</td>\n",
       "      <td>355</td>\n",
       "      <td>6</td>\n",
       "      <td>2353</td>\n",
       "      <td>22</td>\n",
       "      <td>2817</td>\n",
       "      <td>100</td>\n",
       "      <td>25</td>\n",
       "      <td>200</td>\n",
       "      <td>47</td>\n",
       "      <td>66</td>\n",
       "      <td>400</td>\n",
       "      <td>1</td>\n",
       "      <td>200</td>\n",
       "      <td>100</td>\n",
       "      <td>300</td>\n",
       "      <td>1</td>\n",
       "      <td>200</td>\n",
       "      <td>1300</td>\n",
       "      <td>2</td>\n",
       "    </tr>\n",
       "    <tr>\n",
       "      <th>2</th>\n",
       "      <td>207</td>\n",
       "      <td>355</td>\n",
       "      <td>6</td>\n",
       "      <td>2353</td>\n",
       "      <td>22</td>\n",
       "      <td>2817</td>\n",
       "      <td>100</td>\n",
       "      <td>25</td>\n",
       "      <td>200</td>\n",
       "      <td>47</td>\n",
       "      <td>66</td>\n",
       "      <td>400</td>\n",
       "      <td>1</td>\n",
       "      <td>1700</td>\n",
       "      <td>100</td>\n",
       "      <td>200</td>\n",
       "      <td>1</td>\n",
       "      <td>300</td>\n",
       "      <td>1300</td>\n",
       "      <td>200</td>\n",
       "    </tr>\n",
       "    <tr>\n",
       "      <th>3</th>\n",
       "      <td>207</td>\n",
       "      <td>355</td>\n",
       "      <td>6</td>\n",
       "      <td>2353</td>\n",
       "      <td>22</td>\n",
       "      <td>2817</td>\n",
       "      <td>100</td>\n",
       "      <td>25</td>\n",
       "      <td>200</td>\n",
       "      <td>47</td>\n",
       "      <td>66</td>\n",
       "      <td>2700</td>\n",
       "      <td>1</td>\n",
       "      <td>1700</td>\n",
       "      <td>100</td>\n",
       "      <td>200</td>\n",
       "      <td>1</td>\n",
       "      <td>300</td>\n",
       "      <td>1300</td>\n",
       "      <td>200</td>\n",
       "    </tr>\n",
       "    <tr>\n",
       "      <th>4</th>\n",
       "      <td>207</td>\n",
       "      <td>355</td>\n",
       "      <td>6</td>\n",
       "      <td>2353</td>\n",
       "      <td>22</td>\n",
       "      <td>2817</td>\n",
       "      <td>100</td>\n",
       "      <td>25</td>\n",
       "      <td>200</td>\n",
       "      <td>47</td>\n",
       "      <td>66</td>\n",
       "      <td>2254</td>\n",
       "      <td>1</td>\n",
       "      <td>2700</td>\n",
       "      <td>100</td>\n",
       "      <td>1700</td>\n",
       "      <td>1</td>\n",
       "      <td>200</td>\n",
       "      <td>1300</td>\n",
       "      <td>300</td>\n",
       "    </tr>\n",
       "    <tr>\n",
       "      <th>...</th>\n",
       "      <td>...</td>\n",
       "      <td>...</td>\n",
       "      <td>...</td>\n",
       "      <td>...</td>\n",
       "      <td>...</td>\n",
       "      <td>...</td>\n",
       "      <td>...</td>\n",
       "      <td>...</td>\n",
       "      <td>...</td>\n",
       "      <td>...</td>\n",
       "      <td>...</td>\n",
       "      <td>...</td>\n",
       "      <td>...</td>\n",
       "      <td>...</td>\n",
       "      <td>...</td>\n",
       "      <td>...</td>\n",
       "      <td>...</td>\n",
       "      <td>...</td>\n",
       "      <td>...</td>\n",
       "      <td>...</td>\n",
       "    </tr>\n",
       "    <tr>\n",
       "      <th>1962415</th>\n",
       "      <td>21111</td>\n",
       "      <td>46306</td>\n",
       "      <td>7386</td>\n",
       "      <td>47191</td>\n",
       "      <td>7425</td>\n",
       "      <td>61526</td>\n",
       "      <td>12504</td>\n",
       "      <td>2700</td>\n",
       "      <td>16598</td>\n",
       "      <td>700</td>\n",
       "      <td>13500</td>\n",
       "      <td>11000</td>\n",
       "      <td>8414</td>\n",
       "      <td>2177</td>\n",
       "      <td>4310</td>\n",
       "      <td>600</td>\n",
       "      <td>9702</td>\n",
       "      <td>16800</td>\n",
       "      <td>15800</td>\n",
       "      <td>200</td>\n",
       "    </tr>\n",
       "    <tr>\n",
       "      <th>1962416</th>\n",
       "      <td>21111</td>\n",
       "      <td>46306</td>\n",
       "      <td>7386</td>\n",
       "      <td>47191</td>\n",
       "      <td>7425</td>\n",
       "      <td>61526</td>\n",
       "      <td>12504</td>\n",
       "      <td>2700</td>\n",
       "      <td>16598</td>\n",
       "      <td>700</td>\n",
       "      <td>13500</td>\n",
       "      <td>11000</td>\n",
       "      <td>14573</td>\n",
       "      <td>2177</td>\n",
       "      <td>4310</td>\n",
       "      <td>600</td>\n",
       "      <td>9702</td>\n",
       "      <td>16800</td>\n",
       "      <td>15800</td>\n",
       "      <td>200</td>\n",
       "    </tr>\n",
       "    <tr>\n",
       "      <th>1962417</th>\n",
       "      <td>21111</td>\n",
       "      <td>46306</td>\n",
       "      <td>7386</td>\n",
       "      <td>47191</td>\n",
       "      <td>19025</td>\n",
       "      <td>61526</td>\n",
       "      <td>12504</td>\n",
       "      <td>2700</td>\n",
       "      <td>16598</td>\n",
       "      <td>700</td>\n",
       "      <td>13500</td>\n",
       "      <td>11000</td>\n",
       "      <td>14573</td>\n",
       "      <td>2177</td>\n",
       "      <td>4310</td>\n",
       "      <td>600</td>\n",
       "      <td>9702</td>\n",
       "      <td>16800</td>\n",
       "      <td>15800</td>\n",
       "      <td>200</td>\n",
       "    </tr>\n",
       "    <tr>\n",
       "      <th>1962418</th>\n",
       "      <td>21111</td>\n",
       "      <td>46306</td>\n",
       "      <td>7386</td>\n",
       "      <td>47191</td>\n",
       "      <td>19025</td>\n",
       "      <td>61526</td>\n",
       "      <td>17004</td>\n",
       "      <td>2700</td>\n",
       "      <td>16598</td>\n",
       "      <td>700</td>\n",
       "      <td>13500</td>\n",
       "      <td>11000</td>\n",
       "      <td>14573</td>\n",
       "      <td>2177</td>\n",
       "      <td>4310</td>\n",
       "      <td>600</td>\n",
       "      <td>9702</td>\n",
       "      <td>16800</td>\n",
       "      <td>15800</td>\n",
       "      <td>200</td>\n",
       "    </tr>\n",
       "    <tr>\n",
       "      <th>1962419</th>\n",
       "      <td>21111</td>\n",
       "      <td>46306</td>\n",
       "      <td>7386</td>\n",
       "      <td>47191</td>\n",
       "      <td>19025</td>\n",
       "      <td>61526</td>\n",
       "      <td>17004</td>\n",
       "      <td>2700</td>\n",
       "      <td>23098</td>\n",
       "      <td>700</td>\n",
       "      <td>13500</td>\n",
       "      <td>11000</td>\n",
       "      <td>14573</td>\n",
       "      <td>2177</td>\n",
       "      <td>4310</td>\n",
       "      <td>600</td>\n",
       "      <td>9702</td>\n",
       "      <td>16800</td>\n",
       "      <td>15800</td>\n",
       "      <td>200</td>\n",
       "    </tr>\n",
       "  </tbody>\n",
       "</table>\n",
       "<p>1962420 rows × 20 columns</p>\n",
       "</div>"
      ],
      "text/plain": [
       "            0      1     2      3      4      5      6     7      8    9   \\\n",
       "0          307    355     6   2353     22   2817    100    25    200   47   \n",
       "1          207    355     6   2353     22   2817    100    25    200   47   \n",
       "2          207    355     6   2353     22   2817    100    25    200   47   \n",
       "3          207    355     6   2353     22   2817    100    25    200   47   \n",
       "4          207    355     6   2353     22   2817    100    25    200   47   \n",
       "...        ...    ...   ...    ...    ...    ...    ...   ...    ...  ...   \n",
       "1962415  21111  46306  7386  47191   7425  61526  12504  2700  16598  700   \n",
       "1962416  21111  46306  7386  47191   7425  61526  12504  2700  16598  700   \n",
       "1962417  21111  46306  7386  47191  19025  61526  12504  2700  16598  700   \n",
       "1962418  21111  46306  7386  47191  19025  61526  17004  2700  16598  700   \n",
       "1962419  21111  46306  7386  47191  19025  61526  17004  2700  23098  700   \n",
       "\n",
       "            10     11     12    13    14    15    16     17     18   19  \n",
       "0           66    400      1   200   100   300     1    200   1300    2  \n",
       "1           66    400      1   200   100   300     1    200   1300    2  \n",
       "2           66    400      1  1700   100   200     1    300   1300  200  \n",
       "3           66   2700      1  1700   100   200     1    300   1300  200  \n",
       "4           66   2254      1  2700   100  1700     1    200   1300  300  \n",
       "...        ...    ...    ...   ...   ...   ...   ...    ...    ...  ...  \n",
       "1962415  13500  11000   8414  2177  4310   600  9702  16800  15800  200  \n",
       "1962416  13500  11000  14573  2177  4310   600  9702  16800  15800  200  \n",
       "1962417  13500  11000  14573  2177  4310   600  9702  16800  15800  200  \n",
       "1962418  13500  11000  14573  2177  4310   600  9702  16800  15800  200  \n",
       "1962419  13500  11000  14573  2177  4310   600  9702  16800  15800  200  \n",
       "\n",
       "[1962420 rows x 20 columns]"
      ]
     },
     "execution_count": 68,
     "metadata": {},
     "output_type": "execute_result"
    }
   ],
   "source": [
    "vol_book = b.iloc[:, 1::2]\n",
    "vol_book.columns = list(range(vol_book.shape[1]))\n",
    "vol_book"
   ]
  },
  {
   "cell_type": "code",
   "execution_count": 80,
   "metadata": {},
   "outputs": [
    {
     "data": {
      "text/plain": [
       "0      751\n",
       "1       50\n",
       "2     4057\n",
       "3      100\n",
       "4      200\n",
       "5      122\n",
       "6       25\n",
       "7      100\n",
       "8      100\n",
       "9      118\n",
       "10      25\n",
       "11     285\n",
       "12      25\n",
       "13     122\n",
       "14     200\n",
       "15     110\n",
       "16      25\n",
       "17    1005\n",
       "18       1\n",
       "19    1355\n",
       "Name: 1000, dtype: int64"
      ]
     },
     "execution_count": 80,
     "metadata": {},
     "output_type": "execute_result"
    }
   ],
   "source": [
    "vol_book.iloc[1000]"
   ]
  },
  {
   "cell_type": "code",
   "execution_count": 69,
   "metadata": {},
   "outputs": [],
   "source": [
    "price_levels = 40\n",
    "mybook = np.zeros((len(b), price_levels))"
   ]
  },
  {
   "cell_type": "code",
   "execution_count": 72,
   "metadata": {},
   "outputs": [],
   "source": [
    "# convert to book representation with volume at each price level relative to best bid\n",
    "# i.e. at each time we have a fixed width snapshot around the best bid\n",
    "# therefore movement of the mid price needs to be a separate feature (e.g. relative to previous price)\n",
    "\n",
    "price_levels = 40\n",
    "mybook = np.zeros((len(b), price_levels), dtype=np.int32)\n",
    "\n",
    "a = b_indices.values\n",
    "for i in range(a.shape[0]):\n",
    "    for j in range(a.shape[1]):\n",
    "        price = a[i, j]\n",
    "        if price >= 0 and price < price_levels:\n",
    "            mybook[i, price] = vol_book.values[i, j]"
   ]
  },
  {
   "cell_type": "code",
   "execution_count": 85,
   "metadata": {},
   "outputs": [
    {
     "data": {
      "text/plain": [
       "array([[  0.,   0., 200., ...,  22.,   0.,   0.],\n",
       "       [  0.,   0., 200., ...,  22.,   0.,   0.],\n",
       "       [  0.,   0., 200., ...,  22.,   0.,   0.],\n",
       "       ...,\n",
       "       [  0.,   0.,   0., ...,   0.,   0.,   0.],\n",
       "       [  0.,   0.,   0., ...,   0.,   0.,   0.],\n",
       "       [  0.,   0.,   0., ...,   0.,   0.,   0.]])"
      ]
     },
     "execution_count": 85,
     "metadata": {},
     "output_type": "execute_result"
    }
   ],
   "source": [
    "mybook"
   ]
  },
  {
   "cell_type": "code",
   "execution_count": 92,
   "metadata": {},
   "outputs": [
    {
     "data": {
      "text/plain": [
       "array([0, 0, 0, ..., 0, 0, 0])"
      ]
     },
     "execution_count": 92,
     "metadata": {},
     "output_type": "execute_result"
    }
   ],
   "source": [
    "bid_diff = b[2].div(100).diff().fillna(0).astype(int).values\n",
    "bid_diff"
   ]
  },
  {
   "cell_type": "code",
   "execution_count": 99,
   "metadata": {},
   "outputs": [],
   "source": [
    "bid_diff = b[2].div(100).diff().fillna(0).astype(int).values\n",
    "mybook_ = np.concatenate([mybook, bid_diff[:, None]], axis=1)"
   ]
  },
  {
   "cell_type": "code",
   "execution_count": 100,
   "metadata": {},
   "outputs": [
    {
     "data": {
      "text/plain": [
       "(1962420, 41)"
      ]
     },
     "execution_count": 100,
     "metadata": {},
     "output_type": "execute_result"
    }
   ],
   "source": [
    "mybook_.shape"
   ]
  },
  {
   "cell_type": "code",
   "execution_count": 95,
   "metadata": {},
   "outputs": [
    {
     "data": {
      "text/plain": [
       "[<matplotlib.lines.Line2D at 0x7ff0466db130>]"
      ]
     },
     "execution_count": 95,
     "metadata": {},
     "output_type": "execute_result"
    },
    {
     "data": {
      "image/png": "[encoded data removed]",
      "text/plain": [
       "<Figure size 432x288 with 1 Axes>"
      ]
     },
     "metadata": {
      "needs_background": "light"
     },
     "output_type": "display_data"
    }
   ],
   "source": [
    "import matplotlib.pyplot as plt\n",
    "plt.plot(bid_diff)"
   ]
  },
  {
   "cell_type": "markdown",
   "metadata": {},
   "source": [
    "## Decoding"
   ]
  },
  {
   "cell_type": "code",
   "execution_count": null,
   "metadata": {},
   "outputs": [
    {
     "ename": "NameError",
     "evalue": "name 'm_enc' is not defined",
     "output_type": "error",
     "traceback": [
      "\u001b[0;31m---------------------------------------------------------------------------\u001b[0m\n",
      "\u001b[0;31mNameError\u001b[0m                                 Traceback (most recent call last)\n",
      "\u001b[0;32m/tmp/ipykernel_2056909/895660929.py\u001b[0m in \u001b[0;36m<cell line: 1>\u001b[0;34m()\u001b[0m\n",
      "\u001b[0;32m----> 1\u001b[0;31m \u001b[0mtoks\u001b[0m \u001b[0;34m=\u001b[0m \u001b[0mnp\u001b[0m\u001b[0;34m.\u001b[0m\u001b[0mcopy\u001b[0m\u001b[0;34m(\u001b[0m\u001b[0mm_enc\u001b[0m\u001b[0;34m[\u001b[0m\u001b[0;36m111\u001b[0m\u001b[0;34m:\u001b[0m\u001b[0;36m113\u001b[0m\u001b[0;34m]\u001b[0m\u001b[0;34m)\u001b[0m\u001b[0;34m\u001b[0m\u001b[0;34m\u001b[0m\u001b[0m\n",
      "\u001b[0m\u001b[1;32m      2\u001b[0m \u001b[0mtoks\u001b[0m\u001b[0;34m\u001b[0m\u001b[0;34m\u001b[0m\u001b[0m\n",
      "\n",
      "\u001b[0;31mNameError\u001b[0m: name 'm_enc' is not defined"
     ]
    }
   ],
   "source": [
    "toks = np.copy(m_enc[111:113])\n",
    "toks"
   ]
  },
  {
   "cell_type": "code",
   "execution_count": null,
   "metadata": {},
   "outputs": [
    {
     "data": {
      "text/plain": [
       "array([[ 9,  9,  9,  9,  9, 12, 12, 10, 13, 11, 11, 15,  9, -1,  3,  9,\n",
       "        10,  9,  9, 20,  9, 18,  8,  9,  9,  9,  9,  9, 13,  9, 18, 14,\n",
       "        16, 12, 11,  9, 18,  5,  9, 10,  9,  9, 20,  9, 18, -1],\n",
       "       [ 9,  9,  9,  9,  9, 13, 10,  9,  9, 10,  9, 15, 15, 10,  6,  9,\n",
       "         9, 12, 15, 19,  9, 15,  7,  2,  2,  2,  2,  2,  2,  2,  2,  2,\n",
       "         2,  2,  2,  2,  2,  2,  2,  2,  2,  2,  2,  2,  2,  2]])"
      ]
     },
     "metadata": {},
     "output_type": "display_data"
    }
   ],
   "source": [
    "toks[0,13] = -1\n",
    "toks[0,-1] = -1\n",
    "toks"
   ]
  },
  {
   "cell_type": "code",
   "execution_count": null,
   "metadata": {},
   "outputs": [],
   "source": [
    "valid, idx = tok._validate_syntax(toks, v)"
   ]
  },
  {
   "cell_type": "code",
   "execution_count": null,
   "metadata": {},
   "outputs": [
    {
     "ename": "NameError",
     "evalue": "name 'toks' is not defined",
     "output_type": "error",
     "traceback": [
      "\u001b[0;31m---------------------------------------------------------------------------\u001b[0m\n",
      "\u001b[0;31mNameError\u001b[0m                                 Traceback (most recent call last)\n",
      "\u001b[0;32m/tmp/ipykernel_4188599/2767890483.py\u001b[0m in \u001b[0;36m<cell line: 1>\u001b[0;34m()\u001b[0m\n",
      "\u001b[0;32m----> 1\u001b[0;31m \u001b[0mtok\u001b[0m\u001b[0;34m.\u001b[0m\u001b[0m_decode_to_str\u001b[0m\u001b[0;34m(\u001b[0m\u001b[0mtoks\u001b[0m\u001b[0;34m,\u001b[0m \u001b[0mv\u001b[0m\u001b[0;34m)\u001b[0m\u001b[0;34m\u001b[0m\u001b[0;34m\u001b[0m\u001b[0m\n",
      "\u001b[0m\n",
      "\u001b[0;31mNameError\u001b[0m: name 'toks' is not defined"
     ]
    }
   ],
   "source": [
    "tok._decode_to_str(toks, v)"
   ]
  },
  {
   "cell_type": "markdown",
   "metadata": {},
   "source": [
    "## DEPRECATED (lossy encoding)"
   ]
  },
  {
   "cell_type": "code",
   "execution_count": null,
   "metadata": {},
   "outputs": [],
   "source": [
    "from bisect import bisect_left\n",
    "\n",
    "def take_closest(myList, myNumber):\n",
    "    \"\"\"\n",
    "    Assumes myList is sorted. Returns closest value to myNumber.\n",
    "\n",
    "    If two numbers are equally close, return the smallest number.\n",
    "    \"\"\"\n",
    "    pos = bisect_left(myList, myNumber)\n",
    "    if pos == 0:\n",
    "        return myList[0]\n",
    "    if pos == len(myList):\n",
    "        return myList[-1]\n",
    "    before = myList[pos - 1]\n",
    "    after = myList[pos]\n",
    "    if after - myNumber < myNumber - before:\n",
    "        return after\n",
    "    else:\n",
    "        return before\n",
    "    \n",
    "def relabel_series(s, allowed_labels=None):\n",
    "    if allowed_labels is None:\n",
    "        allowed_labels = sorted(s.unique())\n",
    "    label_map = {orig: i for i, orig in enumerate(allowed_labels)}\n",
    "    return s.replace(label_map)\n",
    "\n",
    "def _preproc_prices(p, bb, p_lower_trunc=-1000, p_upper_trunc=1300):\n",
    "    \"\"\" Takes prices series and best bid, encoding prices relative to best bid.\n",
    "        Returns scaled price series\n",
    "    \"\"\"\n",
    "    # encode prices relative to (previous) best bid\n",
    "    p = p - bb\n",
    "    # truncate price at deviation of 1000\n",
    "    # min tick is 100, hence min 10-level diff is 900\n",
    "    # <= 1000 covers ~99.54% on bid side, ~99.1% on ask size (GOOG)\n",
    "    pct_changed = 100 * len(p.loc[p > p_upper_trunc]) / len(p)\n",
    "    print(f\"truncating {pct_changed:.4f}% of prices > {p_upper_trunc}\")\n",
    "    p.loc[p > p_upper_trunc] = p_upper_trunc\n",
    "    pct_changed = 100 * len(p.loc[p < p_lower_trunc]) / len(p)\n",
    "    print(f\"truncating {pct_changed:.4f}% of prices < {p_lower_trunc}\")\n",
    "    p.loc[p < p_lower_trunc] = p_lower_trunc\n",
    "    # scale prices to min ticks size differences\n",
    "    p /= 100\n",
    "    return p\n",
    "\n",
    "# TODO: write function which calculates bins on selection of training data\n",
    "#       and writes thresholds and medians to config file for future processing\n",
    "\n",
    "def quantize_time(time, n_categories, t_bins=None):\n",
    "    \"\"\" quantize Dt based on quantiles\n",
    "        Dt = 0 is set as one fixed category using code 0\n",
    "    \"\"\"\n",
    "    if t_bins is not None:\n",
    "        assert len(t_bins) == n_categories-2 or n_categories is None\n",
    "\n",
    "    delta_t = time.diff()\n",
    "    # log transformation actually not necessary if binned by quantiles\n",
    "    # but useful for other binning methods (e.g. equal bin size)\n",
    "    #ln_delta_t = np.log(delta_t)\n",
    "    t_groups = delta_t.copy()\n",
    "    # special category if delta t is 0 (orders come it at same time)\n",
    "    t_groups.loc[delta_t == 0] = 0\n",
    "    # quantize time differences (leaving out delta t = as separate category)\n",
    "    # using data quantiles\n",
    "    if t_bins is None:\n",
    "        cats, t_bins = pd.qcut(\n",
    "            delta_t.loc[delta_t > 0],\n",
    "            n_categories-1,\n",
    "            labels=range(1, n_categories),\n",
    "            retbins=True)\n",
    "    # use given bin thresholds (e.g from fixed training data)\n",
    "    else:\n",
    "        cats = pd.cut(delta_t.loc[delta_t > 0], bins=t_bins, labels=range(1, n_categories))\n",
    "\n",
    "    t_groups.loc[delta_t > 0] = cats.astype(float)\n",
    "    # median Dt value per bin: can use this value for decoding\n",
    "    bin_medians = delta_t.groupby(t_groups).median()\n",
    "    return t_groups, t_bins, bin_medians\n",
    "\n",
    "def pre_proc_lobster(\n",
    "        m,\n",
    "        b,\n",
    "        n_time_bins=20,\n",
    "        t_bins=None,\n",
    "        size_bins=None,\n",
    "        p_lower_trunc=-1000,\n",
    "        p_upper_trunc=1300,\n",
    "        allowed_event_types=[1,2,3,4],\n",
    "        one_hot_enc=True\n",
    "    ):\n",
    "    # filter out only allowed event types ...\n",
    "    m = m.loc[m.event_type.isin(allowed_event_types)].copy()\n",
    "    # ... and corresponding book changes\n",
    "    b = b.loc[m.index]\n",
    "    \n",
    "    # group sizes by given bins\n",
    "    if size_bins is not None:\n",
    "        _take_closest = functools.partial(take_closest, size_bins)\n",
    "        m['size'] = m['size'].apply(_take_closest)\n",
    "\n",
    "    # round prices to given decimal (-1 for 10 ticks)\n",
    "    #m['price'] = np.around(m['price'], price_round_to)\n",
    "\n",
    "    # (previous) best bid\n",
    "    bb = book.iloc[:, 2].shift()\n",
    "    m['price'] = _preproc_prices(m['price'], bb, p_lower_trunc, p_upper_trunc)\n",
    "\n",
    "    # TODO: save t_bins, bin_medians\n",
    "    # quantize time deltas\n",
    "    m['dt'], t_bins, bin_medians = quantize_time(m.time, n_time_bins, t_bins=t_bins)\n",
    "    # scale time of day using min/max (0,1)\n",
    "    opening_s = 9.5 * 3600  # NASDAQ opens 9:30\n",
    "    closing_s = 16 * 3600   # and closes at 16:00\n",
    "    df['time'] = (df['time'] - opening_s) / (closing_s - opening_s)\n",
    "\n",
    "    # remove first row\n",
    "    m = m.iloc[1:]\n",
    "    b = b.iloc[1:]\n",
    "\n",
    "    # encode features\n",
    "    #m['event_type'], _ = encode_feature(m['event_type'], allowed_event_types, one_hot=one_hot_enc)\n",
    "    #m['direction'], _ = encode_feature(m['size'], [-1, 1], one_hot=one_hot_enc)\n",
    "    #m['size'], _ = encode_feature(m['size'], sorted(m['size'].unique()), one_hot=one_hot_enc)\n",
    "    #m['price'], _ = encode_feature(m['price'], sorted(m['price'].unique()), one_hot=one_hot_enc)\n",
    "    m['time'] = m['time']  #\n",
    "    m['event_type'] = relabel_series(m['event_type'], allowed_event_types)\n",
    "    m['direction'] = relabel_series(m['direction'], [-1, 1])\n",
    "    m['size'] = relabel_series(m['size'])\n",
    "    m['price'] = relabel_series(m['price'])\n",
    "\n",
    "    return m, b\n",
    "\n",
    "_='''\n",
    "def _encode_feature(\n",
    "        s: pd.Series, \n",
    "        categories: Union[str, list] = 'auto',\n",
    "        one_hot: bool = True  # one_hot or ordinal\n",
    "    ):\n",
    "    if one_hot:\n",
    "        enc = OneHotEncoder(categories=[categories])\n",
    "    else:\n",
    "        enc = OrdinalEncoder(categories=[categories])\n",
    "    s = s.values.reshape((-1,1))\n",
    "    enc = enc.fit(s)\n",
    "    return enc.transform(s), enc\n",
    "'''"
   ]
  },
  {
   "cell_type": "code",
   "execution_count": null,
   "metadata": {},
   "outputs": [
    {
     "name": "stdout",
     "output_type": "stream",
     "text": [
      "/nfs/home/peern/LOBS5/data/raw/GOOG_2023-01-30_34200000_57600000_message_10.csv\n"
     ]
    },
    {
     "name": "stderr",
     "output_type": "stream",
     "text": [
      "/nfs/home/peern/rlenv/lib/python3.8/site-packages/IPython/core/interactiveshell.py:3553: DtypeWarning: Columns (6) have mixed types.Specify dtype option on import or set low_memory=False.\n",
      "  exec(code_obj, self.user_global_ns, self.user_ns)\n",
      "/nfs/home/peern/rlenv/lib/python3.8/site-packages/pandas/util/_decorators.py:311: ParserWarning: Length of header or names does not match length of data. This leads to a loss of data with index_col=False.\n",
      "  return func(*args, **kwargs)\n"
     ]
    },
    {
     "name": "stdout",
     "output_type": "stream",
     "text": [
      "truncating 0.0043% of prices > 1300\n",
      "truncating 0.0038% of prices < -1000\n",
      "/nfs/home/peern/LOBS5/data/raw/GOOG_2023-01-31_34200000_57600000_message_10.csv\n",
      "truncating 0.0046% of prices > 1300\n",
      "truncating 0.0013% of prices < -1000\n"
     ]
    }
   ],
   "source": [
    "size_bins = list(range(1,50,1))\n",
    "size_bins.extend(list(range(50,100,5)))\n",
    "size_bins.extend(list(range(100,501,100)))\n",
    "\n",
    "assert len(message_files) == len(book_files)\n",
    "for m_f, b_f in zip(message_files, book_files):\n",
    "    print(m_f)\n",
    "    messages = pd.read_csv(\n",
    "        m_f,\n",
    "        names=['time', 'event_type', 'order_id', 'size', 'price', 'direction'],\n",
    "        index_col=False)\n",
    "\n",
    "    book = pd.read_csv(\n",
    "        b_f,\n",
    "        index_col=False,\n",
    "        header=None\n",
    "    )\n",
    "\n",
    "    m_, b_ = pre_proc_lobster(messages, book, size_bins, allowed_event_types=[1,4])\n",
    "\n",
    "    # save processed message and book\n",
    "    m_path = save_dir + m_f.rsplit('/', maxsplit=1)[-1][:-4] + '_proc.csv'\n",
    "    b_path = save_dir + b_f.rsplit('/', maxsplit=1)[-1][:-4] + '_proc.csv'\n",
    "    m_.to_csv(m_path, index=False, header=False)\n",
    "    b_.to_csv(b_path, index=False, header=False)"
   ]
  },
  {
   "cell_type": "code",
   "execution_count": null,
   "metadata": {},
   "outputs": [
    {
     "data": {
      "text/html": [
       "<div>\n",
       "<style scoped>\n",
       "    .dataframe tbody tr th:only-of-type {\n",
       "        vertical-align: middle;\n",
       "    }\n",
       "\n",
       "    .dataframe tbody tr th {\n",
       "        vertical-align: top;\n",
       "    }\n",
       "\n",
       "    .dataframe thead th {\n",
       "        text-align: right;\n",
       "    }\n",
       "</style>\n",
       "<table border=\"1\" class=\"dataframe\">\n",
       "  <thead>\n",
       "    <tr style=\"text-align: right;\">\n",
       "      <th></th>\n",
       "      <th>time</th>\n",
       "      <th>event_type</th>\n",
       "      <th>order_id</th>\n",
       "      <th>size</th>\n",
       "      <th>price</th>\n",
       "      <th>direction</th>\n",
       "    </tr>\n",
       "  </thead>\n",
       "  <tbody>\n",
       "    <tr>\n",
       "      <th>0</th>\n",
       "      <td>34200.000113</td>\n",
       "      <td>4</td>\n",
       "      <td>24695958</td>\n",
       "      <td>134</td>\n",
       "      <td>987500</td>\n",
       "      <td>-1</td>\n",
       "    </tr>\n",
       "    <tr>\n",
       "      <th>1</th>\n",
       "      <td>34200.000113</td>\n",
       "      <td>4</td>\n",
       "      <td>25053166</td>\n",
       "      <td>200</td>\n",
       "      <td>987500</td>\n",
       "      <td>-1</td>\n",
       "    </tr>\n",
       "    <tr>\n",
       "      <th>2</th>\n",
       "      <td>34200.000113</td>\n",
       "      <td>5</td>\n",
       "      <td>0</td>\n",
       "      <td>200</td>\n",
       "      <td>987500</td>\n",
       "      <td>1</td>\n",
       "    </tr>\n",
       "    <tr>\n",
       "      <th>3</th>\n",
       "      <td>34200.000135</td>\n",
       "      <td>5</td>\n",
       "      <td>0</td>\n",
       "      <td>600</td>\n",
       "      <td>987500</td>\n",
       "      <td>1</td>\n",
       "    </tr>\n",
       "    <tr>\n",
       "      <th>4</th>\n",
       "      <td>34200.000163</td>\n",
       "      <td>5</td>\n",
       "      <td>0</td>\n",
       "      <td>100</td>\n",
       "      <td>987500</td>\n",
       "      <td>1</td>\n",
       "    </tr>\n",
       "    <tr>\n",
       "      <th>...</th>\n",
       "      <td>...</td>\n",
       "      <td>...</td>\n",
       "      <td>...</td>\n",
       "      <td>...</td>\n",
       "      <td>...</td>\n",
       "      <td>...</td>\n",
       "    </tr>\n",
       "    <tr>\n",
       "      <th>2244836</th>\n",
       "      <td>57599.996507</td>\n",
       "      <td>1</td>\n",
       "      <td>770732874</td>\n",
       "      <td>1385</td>\n",
       "      <td>979600</td>\n",
       "      <td>1</td>\n",
       "    </tr>\n",
       "    <tr>\n",
       "      <th>2244837</th>\n",
       "      <td>57599.996541</td>\n",
       "      <td>1</td>\n",
       "      <td>770732886</td>\n",
       "      <td>1</td>\n",
       "      <td>979600</td>\n",
       "      <td>1</td>\n",
       "    </tr>\n",
       "    <tr>\n",
       "      <th>2244838</th>\n",
       "      <td>57599.997147</td>\n",
       "      <td>1</td>\n",
       "      <td>770733066</td>\n",
       "      <td>3500</td>\n",
       "      <td>978700</td>\n",
       "      <td>1</td>\n",
       "    </tr>\n",
       "    <tr>\n",
       "      <th>2244839</th>\n",
       "      <td>57599.997521</td>\n",
       "      <td>3</td>\n",
       "      <td>770732874</td>\n",
       "      <td>1385</td>\n",
       "      <td>979600</td>\n",
       "      <td>1</td>\n",
       "    </tr>\n",
       "    <tr>\n",
       "      <th>2244840</th>\n",
       "      <td>57599.997766</td>\n",
       "      <td>3</td>\n",
       "      <td>770730074</td>\n",
       "      <td>100</td>\n",
       "      <td>979800</td>\n",
       "      <td>-1</td>\n",
       "    </tr>\n",
       "  </tbody>\n",
       "</table>\n",
       "<p>2244841 rows × 6 columns</p>\n",
       "</div>"
      ],
      "text/plain": [
       "                 time  event_type   order_id  size   price  direction\n",
       "0        34200.000113           4   24695958   134  987500         -1\n",
       "1        34200.000113           4   25053166   200  987500         -1\n",
       "2        34200.000113           5          0   200  987500          1\n",
       "3        34200.000135           5          0   600  987500          1\n",
       "4        34200.000163           5          0   100  987500          1\n",
       "...               ...         ...        ...   ...     ...        ...\n",
       "2244836  57599.996507           1  770732874  1385  979600          1\n",
       "2244837  57599.996541           1  770732886     1  979600          1\n",
       "2244838  57599.997147           1  770733066  3500  978700          1\n",
       "2244839  57599.997521           3  770732874  1385  979600          1\n",
       "2244840  57599.997766           3  770730074   100  979800         -1\n",
       "\n",
       "[2244841 rows x 6 columns]"
      ]
     },
     "metadata": {},
     "output_type": "display_data"
    }
   ],
   "source": [
    "m"
   ]
  },
  {
   "cell_type": "code",
   "execution_count": null,
   "metadata": {},
   "outputs": [
    {
     "data": {
      "text/html": [
       "<div>\n",
       "<style scoped>\n",
       "    .dataframe tbody tr th:only-of-type {\n",
       "        vertical-align: middle;\n",
       "    }\n",
       "\n",
       "    .dataframe tbody tr th {\n",
       "        vertical-align: top;\n",
       "    }\n",
       "\n",
       "    .dataframe thead th {\n",
       "        text-align: right;\n",
       "    }\n",
       "</style>\n",
       "<table border=\"1\" class=\"dataframe\">\n",
       "  <thead>\n",
       "    <tr style=\"text-align: right;\">\n",
       "      <th></th>\n",
       "      <th>0</th>\n",
       "      <th>1</th>\n",
       "      <th>2</th>\n",
       "      <th>3</th>\n",
       "      <th>4</th>\n",
       "      <th>5</th>\n",
       "      <th>6</th>\n",
       "      <th>7</th>\n",
       "      <th>8</th>\n",
       "      <th>9</th>\n",
       "      <th>...</th>\n",
       "      <th>30</th>\n",
       "      <th>31</th>\n",
       "      <th>32</th>\n",
       "      <th>33</th>\n",
       "      <th>34</th>\n",
       "      <th>35</th>\n",
       "      <th>36</th>\n",
       "      <th>37</th>\n",
       "      <th>38</th>\n",
       "      <th>39</th>\n",
       "    </tr>\n",
       "  </thead>\n",
       "  <tbody>\n",
       "    <tr>\n",
       "      <th>0</th>\n",
       "      <td>987500</td>\n",
       "      <td>200</td>\n",
       "      <td>987400</td>\n",
       "      <td>16298</td>\n",
       "      <td>987600</td>\n",
       "      <td>200</td>\n",
       "      <td>986900</td>\n",
       "      <td>138</td>\n",
       "      <td>987900</td>\n",
       "      <td>600</td>\n",
       "      <td>...</td>\n",
       "      <td>985900</td>\n",
       "      <td>350</td>\n",
       "      <td>989600</td>\n",
       "      <td>200</td>\n",
       "      <td>985800</td>\n",
       "      <td>1</td>\n",
       "      <td>989900</td>\n",
       "      <td>500</td>\n",
       "      <td>985600</td>\n",
       "      <td>66</td>\n",
       "    </tr>\n",
       "    <tr>\n",
       "      <th>1</th>\n",
       "      <td>987600</td>\n",
       "      <td>200</td>\n",
       "      <td>987400</td>\n",
       "      <td>16298</td>\n",
       "      <td>987900</td>\n",
       "      <td>600</td>\n",
       "      <td>986900</td>\n",
       "      <td>138</td>\n",
       "      <td>988300</td>\n",
       "      <td>100</td>\n",
       "      <td>...</td>\n",
       "      <td>985900</td>\n",
       "      <td>350</td>\n",
       "      <td>989900</td>\n",
       "      <td>500</td>\n",
       "      <td>985800</td>\n",
       "      <td>1</td>\n",
       "      <td>991000</td>\n",
       "      <td>1</td>\n",
       "      <td>985600</td>\n",
       "      <td>66</td>\n",
       "    </tr>\n",
       "    <tr>\n",
       "      <th>2</th>\n",
       "      <td>987600</td>\n",
       "      <td>200</td>\n",
       "      <td>987400</td>\n",
       "      <td>16298</td>\n",
       "      <td>987900</td>\n",
       "      <td>600</td>\n",
       "      <td>986900</td>\n",
       "      <td>138</td>\n",
       "      <td>988300</td>\n",
       "      <td>100</td>\n",
       "      <td>...</td>\n",
       "      <td>985900</td>\n",
       "      <td>350</td>\n",
       "      <td>989900</td>\n",
       "      <td>500</td>\n",
       "      <td>985800</td>\n",
       "      <td>1</td>\n",
       "      <td>991000</td>\n",
       "      <td>1</td>\n",
       "      <td>985600</td>\n",
       "      <td>66</td>\n",
       "    </tr>\n",
       "    <tr>\n",
       "      <th>3</th>\n",
       "      <td>987600</td>\n",
       "      <td>200</td>\n",
       "      <td>987400</td>\n",
       "      <td>16298</td>\n",
       "      <td>987900</td>\n",
       "      <td>600</td>\n",
       "      <td>986900</td>\n",
       "      <td>138</td>\n",
       "      <td>988300</td>\n",
       "      <td>100</td>\n",
       "      <td>...</td>\n",
       "      <td>985900</td>\n",
       "      <td>350</td>\n",
       "      <td>989900</td>\n",
       "      <td>500</td>\n",
       "      <td>985800</td>\n",
       "      <td>1</td>\n",
       "      <td>991000</td>\n",
       "      <td>1</td>\n",
       "      <td>985600</td>\n",
       "      <td>66</td>\n",
       "    </tr>\n",
       "    <tr>\n",
       "      <th>4</th>\n",
       "      <td>987600</td>\n",
       "      <td>200</td>\n",
       "      <td>987400</td>\n",
       "      <td>16298</td>\n",
       "      <td>987900</td>\n",
       "      <td>600</td>\n",
       "      <td>986900</td>\n",
       "      <td>138</td>\n",
       "      <td>988300</td>\n",
       "      <td>100</td>\n",
       "      <td>...</td>\n",
       "      <td>985900</td>\n",
       "      <td>350</td>\n",
       "      <td>989900</td>\n",
       "      <td>500</td>\n",
       "      <td>985800</td>\n",
       "      <td>1</td>\n",
       "      <td>991000</td>\n",
       "      <td>1</td>\n",
       "      <td>985600</td>\n",
       "      <td>66</td>\n",
       "    </tr>\n",
       "    <tr>\n",
       "      <th>...</th>\n",
       "      <td>...</td>\n",
       "      <td>...</td>\n",
       "      <td>...</td>\n",
       "      <td>...</td>\n",
       "      <td>...</td>\n",
       "      <td>...</td>\n",
       "      <td>...</td>\n",
       "      <td>...</td>\n",
       "      <td>...</td>\n",
       "      <td>...</td>\n",
       "      <td>...</td>\n",
       "      <td>...</td>\n",
       "      <td>...</td>\n",
       "      <td>...</td>\n",
       "      <td>...</td>\n",
       "      <td>...</td>\n",
       "      <td>...</td>\n",
       "      <td>...</td>\n",
       "      <td>...</td>\n",
       "      <td>...</td>\n",
       "      <td>...</td>\n",
       "    </tr>\n",
       "    <tr>\n",
       "      <th>2244836</th>\n",
       "      <td>979800</td>\n",
       "      <td>8000</td>\n",
       "      <td>979600</td>\n",
       "      <td>6565</td>\n",
       "      <td>979900</td>\n",
       "      <td>4319</td>\n",
       "      <td>979500</td>\n",
       "      <td>47287</td>\n",
       "      <td>980000</td>\n",
       "      <td>6048</td>\n",
       "      <td>...</td>\n",
       "      <td>978900</td>\n",
       "      <td>8095</td>\n",
       "      <td>980600</td>\n",
       "      <td>300</td>\n",
       "      <td>978800</td>\n",
       "      <td>10650</td>\n",
       "      <td>980700</td>\n",
       "      <td>5400</td>\n",
       "      <td>978700</td>\n",
       "      <td>2300</td>\n",
       "    </tr>\n",
       "    <tr>\n",
       "      <th>2244837</th>\n",
       "      <td>979800</td>\n",
       "      <td>8000</td>\n",
       "      <td>979600</td>\n",
       "      <td>6566</td>\n",
       "      <td>979900</td>\n",
       "      <td>4319</td>\n",
       "      <td>979500</td>\n",
       "      <td>47287</td>\n",
       "      <td>980000</td>\n",
       "      <td>6048</td>\n",
       "      <td>...</td>\n",
       "      <td>978900</td>\n",
       "      <td>8095</td>\n",
       "      <td>980600</td>\n",
       "      <td>300</td>\n",
       "      <td>978800</td>\n",
       "      <td>10650</td>\n",
       "      <td>980700</td>\n",
       "      <td>5400</td>\n",
       "      <td>978700</td>\n",
       "      <td>2300</td>\n",
       "    </tr>\n",
       "    <tr>\n",
       "      <th>2244838</th>\n",
       "      <td>979800</td>\n",
       "      <td>8000</td>\n",
       "      <td>979600</td>\n",
       "      <td>6566</td>\n",
       "      <td>979900</td>\n",
       "      <td>4319</td>\n",
       "      <td>979500</td>\n",
       "      <td>47287</td>\n",
       "      <td>980000</td>\n",
       "      <td>6048</td>\n",
       "      <td>...</td>\n",
       "      <td>978900</td>\n",
       "      <td>8095</td>\n",
       "      <td>980600</td>\n",
       "      <td>300</td>\n",
       "      <td>978800</td>\n",
       "      <td>10650</td>\n",
       "      <td>980700</td>\n",
       "      <td>5400</td>\n",
       "      <td>978700</td>\n",
       "      <td>5800</td>\n",
       "    </tr>\n",
       "    <tr>\n",
       "      <th>2244839</th>\n",
       "      <td>979800</td>\n",
       "      <td>8000</td>\n",
       "      <td>979600</td>\n",
       "      <td>5181</td>\n",
       "      <td>979900</td>\n",
       "      <td>4319</td>\n",
       "      <td>979500</td>\n",
       "      <td>47287</td>\n",
       "      <td>980000</td>\n",
       "      <td>6048</td>\n",
       "      <td>...</td>\n",
       "      <td>978900</td>\n",
       "      <td>8095</td>\n",
       "      <td>980600</td>\n",
       "      <td>300</td>\n",
       "      <td>978800</td>\n",
       "      <td>10650</td>\n",
       "      <td>980700</td>\n",
       "      <td>5400</td>\n",
       "      <td>978700</td>\n",
       "      <td>5800</td>\n",
       "    </tr>\n",
       "    <tr>\n",
       "      <th>2244840</th>\n",
       "      <td>979800</td>\n",
       "      <td>7900</td>\n",
       "      <td>979600</td>\n",
       "      <td>5181</td>\n",
       "      <td>979900</td>\n",
       "      <td>4319</td>\n",
       "      <td>979500</td>\n",
       "      <td>47287</td>\n",
       "      <td>980000</td>\n",
       "      <td>6048</td>\n",
       "      <td>...</td>\n",
       "      <td>978900</td>\n",
       "      <td>8095</td>\n",
       "      <td>980600</td>\n",
       "      <td>300</td>\n",
       "      <td>978800</td>\n",
       "      <td>10650</td>\n",
       "      <td>980700</td>\n",
       "      <td>5400</td>\n",
       "      <td>978700</td>\n",
       "      <td>5800</td>\n",
       "    </tr>\n",
       "  </tbody>\n",
       "</table>\n",
       "<p>2244841 rows × 40 columns</p>\n",
       "</div>"
      ],
      "text/plain": [
       "             0     1       2      3       4     5       6      7       8   \\\n",
       "0        987500   200  987400  16298  987600   200  986900    138  987900   \n",
       "1        987600   200  987400  16298  987900   600  986900    138  988300   \n",
       "2        987600   200  987400  16298  987900   600  986900    138  988300   \n",
       "3        987600   200  987400  16298  987900   600  986900    138  988300   \n",
       "4        987600   200  987400  16298  987900   600  986900    138  988300   \n",
       "...         ...   ...     ...    ...     ...   ...     ...    ...     ...   \n",
       "2244836  979800  8000  979600   6565  979900  4319  979500  47287  980000   \n",
       "2244837  979800  8000  979600   6566  979900  4319  979500  47287  980000   \n",
       "2244838  979800  8000  979600   6566  979900  4319  979500  47287  980000   \n",
       "2244839  979800  8000  979600   5181  979900  4319  979500  47287  980000   \n",
       "2244840  979800  7900  979600   5181  979900  4319  979500  47287  980000   \n",
       "\n",
       "           9   ...      30    31      32   33      34     35      36    37  \\\n",
       "0         600  ...  985900   350  989600  200  985800      1  989900   500   \n",
       "1         100  ...  985900   350  989900  500  985800      1  991000     1   \n",
       "2         100  ...  985900   350  989900  500  985800      1  991000     1   \n",
       "3         100  ...  985900   350  989900  500  985800      1  991000     1   \n",
       "4         100  ...  985900   350  989900  500  985800      1  991000     1   \n",
       "...       ...  ...     ...   ...     ...  ...     ...    ...     ...   ...   \n",
       "2244836  6048  ...  978900  8095  980600  300  978800  10650  980700  5400   \n",
       "2244837  6048  ...  978900  8095  980600  300  978800  10650  980700  5400   \n",
       "2244838  6048  ...  978900  8095  980600  300  978800  10650  980700  5400   \n",
       "2244839  6048  ...  978900  8095  980600  300  978800  10650  980700  5400   \n",
       "2244840  6048  ...  978900  8095  980600  300  978800  10650  980700  5400   \n",
       "\n",
       "             38    39  \n",
       "0        985600    66  \n",
       "1        985600    66  \n",
       "2        985600    66  \n",
       "3        985600    66  \n",
       "4        985600    66  \n",
       "...         ...   ...  \n",
       "2244836  978700  2300  \n",
       "2244837  978700  2300  \n",
       "2244838  978700  5800  \n",
       "2244839  978700  5800  \n",
       "2244840  978700  5800  \n",
       "\n",
       "[2244841 rows x 40 columns]"
      ]
     },
     "metadata": {},
     "output_type": "display_data"
    }
   ],
   "source": [
    "b"
   ]
  },
  {
   "cell_type": "code",
   "execution_count": null,
   "metadata": {},
   "outputs": [
    {
     "name": "stdout",
     "output_type": "stream",
     "text": [
      "truncating 0.0000% of prices > 13000\n",
      "truncating 0.0000% of prices < -10000\n"
     ]
    }
   ],
   "source": [
    "m_ = m.copy()\n",
    "\n",
    "# (previous) best bid\n",
    "bb = book.iloc[:, 2].shift()\n",
    "# no truncation (large thresh.)\n",
    "m_.price = _preproc_prices(m.price, bb, p_lower_trunc=-9900, p_upper_trunc=9900)\n",
    "m_ = m_.dropna()\n",
    "m_.price = m_.price.astype(int)"
   ]
  },
  {
   "cell_type": "code",
   "execution_count": null,
   "metadata": {},
   "outputs": [
    {
     "data": {
      "text/html": [
       "<div>\n",
       "<style scoped>\n",
       "    .dataframe tbody tr th:only-of-type {\n",
       "        vertical-align: middle;\n",
       "    }\n",
       "\n",
       "    .dataframe tbody tr th {\n",
       "        vertical-align: top;\n",
       "    }\n",
       "\n",
       "    .dataframe thead th {\n",
       "        text-align: right;\n",
       "    }\n",
       "</style>\n",
       "<table border=\"1\" class=\"dataframe\">\n",
       "  <thead>\n",
       "    <tr style=\"text-align: right;\">\n",
       "      <th></th>\n",
       "      <th>time</th>\n",
       "      <th>event_type</th>\n",
       "      <th>order_id</th>\n",
       "      <th>size</th>\n",
       "      <th>price</th>\n",
       "      <th>direction</th>\n",
       "    </tr>\n",
       "  </thead>\n",
       "  <tbody>\n",
       "    <tr>\n",
       "      <th>1</th>\n",
       "      <td>34200.000113</td>\n",
       "      <td>4</td>\n",
       "      <td>25053166</td>\n",
       "      <td>200</td>\n",
       "      <td>1</td>\n",
       "      <td>-1</td>\n",
       "    </tr>\n",
       "    <tr>\n",
       "      <th>2</th>\n",
       "      <td>34200.000113</td>\n",
       "      <td>5</td>\n",
       "      <td>0</td>\n",
       "      <td>200</td>\n",
       "      <td>1</td>\n",
       "      <td>1</td>\n",
       "    </tr>\n",
       "    <tr>\n",
       "      <th>3</th>\n",
       "      <td>34200.000135</td>\n",
       "      <td>5</td>\n",
       "      <td>0</td>\n",
       "      <td>600</td>\n",
       "      <td>1</td>\n",
       "      <td>1</td>\n",
       "    </tr>\n",
       "    <tr>\n",
       "      <th>4</th>\n",
       "      <td>34200.000163</td>\n",
       "      <td>5</td>\n",
       "      <td>0</td>\n",
       "      <td>100</td>\n",
       "      <td>1</td>\n",
       "      <td>1</td>\n",
       "    </tr>\n",
       "    <tr>\n",
       "      <th>5</th>\n",
       "      <td>34200.000269</td>\n",
       "      <td>5</td>\n",
       "      <td>0</td>\n",
       "      <td>100</td>\n",
       "      <td>1</td>\n",
       "      <td>1</td>\n",
       "    </tr>\n",
       "    <tr>\n",
       "      <th>...</th>\n",
       "      <td>...</td>\n",
       "      <td>...</td>\n",
       "      <td>...</td>\n",
       "      <td>...</td>\n",
       "      <td>...</td>\n",
       "      <td>...</td>\n",
       "    </tr>\n",
       "    <tr>\n",
       "      <th>2244836</th>\n",
       "      <td>57599.996507</td>\n",
       "      <td>1</td>\n",
       "      <td>770732874</td>\n",
       "      <td>1385</td>\n",
       "      <td>0</td>\n",
       "      <td>1</td>\n",
       "    </tr>\n",
       "    <tr>\n",
       "      <th>2244837</th>\n",
       "      <td>57599.996541</td>\n",
       "      <td>1</td>\n",
       "      <td>770732886</td>\n",
       "      <td>1</td>\n",
       "      <td>0</td>\n",
       "      <td>1</td>\n",
       "    </tr>\n",
       "    <tr>\n",
       "      <th>2244838</th>\n",
       "      <td>57599.997147</td>\n",
       "      <td>1</td>\n",
       "      <td>770733066</td>\n",
       "      <td>3500</td>\n",
       "      <td>-9</td>\n",
       "      <td>1</td>\n",
       "    </tr>\n",
       "    <tr>\n",
       "      <th>2244839</th>\n",
       "      <td>57599.997521</td>\n",
       "      <td>3</td>\n",
       "      <td>770732874</td>\n",
       "      <td>1385</td>\n",
       "      <td>0</td>\n",
       "      <td>1</td>\n",
       "    </tr>\n",
       "    <tr>\n",
       "      <th>2244840</th>\n",
       "      <td>57599.997766</td>\n",
       "      <td>3</td>\n",
       "      <td>770730074</td>\n",
       "      <td>100</td>\n",
       "      <td>2</td>\n",
       "      <td>-1</td>\n",
       "    </tr>\n",
       "  </tbody>\n",
       "</table>\n",
       "<p>2244840 rows × 6 columns</p>\n",
       "</div>"
      ],
      "text/plain": [
       "                 time  event_type   order_id  size  price  direction\n",
       "1        34200.000113           4   25053166   200      1         -1\n",
       "2        34200.000113           5          0   200      1          1\n",
       "3        34200.000135           5          0   600      1          1\n",
       "4        34200.000163           5          0   100      1          1\n",
       "5        34200.000269           5          0   100      1          1\n",
       "...               ...         ...        ...   ...    ...        ...\n",
       "2244836  57599.996507           1  770732874  1385      0          1\n",
       "2244837  57599.996541           1  770732886     1      0          1\n",
       "2244838  57599.997147           1  770733066  3500     -9          1\n",
       "2244839  57599.997521           3  770732874  1385      0          1\n",
       "2244840  57599.997766           3  770730074   100      2         -1\n",
       "\n",
       "[2244840 rows x 6 columns]"
      ]
     },
     "metadata": {},
     "output_type": "display_data"
    }
   ],
   "source": [
    "m_"
   ]
  },
  {
   "cell_type": "code",
   "execution_count": null,
   "metadata": {},
   "outputs": [
    {
     "data": {
      "text/plain": [
       "count    2.244840e+06\n",
       "mean     4.406932e+04\n",
       "std      7.189496e+03\n",
       "min      3.420000e+04\n",
       "25%      3.755352e+04\n",
       "50%      4.290529e+04\n",
       "75%      4.999515e+04\n",
       "max      5.760000e+04\n",
       "Name: time, dtype: float64"
      ]
     },
     "metadata": {},
     "output_type": "display_data"
    }
   ],
   "source": [
    "m_['time'].describe()"
   ]
  },
  {
   "cell_type": "code",
   "execution_count": null,
   "metadata": {},
   "outputs": [],
   "source": [
    "# subtract opening time and convert to ns integer\n",
    "opening_s = 9.5 * 3600  # NASDAQ opens 9:30\n",
    "#closing_s = 16 * 3600   # and closes at 16:00\n",
    "m_['time'] = (m['time'] - opening_s).multiply(1e9).astype(int)"
   ]
  },
  {
   "cell_type": "code",
   "execution_count": null,
   "metadata": {},
   "outputs": [
    {
     "data": {
      "text/plain": [
       "1              0.000113\n",
       "2              0.000113\n",
       "3              0.000135\n",
       "4              0.000163\n",
       "5              0.000269\n",
       "               ...     \n",
       "2244836    23399.996507\n",
       "2244837    23399.996541\n",
       "2244838    23399.997147\n",
       "2244839    23399.997521\n",
       "2244840    23399.997766\n",
       "Name: time, Length: 2244840, dtype: float64"
      ]
     },
     "metadata": {},
     "output_type": "display_data"
    }
   ],
   "source": [
    "m_.time#.multiply(1e6)#.apply(float.is_integer).all()"
   ]
  },
  {
   "cell_type": "code",
   "execution_count": null,
   "metadata": {},
   "outputs": [
    {
     "data": {
      "text/plain": [
       "1          1.132790e+05\n",
       "2          1.132790e+05\n",
       "3          1.345560e+05\n",
       "4          1.634550e+05\n",
       "5          2.689040e+05\n",
       "               ...     \n",
       "2244836    2.340000e+13\n",
       "2244837    2.340000e+13\n",
       "2244838    2.340000e+13\n",
       "2244839    2.340000e+13\n",
       "2244840    2.340000e+13\n",
       "Name: time, Length: 2244840, dtype: float64"
      ]
     },
     "metadata": {},
     "output_type": "display_data"
    }
   ],
   "source": [
    "m_.time"
   ]
  },
  {
   "cell_type": "markdown",
   "metadata": {},
   "source": [
    "## Investigate Data"
   ]
  },
  {
   "cell_type": "code",
   "execution_count": null,
   "metadata": {},
   "outputs": [
    {
     "data": {
      "text/html": [
       "<div>\n",
       "<style scoped>\n",
       "    .dataframe tbody tr th:only-of-type {\n",
       "        vertical-align: middle;\n",
       "    }\n",
       "\n",
       "    .dataframe tbody tr th {\n",
       "        vertical-align: top;\n",
       "    }\n",
       "\n",
       "    .dataframe thead th {\n",
       "        text-align: right;\n",
       "    }\n",
       "</style>\n",
       "<table border=\"1\" class=\"dataframe\">\n",
       "  <thead>\n",
       "    <tr style=\"text-align: right;\">\n",
       "      <th></th>\n",
       "      <th>time</th>\n",
       "      <th>event_type</th>\n",
       "      <th>order_id</th>\n",
       "      <th>size</th>\n",
       "      <th>price</th>\n",
       "      <th>direction</th>\n",
       "      <th>time_new</th>\n",
       "      <th>event_type_new</th>\n",
       "      <th>size_new</th>\n",
       "      <th>price_new</th>\n",
       "      <th>direction_new</th>\n",
       "    </tr>\n",
       "  </thead>\n",
       "  <tbody>\n",
       "    <tr>\n",
       "      <th>8</th>\n",
       "      <td>NaN</td>\n",
       "      <td>NaN</td>\n",
       "      <td>25048950</td>\n",
       "      <td>NaN</td>\n",
       "      <td>NaN</td>\n",
       "      <td>NaN</td>\n",
       "      <td>00000001138045</td>\n",
       "      <td>3.0</td>\n",
       "      <td>0100</td>\n",
       "      <td>+986400</td>\n",
       "      <td>1.0</td>\n",
       "    </tr>\n",
       "    <tr>\n",
       "      <th>9</th>\n",
       "      <td>NaN</td>\n",
       "      <td>NaN</td>\n",
       "      <td>25058938</td>\n",
       "      <td>NaN</td>\n",
       "      <td>NaN</td>\n",
       "      <td>NaN</td>\n",
       "      <td>00000001375939</td>\n",
       "      <td>3.0</td>\n",
       "      <td>0100</td>\n",
       "      <td>+986400</td>\n",
       "      <td>1.0</td>\n",
       "    </tr>\n",
       "    <tr>\n",
       "      <th>10</th>\n",
       "      <td>NaN</td>\n",
       "      <td>NaN</td>\n",
       "      <td>24918322</td>\n",
       "      <td>NaN</td>\n",
       "      <td>NaN</td>\n",
       "      <td>NaN</td>\n",
       "      <td>00000001636989</td>\n",
       "      <td>3.0</td>\n",
       "      <td>0100</td>\n",
       "      <td>+987600</td>\n",
       "      <td>0.0</td>\n",
       "    </tr>\n",
       "    <tr>\n",
       "      <th>22</th>\n",
       "      <td>NaN</td>\n",
       "      <td>NaN</td>\n",
       "      <td>24912546</td>\n",
       "      <td>NaN</td>\n",
       "      <td>NaN</td>\n",
       "      <td>NaN</td>\n",
       "      <td>00000010627437</td>\n",
       "      <td>3.0</td>\n",
       "      <td>0100</td>\n",
       "      <td>+987900</td>\n",
       "      <td>0.0</td>\n",
       "    </tr>\n",
       "    <tr>\n",
       "      <th>25</th>\n",
       "      <td>NaN</td>\n",
       "      <td>NaN</td>\n",
       "      <td>24625822</td>\n",
       "      <td>NaN</td>\n",
       "      <td>NaN</td>\n",
       "      <td>NaN</td>\n",
       "      <td>00000012798717</td>\n",
       "      <td>3.0</td>\n",
       "      <td>0100</td>\n",
       "      <td>+988300</td>\n",
       "      <td>0.0</td>\n",
       "    </tr>\n",
       "    <tr>\n",
       "      <th>...</th>\n",
       "      <td>...</td>\n",
       "      <td>...</td>\n",
       "      <td>...</td>\n",
       "      <td>...</td>\n",
       "      <td>...</td>\n",
       "      <td>...</td>\n",
       "      <td>...</td>\n",
       "      <td>...</td>\n",
       "      <td>...</td>\n",
       "      <td>...</td>\n",
       "      <td>...</td>\n",
       "    </tr>\n",
       "    <tr>\n",
       "      <th>2244486</th>\n",
       "      <td>23399257095943</td>\n",
       "      <td>1.0</td>\n",
       "      <td>770641814</td>\n",
       "      <td>0200</td>\n",
       "      <td>+979000</td>\n",
       "      <td>1.0</td>\n",
       "      <td>23399400871739</td>\n",
       "      <td>3.0</td>\n",
       "      <td>0100</td>\n",
       "      <td>+979000</td>\n",
       "      <td>1.0</td>\n",
       "    </tr>\n",
       "    <tr>\n",
       "      <th>2244566</th>\n",
       "      <td>23384544022892</td>\n",
       "      <td>1.0</td>\n",
       "      <td>768876806</td>\n",
       "      <td>0200</td>\n",
       "      <td>+978500</td>\n",
       "      <td>1.0</td>\n",
       "      <td>23399500712247</td>\n",
       "      <td>3.0</td>\n",
       "      <td>0100</td>\n",
       "      <td>+978500</td>\n",
       "      <td>1.0</td>\n",
       "    </tr>\n",
       "    <tr>\n",
       "      <th>2244571</th>\n",
       "      <td>23399412072736</td>\n",
       "      <td>1.0</td>\n",
       "      <td>770657050</td>\n",
       "      <td>0200</td>\n",
       "      <td>+979000</td>\n",
       "      <td>1.0</td>\n",
       "      <td>23399504733841</td>\n",
       "      <td>3.0</td>\n",
       "      <td>0100</td>\n",
       "      <td>+979000</td>\n",
       "      <td>1.0</td>\n",
       "    </tr>\n",
       "    <tr>\n",
       "      <th>2244664</th>\n",
       "      <td>23399602806328</td>\n",
       "      <td>1.0</td>\n",
       "      <td>770684590</td>\n",
       "      <td>0200</td>\n",
       "      <td>+979800</td>\n",
       "      <td>0.0</td>\n",
       "      <td>23399665368374</td>\n",
       "      <td>3.0</td>\n",
       "      <td>0100</td>\n",
       "      <td>+979800</td>\n",
       "      <td>0.0</td>\n",
       "    </tr>\n",
       "    <tr>\n",
       "      <th>2244745</th>\n",
       "      <td>NaN</td>\n",
       "      <td>NaN</td>\n",
       "      <td>770674310</td>\n",
       "      <td>NaN</td>\n",
       "      <td>NaN</td>\n",
       "      <td>NaN</td>\n",
       "      <td>23399832100775</td>\n",
       "      <td>3.0</td>\n",
       "      <td>0100</td>\n",
       "      <td>+978600</td>\n",
       "      <td>1.0</td>\n",
       "    </tr>\n",
       "  </tbody>\n",
       "</table>\n",
       "<p>31123 rows × 11 columns</p>\n",
       "</div>"
      ],
      "text/plain": [
       "                   time  event_type   order_id  size    price  direction  \\\n",
       "8                   NaN         NaN   25048950   NaN      NaN        NaN   \n",
       "9                   NaN         NaN   25058938   NaN      NaN        NaN   \n",
       "10                  NaN         NaN   24918322   NaN      NaN        NaN   \n",
       "22                  NaN         NaN   24912546   NaN      NaN        NaN   \n",
       "25                  NaN         NaN   24625822   NaN      NaN        NaN   \n",
       "...                 ...         ...        ...   ...      ...        ...   \n",
       "2244486  23399257095943         1.0  770641814  0200  +979000        1.0   \n",
       "2244566  23384544022892         1.0  768876806  0200  +978500        1.0   \n",
       "2244571  23399412072736         1.0  770657050  0200  +979000        1.0   \n",
       "2244664  23399602806328         1.0  770684590  0200  +979800        0.0   \n",
       "2244745             NaN         NaN  770674310   NaN      NaN        NaN   \n",
       "\n",
       "               time_new  event_type_new size_new price_new  direction_new  \n",
       "8        00000001138045             3.0     0100   +986400            1.0  \n",
       "9        00000001375939             3.0     0100   +986400            1.0  \n",
       "10       00000001636989             3.0     0100   +987600            0.0  \n",
       "22       00000010627437             3.0     0100   +987900            0.0  \n",
       "25       00000012798717             3.0     0100   +988300            0.0  \n",
       "...                 ...             ...      ...       ...            ...  \n",
       "2244486  23399400871739             3.0     0100   +979000            1.0  \n",
       "2244566  23399500712247             3.0     0100   +978500            1.0  \n",
       "2244571  23399504733841             3.0     0100   +979000            1.0  \n",
       "2244664  23399665368374             3.0     0100   +979800            0.0  \n",
       "2244745  23399832100775             3.0     0100   +978600            1.0  \n",
       "\n",
       "[31123 rows x 11 columns]"
      ]
     },
     "metadata": {},
     "output_type": "display_data"
    }
   ],
   "source": [
    "m_.loc[(m_.event_type_new == 3) & (m_.size_new != m_['size'])]"
   ]
  },
  {
   "cell_type": "code",
   "execution_count": null,
   "metadata": {},
   "outputs": [
    {
     "data": {
      "text/html": [
       "<div>\n",
       "<style scoped>\n",
       "    .dataframe tbody tr th:only-of-type {\n",
       "        vertical-align: middle;\n",
       "    }\n",
       "\n",
       "    .dataframe tbody tr th {\n",
       "        vertical-align: top;\n",
       "    }\n",
       "\n",
       "    .dataframe thead th {\n",
       "        text-align: right;\n",
       "    }\n",
       "</style>\n",
       "<table border=\"1\" class=\"dataframe\">\n",
       "  <thead>\n",
       "    <tr style=\"text-align: right;\">\n",
       "      <th></th>\n",
       "      <th>time</th>\n",
       "      <th>event_type</th>\n",
       "      <th>order_id</th>\n",
       "      <th>size</th>\n",
       "      <th>price</th>\n",
       "      <th>direction</th>\n",
       "      <th>time_new</th>\n",
       "      <th>event_type_new</th>\n",
       "      <th>size_new</th>\n",
       "      <th>price_new</th>\n",
       "      <th>direction_new</th>\n",
       "    </tr>\n",
       "  </thead>\n",
       "  <tbody>\n",
       "    <tr>\n",
       "      <th>2244645</th>\n",
       "      <td>23399602806328</td>\n",
       "      <td>1.0</td>\n",
       "      <td>770684590</td>\n",
       "      <td>0200</td>\n",
       "      <td>+979800</td>\n",
       "      <td>0.0</td>\n",
       "      <td>NaN</td>\n",
       "      <td>NaN</td>\n",
       "      <td>NaN</td>\n",
       "      <td>NaN</td>\n",
       "      <td>NaN</td>\n",
       "    </tr>\n",
       "    <tr>\n",
       "      <th>2244654</th>\n",
       "      <td>23399602806328</td>\n",
       "      <td>1.0</td>\n",
       "      <td>770684590</td>\n",
       "      <td>0200</td>\n",
       "      <td>+979800</td>\n",
       "      <td>0.0</td>\n",
       "      <td>23399641629215</td>\n",
       "      <td>2.0</td>\n",
       "      <td>0100</td>\n",
       "      <td>+979800</td>\n",
       "      <td>0.0</td>\n",
       "    </tr>\n",
       "    <tr>\n",
       "      <th>2244664</th>\n",
       "      <td>23399602806328</td>\n",
       "      <td>1.0</td>\n",
       "      <td>770684590</td>\n",
       "      <td>0200</td>\n",
       "      <td>+979800</td>\n",
       "      <td>0.0</td>\n",
       "      <td>23399665368374</td>\n",
       "      <td>3.0</td>\n",
       "      <td>0100</td>\n",
       "      <td>+979800</td>\n",
       "      <td>0.0</td>\n",
       "    </tr>\n",
       "  </tbody>\n",
       "</table>\n",
       "</div>"
      ],
      "text/plain": [
       "                   time  event_type   order_id  size    price  direction  \\\n",
       "2244645  23399602806328         1.0  770684590  0200  +979800        0.0   \n",
       "2244654  23399602806328         1.0  770684590  0200  +979800        0.0   \n",
       "2244664  23399602806328         1.0  770684590  0200  +979800        0.0   \n",
       "\n",
       "               time_new  event_type_new size_new price_new  direction_new  \n",
       "2244645             NaN             NaN      NaN       NaN            NaN  \n",
       "2244654  23399641629215             2.0     0100   +979800            0.0  \n",
       "2244664  23399665368374             3.0     0100   +979800            0.0  "
      ]
     },
     "metadata": {},
     "output_type": "display_data"
    }
   ],
   "source": [
    "m_.loc[m_.order_id == 770684590]"
   ]
  },
  {
   "cell_type": "code",
   "execution_count": 295,
   "metadata": {},
   "outputs": [
    {
     "data": {
      "text/plain": [
       "0.0        105\n",
       "1.0      13706\n",
       "2.0       9152\n",
       "3.0      15134\n",
       "4.0      21622\n",
       "5.0      28293\n",
       "6.0      34845\n",
       "7.0      26895\n",
       "8.0      40070\n",
       "9.0      57480\n",
       "10.0    195918\n",
       "11.0    176574\n",
       "12.0    110898\n",
       "13.0     60406\n",
       "14.0     35032\n",
       "15.0     31865\n",
       "16.0     23512\n",
       "17.0     21372\n",
       "18.0     12993\n",
       "19.0     11104\n",
       "20.0      9970\n",
       "21.0      6183\n",
       "22.0       410\n",
       "23.0       210\n",
       "Name: price, dtype: int64"
      ]
     },
     "execution_count": 295,
     "metadata": {},
     "output_type": "execute_result"
    }
   ],
   "source": [
    "m_['price'].value_counts().sort_index()"
   ]
  },
  {
   "cell_type": "code",
   "execution_count": 213,
   "metadata": {},
   "outputs": [
    {
     "data": {
      "text/plain": [
       "-10.0       209\n",
       "-9.0      23289\n",
       "-8.0      12126\n",
       "-7.0      13809\n",
       "-6.0      29999\n",
       "-5.0      51072\n",
       "-4.0      48074\n",
       "-3.0      47813\n",
       "-2.0      57652\n",
       "-1.0      74236\n",
       " 0.0     245298\n",
       " 1.0     190922\n",
       " 2.0     128258\n",
       " 3.0      49788\n",
       " 4.0      31958\n",
       " 5.0      33535\n",
       " 6.0      32617\n",
       " 7.0      20158\n",
       " 8.0      25511\n",
       " 9.0      10139\n",
       " 10.0      9876\n",
       " 11.0     11180\n",
       " 12.0       251\n",
       " 13.0       174\n",
       "Name: price, dtype: int64"
      ]
     },
     "execution_count": 213,
     "metadata": {},
     "output_type": "execute_result"
    }
   ],
   "source": [
    "df_.price.value_counts().sort_index()"
   ]
  },
  {
   "cell_type": "code",
   "execution_count": 167,
   "metadata": {},
   "outputs": [
    {
     "data": {
      "text/plain": [
       "<AxesSubplot:>"
      ]
     },
     "execution_count": 167,
     "metadata": {},
     "output_type": "execute_result"
    },
    {
     "data": {
      "image/png": "[encoded data removed]",
      "text/plain": [
       "<Figure size 432x288 with 1 Axes>"
      ]
     },
     "metadata": {
      "needs_background": "light"
     },
     "output_type": "display_data"
    }
   ],
   "source": [
    "# what's the approx spread\n",
    "(book.iloc[:, 0] - book.iloc[:, 2]).plot()"
   ]
  },
  {
   "cell_type": "code",
   "execution_count": 169,
   "metadata": {},
   "outputs": [
    {
     "data": {
      "text/plain": [
       "<AxesSubplot:ylabel='Frequency'>"
      ]
     },
     "execution_count": 169,
     "metadata": {},
     "output_type": "execute_result"
    },
    {
     "data": {
      "image/png": "[encoded data removed]",
      "text/plain": [
       "<Figure size 432x288 with 1 Axes>"
      ]
     },
     "metadata": {
      "needs_background": "light"
     },
     "output_type": "display_data"
    }
   ],
   "source": [
    "(book.iloc[:, 0] - book.iloc[:, 2]).plot(kind='hist')"
   ]
  },
  {
   "cell_type": "code",
   "execution_count": 165,
   "metadata": {},
   "outputs": [
    {
     "data": {
      "text/plain": [
       "0.9954228384103818"
      ]
     },
     "execution_count": 165,
     "metadata": {},
     "output_type": "execute_result"
    }
   ],
   "source": [
    "# bid side: best - L10\n",
    "# min tick is 100, hence min 9-level diff is 900\n",
    "# <= 1000 covers 99.54%\n",
    "\n",
    "ten_level_diff = (book.iloc[:, 2] - book.iloc[:, -2])\n",
    "len(ten_level_diff.loc[ten_level_diff <= 1000]) / len(ten_level_diff)"
   ]
  },
  {
   "cell_type": "code",
   "execution_count": 180,
   "metadata": {},
   "outputs": [
    {
     "data": {
      "text/plain": [
       "0.9949025342997566"
      ]
     },
     "execution_count": 180,
     "metadata": {},
     "output_type": "execute_result"
    }
   ],
   "source": [
    "# ask side: L10 - best BID (i.e. including spread)\n",
    "# min tick is 100, hence min 10-level diff is 1000\n",
    "# <= 1100 covers 95.85% on ask side\n",
    "# <= 1400 covers 99.49% on ask side --> use\n",
    "\n",
    "ten_level_diff = (book.iloc[:, 2] - book.iloc[:, -4])\n",
    "len(ten_level_diff.loc[ten_level_diff >= -1400]) / len(ten_level_diff)"
   ]
  },
  {
   "cell_type": "code",
   "execution_count": 147,
   "metadata": {},
   "outputs": [
    {
     "data": {
      "text/plain": [
       "<AxesSubplot:ylabel='Frequency'>"
      ]
     },
     "execution_count": 147,
     "metadata": {},
     "output_type": "execute_result"
    },
    {
     "data": {
      "image/png": "[encoded data removed]",
      "text/plain": [
       "<Figure size 432x288 with 1 Axes>"
      ]
     },
     "metadata": {
      "needs_background": "light"
     },
     "output_type": "display_data"
    }
   ],
   "source": [
    "# what's the approx price difference between 10 levels\n",
    "(book.iloc[10000:, 2] - book.iloc[10000:, -2]).plot(kind='hist', bins=100)"
   ]
  },
  {
   "cell_type": "code",
   "execution_count": 129,
   "metadata": {},
   "outputs": [
    {
     "data": {
      "text/plain": [
       "<AxesSubplot:ylabel='Frequency'>"
      ]
     },
     "execution_count": 129,
     "metadata": {},
     "output_type": "execute_result"
    },
    {
     "data": {
      "image/png": "[encoded data removed]",
      "text/plain": [
       "<Figure size 432x288 with 1 Axes>"
      ]
     },
     "metadata": {
      "needs_background": "light"
     },
     "output_type": "display_data"
    }
   ],
   "source": [
    "df_.price.plot(kind='hist')"
   ]
  },
  {
   "cell_type": "code",
   "execution_count": 104,
   "metadata": {},
   "outputs": [
    {
     "data": {
      "text/html": [
       "<div>\n",
       "<style scoped>\n",
       "    .dataframe tbody tr th:only-of-type {\n",
       "        vertical-align: middle;\n",
       "    }\n",
       "\n",
       "    .dataframe tbody tr th {\n",
       "        vertical-align: top;\n",
       "    }\n",
       "\n",
       "    .dataframe thead th {\n",
       "        text-align: right;\n",
       "    }\n",
       "</style>\n",
       "<table border=\"1\" class=\"dataframe\">\n",
       "  <thead>\n",
       "    <tr style=\"text-align: right;\">\n",
       "      <th></th>\n",
       "      <th>time</th>\n",
       "      <th>event_type</th>\n",
       "      <th>order_id</th>\n",
       "      <th>size</th>\n",
       "      <th>price</th>\n",
       "      <th>direction</th>\n",
       "    </tr>\n",
       "  </thead>\n",
       "  <tbody>\n",
       "    <tr>\n",
       "      <th>1</th>\n",
       "      <td>34200.005721</td>\n",
       "      <td>0</td>\n",
       "      <td>31920154</td>\n",
       "      <td>0</td>\n",
       "      <td>0</td>\n",
       "      <td>0</td>\n",
       "    </tr>\n",
       "    <tr>\n",
       "      <th>2</th>\n",
       "      <td>34200.005789</td>\n",
       "      <td>0</td>\n",
       "      <td>31920330</td>\n",
       "      <td>1</td>\n",
       "      <td>1</td>\n",
       "      <td>1</td>\n",
       "    </tr>\n",
       "    <tr>\n",
       "      <th>3</th>\n",
       "      <td>34200.006397</td>\n",
       "      <td>0</td>\n",
       "      <td>31921510</td>\n",
       "      <td>1</td>\n",
       "      <td>2</td>\n",
       "      <td>0</td>\n",
       "    </tr>\n",
       "    <tr>\n",
       "      <th>5</th>\n",
       "      <td>34200.006966</td>\n",
       "      <td>0</td>\n",
       "      <td>31922478</td>\n",
       "      <td>2</td>\n",
       "      <td>0</td>\n",
       "      <td>0</td>\n",
       "    </tr>\n",
       "    <tr>\n",
       "      <th>6</th>\n",
       "      <td>34200.009470</td>\n",
       "      <td>0</td>\n",
       "      <td>31926114</td>\n",
       "      <td>3</td>\n",
       "      <td>3</td>\n",
       "      <td>0</td>\n",
       "    </tr>\n",
       "    <tr>\n",
       "      <th>...</th>\n",
       "      <td>...</td>\n",
       "      <td>...</td>\n",
       "      <td>...</td>\n",
       "      <td>...</td>\n",
       "      <td>...</td>\n",
       "      <td>...</td>\n",
       "    </tr>\n",
       "    <tr>\n",
       "      <th>1836147</th>\n",
       "      <td>57599.994821</td>\n",
       "      <td>0</td>\n",
       "      <td>727635970</td>\n",
       "      <td>1</td>\n",
       "      <td>219</td>\n",
       "      <td>0</td>\n",
       "    </tr>\n",
       "    <tr>\n",
       "      <th>1836148</th>\n",
       "      <td>57599.994850</td>\n",
       "      <td>0</td>\n",
       "      <td>727635974</td>\n",
       "      <td>1</td>\n",
       "      <td>219</td>\n",
       "      <td>0</td>\n",
       "    </tr>\n",
       "    <tr>\n",
       "      <th>1836150</th>\n",
       "      <td>57599.994852</td>\n",
       "      <td>0</td>\n",
       "      <td>727635978</td>\n",
       "      <td>1</td>\n",
       "      <td>219</td>\n",
       "      <td>0</td>\n",
       "    </tr>\n",
       "    <tr>\n",
       "      <th>1836151</th>\n",
       "      <td>57599.997158</td>\n",
       "      <td>0</td>\n",
       "      <td>727636550</td>\n",
       "      <td>1</td>\n",
       "      <td>219</td>\n",
       "      <td>0</td>\n",
       "    </tr>\n",
       "    <tr>\n",
       "      <th>1836154</th>\n",
       "      <td>57599.999708</td>\n",
       "      <td>0</td>\n",
       "      <td>727638486</td>\n",
       "      <td>3</td>\n",
       "      <td>217</td>\n",
       "      <td>0</td>\n",
       "    </tr>\n",
       "  </tbody>\n",
       "</table>\n",
       "<p>943750 rows × 6 columns</p>\n",
       "</div>"
      ],
      "text/plain": [
       "                 time  event_type   order_id  size  price  direction\n",
       "1        34200.005721           0   31920154     0      0          0\n",
       "2        34200.005789           0   31920330     1      1          1\n",
       "3        34200.006397           0   31921510     1      2          0\n",
       "5        34200.006966           0   31922478     2      0          0\n",
       "6        34200.009470           0   31926114     3      3          0\n",
       "...               ...         ...        ...   ...    ...        ...\n",
       "1836147  57599.994821           0  727635970     1    219          0\n",
       "1836148  57599.994850           0  727635974     1    219          0\n",
       "1836150  57599.994852           0  727635978     1    219          0\n",
       "1836151  57599.997158           0  727636550     1    219          0\n",
       "1836154  57599.999708           0  727638486     3    217          0\n",
       "\n",
       "[943750 rows x 6 columns]"
      ]
     },
     "execution_count": 104,
     "metadata": {},
     "output_type": "execute_result"
    }
   ],
   "source": [
    "normalize_messages(df_)"
   ]
  },
  {
   "cell_type": "code",
   "execution_count": null,
   "metadata": {},
   "outputs": [],
   "source": [
    "# size <= 500 rough 99% of data\n",
    "#      <= 100 85% of orders\n",
    "# propose encoding: every size until 50, bin 5 until 100, then round to every x100\n",
    "\n",
    "# price: ultimately, encode relative to mid-price at the time (not available in messages only)\n",
    "#        for now, just scale absolute price, and bin 10 ticks in distr.\n",
    "\n",
    "# order id: ignore for now"
   ]
  },
  {
   "attachments": {},
   "cell_type": "markdown",
   "metadata": {},
   "source": [
    "order types: start with 1, 4, i.e. ignore referential orders (cancel, delete) and hidden\n",
    "\n",
    "1: Submission of a new limit order\n",
    "\n",
    "2: Cancellation (partial deletion of a limit order)\n",
    "\n",
    "3: Deletion (total deletion of a limit order)\n",
    "\n",
    "4: Execution of a visible limit order\n",
    "\n",
    "5: Execution of a hidden limit order\n",
    "\n",
    "6: Indicates a cross trade, e.g. auction trade\n",
    "\n",
    "7: Trading halt indicator (detailed information below)"
   ]
  },
  {
   "cell_type": "code",
   "execution_count": 42,
   "metadata": {},
   "outputs": [],
   "source": [
    "window_size = 500\n",
    "max_deviations = df.price.rolling(window=window_size).apply(lambda seg: (seg - seg.iloc[0]).max())"
   ]
  },
  {
   "cell_type": "code",
   "execution_count": 52,
   "metadata": {},
   "outputs": [],
   "source": [
    "window_size = 5000\n",
    "max_deviations_long = df.price.rolling(window=window_size).apply(lambda seg: (seg - seg.iloc[0]).max())"
   ]
  },
  {
   "cell_type": "code",
   "execution_count": 48,
   "metadata": {},
   "outputs": [
    {
     "data": {
      "text/plain": [
       "<AxesSubplot:ylabel='Frequency'>"
      ]
     },
     "execution_count": 48,
     "metadata": {},
     "output_type": "execute_result"
    },
    {
     "data": {
      "image/png": "[encoded data removed]",
      "text/plain": [
       "<Figure size 432x288 with 1 Axes>"
      ]
     },
     "metadata": {
      "needs_background": "light"
     },
     "output_type": "display_data"
    }
   ],
   "source": [
    "max_deviations.plot(kind='hist')"
   ]
  },
  {
   "cell_type": "code",
   "execution_count": 53,
   "metadata": {},
   "outputs": [
    {
     "data": {
      "text/plain": [
       "<AxesSubplot:ylabel='Frequency'>"
      ]
     },
     "execution_count": 53,
     "metadata": {},
     "output_type": "execute_result"
    },
    {
     "data": {
      "image/png": "[encoded data removed]",
      "text/plain": [
       "<Figure size 432x288 with 1 Axes>"
      ]
     },
     "metadata": {
      "needs_background": "light"
     },
     "output_type": "display_data"
    }
   ],
   "source": [
    "max_deviations_long.plot(kind='hist')"
   ]
  },
  {
   "cell_type": "code",
   "execution_count": 39,
   "metadata": {},
   "outputs": [
    {
     "data": {
      "text/plain": [
       "count    1.836155e+06\n",
       "mean     9.885920e+05\n",
       "std      4.166003e+03\n",
       "min      9.769000e+05\n",
       "25%      9.861000e+05\n",
       "50%      9.880000e+05\n",
       "75%      9.905000e+05\n",
       "max      1.000000e+06\n",
       "Name: price, dtype: float64"
      ]
     },
     "execution_count": 39,
     "metadata": {},
     "output_type": "execute_result"
    }
   ],
   "source": [
    "df['price'].describe()"
   ]
  },
  {
   "cell_type": "code",
   "execution_count": 19,
   "metadata": {},
   "outputs": [
    {
     "data": {
      "text/plain": [
       "<AxesSubplot:>"
      ]
     },
     "execution_count": 19,
     "metadata": {},
     "output_type": "execute_result"
    },
    {
     "data": {
      "image/png": "[encoded data removed]",
      "text/plain": [
       "<Figure size 432x288 with 1 Axes>"
      ]
     },
     "metadata": {
      "needs_background": "light"
     },
     "output_type": "display_data"
    }
   ],
   "source": [
    "df['size'].plot(kind='box')"
   ]
  },
  {
   "cell_type": "code",
   "execution_count": 66,
   "metadata": {},
   "outputs": [
    {
     "data": {
      "text/plain": [
       "0.9999937634781261"
      ]
     },
     "execution_count": 66,
     "metadata": {},
     "output_type": "execute_result"
    }
   ],
   "source": [
    "len(m.loc[m['size'] <= 10000]) / len(m)"
   ]
  },
  {
   "cell_type": "code",
   "execution_count": null,
   "metadata": {},
   "outputs": [
    {
     "data": {
      "text/plain": [
       "0.8534208713316687"
      ]
     },
     "metadata": {},
     "output_type": "display_data"
    }
   ],
   "source": [
    "len(df.loc[df['size'] <= 100]) / len(df)"
   ]
  },
  {
   "cell_type": "code",
   "execution_count": 31,
   "metadata": {},
   "outputs": [
    {
     "data": {
      "text/plain": [
       "<AxesSubplot:>"
      ]
     },
     "execution_count": 31,
     "metadata": {},
     "output_type": "execute_result"
    },
    {
     "data": {
      "image/png": "[encoded data removed]",
      "text/plain": [
       "<Figure size 432x288 with 1 Axes>"
      ]
     },
     "metadata": {
      "needs_background": "light"
     },
     "output_type": "display_data"
    }
   ],
   "source": [
    "df.loc[df['size'] < 500, 'size'].hist(histtype='step', bins=20)"
   ]
  },
  {
   "cell_type": "code",
   "execution_count": 38,
   "metadata": {},
   "outputs": [
    {
     "data": {
      "text/plain": [
       "<AxesSubplot:>"
      ]
     },
     "execution_count": 38,
     "metadata": {},
     "output_type": "execute_result"
    },
    {
     "data": {
      "image/png": "[encoded data removed]",
      "text/plain": [
       "<Figure size 432x288 with 1 Axes>"
      ]
     },
     "metadata": {
      "needs_background": "light"
     },
     "output_type": "display_data"
    }
   ],
   "source": [
    "df.loc[df['size'] < 100, 'size'].hist(histtype='step', bins=20)"
   ]
  },
  {
   "cell_type": "code",
   "execution_count": 5,
   "metadata": {},
   "outputs": [],
   "source": [
    "from lobster_dataloader import LOBSTER_Dataset\n",
    "import time"
   ]
  },
  {
   "cell_type": "code",
   "execution_count": 7,
   "metadata": {},
   "outputs": [],
   "source": [
    "messages = sorted(glob(save_dir + '*message*.csv'))"
   ]
  },
  {
   "cell_type": "code",
   "execution_count": 8,
   "metadata": {},
   "outputs": [
    {
     "data": {
      "text/plain": [
       "['/nfs/home/peern/LOBS5/data/GOOG_2023-01-30_34200000_57600000_message_10_proc.csv',\n",
       " '/nfs/home/peern/LOBS5/data/GOOG_2023-01-31_34200000_57600000_message_10_proc.csv']"
      ]
     },
     "execution_count": 8,
     "metadata": {},
     "output_type": "execute_result"
    }
   ],
   "source": [
    "messages"
   ]
  },
  {
   "cell_type": "code",
   "execution_count": 16,
   "metadata": {},
   "outputs": [
    {
     "name": "stdout",
     "output_type": "stream",
     "text": [
      "--- 9.81752634048462 seconds ---\n"
     ]
    }
   ],
   "source": [
    "d = LOBSTER_Dataset(message_files=messages, seq_len=500, n_cache_files=0)\n",
    "\n",
    "start_time = time.time()\n",
    "\n",
    "for i in range(5000):\n",
    "    d[i]\n",
    "\n",
    "print(\"--- %s seconds ---\" % (time.time() - start_time))"
   ]
  },
  {
   "cell_type": "code",
   "execution_count": 17,
   "metadata": {},
   "outputs": [
    {
     "name": "stdout",
     "output_type": "stream",
     "text": [
      "--- 0.8904905319213867 seconds ---\n"
     ]
    }
   ],
   "source": [
    "d = LOBSTER_Dataset(message_files=messages, seq_len=500, n_cache_files=2)\n",
    "\n",
    "start_time = time.time()\n",
    "\n",
    "for i in range(5000):\n",
    "    d[i]\n",
    "\n",
    "print(\"--- %s seconds ---\" % (time.time() - start_time))"
   ]
  },
  {
   "cell_type": "code",
   "execution_count": 331,
   "metadata": {},
   "outputs": [
    {
     "data": {
      "text/plain": [
       "Array([[3.4203109e+04, 1.0000000e+00, 0.0000000e+00, ..., 0.0000000e+00,\n",
       "        0.0000000e+00, 0.0000000e+00],\n",
       "       [3.4203113e+04, 1.0000000e+00, 0.0000000e+00, ..., 0.0000000e+00,\n",
       "        0.0000000e+00, 0.0000000e+00],\n",
       "       [3.4203133e+04, 1.0000000e+00, 0.0000000e+00, ..., 0.0000000e+00,\n",
       "        0.0000000e+00, 1.0000000e+00],\n",
       "       ...,\n",
       "       [3.4205500e+04, 0.0000000e+00, 1.0000000e+00, ..., 0.0000000e+00,\n",
       "        0.0000000e+00, 1.0000000e+00],\n",
       "       [3.4205500e+04, 0.0000000e+00, 1.0000000e+00, ..., 0.0000000e+00,\n",
       "        0.0000000e+00, 1.0000000e+00],\n",
       "       [3.4205500e+04, 0.0000000e+00, 1.0000000e+00, ..., 0.0000000e+00,\n",
       "        0.0000000e+00, 1.0000000e+00]], dtype=float32)"
      ]
     },
     "execution_count": 331,
     "metadata": {},
     "output_type": "execute_result"
    }
   ],
   "source": [
    "d[1000]"
   ]
  },
  {
   "cell_type": "code",
   "execution_count": 8,
   "metadata": {},
   "outputs": [],
   "source": [
    "@partial(np.vectorize, signature=\"(c),()->()\")\n",
    "def cross_entropy_loss(logits, label):\n",
    "    one_hot_label = jax.nn.one_hot(label, num_classes=logits.shape[0])\n",
    "    return -np.sum(one_hot_label * logits)"
   ]
  },
  {
   "cell_type": "code",
   "execution_count": 13,
   "metadata": {},
   "outputs": [],
   "source": [
    "def cross_entropy_loss_(logits, label):\n",
    "    #one_hot_label = jax.nn.one_hot(label, num_classes=logits.shape[0])\n",
    "    return -np.sum(label * logits)"
   ]
  },
  {
   "cell_type": "code",
   "execution_count": 9,
   "metadata": {},
   "outputs": [],
   "source": [
    "logits = jnp.zeros((500,91))\n",
    "batch_labels = jnp.zeros((500,91))"
   ]
  },
  {
   "cell_type": "code",
   "execution_count": 14,
   "metadata": {},
   "outputs": [
    {
     "data": {
      "text/plain": [
       "Array(-0., dtype=float32)"
      ]
     },
     "execution_count": 14,
     "metadata": {},
     "output_type": "execute_result"
    }
   ],
   "source": [
    "cross_entropy_loss_(logits, batch_labels)"
   ]
  },
  {
   "cell_type": "code",
   "execution_count": 15,
   "metadata": {},
   "outputs": [],
   "source": [
    "output_dims = (2,64,25)"
   ]
  },
  {
   "cell_type": "code",
   "execution_count": 19,
   "metadata": {},
   "outputs": [],
   "source": [
    "cs = np.cumsum(output_dims)\n",
    "np.split(test, cs[:-1], axis=1)"
   ]
  },
  {
   "cell_type": "code",
   "execution_count": 23,
   "metadata": {},
   "outputs": [
    {
     "data": {
      "text/plain": [
       "array([ 2, 66, 91])"
      ]
     },
     "execution_count": 23,
     "metadata": {},
     "output_type": "execute_result"
    }
   ],
   "source": [
    "cs"
   ]
  },
  {
   "cell_type": "code",
   "execution_count": 18,
   "metadata": {},
   "outputs": [],
   "source": [
    "test = np.zeros((500, 91))"
   ]
  },
  {
   "cell_type": "code",
   "execution_count": 40,
   "metadata": {},
   "outputs": [],
   "source": [
    "res = np.split(test, cs[:-1], axis=1)"
   ]
  },
  {
   "cell_type": "code",
   "execution_count": 45,
   "metadata": {},
   "outputs": [
    {
     "data": {
      "text/plain": [
       "(500, 2)"
      ]
     },
     "execution_count": 45,
     "metadata": {},
     "output_type": "execute_result"
    }
   ],
   "source": [
    "res[0].shape"
   ]
  },
  {
   "cell_type": "code",
   "execution_count": 6,
   "metadata": {},
   "outputs": [
    {
     "data": {
      "text/html": [
       "<div>\n",
       "<style scoped>\n",
       "    .dataframe tbody tr th:only-of-type {\n",
       "        vertical-align: middle;\n",
       "    }\n",
       "\n",
       "    .dataframe tbody tr th {\n",
       "        vertical-align: top;\n",
       "    }\n",
       "\n",
       "    .dataframe thead th {\n",
       "        text-align: right;\n",
       "    }\n",
       "</style>\n",
       "<table border=\"1\" class=\"dataframe\">\n",
       "  <thead>\n",
       "    <tr style=\"text-align: right;\">\n",
       "      <th></th>\n",
       "      <th>time</th>\n",
       "      <th>event_type</th>\n",
       "      <th>order_id</th>\n",
       "      <th>size</th>\n",
       "      <th>price</th>\n",
       "      <th>direction</th>\n",
       "    </tr>\n",
       "  </thead>\n",
       "  <tbody>\n",
       "    <tr>\n",
       "      <th>0</th>\n",
       "      <td>34200.000113</td>\n",
       "      <td>4</td>\n",
       "      <td>24695958</td>\n",
       "      <td>134</td>\n",
       "      <td>987500</td>\n",
       "      <td>-1</td>\n",
       "    </tr>\n",
       "    <tr>\n",
       "      <th>1</th>\n",
       "      <td>34200.000113</td>\n",
       "      <td>4</td>\n",
       "      <td>25053166</td>\n",
       "      <td>200</td>\n",
       "      <td>987500</td>\n",
       "      <td>-1</td>\n",
       "    </tr>\n",
       "    <tr>\n",
       "      <th>2</th>\n",
       "      <td>34200.000113</td>\n",
       "      <td>5</td>\n",
       "      <td>0</td>\n",
       "      <td>200</td>\n",
       "      <td>987500</td>\n",
       "      <td>1</td>\n",
       "    </tr>\n",
       "    <tr>\n",
       "      <th>3</th>\n",
       "      <td>34200.000135</td>\n",
       "      <td>5</td>\n",
       "      <td>0</td>\n",
       "      <td>600</td>\n",
       "      <td>987500</td>\n",
       "      <td>1</td>\n",
       "    </tr>\n",
       "    <tr>\n",
       "      <th>4</th>\n",
       "      <td>34200.000163</td>\n",
       "      <td>5</td>\n",
       "      <td>0</td>\n",
       "      <td>100</td>\n",
       "      <td>987500</td>\n",
       "      <td>1</td>\n",
       "    </tr>\n",
       "    <tr>\n",
       "      <th>...</th>\n",
       "      <td>...</td>\n",
       "      <td>...</td>\n",
       "      <td>...</td>\n",
       "      <td>...</td>\n",
       "      <td>...</td>\n",
       "      <td>...</td>\n",
       "    </tr>\n",
       "    <tr>\n",
       "      <th>2244836</th>\n",
       "      <td>57599.996507</td>\n",
       "      <td>1</td>\n",
       "      <td>770732874</td>\n",
       "      <td>1385</td>\n",
       "      <td>979600</td>\n",
       "      <td>1</td>\n",
       "    </tr>\n",
       "    <tr>\n",
       "      <th>2244837</th>\n",
       "      <td>57599.996541</td>\n",
       "      <td>1</td>\n",
       "      <td>770732886</td>\n",
       "      <td>1</td>\n",
       "      <td>979600</td>\n",
       "      <td>1</td>\n",
       "    </tr>\n",
       "    <tr>\n",
       "      <th>2244838</th>\n",
       "      <td>57599.997147</td>\n",
       "      <td>1</td>\n",
       "      <td>770733066</td>\n",
       "      <td>3500</td>\n",
       "      <td>978700</td>\n",
       "      <td>1</td>\n",
       "    </tr>\n",
       "    <tr>\n",
       "      <th>2244839</th>\n",
       "      <td>57599.997521</td>\n",
       "      <td>3</td>\n",
       "      <td>770732874</td>\n",
       "      <td>1385</td>\n",
       "      <td>979600</td>\n",
       "      <td>1</td>\n",
       "    </tr>\n",
       "    <tr>\n",
       "      <th>2244840</th>\n",
       "      <td>57599.997766</td>\n",
       "      <td>3</td>\n",
       "      <td>770730074</td>\n",
       "      <td>100</td>\n",
       "      <td>979800</td>\n",
       "      <td>-1</td>\n",
       "    </tr>\n",
       "  </tbody>\n",
       "</table>\n",
       "<p>2244841 rows × 6 columns</p>\n",
       "</div>"
      ],
      "text/plain": [
       "                 time  event_type   order_id  size   price  direction\n",
       "0        34200.000113           4   24695958   134  987500         -1\n",
       "1        34200.000113           4   25053166   200  987500         -1\n",
       "2        34200.000113           5          0   200  987500          1\n",
       "3        34200.000135           5          0   600  987500          1\n",
       "4        34200.000163           5          0   100  987500          1\n",
       "...               ...         ...        ...   ...     ...        ...\n",
       "2244836  57599.996507           1  770732874  1385  979600          1\n",
       "2244837  57599.996541           1  770732886     1  979600          1\n",
       "2244838  57599.997147           1  770733066  3500  978700          1\n",
       "2244839  57599.997521           3  770732874  1385  979600          1\n",
       "2244840  57599.997766           3  770730074   100  979800         -1\n",
       "\n",
       "[2244841 rows x 6 columns]"
      ]
     },
     "execution_count": 6,
     "metadata": {},
     "output_type": "execute_result"
    }
   ],
   "source": [
    "df"
   ]
  },
  {
   "cell_type": "code",
   "execution_count": 12,
   "metadata": {},
   "outputs": [
    {
     "data": {
      "text/html": [
       "<div>\n",
       "<style scoped>\n",
       "    .dataframe tbody tr th:only-of-type {\n",
       "        vertical-align: middle;\n",
       "    }\n",
       "\n",
       "    .dataframe tbody tr th {\n",
       "        vertical-align: top;\n",
       "    }\n",
       "\n",
       "    .dataframe thead th {\n",
       "        text-align: right;\n",
       "    }\n",
       "</style>\n",
       "<table border=\"1\" class=\"dataframe\">\n",
       "  <thead>\n",
       "    <tr style=\"text-align: right;\">\n",
       "      <th></th>\n",
       "      <th>time</th>\n",
       "      <th>event_type</th>\n",
       "      <th>order_id</th>\n",
       "      <th>size</th>\n",
       "      <th>price</th>\n",
       "      <th>direction</th>\n",
       "    </tr>\n",
       "  </thead>\n",
       "  <tbody>\n",
       "    <tr>\n",
       "      <th>0</th>\n",
       "      <td>34200.000113</td>\n",
       "      <td>4</td>\n",
       "      <td>24695958</td>\n",
       "      <td>134</td>\n",
       "      <td>987500</td>\n",
       "      <td>-1</td>\n",
       "    </tr>\n",
       "    <tr>\n",
       "      <th>1</th>\n",
       "      <td>34200.000113</td>\n",
       "      <td>4</td>\n",
       "      <td>25053166</td>\n",
       "      <td>200</td>\n",
       "      <td>987500</td>\n",
       "      <td>-1</td>\n",
       "    </tr>\n",
       "    <tr>\n",
       "      <th>6</th>\n",
       "      <td>34200.000269</td>\n",
       "      <td>4</td>\n",
       "      <td>24918322</td>\n",
       "      <td>100</td>\n",
       "      <td>987600</td>\n",
       "      <td>-1</td>\n",
       "    </tr>\n",
       "    <tr>\n",
       "      <th>11</th>\n",
       "      <td>34200.001950</td>\n",
       "      <td>4</td>\n",
       "      <td>25058290</td>\n",
       "      <td>900</td>\n",
       "      <td>987400</td>\n",
       "      <td>1</td>\n",
       "    </tr>\n",
       "    <tr>\n",
       "      <th>12</th>\n",
       "      <td>34200.002162</td>\n",
       "      <td>4</td>\n",
       "      <td>25069526</td>\n",
       "      <td>100</td>\n",
       "      <td>987500</td>\n",
       "      <td>-1</td>\n",
       "    </tr>\n",
       "    <tr>\n",
       "      <th>...</th>\n",
       "      <td>...</td>\n",
       "      <td>...</td>\n",
       "      <td>...</td>\n",
       "      <td>...</td>\n",
       "      <td>...</td>\n",
       "      <td>...</td>\n",
       "    </tr>\n",
       "    <tr>\n",
       "      <th>2244813</th>\n",
       "      <td>57599.977329</td>\n",
       "      <td>4</td>\n",
       "      <td>770728458</td>\n",
       "      <td>64</td>\n",
       "      <td>979600</td>\n",
       "      <td>-1</td>\n",
       "    </tr>\n",
       "    <tr>\n",
       "      <th>2244814</th>\n",
       "      <td>57599.977329</td>\n",
       "      <td>4</td>\n",
       "      <td>770728690</td>\n",
       "      <td>100</td>\n",
       "      <td>979600</td>\n",
       "      <td>-1</td>\n",
       "    </tr>\n",
       "    <tr>\n",
       "      <th>2244824</th>\n",
       "      <td>57599.983670</td>\n",
       "      <td>4</td>\n",
       "      <td>770710794</td>\n",
       "      <td>100</td>\n",
       "      <td>979500</td>\n",
       "      <td>1</td>\n",
       "    </tr>\n",
       "    <tr>\n",
       "      <th>2244827</th>\n",
       "      <td>57599.992375</td>\n",
       "      <td>4</td>\n",
       "      <td>770728854</td>\n",
       "      <td>100</td>\n",
       "      <td>979600</td>\n",
       "      <td>-1</td>\n",
       "    </tr>\n",
       "    <tr>\n",
       "      <th>2244829</th>\n",
       "      <td>57599.992420</td>\n",
       "      <td>4</td>\n",
       "      <td>770732170</td>\n",
       "      <td>100</td>\n",
       "      <td>979600</td>\n",
       "      <td>-1</td>\n",
       "    </tr>\n",
       "  </tbody>\n",
       "</table>\n",
       "<p>35136 rows × 6 columns</p>\n",
       "</div>"
      ],
      "text/plain": [
       "                 time  event_type   order_id  size   price  direction\n",
       "0        34200.000113           4   24695958   134  987500         -1\n",
       "1        34200.000113           4   25053166   200  987500         -1\n",
       "6        34200.000269           4   24918322   100  987600         -1\n",
       "11       34200.001950           4   25058290   900  987400          1\n",
       "12       34200.002162           4   25069526   100  987500         -1\n",
       "...               ...         ...        ...   ...     ...        ...\n",
       "2244813  57599.977329           4  770728458    64  979600         -1\n",
       "2244814  57599.977329           4  770728690   100  979600         -1\n",
       "2244824  57599.983670           4  770710794   100  979500          1\n",
       "2244827  57599.992375           4  770728854   100  979600         -1\n",
       "2244829  57599.992420           4  770732170   100  979600         -1\n",
       "\n",
       "[35136 rows x 6 columns]"
      ]
     },
     "execution_count": 12,
     "metadata": {},
     "output_type": "execute_result"
    }
   ],
   "source": [
    "df.loc[df.event_type == 4]"
   ]
  },
  {
   "cell_type": "code",
   "execution_count": 11,
   "metadata": {},
   "outputs": [
    {
     "data": {
      "text/plain": [
       "1    1112809\n",
       "2      23634\n",
       "3    1065642\n",
       "4      35136\n",
       "5       7619\n",
       "6          1\n",
       "Name: event_type, dtype: int64"
      ]
     },
     "execution_count": 11,
     "metadata": {},
     "output_type": "execute_result"
    }
   ],
   "source": [
    "df.event_type.value_counts().sort_index()"
   ]
  },
  {
   "cell_type": "code",
   "execution_count": 13,
   "metadata": {},
   "outputs": [
    {
     "data": {
      "text/html": [
       "<div>\n",
       "<style scoped>\n",
       "    .dataframe tbody tr th:only-of-type {\n",
       "        vertical-align: middle;\n",
       "    }\n",
       "\n",
       "    .dataframe tbody tr th {\n",
       "        vertical-align: top;\n",
       "    }\n",
       "\n",
       "    .dataframe thead th {\n",
       "        text-align: right;\n",
       "    }\n",
       "</style>\n",
       "<table border=\"1\" class=\"dataframe\">\n",
       "  <thead>\n",
       "    <tr style=\"text-align: right;\">\n",
       "      <th></th>\n",
       "      <th>time</th>\n",
       "      <th>event_type</th>\n",
       "      <th>order_id</th>\n",
       "      <th>size</th>\n",
       "      <th>price</th>\n",
       "      <th>direction</th>\n",
       "    </tr>\n",
       "  </thead>\n",
       "  <tbody>\n",
       "    <tr>\n",
       "      <th>0</th>\n",
       "      <td>34200.000113</td>\n",
       "      <td>4</td>\n",
       "      <td>24695958</td>\n",
       "      <td>134</td>\n",
       "      <td>987500</td>\n",
       "      <td>-1</td>\n",
       "    </tr>\n",
       "  </tbody>\n",
       "</table>\n",
       "</div>"
      ],
      "text/plain": [
       "           time  event_type  order_id  size   price  direction\n",
       "0  34200.000113           4  24695958   134  987500         -1"
      ]
     },
     "execution_count": 13,
     "metadata": {},
     "output_type": "execute_result"
    }
   ],
   "source": [
    "df.loc[df.order_id == 24695958]"
   ]
  },
  {
   "cell_type": "code",
   "execution_count": 25,
   "metadata": {},
   "outputs": [
    {
     "data": {
      "text/plain": [
       "<AxesSubplot:ylabel='Frequency'>"
      ]
     },
     "execution_count": 25,
     "metadata": {},
     "output_type": "execute_result"
    },
    {
     "data": {
      "image/png": "[encoded data removed]",
      "text/plain": [
       "<Figure size 432x288 with 1 Axes>"
      ]
     },
     "metadata": {
      "needs_background": "light"
     },
     "output_type": "display_data"
    }
   ],
   "source": [
    "delta_t = df.time.diff()\n",
    "delta_t.loc[delta_t < 0.001].plot(kind='hist', bins=100)"
   ]
  },
  {
   "cell_type": "code",
   "execution_count": null,
   "metadata": {},
   "outputs": [],
   "source": []
  },
  {
   "cell_type": "code",
   "execution_count": 31,
   "metadata": {},
   "outputs": [
    {
     "name": "stderr",
     "output_type": "stream",
     "text": [
      "/nfs/home/peern/rlenv/lib/python3.8/site-packages/pandas/core/arraylike.py:364: RuntimeWarning: divide by zero encountered in log\n",
      "  result = getattr(ufunc, method)(*inputs, **kwargs)\n"
     ]
    }
   ],
   "source": []
  },
  {
   "cell_type": "code",
   "execution_count": 34,
   "metadata": {},
   "outputs": [
    {
     "data": {
      "text/plain": [
       "<AxesSubplot:ylabel='Frequency'>"
      ]
     },
     "execution_count": 34,
     "metadata": {},
     "output_type": "execute_result"
    },
    {
     "data": {
      "image/png": "[encoded data removed]",
      "text/plain": [
       "<Figure size 432x288 with 1 Axes>"
      ]
     },
     "metadata": {
      "needs_background": "light"
     },
     "output_type": "display_data"
    }
   ],
   "source": [
    "ln_delta_t.replace({-np.inf: np.nan, np.inf: np.nan}).dropna().plot(kind='hist', )"
   ]
  },
  {
   "cell_type": "code",
   "execution_count": 22,
   "metadata": {},
   "outputs": [
    {
     "data": {
      "text/plain": [
       "5.211952222157259"
      ]
     },
     "execution_count": 22,
     "metadata": {},
     "output_type": "execute_result"
    }
   ],
   "source": [
    "# here roughly 100 messages / s\n",
    "delta_t.mean() * 500"
   ]
  },
  {
   "cell_type": "code",
   "execution_count": 74,
   "metadata": {},
   "outputs": [
    {
     "name": "stderr",
     "output_type": "stream",
     "text": [
      "/nfs/home/peern/rlenv/lib/python3.8/site-packages/pandas/core/arraylike.py:364: RuntimeWarning: divide by zero encountered in log\n",
      "  result = getattr(ufunc, method)(*inputs, **kwargs)\n"
     ]
    },
    {
     "data": {
      "text/plain": [
       "0.05   -13.926441\n",
       "0.10   -12.170320\n",
       "0.15   -11.276037\n",
       "0.20   -10.712674\n",
       "0.25   -10.404561\n",
       "0.30   -10.118266\n",
       "0.35    -9.791803\n",
       "0.40    -9.391831\n",
       "0.45    -8.957692\n",
       "0.50    -8.489133\n",
       "0.55    -8.103945\n",
       "0.60    -7.686760\n",
       "0.65    -7.244021\n",
       "0.70    -6.740778\n",
       "0.75    -6.157291\n",
       "0.80    -5.361655\n",
       "0.85    -4.536646\n",
       "0.90    -3.649945\n",
       "0.95    -2.766827\n",
       "Name: time, dtype: float64"
      ]
     },
     "execution_count": 74,
     "metadata": {},
     "output_type": "execute_result"
    }
   ],
   "source": [
    "# TODO: fix quantiles based on (subset of) training data\n",
    "\n",
    "n_time_bins = 20  # one reserved for delta_t = 0\n",
    "# quantiles of interest (remove 0 and 100)\n",
    "q = np.linspace(0., 1., n_time_bins -1 +2)[1:-1]\n",
    "\n",
    "delta_t = df.time.diff()\n",
    "ln_delta_t = np.log(delta_t)\n",
    "ln_delta_t.quantile(q=q)"
   ]
  },
  {
   "cell_type": "code",
   "execution_count": 49,
   "metadata": {},
   "outputs": [
    {
     "data": {
      "text/plain": [
       "array([0.  , 0.05, 0.1 , 0.15, 0.2 , 0.25, 0.3 , 0.35, 0.4 , 0.45, 0.5 ,\n",
       "       0.55, 0.6 , 0.65, 0.7 , 0.75, 0.8 , 0.85, 0.9 , 0.95, 1.  ])"
      ]
     },
     "execution_count": 49,
     "metadata": {},
     "output_type": "execute_result"
    }
   ],
   "source": [
    "q = np.linspace(0., 1., n_time_bins -1 +2)\n",
    "q"
   ]
  },
  {
   "cell_type": "code",
   "execution_count": 60,
   "metadata": {},
   "outputs": [
    {
     "data": {
      "text/plain": [
       "1         -inf\n",
       "2         -inf\n",
       "6         -inf\n",
       "18        -inf\n",
       "73        -inf\n",
       "          ... \n",
       "2244821   -inf\n",
       "2244830   -inf\n",
       "2244831   -inf\n",
       "2244832   -inf\n",
       "2244836   -inf\n",
       "Name: time, Length: 77298, dtype: float64"
      ]
     },
     "execution_count": 60,
     "metadata": {},
     "output_type": "execute_result"
    }
   ],
   "source": [
    "ln_delta_t.loc[ln_delta_t == -np.inf]"
   ]
  },
  {
   "cell_type": "code",
   "execution_count": 73,
   "metadata": {},
   "outputs": [
    {
     "data": {
      "text/plain": [
       "1           0.000000\n",
       "2           0.000000\n",
       "3         -10.757884\n",
       "4         -10.451704\n",
       "5          -9.157283\n",
       "             ...    \n",
       "2244836     0.000000\n",
       "2244837   -10.284748\n",
       "2244838    -7.409360\n",
       "2244839    -7.890701\n",
       "2244840    -8.314914\n",
       "Name: time, Length: 2244840, dtype: float64"
      ]
     },
     "execution_count": 73,
     "metadata": {},
     "output_type": "execute_result"
    }
   ],
   "source": [
    "ln_delta_t.loc[ln_delta_t > -np.inf]"
   ]
  },
  {
   "cell_type": "code",
   "execution_count": 76,
   "metadata": {},
   "outputs": [
    {
     "data": {
      "text/plain": [
       "0                NaN\n",
       "1           0.000000\n",
       "2           0.000000\n",
       "3         -10.757884\n",
       "4         -10.451704\n",
       "             ...    \n",
       "2244836     0.000000\n",
       "2244837   -10.284748\n",
       "2244838    -7.409360\n",
       "2244839    -7.890701\n",
       "2244840    -8.314914\n",
       "Name: time, Length: 2244841, dtype: float64"
      ]
     },
     "execution_count": 76,
     "metadata": {},
     "output_type": "execute_result"
    }
   ],
   "source": [
    "t_groups"
   ]
  },
  {
   "cell_type": "code",
   "execution_count": 80,
   "metadata": {},
   "outputs": [
    {
     "data": {
      "text/plain": [
       "(3           4\n",
       " 4           5\n",
       " 5           8\n",
       " 7           3\n",
       " 8          13\n",
       "            ..\n",
       " 2244835     5\n",
       " 2244837     5\n",
       " 2244838    12\n",
       " 2244839    11\n",
       " 2244840    10\n",
       " Name: time, Length: 2167542, dtype: category\n",
       " Categories (19, int64): [1 < 2 < 3 < 4 ... 16 < 17 < 18 < 19],\n",
       " array([-15.91927773, -12.52627871, -11.47255184, -10.84018499,\n",
       "        -10.47130691, -10.20205524,  -9.8453696 ,  -9.48340974,\n",
       "         -9.02508977,  -8.56436341,  -8.15728677,  -7.74470355,\n",
       "         -7.29653398,  -6.79604209,  -6.20015933,  -5.42619643,\n",
       "         -4.57783117,  -3.67781311,  -2.78216138,   1.05717846]))"
      ]
     },
     "execution_count": 80,
     "metadata": {},
     "output_type": "execute_result"
    }
   ],
   "source": [
    "pd.qcut(\n",
    "    ln_delta_t.loc[ln_delta_t > -np.inf],\n",
    "    19,\n",
    "    labels=range(1,20),\n",
    "    retbins=True)"
   ]
  },
  {
   "cell_type": "code",
   "execution_count": 82,
   "metadata": {},
   "outputs": [
    {
     "data": {
      "text/plain": [
       "3         -10.757884\n",
       "4         -10.451704\n",
       "5          -9.157283\n",
       "7         -11.343520\n",
       "8          -7.061728\n",
       "             ...    \n",
       "2244835   -10.330861\n",
       "2244837   -10.284748\n",
       "2244838    -7.409360\n",
       "2244839    -7.890701\n",
       "2244840    -8.314914\n",
       "Name: time, Length: 2167542, dtype: float64"
      ]
     },
     "execution_count": 82,
     "metadata": {},
     "output_type": "execute_result"
    }
   ],
   "source": [
    "t_groups.loc[ln_delta_t > -np.inf]"
   ]
  },
  {
   "cell_type": "code",
   "execution_count": 85,
   "metadata": {},
   "outputs": [
    {
     "data": {
      "text/plain": [
       "3           4.0\n",
       "4           5.0\n",
       "5           8.0\n",
       "7           3.0\n",
       "8          13.0\n",
       "           ... \n",
       "2244835     5.0\n",
       "2244837     5.0\n",
       "2244838    12.0\n",
       "2244839    11.0\n",
       "2244840    10.0\n",
       "Name: time, Length: 2167542, dtype: float64"
      ]
     },
     "execution_count": 85,
     "metadata": {},
     "output_type": "execute_result"
    }
   ],
   "source": [
    "cats.astype(float)"
   ]
  },
  {
   "cell_type": "code",
   "execution_count": 94,
   "metadata": {},
   "outputs": [],
   "source": [
    "t_groups = ln_delta_t.copy()\n",
    "# special category if delta t is 0 (orders come it at same time)\n",
    "t_groups.loc[ln_delta_t == -np.inf] = 0\n",
    "# quantize time differences (leaving out delta t = as separate category)\n",
    "cats, t_bins = pd.qcut(\n",
    "    ln_delta_t.loc[ln_delta_t > -np.inf],\n",
    "    19,\n",
    "    labels=range(1,20),\n",
    "    retbins=True)\n",
    "t_groups.loc[ln_delta_t > -np.inf] = cats.astype(float)\n",
    "\n",
    "# median Dt value per bin: use this value for decoding\n",
    "bin_medians = delta_t.groupby(t_groups).median()"
   ]
  },
  {
   "cell_type": "code",
   "execution_count": 133,
   "metadata": {},
   "outputs": [
    {
     "data": {
      "text/plain": [
       "array([-15.91927773, -12.52627871, -11.47255184, -10.84018499,\n",
       "       -10.47130691, -10.20205524,  -9.8453696 ,  -9.48340974,\n",
       "        -9.02508977,  -8.56436341,  -8.15728677,  -7.74470355,\n",
       "        -7.29653398,  -6.79604209,  -6.20015933,  -5.42619643,\n",
       "        -4.57783117,  -3.67781311,  -2.78216138,   1.05717846])"
      ]
     },
     "execution_count": 133,
     "metadata": {},
     "output_type": "execute_result"
    }
   ],
   "source": [
    "t_bins"
   ]
  },
  {
   "cell_type": "code",
   "execution_count": 131,
   "metadata": {},
   "outputs": [
    {
     "data": {
      "text/plain": [
       "1.0571784629189207"
      ]
     },
     "execution_count": 131,
     "metadata": {},
     "output_type": "execute_result"
    }
   ],
   "source": [
    "ln_delta_t.max()"
   ]
  },
  {
   "cell_type": "code",
   "execution_count": 147,
   "metadata": {},
   "outputs": [
    {
     "data": {
      "text/plain": [
       "array([1.21995981e-07, 3.62999708e-06, 1.04119972e-05, 1.95960019e-05,\n",
       "       2.83379995e-05, 3.70940033e-05, 5.29919998e-05, 7.61039992e-05,\n",
       "       1.20352001e-04, 1.90785002e-04, 2.86639058e-04, 4.33030000e-04,\n",
       "       6.77884266e-04, 1.11819211e-03, 2.02910732e-03, 4.39979895e-03,\n",
       "       1.02771615e-02, 2.52781949e-02, 6.19045636e-02, 2.87823846e+00])"
      ]
     },
     "execution_count": 147,
     "metadata": {},
     "output_type": "execute_result"
    }
   ],
   "source": [
    "np.exp(t_bins)"
   ]
  },
  {
   "cell_type": "code",
   "execution_count": 152,
   "metadata": {},
   "outputs": [
    {
     "data": {
      "text/plain": [
       "3           4\n",
       "4           5\n",
       "5           8\n",
       "7           3\n",
       "8          13\n",
       "           ..\n",
       "2244835     5\n",
       "2244837     5\n",
       "2244838    12\n",
       "2244839    11\n",
       "2244840    10\n",
       "Name: time, Length: 2167542, dtype: category\n",
       "Categories (19, int64): [1 < 2 < 3 < 4 ... 16 < 17 < 18 < 19]"
      ]
     },
     "execution_count": 152,
     "metadata": {},
     "output_type": "execute_result"
    }
   ],
   "source": [
    "pd.cut(delta_t.loc[delta_t > 0], bins=np.exp(t_bins), labels=range(1,20))\n"
   ]
  },
  {
   "cell_type": "code",
   "execution_count": 153,
   "metadata": {},
   "outputs": [
    {
     "data": {
      "text/plain": [
       "3           4\n",
       "4           5\n",
       "5           8\n",
       "7           3\n",
       "8          13\n",
       "           ..\n",
       "2244835     5\n",
       "2244837     5\n",
       "2244838    12\n",
       "2244839    11\n",
       "2244840    10\n",
       "Name: time, Length: 2167542, dtype: category\n",
       "Categories (19, int64): [1 < 2 < 3 < 4 ... 16 < 17 < 18 < 19]"
      ]
     },
     "execution_count": 153,
     "metadata": {},
     "output_type": "execute_result"
    }
   ],
   "source": [
    "pd.qcut(delta_t.loc[delta_t > 0],19,labels=range(1,20))"
   ]
  },
  {
   "cell_type": "code",
   "execution_count": 156,
   "metadata": {},
   "outputs": [
    {
     "data": {
      "text/plain": [
       "False"
      ]
     },
     "execution_count": 156,
     "metadata": {},
     "output_type": "execute_result"
    }
   ],
   "source": [
    "(pd.cut(delta_t.loc[delta_t > 0], bins=np.exp(t_bins), labels=range(1,20)) \n",
    "    ==pd.qcut(delta_t.loc[delta_t > 0],19,labels=range(1,20))).all()"
   ]
  },
  {
   "cell_type": "code",
   "execution_count": 159,
   "metadata": {},
   "outputs": [
    {
     "data": {
      "text/plain": [
       "3          0.000021\n",
       "4          0.000029\n",
       "5          0.000105\n",
       "7          0.000012\n",
       "8          0.000857\n",
       "             ...   \n",
       "2244835    0.000033\n",
       "2244837    0.000034\n",
       "2244838    0.000606\n",
       "2244839    0.000374\n",
       "2244840    0.000245\n",
       "Name: time, Length: 2167542, dtype: float64"
      ]
     },
     "execution_count": 159,
     "metadata": {},
     "output_type": "execute_result"
    }
   ],
   "source": [
    "delta_t.loc[delta_t > 0]"
   ]
  },
  {
   "cell_type": "code",
   "execution_count": 162,
   "metadata": {},
   "outputs": [],
   "source": [
    "_, bins = pd.qcut(delta_t.loc[delta_t > 0],19,labels=range(1,20), retbins=True)"
   ]
  },
  {
   "cell_type": "code",
   "execution_count": 166,
   "metadata": {},
   "outputs": [
    {
     "data": {
      "text/plain": [
       "3          True\n",
       "4          True\n",
       "5          True\n",
       "7          True\n",
       "8          True\n",
       "           ... \n",
       "2244835    True\n",
       "2244837    True\n",
       "2244838    True\n",
       "2244839    True\n",
       "2244840    True\n",
       "Name: time, Length: 2167542, dtype: bool"
      ]
     },
     "execution_count": 166,
     "metadata": {},
     "output_type": "execute_result"
    }
   ],
   "source": [
    "(pd.cut(delta_t.loc[delta_t > 0], bins=bins, labels=range(1,20)) \n",
    "    ==pd.qcut(delta_t.loc[delta_t > 0],19,labels=range(1,20)))"
   ]
  },
  {
   "cell_type": "code",
   "execution_count": 165,
   "metadata": {},
   "outputs": [
    {
     "data": {
      "text/plain": [
       "0.9999995386479247"
      ]
     },
     "execution_count": 165,
     "metadata": {},
     "output_type": "execute_result"
    }
   ],
   "source": [
    "2167541 / 2167542"
   ]
  },
  {
   "cell_type": "code",
   "execution_count": 41,
   "metadata": {},
   "outputs": [
    {
     "data": {
      "text/plain": [
       "0.05   -13.926441\n",
       "0.10   -12.170320\n",
       "0.15   -11.276037\n",
       "0.20   -10.712674\n",
       "0.25   -10.404561\n",
       "0.30   -10.118266\n",
       "0.35    -9.791803\n",
       "0.40    -9.391831\n",
       "0.45    -8.957692\n",
       "0.50    -8.489133\n",
       "0.55    -8.103945\n",
       "0.60    -7.686760\n",
       "0.65    -7.244021\n",
       "0.70    -6.740778\n",
       "0.75    -6.157291\n",
       "0.80    -5.361655\n",
       "0.85    -4.536646\n",
       "0.90    -3.649945\n",
       "0.95    -2.766827\n",
       "Name: time, dtype: float64"
      ]
     },
     "execution_count": 41,
     "metadata": {},
     "output_type": "execute_result"
    }
   ],
   "source": [
    "ln_delta_t.quantile(q=np.arange(5,100,5) / 100)"
   ]
  },
  {
   "cell_type": "code",
   "execution_count": 92,
   "metadata": {},
   "outputs": [
    {
     "data": {
      "text/plain": [
       "time\n",
       "0.0     0.000000\n",
       "1.0     0.000001\n",
       "2.0     0.000007\n",
       "3.0     0.000014\n",
       "4.0     0.000025\n",
       "5.0     0.000033\n",
       "6.0     0.000045\n",
       "7.0     0.000062\n",
       "8.0     0.000096\n",
       "9.0     0.000149\n",
       "10.0    0.000236\n",
       "11.0    0.000349\n",
       "12.0    0.000536\n",
       "13.0    0.000868\n",
       "14.0    0.001517\n",
       "15.0    0.002828\n",
       "16.0    0.007005\n",
       "17.0    0.016259\n",
       "18.0    0.039170\n",
       "19.0    0.103118\n",
       "Name: time, dtype: float64"
      ]
     },
     "execution_count": 92,
     "metadata": {},
     "output_type": "execute_result"
    }
   ],
   "source": [
    "delta_t.groupby(t_groups).median()"
   ]
  },
  {
   "cell_type": "code",
   "execution_count": null,
   "metadata": {},
   "outputs": [],
   "source": []
  }
 ],
 "metadata": {
  "kernelspec": {
   "display_name": "rlenv",
   "language": "python",
   "name": "python3"
  },
  "language_info": {
   "codemirror_mode": {
    "name": "ipython",
    "version": 3
   },
   "file_extension": ".py",
   "mimetype": "text/x-python",
   "name": "python",
   "nbconvert_exporter": "python",
   "pygments_lexer": "ipython3",
   "version": "3.8.10"
  },
  "orig_nbformat": 4
 },
 "nbformat": 4,
 "nbformat_minor": 2
}
