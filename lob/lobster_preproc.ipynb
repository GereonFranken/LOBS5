{
 "cells": [
  {
   "cell_type": "code",
   "execution_count": 2,
   "metadata": {},
   "outputs": [
    {
     "name": "stderr",
     "output_type": "stream",
     "text": [
      "2023-03-15 08:35:39.609892: W external/org_tensorflow/tensorflow/tsl/platform/default/dso_loader.cc:67] Could not load dynamic library 'libcudart.so.11.0'; dlerror: libcudart.so.11.0: cannot open shared object file: No such file or directory; LD_LIBRARY_PATH: /usr/local/cuda-11.2/lib64:\n",
      "2023-03-15 08:35:39.652389: W external/org_tensorflow/tensorflow/tsl/platform/default/dso_loader.cc:67] Could not load dynamic library 'libcudart.so.11.0'; dlerror: libcudart.so.11.0: cannot open shared object file: No such file or directory; LD_LIBRARY_PATH: /usr/local/cuda-11.2/lib64:\n",
      "2023-03-15 08:35:39.654439: W external/org_tensorflow/tensorflow/tsl/platform/default/dso_loader.cc:67] Could not load dynamic library 'libcudart.so.11.0'; dlerror: libcudart.so.11.0: cannot open shared object file: No such file or directory; LD_LIBRARY_PATH: /usr/local/cuda-11.2/lib64:\n"
     ]
    }
   ],
   "source": [
    "import numpy as np\n",
    "import jax.numpy as jnp\n",
    "import pandas as pd\n",
    "from glob import glob\n",
    "from functools import partial\n",
    "from types import SimpleNamespace\n",
    "import functools\n",
    "from sklearn.preprocessing import OrdinalEncoder, OneHotEncoder\n",
    "from typing import Union\n",
    "\n",
    "from lob_seq_model import LobPredModel"
   ]
  },
  {
   "cell_type": "code",
   "execution_count": 3,
   "metadata": {},
   "outputs": [],
   "source": [
    "%load_ext autoreload\n",
    "%autoreload 2"
   ]
  },
  {
   "cell_type": "code",
   "execution_count": 4,
   "metadata": {},
   "outputs": [],
   "source": [
    "data_dir = '/nfs/home/peern/LOBS5/data/raw/'\n",
    "save_dir = '/nfs/home/peern/LOBS5/data/'"
   ]
  },
  {
   "cell_type": "code",
   "execution_count": 5,
   "metadata": {},
   "outputs": [],
   "source": [
    "message_files = sorted(glob(data_dir + '*message*.csv'))\n",
    "book_files = sorted(glob(data_dir + '*orderbook*.csv'))"
   ]
  },
  {
   "cell_type": "code",
   "execution_count": 6,
   "metadata": {},
   "outputs": [
    {
     "name": "stderr",
     "output_type": "stream",
     "text": [
      "/nfs/home/peern/rlenv/lib/python3.8/site-packages/IPython/core/interactiveshell.py:3553: DtypeWarning: Columns (6) have mixed types.Specify dtype option on import or set low_memory=False.\n",
      "  exec(code_obj, self.user_global_ns, self.user_ns)\n",
      "/nfs/home/peern/rlenv/lib/python3.8/site-packages/pandas/util/_decorators.py:311: ParserWarning: Length of header or names does not match length of data. This leads to a loss of data with index_col=False.\n",
      "  return func(*args, **kwargs)\n"
     ]
    }
   ],
   "source": [
    "m = pd.read_csv(\n",
    "    message_files[0],\n",
    "    names=['time', 'event_type', 'order_id', 'size', 'price', 'direction'],\n",
    "    index_col=False)\n",
    "\n",
    "b = pd.read_csv(\n",
    "    book_files[0],\n",
    "    index_col=False,\n",
    "    header=None\n",
    ")"
   ]
  },
  {
   "cell_type": "code",
   "execution_count": 7,
   "metadata": {},
   "outputs": [],
   "source": [
    "from bisect import bisect_left\n",
    "\n",
    "def take_closest(myList, myNumber):\n",
    "    \"\"\"\n",
    "    Assumes myList is sorted. Returns closest value to myNumber.\n",
    "\n",
    "    If two numbers are equally close, return the smallest number.\n",
    "    \"\"\"\n",
    "    pos = bisect_left(myList, myNumber)\n",
    "    if pos == 0:\n",
    "        return myList[0]\n",
    "    if pos == len(myList):\n",
    "        return myList[-1]\n",
    "    before = myList[pos - 1]\n",
    "    after = myList[pos]\n",
    "    if after - myNumber < myNumber - before:\n",
    "        return after\n",
    "    else:\n",
    "        return before\n",
    "    \n",
    "def relabel_series(s, allowed_labels=None):\n",
    "    if allowed_labels is None:\n",
    "        allowed_labels = sorted(s.unique())\n",
    "    label_map = {orig: i for i, orig in enumerate(allowed_labels)}\n",
    "    return s.replace(label_map)\n",
    "\n",
    "def _preproc_prices(p, bb, p_lower_trunc=-1000, p_upper_trunc=1300):\n",
    "    \"\"\" Takes prices series and best bid, encoding prices relative to best bid.\n",
    "        Returns scaled price series\n",
    "    \"\"\"\n",
    "    # encode prices relative to (previous) best bid\n",
    "    p = p - bb\n",
    "    # truncate price at deviation of 1000\n",
    "    # min tick is 100, hence min 10-level diff is 900\n",
    "    # <= 1000 covers ~99.54% on bid side, ~99.1% on ask size (GOOG)\n",
    "    pct_changed = 100 * len(p.loc[p > p_upper_trunc]) / len(p)\n",
    "    print(f\"truncating {pct_changed:.4f}% of prices > {p_upper_trunc}\")\n",
    "    p.loc[p > p_upper_trunc] = p_upper_trunc\n",
    "    pct_changed = 100 * len(p.loc[p < p_lower_trunc]) / len(p)\n",
    "    print(f\"truncating {pct_changed:.4f}% of prices < {p_lower_trunc}\")\n",
    "    p.loc[p < p_lower_trunc] = p_lower_trunc\n",
    "    # scale prices to min ticks size differences\n",
    "    p /= 100\n",
    "    return p\n",
    "\n",
    "# TODO: write function which calculates bins on selection of training data\n",
    "#       and writes thresholds and medians to config file for future processing\n",
    "\n",
    "def quantize_time(time, n_categories, t_bins=None):\n",
    "    \"\"\" quantize Dt based on quantiles\n",
    "        Dt = 0 is set as one fixed category using code 0\n",
    "    \"\"\"\n",
    "    if t_bins is not None:\n",
    "        assert len(t_bins) == n_categories-2 or n_categories is None\n",
    "\n",
    "    delta_t = time.diff()\n",
    "    # log transformation actually not necessary if binned by quantiles\n",
    "    # but useful for other binning methods (e.g. equal bin size)\n",
    "    #ln_delta_t = np.log(delta_t)\n",
    "    t_groups = delta_t.copy()\n",
    "    # special category if delta t is 0 (orders come it at same time)\n",
    "    t_groups.loc[delta_t == 0] = 0\n",
    "    # quantize time differences (leaving out delta t = as separate category)\n",
    "    # using data quantiles\n",
    "    if t_bins is None:\n",
    "        cats, t_bins = pd.qcut(\n",
    "            delta_t.loc[delta_t > 0],\n",
    "            n_categories-1,\n",
    "            labels=range(1, n_categories),\n",
    "            retbins=True)\n",
    "    # use given bin thresholds (e.g from fixed training data)\n",
    "    else:\n",
    "        cats = pd.cut(delta_t.loc[delta_t > 0], bins=t_bins, labels=range(1, n_categories))\n",
    "\n",
    "    t_groups.loc[delta_t > 0] = cats.astype(float)\n",
    "    # median Dt value per bin: can use this value for decoding\n",
    "    bin_medians = delta_t.groupby(t_groups).median()\n",
    "    return t_groups, t_bins, bin_medians\n",
    "\n",
    "def pre_proc_lobster(\n",
    "        m,\n",
    "        b,\n",
    "        n_time_bins=20,\n",
    "        t_bins=None,\n",
    "        size_bins=None,\n",
    "        p_lower_trunc=-1000,\n",
    "        p_upper_trunc=1300,\n",
    "        allowed_event_types=[1,2,3,4],\n",
    "        one_hot_enc=True\n",
    "    ):\n",
    "    # filter out only allowed event types ...\n",
    "    m = m.loc[m.event_type.isin(allowed_event_types)].copy()\n",
    "    # ... and corresponding book changes\n",
    "    b = b.loc[m.index]\n",
    "    \n",
    "    # group sizes by given bins\n",
    "    if size_bins is not None:\n",
    "        _take_closest = functools.partial(take_closest, size_bins)\n",
    "        m['size'] = m['size'].apply(_take_closest)\n",
    "\n",
    "    # round prices to given decimal (-1 for 10 ticks)\n",
    "    #m['price'] = np.around(m['price'], price_round_to)\n",
    "\n",
    "    # (previous) best bid\n",
    "    bb = book.iloc[:, 2].shift()\n",
    "    m['price'] = _preproc_prices(m['price'], bb, p_lower_trunc, p_upper_trunc)\n",
    "\n",
    "    # TODO: save t_bins, bin_medians\n",
    "    # quantize time deltas\n",
    "    m['dt'], t_bins, bin_medians = quantize_time(m.time, n_time_bins, t_bins=t_bins)\n",
    "    # scale time of day using min/max (0,1)\n",
    "    opening_s = 9.5 * 3600  # NASDAQ opens 9:30\n",
    "    closing_s = 16 * 3600   # and closes at 16:00\n",
    "    df['time'] = (df['time'] - opening_s) / (closing_s - opening_s)\n",
    "\n",
    "    # remove first row\n",
    "    m = m.iloc[1:]\n",
    "    b = b.iloc[1:]\n",
    "\n",
    "    # encode features\n",
    "    #m['event_type'], _ = encode_feature(m['event_type'], allowed_event_types, one_hot=one_hot_enc)\n",
    "    #m['direction'], _ = encode_feature(m['size'], [-1, 1], one_hot=one_hot_enc)\n",
    "    #m['size'], _ = encode_feature(m['size'], sorted(m['size'].unique()), one_hot=one_hot_enc)\n",
    "    #m['price'], _ = encode_feature(m['price'], sorted(m['price'].unique()), one_hot=one_hot_enc)\n",
    "    m['time'] = m['time']  #\n",
    "    m['event_type'] = relabel_series(m['event_type'], allowed_event_types)\n",
    "    m['direction'] = relabel_series(m['direction'], [-1, 1])\n",
    "    m['size'] = relabel_series(m['size'])\n",
    "    m['price'] = relabel_series(m['price'])\n",
    "\n",
    "    return m, b\n",
    "\n",
    "_='''\n",
    "def _encode_feature(\n",
    "        s: pd.Series, \n",
    "        categories: Union[str, list] = 'auto',\n",
    "        one_hot: bool = True  # one_hot or ordinal\n",
    "    ):\n",
    "    if one_hot:\n",
    "        enc = OneHotEncoder(categories=[categories])\n",
    "    else:\n",
    "        enc = OrdinalEncoder(categories=[categories])\n",
    "    s = s.values.reshape((-1,1))\n",
    "    enc = enc.fit(s)\n",
    "    return enc.transform(s), enc\n",
    "'''"
   ]
  },
  {
   "cell_type": "code",
   "execution_count": 283,
   "metadata": {},
   "outputs": [
    {
     "name": "stdout",
     "output_type": "stream",
     "text": [
      "/nfs/home/peern/LOBS5/data/raw/GOOG_2023-01-30_34200000_57600000_message_10.csv\n"
     ]
    },
    {
     "name": "stderr",
     "output_type": "stream",
     "text": [
      "/nfs/home/peern/rlenv/lib/python3.8/site-packages/IPython/core/interactiveshell.py:3553: DtypeWarning: Columns (6) have mixed types.Specify dtype option on import or set low_memory=False.\n",
      "  exec(code_obj, self.user_global_ns, self.user_ns)\n",
      "/nfs/home/peern/rlenv/lib/python3.8/site-packages/pandas/util/_decorators.py:311: ParserWarning: Length of header or names does not match length of data. This leads to a loss of data with index_col=False.\n",
      "  return func(*args, **kwargs)\n"
     ]
    },
    {
     "name": "stdout",
     "output_type": "stream",
     "text": [
      "truncating 0.0043% of prices > 1300\n",
      "truncating 0.0038% of prices < -1000\n",
      "/nfs/home/peern/LOBS5/data/raw/GOOG_2023-01-31_34200000_57600000_message_10.csv\n",
      "truncating 0.0046% of prices > 1300\n",
      "truncating 0.0013% of prices < -1000\n"
     ]
    }
   ],
   "source": [
    "size_bins = list(range(1,50,1))\n",
    "size_bins.extend(list(range(50,100,5)))\n",
    "size_bins.extend(list(range(100,501,100)))\n",
    "\n",
    "assert len(message_files) == len(book_files)\n",
    "for m_f, b_f in zip(message_files, book_files):\n",
    "    print(m_f)\n",
    "    messages = pd.read_csv(\n",
    "        m_f,\n",
    "        names=['time', 'event_type', 'order_id', 'size', 'price', 'direction'],\n",
    "        index_col=False)\n",
    "\n",
    "    book = pd.read_csv(\n",
    "        b_f,\n",
    "        index_col=False,\n",
    "        header=None\n",
    "    )\n",
    "\n",
    "    m_, b_ = pre_proc_lobster(messages, book, size_bins, allowed_event_types=[1,4])\n",
    "\n",
    "    # save processed message and book\n",
    "    m_path = save_dir + m_f.rsplit('/', maxsplit=1)[-1][:-4] + '_proc.csv'\n",
    "    b_path = save_dir + b_f.rsplit('/', maxsplit=1)[-1][:-4] + '_proc.csv'\n",
    "    m_.to_csv(m_path, index=False, header=False)\n",
    "    b_.to_csv(b_path, index=False, header=False)"
   ]
  },
  {
   "cell_type": "code",
   "execution_count": 7,
   "metadata": {},
   "outputs": [
    {
     "data": {
      "text/html": [
       "<div>\n",
       "<style scoped>\n",
       "    .dataframe tbody tr th:only-of-type {\n",
       "        vertical-align: middle;\n",
       "    }\n",
       "\n",
       "    .dataframe tbody tr th {\n",
       "        vertical-align: top;\n",
       "    }\n",
       "\n",
       "    .dataframe thead th {\n",
       "        text-align: right;\n",
       "    }\n",
       "</style>\n",
       "<table border=\"1\" class=\"dataframe\">\n",
       "  <thead>\n",
       "    <tr style=\"text-align: right;\">\n",
       "      <th></th>\n",
       "      <th>time</th>\n",
       "      <th>event_type</th>\n",
       "      <th>order_id</th>\n",
       "      <th>size</th>\n",
       "      <th>price</th>\n",
       "      <th>direction</th>\n",
       "    </tr>\n",
       "  </thead>\n",
       "  <tbody>\n",
       "    <tr>\n",
       "      <th>0</th>\n",
       "      <td>34200.000113</td>\n",
       "      <td>4</td>\n",
       "      <td>24695958</td>\n",
       "      <td>134</td>\n",
       "      <td>987500</td>\n",
       "      <td>-1</td>\n",
       "    </tr>\n",
       "    <tr>\n",
       "      <th>1</th>\n",
       "      <td>34200.000113</td>\n",
       "      <td>4</td>\n",
       "      <td>25053166</td>\n",
       "      <td>200</td>\n",
       "      <td>987500</td>\n",
       "      <td>-1</td>\n",
       "    </tr>\n",
       "    <tr>\n",
       "      <th>2</th>\n",
       "      <td>34200.000113</td>\n",
       "      <td>5</td>\n",
       "      <td>0</td>\n",
       "      <td>200</td>\n",
       "      <td>987500</td>\n",
       "      <td>1</td>\n",
       "    </tr>\n",
       "    <tr>\n",
       "      <th>3</th>\n",
       "      <td>34200.000135</td>\n",
       "      <td>5</td>\n",
       "      <td>0</td>\n",
       "      <td>600</td>\n",
       "      <td>987500</td>\n",
       "      <td>1</td>\n",
       "    </tr>\n",
       "    <tr>\n",
       "      <th>4</th>\n",
       "      <td>34200.000163</td>\n",
       "      <td>5</td>\n",
       "      <td>0</td>\n",
       "      <td>100</td>\n",
       "      <td>987500</td>\n",
       "      <td>1</td>\n",
       "    </tr>\n",
       "    <tr>\n",
       "      <th>...</th>\n",
       "      <td>...</td>\n",
       "      <td>...</td>\n",
       "      <td>...</td>\n",
       "      <td>...</td>\n",
       "      <td>...</td>\n",
       "      <td>...</td>\n",
       "    </tr>\n",
       "    <tr>\n",
       "      <th>2244836</th>\n",
       "      <td>57599.996507</td>\n",
       "      <td>1</td>\n",
       "      <td>770732874</td>\n",
       "      <td>1385</td>\n",
       "      <td>979600</td>\n",
       "      <td>1</td>\n",
       "    </tr>\n",
       "    <tr>\n",
       "      <th>2244837</th>\n",
       "      <td>57599.996541</td>\n",
       "      <td>1</td>\n",
       "      <td>770732886</td>\n",
       "      <td>1</td>\n",
       "      <td>979600</td>\n",
       "      <td>1</td>\n",
       "    </tr>\n",
       "    <tr>\n",
       "      <th>2244838</th>\n",
       "      <td>57599.997147</td>\n",
       "      <td>1</td>\n",
       "      <td>770733066</td>\n",
       "      <td>3500</td>\n",
       "      <td>978700</td>\n",
       "      <td>1</td>\n",
       "    </tr>\n",
       "    <tr>\n",
       "      <th>2244839</th>\n",
       "      <td>57599.997521</td>\n",
       "      <td>3</td>\n",
       "      <td>770732874</td>\n",
       "      <td>1385</td>\n",
       "      <td>979600</td>\n",
       "      <td>1</td>\n",
       "    </tr>\n",
       "    <tr>\n",
       "      <th>2244840</th>\n",
       "      <td>57599.997766</td>\n",
       "      <td>3</td>\n",
       "      <td>770730074</td>\n",
       "      <td>100</td>\n",
       "      <td>979800</td>\n",
       "      <td>-1</td>\n",
       "    </tr>\n",
       "  </tbody>\n",
       "</table>\n",
       "<p>2244841 rows × 6 columns</p>\n",
       "</div>"
      ],
      "text/plain": [
       "                 time  event_type   order_id  size   price  direction\n",
       "0        34200.000113           4   24695958   134  987500         -1\n",
       "1        34200.000113           4   25053166   200  987500         -1\n",
       "2        34200.000113           5          0   200  987500          1\n",
       "3        34200.000135           5          0   600  987500          1\n",
       "4        34200.000163           5          0   100  987500          1\n",
       "...               ...         ...        ...   ...     ...        ...\n",
       "2244836  57599.996507           1  770732874  1385  979600          1\n",
       "2244837  57599.996541           1  770732886     1  979600          1\n",
       "2244838  57599.997147           1  770733066  3500  978700          1\n",
       "2244839  57599.997521           3  770732874  1385  979600          1\n",
       "2244840  57599.997766           3  770730074   100  979800         -1\n",
       "\n",
       "[2244841 rows x 6 columns]"
      ]
     },
     "execution_count": 7,
     "metadata": {},
     "output_type": "execute_result"
    }
   ],
   "source": [
    "m"
   ]
  },
  {
   "cell_type": "code",
   "execution_count": 8,
   "metadata": {},
   "outputs": [
    {
     "data": {
      "text/html": [
       "<div>\n",
       "<style scoped>\n",
       "    .dataframe tbody tr th:only-of-type {\n",
       "        vertical-align: middle;\n",
       "    }\n",
       "\n",
       "    .dataframe tbody tr th {\n",
       "        vertical-align: top;\n",
       "    }\n",
       "\n",
       "    .dataframe thead th {\n",
       "        text-align: right;\n",
       "    }\n",
       "</style>\n",
       "<table border=\"1\" class=\"dataframe\">\n",
       "  <thead>\n",
       "    <tr style=\"text-align: right;\">\n",
       "      <th></th>\n",
       "      <th>0</th>\n",
       "      <th>1</th>\n",
       "      <th>2</th>\n",
       "      <th>3</th>\n",
       "      <th>4</th>\n",
       "      <th>5</th>\n",
       "      <th>6</th>\n",
       "      <th>7</th>\n",
       "      <th>8</th>\n",
       "      <th>9</th>\n",
       "      <th>...</th>\n",
       "      <th>30</th>\n",
       "      <th>31</th>\n",
       "      <th>32</th>\n",
       "      <th>33</th>\n",
       "      <th>34</th>\n",
       "      <th>35</th>\n",
       "      <th>36</th>\n",
       "      <th>37</th>\n",
       "      <th>38</th>\n",
       "      <th>39</th>\n",
       "    </tr>\n",
       "  </thead>\n",
       "  <tbody>\n",
       "    <tr>\n",
       "      <th>0</th>\n",
       "      <td>987500</td>\n",
       "      <td>200</td>\n",
       "      <td>987400</td>\n",
       "      <td>16298</td>\n",
       "      <td>987600</td>\n",
       "      <td>200</td>\n",
       "      <td>986900</td>\n",
       "      <td>138</td>\n",
       "      <td>987900</td>\n",
       "      <td>600</td>\n",
       "      <td>...</td>\n",
       "      <td>985900</td>\n",
       "      <td>350</td>\n",
       "      <td>989600</td>\n",
       "      <td>200</td>\n",
       "      <td>985800</td>\n",
       "      <td>1</td>\n",
       "      <td>989900</td>\n",
       "      <td>500</td>\n",
       "      <td>985600</td>\n",
       "      <td>66</td>\n",
       "    </tr>\n",
       "    <tr>\n",
       "      <th>1</th>\n",
       "      <td>987600</td>\n",
       "      <td>200</td>\n",
       "      <td>987400</td>\n",
       "      <td>16298</td>\n",
       "      <td>987900</td>\n",
       "      <td>600</td>\n",
       "      <td>986900</td>\n",
       "      <td>138</td>\n",
       "      <td>988300</td>\n",
       "      <td>100</td>\n",
       "      <td>...</td>\n",
       "      <td>985900</td>\n",
       "      <td>350</td>\n",
       "      <td>989900</td>\n",
       "      <td>500</td>\n",
       "      <td>985800</td>\n",
       "      <td>1</td>\n",
       "      <td>991000</td>\n",
       "      <td>1</td>\n",
       "      <td>985600</td>\n",
       "      <td>66</td>\n",
       "    </tr>\n",
       "    <tr>\n",
       "      <th>2</th>\n",
       "      <td>987600</td>\n",
       "      <td>200</td>\n",
       "      <td>987400</td>\n",
       "      <td>16298</td>\n",
       "      <td>987900</td>\n",
       "      <td>600</td>\n",
       "      <td>986900</td>\n",
       "      <td>138</td>\n",
       "      <td>988300</td>\n",
       "      <td>100</td>\n",
       "      <td>...</td>\n",
       "      <td>985900</td>\n",
       "      <td>350</td>\n",
       "      <td>989900</td>\n",
       "      <td>500</td>\n",
       "      <td>985800</td>\n",
       "      <td>1</td>\n",
       "      <td>991000</td>\n",
       "      <td>1</td>\n",
       "      <td>985600</td>\n",
       "      <td>66</td>\n",
       "    </tr>\n",
       "    <tr>\n",
       "      <th>3</th>\n",
       "      <td>987600</td>\n",
       "      <td>200</td>\n",
       "      <td>987400</td>\n",
       "      <td>16298</td>\n",
       "      <td>987900</td>\n",
       "      <td>600</td>\n",
       "      <td>986900</td>\n",
       "      <td>138</td>\n",
       "      <td>988300</td>\n",
       "      <td>100</td>\n",
       "      <td>...</td>\n",
       "      <td>985900</td>\n",
       "      <td>350</td>\n",
       "      <td>989900</td>\n",
       "      <td>500</td>\n",
       "      <td>985800</td>\n",
       "      <td>1</td>\n",
       "      <td>991000</td>\n",
       "      <td>1</td>\n",
       "      <td>985600</td>\n",
       "      <td>66</td>\n",
       "    </tr>\n",
       "    <tr>\n",
       "      <th>4</th>\n",
       "      <td>987600</td>\n",
       "      <td>200</td>\n",
       "      <td>987400</td>\n",
       "      <td>16298</td>\n",
       "      <td>987900</td>\n",
       "      <td>600</td>\n",
       "      <td>986900</td>\n",
       "      <td>138</td>\n",
       "      <td>988300</td>\n",
       "      <td>100</td>\n",
       "      <td>...</td>\n",
       "      <td>985900</td>\n",
       "      <td>350</td>\n",
       "      <td>989900</td>\n",
       "      <td>500</td>\n",
       "      <td>985800</td>\n",
       "      <td>1</td>\n",
       "      <td>991000</td>\n",
       "      <td>1</td>\n",
       "      <td>985600</td>\n",
       "      <td>66</td>\n",
       "    </tr>\n",
       "    <tr>\n",
       "      <th>...</th>\n",
       "      <td>...</td>\n",
       "      <td>...</td>\n",
       "      <td>...</td>\n",
       "      <td>...</td>\n",
       "      <td>...</td>\n",
       "      <td>...</td>\n",
       "      <td>...</td>\n",
       "      <td>...</td>\n",
       "      <td>...</td>\n",
       "      <td>...</td>\n",
       "      <td>...</td>\n",
       "      <td>...</td>\n",
       "      <td>...</td>\n",
       "      <td>...</td>\n",
       "      <td>...</td>\n",
       "      <td>...</td>\n",
       "      <td>...</td>\n",
       "      <td>...</td>\n",
       "      <td>...</td>\n",
       "      <td>...</td>\n",
       "      <td>...</td>\n",
       "    </tr>\n",
       "    <tr>\n",
       "      <th>2244836</th>\n",
       "      <td>979800</td>\n",
       "      <td>8000</td>\n",
       "      <td>979600</td>\n",
       "      <td>6565</td>\n",
       "      <td>979900</td>\n",
       "      <td>4319</td>\n",
       "      <td>979500</td>\n",
       "      <td>47287</td>\n",
       "      <td>980000</td>\n",
       "      <td>6048</td>\n",
       "      <td>...</td>\n",
       "      <td>978900</td>\n",
       "      <td>8095</td>\n",
       "      <td>980600</td>\n",
       "      <td>300</td>\n",
       "      <td>978800</td>\n",
       "      <td>10650</td>\n",
       "      <td>980700</td>\n",
       "      <td>5400</td>\n",
       "      <td>978700</td>\n",
       "      <td>2300</td>\n",
       "    </tr>\n",
       "    <tr>\n",
       "      <th>2244837</th>\n",
       "      <td>979800</td>\n",
       "      <td>8000</td>\n",
       "      <td>979600</td>\n",
       "      <td>6566</td>\n",
       "      <td>979900</td>\n",
       "      <td>4319</td>\n",
       "      <td>979500</td>\n",
       "      <td>47287</td>\n",
       "      <td>980000</td>\n",
       "      <td>6048</td>\n",
       "      <td>...</td>\n",
       "      <td>978900</td>\n",
       "      <td>8095</td>\n",
       "      <td>980600</td>\n",
       "      <td>300</td>\n",
       "      <td>978800</td>\n",
       "      <td>10650</td>\n",
       "      <td>980700</td>\n",
       "      <td>5400</td>\n",
       "      <td>978700</td>\n",
       "      <td>2300</td>\n",
       "    </tr>\n",
       "    <tr>\n",
       "      <th>2244838</th>\n",
       "      <td>979800</td>\n",
       "      <td>8000</td>\n",
       "      <td>979600</td>\n",
       "      <td>6566</td>\n",
       "      <td>979900</td>\n",
       "      <td>4319</td>\n",
       "      <td>979500</td>\n",
       "      <td>47287</td>\n",
       "      <td>980000</td>\n",
       "      <td>6048</td>\n",
       "      <td>...</td>\n",
       "      <td>978900</td>\n",
       "      <td>8095</td>\n",
       "      <td>980600</td>\n",
       "      <td>300</td>\n",
       "      <td>978800</td>\n",
       "      <td>10650</td>\n",
       "      <td>980700</td>\n",
       "      <td>5400</td>\n",
       "      <td>978700</td>\n",
       "      <td>5800</td>\n",
       "    </tr>\n",
       "    <tr>\n",
       "      <th>2244839</th>\n",
       "      <td>979800</td>\n",
       "      <td>8000</td>\n",
       "      <td>979600</td>\n",
       "      <td>5181</td>\n",
       "      <td>979900</td>\n",
       "      <td>4319</td>\n",
       "      <td>979500</td>\n",
       "      <td>47287</td>\n",
       "      <td>980000</td>\n",
       "      <td>6048</td>\n",
       "      <td>...</td>\n",
       "      <td>978900</td>\n",
       "      <td>8095</td>\n",
       "      <td>980600</td>\n",
       "      <td>300</td>\n",
       "      <td>978800</td>\n",
       "      <td>10650</td>\n",
       "      <td>980700</td>\n",
       "      <td>5400</td>\n",
       "      <td>978700</td>\n",
       "      <td>5800</td>\n",
       "    </tr>\n",
       "    <tr>\n",
       "      <th>2244840</th>\n",
       "      <td>979800</td>\n",
       "      <td>7900</td>\n",
       "      <td>979600</td>\n",
       "      <td>5181</td>\n",
       "      <td>979900</td>\n",
       "      <td>4319</td>\n",
       "      <td>979500</td>\n",
       "      <td>47287</td>\n",
       "      <td>980000</td>\n",
       "      <td>6048</td>\n",
       "      <td>...</td>\n",
       "      <td>978900</td>\n",
       "      <td>8095</td>\n",
       "      <td>980600</td>\n",
       "      <td>300</td>\n",
       "      <td>978800</td>\n",
       "      <td>10650</td>\n",
       "      <td>980700</td>\n",
       "      <td>5400</td>\n",
       "      <td>978700</td>\n",
       "      <td>5800</td>\n",
       "    </tr>\n",
       "  </tbody>\n",
       "</table>\n",
       "<p>2244841 rows × 40 columns</p>\n",
       "</div>"
      ],
      "text/plain": [
       "             0     1       2      3       4     5       6      7       8   \\\n",
       "0        987500   200  987400  16298  987600   200  986900    138  987900   \n",
       "1        987600   200  987400  16298  987900   600  986900    138  988300   \n",
       "2        987600   200  987400  16298  987900   600  986900    138  988300   \n",
       "3        987600   200  987400  16298  987900   600  986900    138  988300   \n",
       "4        987600   200  987400  16298  987900   600  986900    138  988300   \n",
       "...         ...   ...     ...    ...     ...   ...     ...    ...     ...   \n",
       "2244836  979800  8000  979600   6565  979900  4319  979500  47287  980000   \n",
       "2244837  979800  8000  979600   6566  979900  4319  979500  47287  980000   \n",
       "2244838  979800  8000  979600   6566  979900  4319  979500  47287  980000   \n",
       "2244839  979800  8000  979600   5181  979900  4319  979500  47287  980000   \n",
       "2244840  979800  7900  979600   5181  979900  4319  979500  47287  980000   \n",
       "\n",
       "           9   ...      30    31      32   33      34     35      36    37  \\\n",
       "0         600  ...  985900   350  989600  200  985800      1  989900   500   \n",
       "1         100  ...  985900   350  989900  500  985800      1  991000     1   \n",
       "2         100  ...  985900   350  989900  500  985800      1  991000     1   \n",
       "3         100  ...  985900   350  989900  500  985800      1  991000     1   \n",
       "4         100  ...  985900   350  989900  500  985800      1  991000     1   \n",
       "...       ...  ...     ...   ...     ...  ...     ...    ...     ...   ...   \n",
       "2244836  6048  ...  978900  8095  980600  300  978800  10650  980700  5400   \n",
       "2244837  6048  ...  978900  8095  980600  300  978800  10650  980700  5400   \n",
       "2244838  6048  ...  978900  8095  980600  300  978800  10650  980700  5400   \n",
       "2244839  6048  ...  978900  8095  980600  300  978800  10650  980700  5400   \n",
       "2244840  6048  ...  978900  8095  980600  300  978800  10650  980700  5400   \n",
       "\n",
       "             38    39  \n",
       "0        985600    66  \n",
       "1        985600    66  \n",
       "2        985600    66  \n",
       "3        985600    66  \n",
       "4        985600    66  \n",
       "...         ...   ...  \n",
       "2244836  978700  2300  \n",
       "2244837  978700  2300  \n",
       "2244838  978700  5800  \n",
       "2244839  978700  5800  \n",
       "2244840  978700  5800  \n",
       "\n",
       "[2244841 rows x 40 columns]"
      ]
     },
     "execution_count": 8,
     "metadata": {},
     "output_type": "execute_result"
    }
   ],
   "source": [
    "b"
   ]
  },
  {
   "cell_type": "code",
   "execution_count": 22,
   "metadata": {},
   "outputs": [
    {
     "name": "stdout",
     "output_type": "stream",
     "text": [
      "truncating 0.0000% of prices > 13000\n",
      "truncating 0.0000% of prices < -10000\n"
     ]
    }
   ],
   "source": [
    "m_ = m.copy()\n",
    "\n",
    "# (previous) best bid\n",
    "bb = book.iloc[:, 2].shift()\n",
    "# no truncation (large thresh.)\n",
    "m_.price = _preproc_prices(m.price, bb, p_lower_trunc=-9900, p_upper_trunc=9900)\n",
    "m_ = m_.dropna()\n",
    "m_.price = m_.price.astype(int)"
   ]
  },
  {
   "cell_type": "code",
   "execution_count": 23,
   "metadata": {},
   "outputs": [
    {
     "data": {
      "text/html": [
       "<div>\n",
       "<style scoped>\n",
       "    .dataframe tbody tr th:only-of-type {\n",
       "        vertical-align: middle;\n",
       "    }\n",
       "\n",
       "    .dataframe tbody tr th {\n",
       "        vertical-align: top;\n",
       "    }\n",
       "\n",
       "    .dataframe thead th {\n",
       "        text-align: right;\n",
       "    }\n",
       "</style>\n",
       "<table border=\"1\" class=\"dataframe\">\n",
       "  <thead>\n",
       "    <tr style=\"text-align: right;\">\n",
       "      <th></th>\n",
       "      <th>time</th>\n",
       "      <th>event_type</th>\n",
       "      <th>order_id</th>\n",
       "      <th>size</th>\n",
       "      <th>price</th>\n",
       "      <th>direction</th>\n",
       "    </tr>\n",
       "  </thead>\n",
       "  <tbody>\n",
       "    <tr>\n",
       "      <th>1</th>\n",
       "      <td>34200.000113</td>\n",
       "      <td>4</td>\n",
       "      <td>25053166</td>\n",
       "      <td>200</td>\n",
       "      <td>1</td>\n",
       "      <td>-1</td>\n",
       "    </tr>\n",
       "    <tr>\n",
       "      <th>2</th>\n",
       "      <td>34200.000113</td>\n",
       "      <td>5</td>\n",
       "      <td>0</td>\n",
       "      <td>200</td>\n",
       "      <td>1</td>\n",
       "      <td>1</td>\n",
       "    </tr>\n",
       "    <tr>\n",
       "      <th>3</th>\n",
       "      <td>34200.000135</td>\n",
       "      <td>5</td>\n",
       "      <td>0</td>\n",
       "      <td>600</td>\n",
       "      <td>1</td>\n",
       "      <td>1</td>\n",
       "    </tr>\n",
       "    <tr>\n",
       "      <th>4</th>\n",
       "      <td>34200.000163</td>\n",
       "      <td>5</td>\n",
       "      <td>0</td>\n",
       "      <td>100</td>\n",
       "      <td>1</td>\n",
       "      <td>1</td>\n",
       "    </tr>\n",
       "    <tr>\n",
       "      <th>5</th>\n",
       "      <td>34200.000269</td>\n",
       "      <td>5</td>\n",
       "      <td>0</td>\n",
       "      <td>100</td>\n",
       "      <td>1</td>\n",
       "      <td>1</td>\n",
       "    </tr>\n",
       "    <tr>\n",
       "      <th>...</th>\n",
       "      <td>...</td>\n",
       "      <td>...</td>\n",
       "      <td>...</td>\n",
       "      <td>...</td>\n",
       "      <td>...</td>\n",
       "      <td>...</td>\n",
       "    </tr>\n",
       "    <tr>\n",
       "      <th>2244836</th>\n",
       "      <td>57599.996507</td>\n",
       "      <td>1</td>\n",
       "      <td>770732874</td>\n",
       "      <td>1385</td>\n",
       "      <td>0</td>\n",
       "      <td>1</td>\n",
       "    </tr>\n",
       "    <tr>\n",
       "      <th>2244837</th>\n",
       "      <td>57599.996541</td>\n",
       "      <td>1</td>\n",
       "      <td>770732886</td>\n",
       "      <td>1</td>\n",
       "      <td>0</td>\n",
       "      <td>1</td>\n",
       "    </tr>\n",
       "    <tr>\n",
       "      <th>2244838</th>\n",
       "      <td>57599.997147</td>\n",
       "      <td>1</td>\n",
       "      <td>770733066</td>\n",
       "      <td>3500</td>\n",
       "      <td>-9</td>\n",
       "      <td>1</td>\n",
       "    </tr>\n",
       "    <tr>\n",
       "      <th>2244839</th>\n",
       "      <td>57599.997521</td>\n",
       "      <td>3</td>\n",
       "      <td>770732874</td>\n",
       "      <td>1385</td>\n",
       "      <td>0</td>\n",
       "      <td>1</td>\n",
       "    </tr>\n",
       "    <tr>\n",
       "      <th>2244840</th>\n",
       "      <td>57599.997766</td>\n",
       "      <td>3</td>\n",
       "      <td>770730074</td>\n",
       "      <td>100</td>\n",
       "      <td>2</td>\n",
       "      <td>-1</td>\n",
       "    </tr>\n",
       "  </tbody>\n",
       "</table>\n",
       "<p>2244840 rows × 6 columns</p>\n",
       "</div>"
      ],
      "text/plain": [
       "                 time  event_type   order_id  size  price  direction\n",
       "1        34200.000113           4   25053166   200      1         -1\n",
       "2        34200.000113           5          0   200      1          1\n",
       "3        34200.000135           5          0   600      1          1\n",
       "4        34200.000163           5          0   100      1          1\n",
       "5        34200.000269           5          0   100      1          1\n",
       "...               ...         ...        ...   ...    ...        ...\n",
       "2244836  57599.996507           1  770732874  1385      0          1\n",
       "2244837  57599.996541           1  770732886     1      0          1\n",
       "2244838  57599.997147           1  770733066  3500     -9          1\n",
       "2244839  57599.997521           3  770732874  1385      0          1\n",
       "2244840  57599.997766           3  770730074   100      2         -1\n",
       "\n",
       "[2244840 rows x 6 columns]"
      ]
     },
     "execution_count": 23,
     "metadata": {},
     "output_type": "execute_result"
    }
   ],
   "source": [
    "m_"
   ]
  },
  {
   "cell_type": "code",
   "execution_count": 28,
   "metadata": {},
   "outputs": [
    {
     "data": {
      "text/plain": [
       "count    2.244840e+06\n",
       "mean     4.406932e+04\n",
       "std      7.189496e+03\n",
       "min      3.420000e+04\n",
       "25%      3.755352e+04\n",
       "50%      4.290529e+04\n",
       "75%      4.999515e+04\n",
       "max      5.760000e+04\n",
       "Name: time, dtype: float64"
      ]
     },
     "execution_count": 28,
     "metadata": {},
     "output_type": "execute_result"
    }
   ],
   "source": [
    "m_['time'].describe()"
   ]
  },
  {
   "cell_type": "code",
   "execution_count": 53,
   "metadata": {},
   "outputs": [],
   "source": [
    "# subtract opening time and convert to ns integer\n",
    "opening_s = 9.5 * 3600  # NASDAQ opens 9:30\n",
    "#closing_s = 16 * 3600   # and closes at 16:00\n",
    "m_['time'] = (m['time'] - opening_s).multiply(1e9).astype(int)"
   ]
  },
  {
   "cell_type": "code",
   "execution_count": 48,
   "metadata": {},
   "outputs": [
    {
     "data": {
      "text/plain": [
       "1              0.000113\n",
       "2              0.000113\n",
       "3              0.000135\n",
       "4              0.000163\n",
       "5              0.000269\n",
       "               ...     \n",
       "2244836    23399.996507\n",
       "2244837    23399.996541\n",
       "2244838    23399.997147\n",
       "2244839    23399.997521\n",
       "2244840    23399.997766\n",
       "Name: time, Length: 2244840, dtype: float64"
      ]
     },
     "execution_count": 48,
     "metadata": {},
     "output_type": "execute_result"
    }
   ],
   "source": [
    "m_.time#.multiply(1e6)#.apply(float.is_integer).all()"
   ]
  },
  {
   "cell_type": "code",
   "execution_count": 37,
   "metadata": {},
   "outputs": [
    {
     "data": {
      "text/plain": [
       "1          1.132790e+05\n",
       "2          1.132790e+05\n",
       "3          1.345560e+05\n",
       "4          1.634550e+05\n",
       "5          2.689040e+05\n",
       "               ...     \n",
       "2244836    2.340000e+13\n",
       "2244837    2.340000e+13\n",
       "2244838    2.340000e+13\n",
       "2244839    2.340000e+13\n",
       "2244840    2.340000e+13\n",
       "Name: time, Length: 2244840, dtype: float64"
      ]
     },
     "execution_count": 37,
     "metadata": {},
     "output_type": "execute_result"
    }
   ],
   "source": [
    "m_.time"
   ]
  },
  {
   "cell_type": "code",
   "execution_count": null,
   "metadata": {},
   "outputs": [],
   "source": [
    "# TODO: lookup order ID and encode modific. and deletions properly: merge dfs \n",
    "#       decoding"
   ]
  },
  {
   "cell_type": "code",
   "execution_count": 239,
   "metadata": {},
   "outputs": [],
   "source": [
    "class Vocab:\n",
    "\n",
    "    MASK_TOK = 0\n",
    "    HIDDEN_TOK = 1\n",
    "    NA_TOK = 2\n",
    "\n",
    "    def __init__(self) -> None:\n",
    "        self.counter = 3  # 0: MSK, 1: HID, 2: NAN\n",
    "        self.ENCODING = {}\n",
    "        self.DECODING = {}\n",
    "\n",
    "        self._add_field('event_type', ['1', '2', '3', '4'])\n",
    "        self._add_field('direction', ['0', '1'])\n",
    "        self._add_field('generic', [str(i) for i in range(10)] + ['+', '-'])\n",
    "        \n",
    "        self._add_special_tokens()\n",
    "\n",
    "    def _add_field(self, name, values):\n",
    "        enc = {val: self.counter + i for i, val in enumerate(values)}\n",
    "        dec = {tok: val for val, tok in enc.items()}\n",
    "        self.ENCODING[name] = enc\n",
    "        self.DECODING[name] = dec\n",
    "        self.counter += len(enc)\n",
    "\n",
    "    def _add_special_tokens(self):\n",
    "        for field, enc in self.ENCODING.items():\n",
    "            self.DECODING[field][Vocab.MASK_TOK] = 'MSK'\n",
    "            self.DECODING[field][Vocab.HIDDEN_TOK] = 'HID'\n",
    "            self.DECODING[field][Vocab.NA_TOK] = 'NAN'\n",
    "\n",
    "class Message_Tokenizer:\n",
    "\n",
    "    FIELDS = (\n",
    "        'time',\n",
    "        'event_type',\n",
    "        'size',\n",
    "        'price',\n",
    "        'direction',\n",
    "        'time_new',\n",
    "        'event_type_new',\n",
    "        'size_new',\n",
    "        'price_new',\n",
    "        'direction_new'\n",
    "    )\n",
    "    FIELD_LENS = np.array((14, 1, 4, 3, 1, 14, 1, 4, 3, 1))\n",
    "    FIELD_DELIM = np.cumsum(FIELD_LENS[:-1])\n",
    "    FIELD_ENC_TYPES = {\n",
    "        'time': 'generic',\n",
    "        'event_type': 'event_type',\n",
    "        'size': 'generic',\n",
    "        'price': 'generic',\n",
    "        'direction': 'direction',\n",
    "        'time_new': 'generic',\n",
    "        'event_type_new': 'event_type',\n",
    "        'size_new': 'generic',\n",
    "        'price_new': 'generic',\n",
    "        'direction_new': 'direction',\n",
    "    }\n",
    "\n",
    "    def __init__(self) -> None:\n",
    "        self._generate_col_idx_by_encoder()\n",
    "\n",
    "    def _generate_col_idx_by_encoder(self):\n",
    "        \"\"\" Generates attribute dictionary col_idx_by_encoder\n",
    "            with encoder type as key and a list of column (field)\n",
    "            indices as value. This is used to efficiently decode tokenized\n",
    "            data. \n",
    "        \"\"\"\n",
    "        self.col_idx_by_encoder = {}\n",
    "        counter = 0\n",
    "        for field_len, (col, enc_type) in zip(\n",
    "            Message_Tokenizer.FIELD_LENS,\n",
    "            Message_Tokenizer.FIELD_ENC_TYPES.items()):\n",
    "            add_vals = list(range(counter, counter + field_len))\n",
    "            try:\n",
    "                self.col_idx_by_encoder[enc_type].extend(add_vals)\n",
    "            except KeyError:\n",
    "                self.col_idx_by_encoder[enc_type] = add_vals\n",
    "            counter += field_len\n",
    "\n",
    "    def encode(self, m, vocab):\n",
    "        enc = vocab.ENCODING\n",
    "        #m = m.copy()\n",
    "\n",
    "        # order ID is not used by the model\n",
    "        m.drop('order_id', axis=1, inplace=True)\n",
    "\n",
    "        for i, col in enumerate(m.columns):\n",
    "            enc_type = Message_Tokenizer.FIELD_ENC_TYPES[col]\n",
    "            #print(col)\n",
    "            #print(enc_type)\n",
    "            m[col] = self._encode_col(\n",
    "                m[col],\n",
    "                enc=enc[enc_type],\n",
    "                field_len=Message_Tokenizer.FIELD_LENS[i])\n",
    "        # concate all lists into single column\n",
    "        m = m.sum(axis=1)\n",
    "        # return as numpy array\n",
    "        return np.array(m.to_list())\n",
    "\n",
    "    def _encode_col(self, col, enc, field_len):\n",
    "        def _encode_field(num):\n",
    "            if pd.isnull(num):\n",
    "                return [Vocab.NA_TOK] * field_len\n",
    "            elif isinstance(num, str):\n",
    "                return [enc[d] for d in num]\n",
    "            else:\n",
    "                return [enc[d] for d in str(int(num))]\n",
    "\n",
    "        return col.apply(_encode_field)\n",
    "\n",
    "    def decode(self, toks, vocab):\n",
    "        str_arr = self._decode_to_str(toks, vocab)\n",
    "        cols_str = np.split(str_arr, Message_Tokenizer.FIELD_DELIM, axis=1)\n",
    "        out_numeric = np.empty((toks.shape[0], len(cols_str)), dtype=float)\n",
    "        # decode each column to float\n",
    "        for i, inp in enumerate(cols_str):\n",
    "            out_numeric[:, i] = self._parse_col(inp)\n",
    "\n",
    "        return out_numeric\n",
    "\n",
    "    def _decode_to_str(self, toks, vocab):\n",
    "        out = np.empty_like(toks, dtype='<U3')\n",
    "        for dec_type, dec in vocab.DECODING.items():\n",
    "            # all token cols using current encoder type\n",
    "            tok_sel = toks[:, self.col_idx_by_encoder[dec_type]]\n",
    "            tok_out = np.empty_like(tok_sel, dtype='<U3')\n",
    "            # loop through substitutions\n",
    "            for t, repl in dec.items():\n",
    "                tok_out[tok_sel==t] = repl\n",
    "            \n",
    "            out[:, self.col_idx_by_encoder[dec_type]] = tok_out\n",
    "        \n",
    "        # left over empty strings imply invalid tokens\n",
    "        err_i = np.argwhere(out == '')\n",
    "        if len(err_i) > 0:\n",
    "            err_toks = toks[tuple(err_i.T)]\n",
    "            #err_toks = toks[out == '']\n",
    "            err_fields = []\n",
    "            for err_sample, err_col in err_i:\n",
    "                err_fields.append(np.searchsorted(Message_Tokenizer.FIELD_DELIM, err_col, side='right'))\n",
    "            e = ValueError(\n",
    "                f\"Invalid tokens {err_toks} at indices {err_i} \"\n",
    "                + f\"for fields {[Message_Tokenizer.FIELDS[f] for f in err_fields]})\")\n",
    "            e.err_i = err_i\n",
    "            raise e\n",
    "        return out\n",
    "\n",
    "    def _parse_col(self, inp):\n",
    "        def try_parse_float(inp):\n",
    "            try:\n",
    "                return float(inp)\n",
    "            except ValueError:\n",
    "                return np.nan\n",
    "        return np.array([try_parse_float(''.join(inp[i])) for i in range(inp.shape[0])])\n",
    "\n",
    "    def validate(self, toks, vocab):\n",
    "        \"\"\" checks if toks is syntactically AND semantically valid message\n",
    "            returns triple of (is_valid, error location, error message)\n",
    "        \"\"\"\n",
    "        valid_synt, res = self._validate_syntax(toks, vocab)\n",
    "        if not valid_synt:\n",
    "            return False, res, 'syntax error'\n",
    "        valid_semant, err = self._validate_semantics(res)\n",
    "        if not valid_semant:\n",
    "            return False, _, err\n",
    "\n",
    "    def _validate_syntax(self, toks, vocab):\n",
    "        try:\n",
    "            decoded = self._decode_to_str(toks, vocab)\n",
    "            return True, decoded\n",
    "        except ValueError as e:\n",
    "            return False, e.err_i\n",
    "\n",
    "    def _validate_semantics(self, decoded):\n",
    "        ''' checks if decoded message string is semantically correct\n",
    "            return tuple of (is_valid, error in field, error message)\n",
    "        '''\n",
    "        pass\n",
    "\n",
    "    def preproc(self, m, b, allowed_event_types=[1,2,3,4]):\n",
    "        # TYPE\n",
    "        # filter out only allowed event types ...\n",
    "        m = m.loc[m.event_type.isin(allowed_event_types)].copy()\n",
    "        # ... and corresponding book changes\n",
    "        b = b.loc[m.index]\n",
    "\n",
    "        # TIME\n",
    "        # subtract opening time and convert to ns integer\n",
    "        opening_s = 9.5 * 3600  # NASDAQ opens 9:30\n",
    "        #closing_s = 16 * 3600   # and closes at 16:00\n",
    "        m['time'] = (m['time'] - opening_s).multiply(1e9).round().astype(int).astype(str).str.zfill(14)\n",
    "        \n",
    "        # SIZE\n",
    "        m.loc[m['size'] > 9999, 'size'] = 9999\n",
    "        m['size'] = m['size'].astype(int).astype(str).str.zfill(4)\n",
    "\n",
    "        # PRICE\n",
    "        # (previous) best bid\n",
    "        bb = b.iloc[:, 2].shift()\n",
    "        # no truncation (large thresh.) --> 199 price levels\n",
    "        # TODO: uncomment\n",
    "        #m.price = _preproc_prices(m.price, bb, p_lower_trunc=-9900, p_upper_trunc=9900)\n",
    "        m = m.dropna()\n",
    "        m.price = m.price.astype(int).apply(self._numeric_str)\n",
    "\n",
    "        # DIRECTION\n",
    "        m.direction = ((m.direction + 1) / 2).astype(int)\n",
    "\n",
    "        # add order changes as features\n",
    "        m = self._add_orig_msg_features(m)\n",
    "\n",
    "        return m\n",
    "\n",
    "    def _add_orig_msg_features(self, m):\n",
    "        \"\"\" Changes representation of order cancellation (2) / deletion (3),\n",
    "            representing them as the original message and new columns containing\n",
    "            the new order details.\n",
    "            This effectively does the lookup step in past data.\n",
    "            TODO: lookup missing original message data from previous days' data \n",
    "        \"\"\"\n",
    "\n",
    "        m_changes = pd.merge(\n",
    "            m.loc[m.event_type == 1],\n",
    "            m.loc[(m.event_type == 2) | (m.event_type == 3)].reset_index(),\n",
    "            how='right', on='order_id', suffixes=['', '_new']).set_index('index')\n",
    "        #display(m_changes)\n",
    "\n",
    "        # add new empty columns for order modifications\n",
    "        m[m_changes.columns[-5:].values] = np.nan\n",
    "        # replace order changes by original order and additional new fields\n",
    "        #display(m)\n",
    "        #display(m_changes)\n",
    "        m.loc[m_changes.index] = m_changes\n",
    "        return m\n",
    "\n",
    "    def _numeric_str(self, num, pad=2):\n",
    "        if num == 0:\n",
    "            return '-00'\n",
    "        elif num > 0:\n",
    "            return '+' + str(num).zfill(pad)\n",
    "        else:\n",
    "            # minus sign counts as character\n",
    "            return str(num).zfill(pad + 1)\n"
   ]
  },
  {
   "cell_type": "code",
   "execution_count": 221,
   "metadata": {},
   "outputs": [
    {
     "data": {
      "text/plain": [
       "{'event_type': {'1': 3, '2': 4, '3': 5, '4': 6},\n",
       " 'direction': {'0': 7, '1': 8},\n",
       " 'generic': {'0': 9,\n",
       "  '1': 10,\n",
       "  '2': 11,\n",
       "  '3': 12,\n",
       "  '4': 13,\n",
       "  '5': 14,\n",
       "  '6': 15,\n",
       "  '7': 16,\n",
       "  '8': 17,\n",
       "  '9': 18,\n",
       "  '+': 19,\n",
       "  '-': 20}}"
      ]
     },
     "execution_count": 221,
     "metadata": {},
     "output_type": "execute_result"
    }
   ],
   "source": [
    "v = Vocab()\n",
    "v.ENCODING"
   ]
  },
  {
   "cell_type": "code",
   "execution_count": 222,
   "metadata": {},
   "outputs": [],
   "source": [
    "m_ = m.copy()"
   ]
  },
  {
   "cell_type": "code",
   "execution_count": 130,
   "metadata": {},
   "outputs": [],
   "source": [
    "# for now ignore canc/del from previous days? --> use unknown token in original msg."
   ]
  },
  {
   "cell_type": "code",
   "execution_count": 240,
   "metadata": {},
   "outputs": [],
   "source": [
    "tok = Message_Tokenizer()"
   ]
  },
  {
   "cell_type": "code",
   "execution_count": 224,
   "metadata": {},
   "outputs": [
    {
     "data": {
      "text/plain": [
       "{'generic': [0,\n",
       "  1,\n",
       "  2,\n",
       "  3,\n",
       "  4,\n",
       "  5,\n",
       "  6,\n",
       "  7,\n",
       "  8,\n",
       "  9,\n",
       "  10,\n",
       "  11,\n",
       "  12,\n",
       "  13,\n",
       "  15,\n",
       "  16,\n",
       "  17,\n",
       "  18,\n",
       "  19,\n",
       "  20,\n",
       "  21,\n",
       "  23,\n",
       "  24,\n",
       "  25,\n",
       "  26,\n",
       "  27,\n",
       "  28,\n",
       "  29,\n",
       "  30,\n",
       "  31,\n",
       "  32,\n",
       "  33,\n",
       "  34,\n",
       "  35,\n",
       "  36,\n",
       "  38,\n",
       "  39,\n",
       "  40,\n",
       "  41,\n",
       "  42,\n",
       "  43,\n",
       "  44],\n",
       " 'event_type': [14, 37],\n",
       " 'direction': [22, 45]}"
      ]
     },
     "execution_count": 224,
     "metadata": {},
     "output_type": "execute_result"
    }
   ],
   "source": [
    "tok.col_idx_by_encoder"
   ]
  },
  {
   "cell_type": "code",
   "execution_count": 225,
   "metadata": {},
   "outputs": [
    {
     "data": {
      "text/plain": [
       "array([[ 9,  9,  9,  9,  9, 12, 12, 10, 13, 11, 11, 15,  9, 18,  3,  9,\n",
       "        10,  9,  9, 20,  9, 18,  8,  9,  9,  9,  9,  9, 13,  9, 18, 14,\n",
       "        16, 12, 11,  9, 18,  5,  9, 10,  9,  9, 20,  9, 18,  8],\n",
       "       [ 9,  9,  9,  9,  9, 13, 10,  9,  9, 10,  9, 15, 15, 10,  6,  9,\n",
       "         9, 12, 15, 19,  9, 15,  7,  2,  2,  2,  2,  2,  2,  2,  2,  2,\n",
       "         2,  2,  2,  2,  2,  2,  2,  2,  2,  2,  2,  2,  2,  2]])"
      ]
     },
     "execution_count": 225,
     "metadata": {},
     "output_type": "execute_result"
    }
   ],
   "source": [
    "toks = np.copy(m_enc[111:113])\n",
    "toks"
   ]
  },
  {
   "cell_type": "code",
   "execution_count": 226,
   "metadata": {},
   "outputs": [
    {
     "data": {
      "text/plain": [
       "array([[ 9,  9,  9,  9,  9, 12, 12, 10, 13, 11, 11, 15,  9, -1,  3,  9,\n",
       "        10,  9,  9, 20,  9, 18,  8,  9,  9,  9,  9,  9, 13,  9, 18, 14,\n",
       "        16, 12, 11,  9, 18,  5,  9, 10,  9,  9, 20,  9, 18, -1],\n",
       "       [ 9,  9,  9,  9,  9, 13, 10,  9,  9, 10,  9, 15, 15, 10,  6,  9,\n",
       "         9, 12, 15, 19,  9, 15,  7,  2,  2,  2,  2,  2,  2,  2,  2,  2,\n",
       "         2,  2,  2,  2,  2,  2,  2,  2,  2,  2,  2,  2,  2,  2]])"
      ]
     },
     "execution_count": 226,
     "metadata": {},
     "output_type": "execute_result"
    }
   ],
   "source": [
    "toks[0,13] = -1\n",
    "toks[0,-1] = -1\n",
    "toks"
   ]
  },
  {
   "cell_type": "code",
   "execution_count": 227,
   "metadata": {},
   "outputs": [],
   "source": [
    "valid, idx = tok._validate_syntax(toks, v)"
   ]
  },
  {
   "cell_type": "code",
   "execution_count": 228,
   "metadata": {},
   "outputs": [
    {
     "data": {
      "text/plain": [
       "[[0, 0], [13, 45]]"
      ]
     },
     "execution_count": 228,
     "metadata": {},
     "output_type": "execute_result"
    }
   ],
   "source": [
    "idx.T.tolist()"
   ]
  },
  {
   "cell_type": "code",
   "execution_count": 229,
   "metadata": {},
   "outputs": [
    {
     "ename": "ValueError",
     "evalue": "Invalid tokens [-1 -1] at indices [[ 0 13]\n [ 0 45]] for fields ['time', 'direction_new'])",
     "output_type": "error",
     "traceback": [
      "\u001b[0;31m---------------------------------------------------------------------------\u001b[0m",
      "\u001b[0;31mValueError\u001b[0m                                Traceback (most recent call last)",
      "\u001b[0;32m/tmp/ipykernel_3454187/2767890483.py\u001b[0m in \u001b[0;36m<cell line: 1>\u001b[0;34m()\u001b[0m\n\u001b[0;32m----> 1\u001b[0;31m \u001b[0mtok\u001b[0m\u001b[0;34m.\u001b[0m\u001b[0m_decode_to_str\u001b[0m\u001b[0;34m(\u001b[0m\u001b[0mtoks\u001b[0m\u001b[0;34m,\u001b[0m \u001b[0mv\u001b[0m\u001b[0;34m)\u001b[0m\u001b[0;34m\u001b[0m\u001b[0;34m\u001b[0m\u001b[0m\n\u001b[0m",
      "\u001b[0;32m/tmp/ipykernel_3454187/1164287112.py\u001b[0m in \u001b[0;36m_decode_to_str\u001b[0;34m(self, toks, vocab)\u001b[0m\n\u001b[1;32m    144\u001b[0m                 + f\"for fields {[Message_Tokenizer.FIELDS[f] for f in err_fields]})\")\n\u001b[1;32m    145\u001b[0m             \u001b[0me\u001b[0m\u001b[0;34m.\u001b[0m\u001b[0merr_i\u001b[0m \u001b[0;34m=\u001b[0m \u001b[0merr_i\u001b[0m\u001b[0;34m\u001b[0m\u001b[0;34m\u001b[0m\u001b[0m\n\u001b[0;32m--> 146\u001b[0;31m             \u001b[0;32mraise\u001b[0m \u001b[0me\u001b[0m\u001b[0;34m\u001b[0m\u001b[0;34m\u001b[0m\u001b[0m\n\u001b[0m\u001b[1;32m    147\u001b[0m         \u001b[0;32mreturn\u001b[0m \u001b[0mout\u001b[0m\u001b[0;34m\u001b[0m\u001b[0;34m\u001b[0m\u001b[0m\n\u001b[1;32m    148\u001b[0m \u001b[0;34m\u001b[0m\u001b[0m\n",
      "\u001b[0;31mValueError\u001b[0m: Invalid tokens [-1 -1] at indices [[ 0 13]\n [ 0 45]] for fields ['time', 'direction_new'])"
     ]
    }
   ],
   "source": [
    "tok._decode_to_str(toks, v)"
   ]
  },
  {
   "cell_type": "code",
   "execution_count": 241,
   "metadata": {},
   "outputs": [],
   "source": [
    "m_ = tok.preproc(m, b)"
   ]
  },
  {
   "cell_type": "code",
   "execution_count": 242,
   "metadata": {},
   "outputs": [
    {
     "data": {
      "text/html": [
       "<div>\n",
       "<style scoped>\n",
       "    .dataframe tbody tr th:only-of-type {\n",
       "        vertical-align: middle;\n",
       "    }\n",
       "\n",
       "    .dataframe tbody tr th {\n",
       "        vertical-align: top;\n",
       "    }\n",
       "\n",
       "    .dataframe thead th {\n",
       "        text-align: right;\n",
       "    }\n",
       "</style>\n",
       "<table border=\"1\" class=\"dataframe\">\n",
       "  <thead>\n",
       "    <tr style=\"text-align: right;\">\n",
       "      <th></th>\n",
       "      <th>time</th>\n",
       "      <th>event_type</th>\n",
       "      <th>order_id</th>\n",
       "      <th>size</th>\n",
       "      <th>price</th>\n",
       "      <th>direction</th>\n",
       "      <th>time_new</th>\n",
       "      <th>event_type_new</th>\n",
       "      <th>size_new</th>\n",
       "      <th>price_new</th>\n",
       "      <th>direction_new</th>\n",
       "    </tr>\n",
       "  </thead>\n",
       "  <tbody>\n",
       "    <tr>\n",
       "      <th>0</th>\n",
       "      <td>00000000113279</td>\n",
       "      <td>4.0</td>\n",
       "      <td>24695958</td>\n",
       "      <td>0134</td>\n",
       "      <td>+987500</td>\n",
       "      <td>0.0</td>\n",
       "      <td>NaN</td>\n",
       "      <td>NaN</td>\n",
       "      <td>NaN</td>\n",
       "      <td>NaN</td>\n",
       "      <td>NaN</td>\n",
       "    </tr>\n",
       "    <tr>\n",
       "      <th>1</th>\n",
       "      <td>00000000113279</td>\n",
       "      <td>4.0</td>\n",
       "      <td>25053166</td>\n",
       "      <td>0200</td>\n",
       "      <td>+987500</td>\n",
       "      <td>0.0</td>\n",
       "      <td>NaN</td>\n",
       "      <td>NaN</td>\n",
       "      <td>NaN</td>\n",
       "      <td>NaN</td>\n",
       "      <td>NaN</td>\n",
       "    </tr>\n",
       "    <tr>\n",
       "      <th>6</th>\n",
       "      <td>00000000268904</td>\n",
       "      <td>4.0</td>\n",
       "      <td>24918322</td>\n",
       "      <td>0100</td>\n",
       "      <td>+987600</td>\n",
       "      <td>0.0</td>\n",
       "      <td>NaN</td>\n",
       "      <td>NaN</td>\n",
       "      <td>NaN</td>\n",
       "      <td>NaN</td>\n",
       "      <td>NaN</td>\n",
       "    </tr>\n",
       "    <tr>\n",
       "      <th>7</th>\n",
       "      <td>00000000280750</td>\n",
       "      <td>1.0</td>\n",
       "      <td>25069526</td>\n",
       "      <td>0100</td>\n",
       "      <td>+987500</td>\n",
       "      <td>0.0</td>\n",
       "      <td>NaN</td>\n",
       "      <td>NaN</td>\n",
       "      <td>NaN</td>\n",
       "      <td>NaN</td>\n",
       "      <td>NaN</td>\n",
       "    </tr>\n",
       "    <tr>\n",
       "      <th>8</th>\n",
       "      <td>NaN</td>\n",
       "      <td>NaN</td>\n",
       "      <td>25048950</td>\n",
       "      <td>NaN</td>\n",
       "      <td>NaN</td>\n",
       "      <td>NaN</td>\n",
       "      <td>00000001138045</td>\n",
       "      <td>3.0</td>\n",
       "      <td>0100</td>\n",
       "      <td>+986400</td>\n",
       "      <td>1.0</td>\n",
       "    </tr>\n",
       "    <tr>\n",
       "      <th>...</th>\n",
       "      <td>...</td>\n",
       "      <td>...</td>\n",
       "      <td>...</td>\n",
       "      <td>...</td>\n",
       "      <td>...</td>\n",
       "      <td>...</td>\n",
       "      <td>...</td>\n",
       "      <td>...</td>\n",
       "      <td>...</td>\n",
       "      <td>...</td>\n",
       "      <td>...</td>\n",
       "    </tr>\n",
       "    <tr>\n",
       "      <th>2244836</th>\n",
       "      <td>23399996507301</td>\n",
       "      <td>1.0</td>\n",
       "      <td>770732874</td>\n",
       "      <td>1385</td>\n",
       "      <td>+979600</td>\n",
       "      <td>1.0</td>\n",
       "      <td>NaN</td>\n",
       "      <td>NaN</td>\n",
       "      <td>NaN</td>\n",
       "      <td>NaN</td>\n",
       "      <td>NaN</td>\n",
       "    </tr>\n",
       "    <tr>\n",
       "      <th>2244837</th>\n",
       "      <td>23399996541451</td>\n",
       "      <td>1.0</td>\n",
       "      <td>770732886</td>\n",
       "      <td>0001</td>\n",
       "      <td>+979600</td>\n",
       "      <td>1.0</td>\n",
       "      <td>NaN</td>\n",
       "      <td>NaN</td>\n",
       "      <td>NaN</td>\n",
       "      <td>NaN</td>\n",
       "      <td>NaN</td>\n",
       "    </tr>\n",
       "    <tr>\n",
       "      <th>2244838</th>\n",
       "      <td>23399997147009</td>\n",
       "      <td>1.0</td>\n",
       "      <td>770733066</td>\n",
       "      <td>3500</td>\n",
       "      <td>+978700</td>\n",
       "      <td>1.0</td>\n",
       "      <td>NaN</td>\n",
       "      <td>NaN</td>\n",
       "      <td>NaN</td>\n",
       "      <td>NaN</td>\n",
       "      <td>NaN</td>\n",
       "    </tr>\n",
       "    <tr>\n",
       "      <th>2244839</th>\n",
       "      <td>23399996507301</td>\n",
       "      <td>1.0</td>\n",
       "      <td>770732874</td>\n",
       "      <td>1385</td>\n",
       "      <td>+979600</td>\n",
       "      <td>1.0</td>\n",
       "      <td>23399997521216</td>\n",
       "      <td>3.0</td>\n",
       "      <td>1385</td>\n",
       "      <td>+979600</td>\n",
       "      <td>1.0</td>\n",
       "    </tr>\n",
       "    <tr>\n",
       "      <th>2244840</th>\n",
       "      <td>23399982071353</td>\n",
       "      <td>1.0</td>\n",
       "      <td>770730074</td>\n",
       "      <td>0100</td>\n",
       "      <td>+979800</td>\n",
       "      <td>0.0</td>\n",
       "      <td>23399997766054</td>\n",
       "      <td>3.0</td>\n",
       "      <td>0100</td>\n",
       "      <td>+979800</td>\n",
       "      <td>0.0</td>\n",
       "    </tr>\n",
       "  </tbody>\n",
       "</table>\n",
       "<p>2237221 rows × 11 columns</p>\n",
       "</div>"
      ],
      "text/plain": [
       "                   time  event_type   order_id  size    price  direction  \\\n",
       "0        00000000113279         4.0   24695958  0134  +987500        0.0   \n",
       "1        00000000113279         4.0   25053166  0200  +987500        0.0   \n",
       "6        00000000268904         4.0   24918322  0100  +987600        0.0   \n",
       "7        00000000280750         1.0   25069526  0100  +987500        0.0   \n",
       "8                   NaN         NaN   25048950   NaN      NaN        NaN   \n",
       "...                 ...         ...        ...   ...      ...        ...   \n",
       "2244836  23399996507301         1.0  770732874  1385  +979600        1.0   \n",
       "2244837  23399996541451         1.0  770732886  0001  +979600        1.0   \n",
       "2244838  23399997147009         1.0  770733066  3500  +978700        1.0   \n",
       "2244839  23399996507301         1.0  770732874  1385  +979600        1.0   \n",
       "2244840  23399982071353         1.0  770730074  0100  +979800        0.0   \n",
       "\n",
       "               time_new  event_type_new size_new price_new  direction_new  \n",
       "0                   NaN             NaN      NaN       NaN            NaN  \n",
       "1                   NaN             NaN      NaN       NaN            NaN  \n",
       "6                   NaN             NaN      NaN       NaN            NaN  \n",
       "7                   NaN             NaN      NaN       NaN            NaN  \n",
       "8        00000001138045             3.0     0100   +986400            1.0  \n",
       "...                 ...             ...      ...       ...            ...  \n",
       "2244836             NaN             NaN      NaN       NaN            NaN  \n",
       "2244837             NaN             NaN      NaN       NaN            NaN  \n",
       "2244838             NaN             NaN      NaN       NaN            NaN  \n",
       "2244839  23399997521216             3.0     1385   +979600            1.0  \n",
       "2244840  23399997766054             3.0     0100   +979800            0.0  \n",
       "\n",
       "[2237221 rows x 11 columns]"
      ]
     },
     "execution_count": 242,
     "metadata": {},
     "output_type": "execute_result"
    }
   ],
   "source": [
    "m_"
   ]
  },
  {
   "cell_type": "code",
   "execution_count": 260,
   "metadata": {},
   "outputs": [
    {
     "data": {
      "text/html": [
       "<div>\n",
       "<style scoped>\n",
       "    .dataframe tbody tr th:only-of-type {\n",
       "        vertical-align: middle;\n",
       "    }\n",
       "\n",
       "    .dataframe tbody tr th {\n",
       "        vertical-align: top;\n",
       "    }\n",
       "\n",
       "    .dataframe thead th {\n",
       "        text-align: right;\n",
       "    }\n",
       "</style>\n",
       "<table border=\"1\" class=\"dataframe\">\n",
       "  <thead>\n",
       "    <tr style=\"text-align: right;\">\n",
       "      <th></th>\n",
       "      <th>time</th>\n",
       "      <th>event_type</th>\n",
       "      <th>order_id</th>\n",
       "      <th>size</th>\n",
       "      <th>price</th>\n",
       "      <th>direction</th>\n",
       "      <th>time_new</th>\n",
       "      <th>event_type_new</th>\n",
       "      <th>size_new</th>\n",
       "      <th>price_new</th>\n",
       "      <th>direction_new</th>\n",
       "    </tr>\n",
       "  </thead>\n",
       "  <tbody>\n",
       "    <tr>\n",
       "      <th>436</th>\n",
       "      <td>NaN</td>\n",
       "      <td>NaN</td>\n",
       "      <td>24998518</td>\n",
       "      <td>NaN</td>\n",
       "      <td>NaN</td>\n",
       "      <td>NaN</td>\n",
       "      <td>00001112418929</td>\n",
       "      <td>2.0</td>\n",
       "      <td>0100</td>\n",
       "      <td>+986500</td>\n",
       "      <td>1.0</td>\n",
       "    </tr>\n",
       "    <tr>\n",
       "      <th>11548</th>\n",
       "      <td>NaN</td>\n",
       "      <td>NaN</td>\n",
       "      <td>29181978</td>\n",
       "      <td>NaN</td>\n",
       "      <td>NaN</td>\n",
       "      <td>NaN</td>\n",
       "      <td>00037608073389</td>\n",
       "      <td>2.0</td>\n",
       "      <td>0077</td>\n",
       "      <td>+988100</td>\n",
       "      <td>0.0</td>\n",
       "    </tr>\n",
       "    <tr>\n",
       "      <th>15377</th>\n",
       "      <td>NaN</td>\n",
       "      <td>NaN</td>\n",
       "      <td>26618334</td>\n",
       "      <td>NaN</td>\n",
       "      <td>NaN</td>\n",
       "      <td>NaN</td>\n",
       "      <td>00048774034578</td>\n",
       "      <td>2.0</td>\n",
       "      <td>0052</td>\n",
       "      <td>+985000</td>\n",
       "      <td>1.0</td>\n",
       "    </tr>\n",
       "    <tr>\n",
       "      <th>15385</th>\n",
       "      <td>NaN</td>\n",
       "      <td>NaN</td>\n",
       "      <td>11849210</td>\n",
       "      <td>NaN</td>\n",
       "      <td>NaN</td>\n",
       "      <td>NaN</td>\n",
       "      <td>00048787407211</td>\n",
       "      <td>2.0</td>\n",
       "      <td>0020</td>\n",
       "      <td>+985000</td>\n",
       "      <td>1.0</td>\n",
       "    </tr>\n",
       "    <tr>\n",
       "      <th>34835</th>\n",
       "      <td>NaN</td>\n",
       "      <td>NaN</td>\n",
       "      <td>33875366</td>\n",
       "      <td>NaN</td>\n",
       "      <td>NaN</td>\n",
       "      <td>NaN</td>\n",
       "      <td>00112718746558</td>\n",
       "      <td>2.0</td>\n",
       "      <td>0021</td>\n",
       "      <td>+984600</td>\n",
       "      <td>1.0</td>\n",
       "    </tr>\n",
       "    <tr>\n",
       "      <th>75967</th>\n",
       "      <td>NaN</td>\n",
       "      <td>NaN</td>\n",
       "      <td>45900226</td>\n",
       "      <td>NaN</td>\n",
       "      <td>NaN</td>\n",
       "      <td>NaN</td>\n",
       "      <td>00331965257705</td>\n",
       "      <td>2.0</td>\n",
       "      <td>0023</td>\n",
       "      <td>+984000</td>\n",
       "      <td>1.0</td>\n",
       "    </tr>\n",
       "    <tr>\n",
       "      <th>216153</th>\n",
       "      <td>NaN</td>\n",
       "      <td>NaN</td>\n",
       "      <td>11855094</td>\n",
       "      <td>NaN</td>\n",
       "      <td>NaN</td>\n",
       "      <td>NaN</td>\n",
       "      <td>01010246592369</td>\n",
       "      <td>2.0</td>\n",
       "      <td>0010</td>\n",
       "      <td>+990000</td>\n",
       "      <td>0.0</td>\n",
       "    </tr>\n",
       "    <tr>\n",
       "      <th>534106</th>\n",
       "      <td>NaN</td>\n",
       "      <td>NaN</td>\n",
       "      <td>173222754</td>\n",
       "      <td>NaN</td>\n",
       "      <td>NaN</td>\n",
       "      <td>NaN</td>\n",
       "      <td>03142396355972</td>\n",
       "      <td>2.0</td>\n",
       "      <td>0033</td>\n",
       "      <td>+987600</td>\n",
       "      <td>1.0</td>\n",
       "    </tr>\n",
       "    <tr>\n",
       "      <th>536576</th>\n",
       "      <td>NaN</td>\n",
       "      <td>NaN</td>\n",
       "      <td>173733154</td>\n",
       "      <td>NaN</td>\n",
       "      <td>NaN</td>\n",
       "      <td>NaN</td>\n",
       "      <td>03160541565204</td>\n",
       "      <td>2.0</td>\n",
       "      <td>0069</td>\n",
       "      <td>+987100</td>\n",
       "      <td>1.0</td>\n",
       "    </tr>\n",
       "    <tr>\n",
       "      <th>539756</th>\n",
       "      <td>NaN</td>\n",
       "      <td>NaN</td>\n",
       "      <td>175004958</td>\n",
       "      <td>NaN</td>\n",
       "      <td>NaN</td>\n",
       "      <td>NaN</td>\n",
       "      <td>03189486907108</td>\n",
       "      <td>2.0</td>\n",
       "      <td>0069</td>\n",
       "      <td>+987300</td>\n",
       "      <td>1.0</td>\n",
       "    </tr>\n",
       "    <tr>\n",
       "      <th>540863</th>\n",
       "      <td>NaN</td>\n",
       "      <td>NaN</td>\n",
       "      <td>175352082</td>\n",
       "      <td>NaN</td>\n",
       "      <td>NaN</td>\n",
       "      <td>NaN</td>\n",
       "      <td>03195495977291</td>\n",
       "      <td>2.0</td>\n",
       "      <td>0068</td>\n",
       "      <td>+986400</td>\n",
       "      <td>1.0</td>\n",
       "    </tr>\n",
       "    <tr>\n",
       "      <th>545035</th>\n",
       "      <td>NaN</td>\n",
       "      <td>NaN</td>\n",
       "      <td>176884926</td>\n",
       "      <td>NaN</td>\n",
       "      <td>NaN</td>\n",
       "      <td>NaN</td>\n",
       "      <td>03225838270493</td>\n",
       "      <td>2.0</td>\n",
       "      <td>0158</td>\n",
       "      <td>+986000</td>\n",
       "      <td>1.0</td>\n",
       "    </tr>\n",
       "    <tr>\n",
       "      <th>545549</th>\n",
       "      <td>NaN</td>\n",
       "      <td>NaN</td>\n",
       "      <td>177032418</td>\n",
       "      <td>NaN</td>\n",
       "      <td>NaN</td>\n",
       "      <td>NaN</td>\n",
       "      <td>03229996244086</td>\n",
       "      <td>2.0</td>\n",
       "      <td>0158</td>\n",
       "      <td>+986100</td>\n",
       "      <td>1.0</td>\n",
       "    </tr>\n",
       "    <tr>\n",
       "      <th>545922</th>\n",
       "      <td>NaN</td>\n",
       "      <td>NaN</td>\n",
       "      <td>177155490</td>\n",
       "      <td>NaN</td>\n",
       "      <td>NaN</td>\n",
       "      <td>NaN</td>\n",
       "      <td>03233427530719</td>\n",
       "      <td>2.0</td>\n",
       "      <td>0069</td>\n",
       "      <td>+986000</td>\n",
       "      <td>1.0</td>\n",
       "    </tr>\n",
       "    <tr>\n",
       "      <th>548658</th>\n",
       "      <td>NaN</td>\n",
       "      <td>NaN</td>\n",
       "      <td>177924834</td>\n",
       "      <td>NaN</td>\n",
       "      <td>NaN</td>\n",
       "      <td>NaN</td>\n",
       "      <td>03252329961165</td>\n",
       "      <td>2.0</td>\n",
       "      <td>0142</td>\n",
       "      <td>+986200</td>\n",
       "      <td>1.0</td>\n",
       "    </tr>\n",
       "    <tr>\n",
       "      <th>548693</th>\n",
       "      <td>NaN</td>\n",
       "      <td>NaN</td>\n",
       "      <td>177924834</td>\n",
       "      <td>NaN</td>\n",
       "      <td>NaN</td>\n",
       "      <td>NaN</td>\n",
       "      <td>03252331117299</td>\n",
       "      <td>2.0</td>\n",
       "      <td>0015</td>\n",
       "      <td>+986200</td>\n",
       "      <td>1.0</td>\n",
       "    </tr>\n",
       "    <tr>\n",
       "      <th>550985</th>\n",
       "      <td>NaN</td>\n",
       "      <td>NaN</td>\n",
       "      <td>178637734</td>\n",
       "      <td>NaN</td>\n",
       "      <td>NaN</td>\n",
       "      <td>NaN</td>\n",
       "      <td>03272013607391</td>\n",
       "      <td>2.0</td>\n",
       "      <td>0069</td>\n",
       "      <td>+986100</td>\n",
       "      <td>1.0</td>\n",
       "    </tr>\n",
       "    <tr>\n",
       "      <th>551940</th>\n",
       "      <td>NaN</td>\n",
       "      <td>NaN</td>\n",
       "      <td>179000290</td>\n",
       "      <td>NaN</td>\n",
       "      <td>NaN</td>\n",
       "      <td>NaN</td>\n",
       "      <td>03280698882916</td>\n",
       "      <td>2.0</td>\n",
       "      <td>0069</td>\n",
       "      <td>+985900</td>\n",
       "      <td>1.0</td>\n",
       "    </tr>\n",
       "    <tr>\n",
       "      <th>553382</th>\n",
       "      <td>NaN</td>\n",
       "      <td>NaN</td>\n",
       "      <td>179561554</td>\n",
       "      <td>NaN</td>\n",
       "      <td>NaN</td>\n",
       "      <td>NaN</td>\n",
       "      <td>03297577069412</td>\n",
       "      <td>2.0</td>\n",
       "      <td>0069</td>\n",
       "      <td>+986200</td>\n",
       "      <td>1.0</td>\n",
       "    </tr>\n",
       "    <tr>\n",
       "      <th>559148</th>\n",
       "      <td>NaN</td>\n",
       "      <td>NaN</td>\n",
       "      <td>181450006</td>\n",
       "      <td>NaN</td>\n",
       "      <td>NaN</td>\n",
       "      <td>NaN</td>\n",
       "      <td>03339333708076</td>\n",
       "      <td>2.0</td>\n",
       "      <td>0154</td>\n",
       "      <td>+985700</td>\n",
       "      <td>1.0</td>\n",
       "    </tr>\n",
       "    <tr>\n",
       "      <th>605189</th>\n",
       "      <td>NaN</td>\n",
       "      <td>NaN</td>\n",
       "      <td>197803838</td>\n",
       "      <td>NaN</td>\n",
       "      <td>NaN</td>\n",
       "      <td>NaN</td>\n",
       "      <td>03738213147964</td>\n",
       "      <td>2.0</td>\n",
       "      <td>0068</td>\n",
       "      <td>+983500</td>\n",
       "      <td>1.0</td>\n",
       "    </tr>\n",
       "    <tr>\n",
       "      <th>607524</th>\n",
       "      <td>NaN</td>\n",
       "      <td>NaN</td>\n",
       "      <td>198736018</td>\n",
       "      <td>NaN</td>\n",
       "      <td>NaN</td>\n",
       "      <td>NaN</td>\n",
       "      <td>03762277528714</td>\n",
       "      <td>2.0</td>\n",
       "      <td>0140</td>\n",
       "      <td>+982800</td>\n",
       "      <td>1.0</td>\n",
       "    </tr>\n",
       "    <tr>\n",
       "      <th>614872</th>\n",
       "      <td>NaN</td>\n",
       "      <td>NaN</td>\n",
       "      <td>201946590</td>\n",
       "      <td>NaN</td>\n",
       "      <td>NaN</td>\n",
       "      <td>NaN</td>\n",
       "      <td>03851509158487</td>\n",
       "      <td>2.0</td>\n",
       "      <td>0069</td>\n",
       "      <td>+982600</td>\n",
       "      <td>1.0</td>\n",
       "    </tr>\n",
       "    <tr>\n",
       "      <th>615238</th>\n",
       "      <td>NaN</td>\n",
       "      <td>NaN</td>\n",
       "      <td>202068854</td>\n",
       "      <td>NaN</td>\n",
       "      <td>NaN</td>\n",
       "      <td>NaN</td>\n",
       "      <td>03853161082000</td>\n",
       "      <td>2.0</td>\n",
       "      <td>0069</td>\n",
       "      <td>+982200</td>\n",
       "      <td>1.0</td>\n",
       "    </tr>\n",
       "    <tr>\n",
       "      <th>615836</th>\n",
       "      <td>NaN</td>\n",
       "      <td>NaN</td>\n",
       "      <td>202316262</td>\n",
       "      <td>NaN</td>\n",
       "      <td>NaN</td>\n",
       "      <td>NaN</td>\n",
       "      <td>03859409212398</td>\n",
       "      <td>2.0</td>\n",
       "      <td>0069</td>\n",
       "      <td>+982200</td>\n",
       "      <td>1.0</td>\n",
       "    </tr>\n",
       "    <tr>\n",
       "      <th>665635</th>\n",
       "      <td>NaN</td>\n",
       "      <td>NaN</td>\n",
       "      <td>216566622</td>\n",
       "      <td>NaN</td>\n",
       "      <td>NaN</td>\n",
       "      <td>NaN</td>\n",
       "      <td>04214459932342</td>\n",
       "      <td>2.0</td>\n",
       "      <td>0052</td>\n",
       "      <td>+978900</td>\n",
       "      <td>0.0</td>\n",
       "    </tr>\n",
       "    <tr>\n",
       "      <th>667460</th>\n",
       "      <td>NaN</td>\n",
       "      <td>NaN</td>\n",
       "      <td>217006234</td>\n",
       "      <td>NaN</td>\n",
       "      <td>NaN</td>\n",
       "      <td>NaN</td>\n",
       "      <td>04223034173532</td>\n",
       "      <td>2.0</td>\n",
       "      <td>0052</td>\n",
       "      <td>+978200</td>\n",
       "      <td>0.0</td>\n",
       "    </tr>\n",
       "    <tr>\n",
       "      <th>750458</th>\n",
       "      <td>NaN</td>\n",
       "      <td>NaN</td>\n",
       "      <td>245463554</td>\n",
       "      <td>NaN</td>\n",
       "      <td>NaN</td>\n",
       "      <td>NaN</td>\n",
       "      <td>04953249970397</td>\n",
       "      <td>2.0</td>\n",
       "      <td>0052</td>\n",
       "      <td>+980600</td>\n",
       "      <td>0.0</td>\n",
       "    </tr>\n",
       "    <tr>\n",
       "      <th>770221</th>\n",
       "      <td>NaN</td>\n",
       "      <td>NaN</td>\n",
       "      <td>253144494</td>\n",
       "      <td>NaN</td>\n",
       "      <td>NaN</td>\n",
       "      <td>NaN</td>\n",
       "      <td>05162054316594</td>\n",
       "      <td>2.0</td>\n",
       "      <td>0052</td>\n",
       "      <td>+981400</td>\n",
       "      <td>0.0</td>\n",
       "    </tr>\n",
       "    <tr>\n",
       "      <th>789538</th>\n",
       "      <td>NaN</td>\n",
       "      <td>NaN</td>\n",
       "      <td>260361094</td>\n",
       "      <td>NaN</td>\n",
       "      <td>NaN</td>\n",
       "      <td>NaN</td>\n",
       "      <td>05380806791284</td>\n",
       "      <td>2.0</td>\n",
       "      <td>0036</td>\n",
       "      <td>+983200</td>\n",
       "      <td>0.0</td>\n",
       "    </tr>\n",
       "    <tr>\n",
       "      <th>854654</th>\n",
       "      <td>NaN</td>\n",
       "      <td>NaN</td>\n",
       "      <td>282136634</td>\n",
       "      <td>NaN</td>\n",
       "      <td>NaN</td>\n",
       "      <td>NaN</td>\n",
       "      <td>06048602562606</td>\n",
       "      <td>2.0</td>\n",
       "      <td>0051</td>\n",
       "      <td>+984000</td>\n",
       "      <td>0.0</td>\n",
       "    </tr>\n",
       "    <tr>\n",
       "      <th>857855</th>\n",
       "      <td>NaN</td>\n",
       "      <td>NaN</td>\n",
       "      <td>283150202</td>\n",
       "      <td>NaN</td>\n",
       "      <td>NaN</td>\n",
       "      <td>NaN</td>\n",
       "      <td>06078440383236</td>\n",
       "      <td>2.0</td>\n",
       "      <td>0052</td>\n",
       "      <td>+984600</td>\n",
       "      <td>0.0</td>\n",
       "    </tr>\n",
       "    <tr>\n",
       "      <th>1847925</th>\n",
       "      <td>NaN</td>\n",
       "      <td>NaN</td>\n",
       "      <td>540372262</td>\n",
       "      <td>NaN</td>\n",
       "      <td>NaN</td>\n",
       "      <td>NaN</td>\n",
       "      <td>18431106324572</td>\n",
       "      <td>2.0</td>\n",
       "      <td>0001</td>\n",
       "      <td>+982500</td>\n",
       "      <td>1.0</td>\n",
       "    </tr>\n",
       "  </tbody>\n",
       "</table>\n",
       "</div>"
      ],
      "text/plain": [
       "        time  event_type   order_id size price  direction        time_new  \\\n",
       "436      NaN         NaN   24998518  NaN   NaN        NaN  00001112418929   \n",
       "11548    NaN         NaN   29181978  NaN   NaN        NaN  00037608073389   \n",
       "15377    NaN         NaN   26618334  NaN   NaN        NaN  00048774034578   \n",
       "15385    NaN         NaN   11849210  NaN   NaN        NaN  00048787407211   \n",
       "34835    NaN         NaN   33875366  NaN   NaN        NaN  00112718746558   \n",
       "75967    NaN         NaN   45900226  NaN   NaN        NaN  00331965257705   \n",
       "216153   NaN         NaN   11855094  NaN   NaN        NaN  01010246592369   \n",
       "534106   NaN         NaN  173222754  NaN   NaN        NaN  03142396355972   \n",
       "536576   NaN         NaN  173733154  NaN   NaN        NaN  03160541565204   \n",
       "539756   NaN         NaN  175004958  NaN   NaN        NaN  03189486907108   \n",
       "540863   NaN         NaN  175352082  NaN   NaN        NaN  03195495977291   \n",
       "545035   NaN         NaN  176884926  NaN   NaN        NaN  03225838270493   \n",
       "545549   NaN         NaN  177032418  NaN   NaN        NaN  03229996244086   \n",
       "545922   NaN         NaN  177155490  NaN   NaN        NaN  03233427530719   \n",
       "548658   NaN         NaN  177924834  NaN   NaN        NaN  03252329961165   \n",
       "548693   NaN         NaN  177924834  NaN   NaN        NaN  03252331117299   \n",
       "550985   NaN         NaN  178637734  NaN   NaN        NaN  03272013607391   \n",
       "551940   NaN         NaN  179000290  NaN   NaN        NaN  03280698882916   \n",
       "553382   NaN         NaN  179561554  NaN   NaN        NaN  03297577069412   \n",
       "559148   NaN         NaN  181450006  NaN   NaN        NaN  03339333708076   \n",
       "605189   NaN         NaN  197803838  NaN   NaN        NaN  03738213147964   \n",
       "607524   NaN         NaN  198736018  NaN   NaN        NaN  03762277528714   \n",
       "614872   NaN         NaN  201946590  NaN   NaN        NaN  03851509158487   \n",
       "615238   NaN         NaN  202068854  NaN   NaN        NaN  03853161082000   \n",
       "615836   NaN         NaN  202316262  NaN   NaN        NaN  03859409212398   \n",
       "665635   NaN         NaN  216566622  NaN   NaN        NaN  04214459932342   \n",
       "667460   NaN         NaN  217006234  NaN   NaN        NaN  04223034173532   \n",
       "750458   NaN         NaN  245463554  NaN   NaN        NaN  04953249970397   \n",
       "770221   NaN         NaN  253144494  NaN   NaN        NaN  05162054316594   \n",
       "789538   NaN         NaN  260361094  NaN   NaN        NaN  05380806791284   \n",
       "854654   NaN         NaN  282136634  NaN   NaN        NaN  06048602562606   \n",
       "857855   NaN         NaN  283150202  NaN   NaN        NaN  06078440383236   \n",
       "1847925  NaN         NaN  540372262  NaN   NaN        NaN  18431106324572   \n",
       "\n",
       "         event_type_new size_new price_new  direction_new  \n",
       "436                 2.0     0100   +986500            1.0  \n",
       "11548               2.0     0077   +988100            0.0  \n",
       "15377               2.0     0052   +985000            1.0  \n",
       "15385               2.0     0020   +985000            1.0  \n",
       "34835               2.0     0021   +984600            1.0  \n",
       "75967               2.0     0023   +984000            1.0  \n",
       "216153              2.0     0010   +990000            0.0  \n",
       "534106              2.0     0033   +987600            1.0  \n",
       "536576              2.0     0069   +987100            1.0  \n",
       "539756              2.0     0069   +987300            1.0  \n",
       "540863              2.0     0068   +986400            1.0  \n",
       "545035              2.0     0158   +986000            1.0  \n",
       "545549              2.0     0158   +986100            1.0  \n",
       "545922              2.0     0069   +986000            1.0  \n",
       "548658              2.0     0142   +986200            1.0  \n",
       "548693              2.0     0015   +986200            1.0  \n",
       "550985              2.0     0069   +986100            1.0  \n",
       "551940              2.0     0069   +985900            1.0  \n",
       "553382              2.0     0069   +986200            1.0  \n",
       "559148              2.0     0154   +985700            1.0  \n",
       "605189              2.0     0068   +983500            1.0  \n",
       "607524              2.0     0140   +982800            1.0  \n",
       "614872              2.0     0069   +982600            1.0  \n",
       "615238              2.0     0069   +982200            1.0  \n",
       "615836              2.0     0069   +982200            1.0  \n",
       "665635              2.0     0052   +978900            0.0  \n",
       "667460              2.0     0052   +978200            0.0  \n",
       "750458              2.0     0052   +980600            0.0  \n",
       "770221              2.0     0052   +981400            0.0  \n",
       "789538              2.0     0036   +983200            0.0  \n",
       "854654              2.0     0051   +984000            0.0  \n",
       "857855              2.0     0052   +984600            0.0  \n",
       "1847925             2.0     0001   +982500            1.0  "
      ]
     },
     "execution_count": 260,
     "metadata": {},
     "output_type": "execute_result"
    }
   ],
   "source": [
    "m_.loc[(m_.event_type_new == 2.0) & (m_.price != m_.price_new)]"
   ]
  },
  {
   "cell_type": "code",
   "execution_count": 257,
   "metadata": {},
   "outputs": [
    {
     "data": {
      "text/html": [
       "<div>\n",
       "<style scoped>\n",
       "    .dataframe tbody tr th:only-of-type {\n",
       "        vertical-align: middle;\n",
       "    }\n",
       "\n",
       "    .dataframe tbody tr th {\n",
       "        vertical-align: top;\n",
       "    }\n",
       "\n",
       "    .dataframe thead th {\n",
       "        text-align: right;\n",
       "    }\n",
       "</style>\n",
       "<table border=\"1\" class=\"dataframe\">\n",
       "  <thead>\n",
       "    <tr style=\"text-align: right;\">\n",
       "      <th></th>\n",
       "      <th>time</th>\n",
       "      <th>event_type</th>\n",
       "      <th>order_id</th>\n",
       "      <th>size</th>\n",
       "      <th>price</th>\n",
       "      <th>direction</th>\n",
       "      <th>time_new</th>\n",
       "      <th>event_type_new</th>\n",
       "      <th>size_new</th>\n",
       "      <th>price_new</th>\n",
       "      <th>direction_new</th>\n",
       "    </tr>\n",
       "  </thead>\n",
       "  <tbody>\n",
       "    <tr>\n",
       "      <th>0</th>\n",
       "      <td>00000000113279</td>\n",
       "      <td>4.0</td>\n",
       "      <td>24695958</td>\n",
       "      <td>0134</td>\n",
       "      <td>+987500</td>\n",
       "      <td>0.0</td>\n",
       "      <td>NaN</td>\n",
       "      <td>NaN</td>\n",
       "      <td>NaN</td>\n",
       "      <td>NaN</td>\n",
       "      <td>NaN</td>\n",
       "    </tr>\n",
       "    <tr>\n",
       "      <th>1</th>\n",
       "      <td>00000000113279</td>\n",
       "      <td>4.0</td>\n",
       "      <td>25053166</td>\n",
       "      <td>0200</td>\n",
       "      <td>+987500</td>\n",
       "      <td>0.0</td>\n",
       "      <td>NaN</td>\n",
       "      <td>NaN</td>\n",
       "      <td>NaN</td>\n",
       "      <td>NaN</td>\n",
       "      <td>NaN</td>\n",
       "    </tr>\n",
       "    <tr>\n",
       "      <th>6</th>\n",
       "      <td>00000000268904</td>\n",
       "      <td>4.0</td>\n",
       "      <td>24918322</td>\n",
       "      <td>0100</td>\n",
       "      <td>+987600</td>\n",
       "      <td>0.0</td>\n",
       "      <td>NaN</td>\n",
       "      <td>NaN</td>\n",
       "      <td>NaN</td>\n",
       "      <td>NaN</td>\n",
       "      <td>NaN</td>\n",
       "    </tr>\n",
       "    <tr>\n",
       "      <th>7</th>\n",
       "      <td>00000000280750</td>\n",
       "      <td>1.0</td>\n",
       "      <td>25069526</td>\n",
       "      <td>0100</td>\n",
       "      <td>+987500</td>\n",
       "      <td>0.0</td>\n",
       "      <td>NaN</td>\n",
       "      <td>NaN</td>\n",
       "      <td>NaN</td>\n",
       "      <td>NaN</td>\n",
       "      <td>NaN</td>\n",
       "    </tr>\n",
       "    <tr>\n",
       "      <th>8</th>\n",
       "      <td>NaN</td>\n",
       "      <td>NaN</td>\n",
       "      <td>25048950</td>\n",
       "      <td>NaN</td>\n",
       "      <td>NaN</td>\n",
       "      <td>NaN</td>\n",
       "      <td>00000001138045</td>\n",
       "      <td>3.0</td>\n",
       "      <td>0100</td>\n",
       "      <td>+986400</td>\n",
       "      <td>1.0</td>\n",
       "    </tr>\n",
       "    <tr>\n",
       "      <th>...</th>\n",
       "      <td>...</td>\n",
       "      <td>...</td>\n",
       "      <td>...</td>\n",
       "      <td>...</td>\n",
       "      <td>...</td>\n",
       "      <td>...</td>\n",
       "      <td>...</td>\n",
       "      <td>...</td>\n",
       "      <td>...</td>\n",
       "      <td>...</td>\n",
       "      <td>...</td>\n",
       "    </tr>\n",
       "    <tr>\n",
       "      <th>2244836</th>\n",
       "      <td>23399996507301</td>\n",
       "      <td>1.0</td>\n",
       "      <td>770732874</td>\n",
       "      <td>1385</td>\n",
       "      <td>+979600</td>\n",
       "      <td>1.0</td>\n",
       "      <td>NaN</td>\n",
       "      <td>NaN</td>\n",
       "      <td>NaN</td>\n",
       "      <td>NaN</td>\n",
       "      <td>NaN</td>\n",
       "    </tr>\n",
       "    <tr>\n",
       "      <th>2244837</th>\n",
       "      <td>23399996541451</td>\n",
       "      <td>1.0</td>\n",
       "      <td>770732886</td>\n",
       "      <td>0001</td>\n",
       "      <td>+979600</td>\n",
       "      <td>1.0</td>\n",
       "      <td>NaN</td>\n",
       "      <td>NaN</td>\n",
       "      <td>NaN</td>\n",
       "      <td>NaN</td>\n",
       "      <td>NaN</td>\n",
       "    </tr>\n",
       "    <tr>\n",
       "      <th>2244838</th>\n",
       "      <td>23399997147009</td>\n",
       "      <td>1.0</td>\n",
       "      <td>770733066</td>\n",
       "      <td>3500</td>\n",
       "      <td>+978700</td>\n",
       "      <td>1.0</td>\n",
       "      <td>NaN</td>\n",
       "      <td>NaN</td>\n",
       "      <td>NaN</td>\n",
       "      <td>NaN</td>\n",
       "      <td>NaN</td>\n",
       "    </tr>\n",
       "    <tr>\n",
       "      <th>2244839</th>\n",
       "      <td>23399996507301</td>\n",
       "      <td>1.0</td>\n",
       "      <td>770732874</td>\n",
       "      <td>1385</td>\n",
       "      <td>+979600</td>\n",
       "      <td>1.0</td>\n",
       "      <td>23399997521216</td>\n",
       "      <td>3.0</td>\n",
       "      <td>1385</td>\n",
       "      <td>+979600</td>\n",
       "      <td>1.0</td>\n",
       "    </tr>\n",
       "    <tr>\n",
       "      <th>2244840</th>\n",
       "      <td>23399982071353</td>\n",
       "      <td>1.0</td>\n",
       "      <td>770730074</td>\n",
       "      <td>0100</td>\n",
       "      <td>+979800</td>\n",
       "      <td>0.0</td>\n",
       "      <td>23399997766054</td>\n",
       "      <td>3.0</td>\n",
       "      <td>0100</td>\n",
       "      <td>+979800</td>\n",
       "      <td>0.0</td>\n",
       "    </tr>\n",
       "  </tbody>\n",
       "</table>\n",
       "<p>2237221 rows × 11 columns</p>\n",
       "</div>"
      ],
      "text/plain": [
       "                   time  event_type   order_id  size    price  direction  \\\n",
       "0        00000000113279         4.0   24695958  0134  +987500        0.0   \n",
       "1        00000000113279         4.0   25053166  0200  +987500        0.0   \n",
       "6        00000000268904         4.0   24918322  0100  +987600        0.0   \n",
       "7        00000000280750         1.0   25069526  0100  +987500        0.0   \n",
       "8                   NaN         NaN   25048950   NaN      NaN        NaN   \n",
       "...                 ...         ...        ...   ...      ...        ...   \n",
       "2244836  23399996507301         1.0  770732874  1385  +979600        1.0   \n",
       "2244837  23399996541451         1.0  770732886  0001  +979600        1.0   \n",
       "2244838  23399997147009         1.0  770733066  3500  +978700        1.0   \n",
       "2244839  23399996507301         1.0  770732874  1385  +979600        1.0   \n",
       "2244840  23399982071353         1.0  770730074  0100  +979800        0.0   \n",
       "\n",
       "               time_new  event_type_new size_new price_new  direction_new  \n",
       "0                   NaN             NaN      NaN       NaN            NaN  \n",
       "1                   NaN             NaN      NaN       NaN            NaN  \n",
       "6                   NaN             NaN      NaN       NaN            NaN  \n",
       "7                   NaN             NaN      NaN       NaN            NaN  \n",
       "8        00000001138045             3.0     0100   +986400            1.0  \n",
       "...                 ...             ...      ...       ...            ...  \n",
       "2244836             NaN             NaN      NaN       NaN            NaN  \n",
       "2244837             NaN             NaN      NaN       NaN            NaN  \n",
       "2244838             NaN             NaN      NaN       NaN            NaN  \n",
       "2244839  23399997521216             3.0     1385   +979600            1.0  \n",
       "2244840  23399997766054             3.0     0100   +979800            0.0  \n",
       "\n",
       "[2237221 rows x 11 columns]"
      ]
     },
     "execution_count": 257,
     "metadata": {},
     "output_type": "execute_result"
    }
   ],
   "source": [
    "m_"
   ]
  },
  {
   "cell_type": "code",
   "execution_count": 252,
   "metadata": {},
   "outputs": [
    {
     "data": {
      "text/html": [
       "<div>\n",
       "<style scoped>\n",
       "    .dataframe tbody tr th:only-of-type {\n",
       "        vertical-align: middle;\n",
       "    }\n",
       "\n",
       "    .dataframe tbody tr th {\n",
       "        vertical-align: top;\n",
       "    }\n",
       "\n",
       "    .dataframe thead th {\n",
       "        text-align: right;\n",
       "    }\n",
       "</style>\n",
       "<table border=\"1\" class=\"dataframe\">\n",
       "  <thead>\n",
       "    <tr style=\"text-align: right;\">\n",
       "      <th></th>\n",
       "      <th>time</th>\n",
       "      <th>event_type</th>\n",
       "      <th>order_id</th>\n",
       "      <th>size</th>\n",
       "      <th>price</th>\n",
       "      <th>direction</th>\n",
       "      <th>time_new</th>\n",
       "      <th>event_type_new</th>\n",
       "      <th>size_new</th>\n",
       "      <th>price_new</th>\n",
       "      <th>direction_new</th>\n",
       "    </tr>\n",
       "  </thead>\n",
       "  <tbody>\n",
       "    <tr>\n",
       "      <th>2244645</th>\n",
       "      <td>23399602806328</td>\n",
       "      <td>1.0</td>\n",
       "      <td>770684590</td>\n",
       "      <td>0200</td>\n",
       "      <td>+979800</td>\n",
       "      <td>0.0</td>\n",
       "      <td>NaN</td>\n",
       "      <td>NaN</td>\n",
       "      <td>NaN</td>\n",
       "      <td>NaN</td>\n",
       "      <td>NaN</td>\n",
       "    </tr>\n",
       "    <tr>\n",
       "      <th>2244654</th>\n",
       "      <td>23399602806328</td>\n",
       "      <td>1.0</td>\n",
       "      <td>770684590</td>\n",
       "      <td>0200</td>\n",
       "      <td>+979800</td>\n",
       "      <td>0.0</td>\n",
       "      <td>23399641629215</td>\n",
       "      <td>2.0</td>\n",
       "      <td>0100</td>\n",
       "      <td>+979800</td>\n",
       "      <td>0.0</td>\n",
       "    </tr>\n",
       "    <tr>\n",
       "      <th>2244664</th>\n",
       "      <td>23399602806328</td>\n",
       "      <td>1.0</td>\n",
       "      <td>770684590</td>\n",
       "      <td>0200</td>\n",
       "      <td>+979800</td>\n",
       "      <td>0.0</td>\n",
       "      <td>23399665368374</td>\n",
       "      <td>3.0</td>\n",
       "      <td>0100</td>\n",
       "      <td>+979800</td>\n",
       "      <td>0.0</td>\n",
       "    </tr>\n",
       "  </tbody>\n",
       "</table>\n",
       "</div>"
      ],
      "text/plain": [
       "                   time  event_type   order_id  size    price  direction  \\\n",
       "2244645  23399602806328         1.0  770684590  0200  +979800        0.0   \n",
       "2244654  23399602806328         1.0  770684590  0200  +979800        0.0   \n",
       "2244664  23399602806328         1.0  770684590  0200  +979800        0.0   \n",
       "\n",
       "               time_new  event_type_new size_new price_new  direction_new  \n",
       "2244645             NaN             NaN      NaN       NaN            NaN  \n",
       "2244654  23399641629215             2.0     0100   +979800            0.0  \n",
       "2244664  23399665368374             3.0     0100   +979800            0.0  "
      ]
     },
     "execution_count": 252,
     "metadata": {},
     "output_type": "execute_result"
    }
   ],
   "source": [
    "m_.loc[m_.order_id == 770684590]"
   ]
  },
  {
   "cell_type": "code",
   "execution_count": 247,
   "metadata": {},
   "outputs": [
    {
     "data": {
      "text/html": [
       "<div>\n",
       "<style scoped>\n",
       "    .dataframe tbody tr th:only-of-type {\n",
       "        vertical-align: middle;\n",
       "    }\n",
       "\n",
       "    .dataframe tbody tr th {\n",
       "        vertical-align: top;\n",
       "    }\n",
       "\n",
       "    .dataframe thead th {\n",
       "        text-align: right;\n",
       "    }\n",
       "</style>\n",
       "<table border=\"1\" class=\"dataframe\">\n",
       "  <thead>\n",
       "    <tr style=\"text-align: right;\">\n",
       "      <th></th>\n",
       "      <th>time</th>\n",
       "      <th>event_type</th>\n",
       "      <th>order_id</th>\n",
       "      <th>size</th>\n",
       "      <th>price</th>\n",
       "      <th>direction</th>\n",
       "      <th>time_new</th>\n",
       "      <th>event_type_new</th>\n",
       "      <th>size_new</th>\n",
       "      <th>price_new</th>\n",
       "      <th>direction_new</th>\n",
       "    </tr>\n",
       "  </thead>\n",
       "  <tbody>\n",
       "    <tr>\n",
       "      <th>8</th>\n",
       "      <td>NaN</td>\n",
       "      <td>NaN</td>\n",
       "      <td>25048950</td>\n",
       "      <td>NaN</td>\n",
       "      <td>NaN</td>\n",
       "      <td>NaN</td>\n",
       "      <td>00000001138045</td>\n",
       "      <td>3.0</td>\n",
       "      <td>0100</td>\n",
       "      <td>+986400</td>\n",
       "      <td>1.0</td>\n",
       "    </tr>\n",
       "    <tr>\n",
       "      <th>9</th>\n",
       "      <td>NaN</td>\n",
       "      <td>NaN</td>\n",
       "      <td>25058938</td>\n",
       "      <td>NaN</td>\n",
       "      <td>NaN</td>\n",
       "      <td>NaN</td>\n",
       "      <td>00000001375939</td>\n",
       "      <td>3.0</td>\n",
       "      <td>0100</td>\n",
       "      <td>+986400</td>\n",
       "      <td>1.0</td>\n",
       "    </tr>\n",
       "    <tr>\n",
       "      <th>10</th>\n",
       "      <td>NaN</td>\n",
       "      <td>NaN</td>\n",
       "      <td>24918322</td>\n",
       "      <td>NaN</td>\n",
       "      <td>NaN</td>\n",
       "      <td>NaN</td>\n",
       "      <td>00000001636989</td>\n",
       "      <td>3.0</td>\n",
       "      <td>0100</td>\n",
       "      <td>+987600</td>\n",
       "      <td>0.0</td>\n",
       "    </tr>\n",
       "    <tr>\n",
       "      <th>22</th>\n",
       "      <td>NaN</td>\n",
       "      <td>NaN</td>\n",
       "      <td>24912546</td>\n",
       "      <td>NaN</td>\n",
       "      <td>NaN</td>\n",
       "      <td>NaN</td>\n",
       "      <td>00000010627437</td>\n",
       "      <td>3.0</td>\n",
       "      <td>0100</td>\n",
       "      <td>+987900</td>\n",
       "      <td>0.0</td>\n",
       "    </tr>\n",
       "    <tr>\n",
       "      <th>25</th>\n",
       "      <td>NaN</td>\n",
       "      <td>NaN</td>\n",
       "      <td>24625822</td>\n",
       "      <td>NaN</td>\n",
       "      <td>NaN</td>\n",
       "      <td>NaN</td>\n",
       "      <td>00000012798717</td>\n",
       "      <td>3.0</td>\n",
       "      <td>0100</td>\n",
       "      <td>+988300</td>\n",
       "      <td>0.0</td>\n",
       "    </tr>\n",
       "    <tr>\n",
       "      <th>...</th>\n",
       "      <td>...</td>\n",
       "      <td>...</td>\n",
       "      <td>...</td>\n",
       "      <td>...</td>\n",
       "      <td>...</td>\n",
       "      <td>...</td>\n",
       "      <td>...</td>\n",
       "      <td>...</td>\n",
       "      <td>...</td>\n",
       "      <td>...</td>\n",
       "      <td>...</td>\n",
       "    </tr>\n",
       "    <tr>\n",
       "      <th>2244486</th>\n",
       "      <td>23399257095943</td>\n",
       "      <td>1.0</td>\n",
       "      <td>770641814</td>\n",
       "      <td>0200</td>\n",
       "      <td>+979000</td>\n",
       "      <td>1.0</td>\n",
       "      <td>23399400871739</td>\n",
       "      <td>3.0</td>\n",
       "      <td>0100</td>\n",
       "      <td>+979000</td>\n",
       "      <td>1.0</td>\n",
       "    </tr>\n",
       "    <tr>\n",
       "      <th>2244566</th>\n",
       "      <td>23384544022892</td>\n",
       "      <td>1.0</td>\n",
       "      <td>768876806</td>\n",
       "      <td>0200</td>\n",
       "      <td>+978500</td>\n",
       "      <td>1.0</td>\n",
       "      <td>23399500712247</td>\n",
       "      <td>3.0</td>\n",
       "      <td>0100</td>\n",
       "      <td>+978500</td>\n",
       "      <td>1.0</td>\n",
       "    </tr>\n",
       "    <tr>\n",
       "      <th>2244571</th>\n",
       "      <td>23399412072736</td>\n",
       "      <td>1.0</td>\n",
       "      <td>770657050</td>\n",
       "      <td>0200</td>\n",
       "      <td>+979000</td>\n",
       "      <td>1.0</td>\n",
       "      <td>23399504733841</td>\n",
       "      <td>3.0</td>\n",
       "      <td>0100</td>\n",
       "      <td>+979000</td>\n",
       "      <td>1.0</td>\n",
       "    </tr>\n",
       "    <tr>\n",
       "      <th>2244664</th>\n",
       "      <td>23399602806328</td>\n",
       "      <td>1.0</td>\n",
       "      <td>770684590</td>\n",
       "      <td>0200</td>\n",
       "      <td>+979800</td>\n",
       "      <td>0.0</td>\n",
       "      <td>23399665368374</td>\n",
       "      <td>3.0</td>\n",
       "      <td>0100</td>\n",
       "      <td>+979800</td>\n",
       "      <td>0.0</td>\n",
       "    </tr>\n",
       "    <tr>\n",
       "      <th>2244745</th>\n",
       "      <td>NaN</td>\n",
       "      <td>NaN</td>\n",
       "      <td>770674310</td>\n",
       "      <td>NaN</td>\n",
       "      <td>NaN</td>\n",
       "      <td>NaN</td>\n",
       "      <td>23399832100775</td>\n",
       "      <td>3.0</td>\n",
       "      <td>0100</td>\n",
       "      <td>+978600</td>\n",
       "      <td>1.0</td>\n",
       "    </tr>\n",
       "  </tbody>\n",
       "</table>\n",
       "<p>31123 rows × 11 columns</p>\n",
       "</div>"
      ],
      "text/plain": [
       "                   time  event_type   order_id  size    price  direction  \\\n",
       "8                   NaN         NaN   25048950   NaN      NaN        NaN   \n",
       "9                   NaN         NaN   25058938   NaN      NaN        NaN   \n",
       "10                  NaN         NaN   24918322   NaN      NaN        NaN   \n",
       "22                  NaN         NaN   24912546   NaN      NaN        NaN   \n",
       "25                  NaN         NaN   24625822   NaN      NaN        NaN   \n",
       "...                 ...         ...        ...   ...      ...        ...   \n",
       "2244486  23399257095943         1.0  770641814  0200  +979000        1.0   \n",
       "2244566  23384544022892         1.0  768876806  0200  +978500        1.0   \n",
       "2244571  23399412072736         1.0  770657050  0200  +979000        1.0   \n",
       "2244664  23399602806328         1.0  770684590  0200  +979800        0.0   \n",
       "2244745             NaN         NaN  770674310   NaN      NaN        NaN   \n",
       "\n",
       "               time_new  event_type_new size_new price_new  direction_new  \n",
       "8        00000001138045             3.0     0100   +986400            1.0  \n",
       "9        00000001375939             3.0     0100   +986400            1.0  \n",
       "10       00000001636989             3.0     0100   +987600            0.0  \n",
       "22       00000010627437             3.0     0100   +987900            0.0  \n",
       "25       00000012798717             3.0     0100   +988300            0.0  \n",
       "...                 ...             ...      ...       ...            ...  \n",
       "2244486  23399400871739             3.0     0100   +979000            1.0  \n",
       "2244566  23399500712247             3.0     0100   +978500            1.0  \n",
       "2244571  23399504733841             3.0     0100   +979000            1.0  \n",
       "2244664  23399665368374             3.0     0100   +979800            0.0  \n",
       "2244745  23399832100775             3.0     0100   +978600            1.0  \n",
       "\n",
       "[31123 rows x 11 columns]"
      ]
     },
     "execution_count": 247,
     "metadata": {},
     "output_type": "execute_result"
    }
   ],
   "source": [
    "m_.loc[(m_.event_type_new == 3) & (m_.size_new != m_['size'])]"
   ]
  },
  {
   "cell_type": "code",
   "execution_count": 17,
   "metadata": {},
   "outputs": [],
   "source": [
    "m_enc = tok.encode(m_, v)"
   ]
  },
  {
   "cell_type": "code",
   "execution_count": 18,
   "metadata": {},
   "outputs": [
    {
     "data": {
      "text/plain": [
       "array([[ 9,  9,  9, ...,  2,  2,  2],\n",
       "       [ 9,  9,  9, ...,  2,  2,  2],\n",
       "       [ 9,  9,  9, ...,  2,  2,  2],\n",
       "       ...,\n",
       "       [11, 12, 12, ...,  2,  2,  2],\n",
       "       [11, 12, 12, ...,  9,  9,  8],\n",
       "       [11, 12, 12, ...,  9, 11,  7]])"
      ]
     },
     "execution_count": 18,
     "metadata": {},
     "output_type": "execute_result"
    }
   ],
   "source": [
    "m_enc"
   ]
  },
  {
   "cell_type": "code",
   "execution_count": 19,
   "metadata": {},
   "outputs": [
    {
     "data": {
      "text/plain": [
       "(2237220, 46)"
      ]
     },
     "execution_count": 19,
     "metadata": {},
     "output_type": "execute_result"
    }
   ],
   "source": [
    "m_enc.shape"
   ]
  },
  {
   "cell_type": "code",
   "execution_count": 20,
   "metadata": {},
   "outputs": [
    {
     "data": {
      "text/plain": [
       "array([[ 9,  9,  9,  9,  9,  9,  9,  9, 10, 10, 12, 11, 16, 18,  6,  9,\n",
       "        11,  9,  9, 19,  9, 10,  7,  2,  2,  2,  2,  2,  2,  2,  2,  2,\n",
       "         2,  2,  2,  2,  2,  2,  2,  2,  2,  2,  2,  2,  2,  2],\n",
       "       [ 9,  9,  9,  9,  9,  9,  9,  9, 11, 15, 17, 18,  9, 13,  6,  9,\n",
       "        10,  9,  9, 19,  9, 11,  7,  2,  2,  2,  2,  2,  2,  2,  2,  2,\n",
       "         2,  2,  2,  2,  2,  2,  2,  2,  2,  2,  2,  2,  2,  2]])"
      ]
     },
     "execution_count": 20,
     "metadata": {},
     "output_type": "execute_result"
    }
   ],
   "source": [
    "m_enc[:2]"
   ]
  },
  {
   "cell_type": "code",
   "execution_count": 122,
   "metadata": {},
   "outputs": [
    {
     "data": {
      "text/plain": [
       "array([[1.13279e+05, 4.00000e+00, 2.00000e+02, 1.00000e+00, 0.00000e+00,\n",
       "                nan,         nan,         nan,         nan,         nan],\n",
       "       [2.68904e+05, 4.00000e+00, 1.00000e+02, 2.00000e+00, 0.00000e+00,\n",
       "                nan,         nan,         nan,         nan,         nan]])"
      ]
     },
     "execution_count": 122,
     "metadata": {},
     "output_type": "execute_result"
    }
   ],
   "source": [
    "tok.decode(m_enc[:2], v)"
   ]
  },
  {
   "cell_type": "code",
   "execution_count": 62,
   "metadata": {},
   "outputs": [
    {
     "data": {
      "text/html": [
       "<div>\n",
       "<style scoped>\n",
       "    .dataframe tbody tr th:only-of-type {\n",
       "        vertical-align: middle;\n",
       "    }\n",
       "\n",
       "    .dataframe tbody tr th {\n",
       "        vertical-align: top;\n",
       "    }\n",
       "\n",
       "    .dataframe thead th {\n",
       "        text-align: right;\n",
       "    }\n",
       "</style>\n",
       "<table border=\"1\" class=\"dataframe\">\n",
       "  <thead>\n",
       "    <tr style=\"text-align: right;\">\n",
       "      <th></th>\n",
       "      <th>time</th>\n",
       "      <th>event_type</th>\n",
       "      <th>order_id</th>\n",
       "      <th>size</th>\n",
       "      <th>price</th>\n",
       "      <th>direction</th>\n",
       "    </tr>\n",
       "  </thead>\n",
       "  <tbody>\n",
       "    <tr>\n",
       "      <th>1</th>\n",
       "      <td>34200.000113</td>\n",
       "      <td>4</td>\n",
       "      <td>25053166</td>\n",
       "      <td>200</td>\n",
       "      <td>987500</td>\n",
       "      <td>-1</td>\n",
       "    </tr>\n",
       "    <tr>\n",
       "      <th>6</th>\n",
       "      <td>34200.000269</td>\n",
       "      <td>4</td>\n",
       "      <td>24918322</td>\n",
       "      <td>100</td>\n",
       "      <td>987600</td>\n",
       "      <td>-1</td>\n",
       "    </tr>\n",
       "  </tbody>\n",
       "</table>\n",
       "</div>"
      ],
      "text/plain": [
       "           time  event_type  order_id  size   price  direction\n",
       "1  34200.000113           4  25053166   200  987500         -1\n",
       "6  34200.000269           4  24918322   100  987600         -1"
      ]
     },
     "execution_count": 62,
     "metadata": {},
     "output_type": "execute_result"
    }
   ],
   "source": [
    "m.loc[m.event_type < 5].iloc[1:3]"
   ]
  },
  {
   "cell_type": "code",
   "execution_count": 64,
   "metadata": {},
   "outputs": [
    {
     "data": {
      "text/plain": [
       "2244841"
      ]
     },
     "execution_count": 64,
     "metadata": {},
     "output_type": "execute_result"
    }
   ],
   "source": [
    "len(m)"
   ]
  },
  {
   "cell_type": "code",
   "execution_count": 70,
   "metadata": {},
   "outputs": [
    {
     "data": {
      "text/html": [
       "<div>\n",
       "<style scoped>\n",
       "    .dataframe tbody tr th:only-of-type {\n",
       "        vertical-align: middle;\n",
       "    }\n",
       "\n",
       "    .dataframe tbody tr th {\n",
       "        vertical-align: top;\n",
       "    }\n",
       "\n",
       "    .dataframe thead th {\n",
       "        text-align: right;\n",
       "    }\n",
       "</style>\n",
       "<table border=\"1\" class=\"dataframe\">\n",
       "  <thead>\n",
       "    <tr style=\"text-align: right;\">\n",
       "      <th></th>\n",
       "      <th>time</th>\n",
       "      <th>event_type</th>\n",
       "      <th>order_id</th>\n",
       "      <th>size</th>\n",
       "      <th>price</th>\n",
       "      <th>direction</th>\n",
       "    </tr>\n",
       "  </thead>\n",
       "  <tbody>\n",
       "  </tbody>\n",
       "</table>\n",
       "</div>"
      ],
      "text/plain": [
       "Empty DataFrame\n",
       "Columns: [time, event_type, order_id, size, price, direction]\n",
       "Index: []"
      ]
     },
     "execution_count": 70,
     "metadata": {},
     "output_type": "execute_result"
    }
   ],
   "source": [
    "m.loc[m.event_type == 1].loc[m.duplicated(keep=False)]"
   ]
  },
  {
   "cell_type": "code",
   "execution_count": 109,
   "metadata": {},
   "outputs": [
    {
     "data": {
      "text/plain": [
       "1             [8, 8, 8, 8, 8, 8, 8, 8, 9, 9, 11, 10, 15, 17]\n",
       "6            [8, 8, 8, 8, 8, 8, 8, 8, 10, 14, 16, 17, 8, 12]\n",
       "7             [8, 8, 8, 8, 8, 8, 8, 8, 10, 16, 8, 15, 13, 8]\n",
       "8             [8, 8, 8, 8, 8, 8, 8, 9, 9, 11, 16, 8, 12, 13]\n",
       "9           [8, 8, 8, 8, 8, 8, 8, 9, 11, 15, 13, 17, 11, 17]\n",
       "                                 ...                        \n",
       "2244836    [10, 11, 11, 17, 17, 17, 17, 14, 13, 8, 15, 11...\n",
       "2244837    [10, 11, 11, 17, 17, 17, 17, 14, 13, 12, 9, 12...\n",
       "2244838    [10, 11, 11, 17, 17, 17, 17, 15, 9, 12, 15, 8,...\n",
       "2244839    [10, 11, 11, 17, 17, 17, 17, 15, 13, 10, 9, 10...\n",
       "2244840    [10, 11, 11, 17, 17, 17, 17, 15, 15, 14, 14, 8...\n",
       "Name: time, Length: 2237220, dtype: object"
      ]
     },
     "execution_count": 109,
     "metadata": {},
     "output_type": "execute_result"
    }
   ],
   "source": [
    "enc = v.ENCODING['generic']\n",
    "m_.time.apply(lambda num: [enc[d] for d in str(num)])"
   ]
  },
  {
   "cell_type": "code",
   "execution_count": 295,
   "metadata": {},
   "outputs": [
    {
     "data": {
      "text/plain": [
       "0.0        105\n",
       "1.0      13706\n",
       "2.0       9152\n",
       "3.0      15134\n",
       "4.0      21622\n",
       "5.0      28293\n",
       "6.0      34845\n",
       "7.0      26895\n",
       "8.0      40070\n",
       "9.0      57480\n",
       "10.0    195918\n",
       "11.0    176574\n",
       "12.0    110898\n",
       "13.0     60406\n",
       "14.0     35032\n",
       "15.0     31865\n",
       "16.0     23512\n",
       "17.0     21372\n",
       "18.0     12993\n",
       "19.0     11104\n",
       "20.0      9970\n",
       "21.0      6183\n",
       "22.0       410\n",
       "23.0       210\n",
       "Name: price, dtype: int64"
      ]
     },
     "execution_count": 295,
     "metadata": {},
     "output_type": "execute_result"
    }
   ],
   "source": [
    "m_['price'].value_counts().sort_index()"
   ]
  },
  {
   "cell_type": "code",
   "execution_count": 213,
   "metadata": {},
   "outputs": [
    {
     "data": {
      "text/plain": [
       "-10.0       209\n",
       "-9.0      23289\n",
       "-8.0      12126\n",
       "-7.0      13809\n",
       "-6.0      29999\n",
       "-5.0      51072\n",
       "-4.0      48074\n",
       "-3.0      47813\n",
       "-2.0      57652\n",
       "-1.0      74236\n",
       " 0.0     245298\n",
       " 1.0     190922\n",
       " 2.0     128258\n",
       " 3.0      49788\n",
       " 4.0      31958\n",
       " 5.0      33535\n",
       " 6.0      32617\n",
       " 7.0      20158\n",
       " 8.0      25511\n",
       " 9.0      10139\n",
       " 10.0      9876\n",
       " 11.0     11180\n",
       " 12.0       251\n",
       " 13.0       174\n",
       "Name: price, dtype: int64"
      ]
     },
     "execution_count": 213,
     "metadata": {},
     "output_type": "execute_result"
    }
   ],
   "source": [
    "df_.price.value_counts().sort_index()"
   ]
  },
  {
   "cell_type": "code",
   "execution_count": 167,
   "metadata": {},
   "outputs": [
    {
     "data": {
      "text/plain": [
       "<AxesSubplot:>"
      ]
     },
     "execution_count": 167,
     "metadata": {},
     "output_type": "execute_result"
    },
    {
     "data": {
      "image/png": "[encoded data removed]",
      "text/plain": [
       "<Figure size 432x288 with 1 Axes>"
      ]
     },
     "metadata": {
      "needs_background": "light"
     },
     "output_type": "display_data"
    }
   ],
   "source": [
    "# what's the approx spread\n",
    "(book.iloc[:, 0] - book.iloc[:, 2]).plot()"
   ]
  },
  {
   "cell_type": "code",
   "execution_count": 169,
   "metadata": {},
   "outputs": [
    {
     "data": {
      "text/plain": [
       "<AxesSubplot:ylabel='Frequency'>"
      ]
     },
     "execution_count": 169,
     "metadata": {},
     "output_type": "execute_result"
    },
    {
     "data": {
      "image/png": "[encoded data removed]",
      "text/plain": [
       "<Figure size 432x288 with 1 Axes>"
      ]
     },
     "metadata": {
      "needs_background": "light"
     },
     "output_type": "display_data"
    }
   ],
   "source": [
    "(book.iloc[:, 0] - book.iloc[:, 2]).plot(kind='hist')"
   ]
  },
  {
   "cell_type": "code",
   "execution_count": 165,
   "metadata": {},
   "outputs": [
    {
     "data": {
      "text/plain": [
       "0.9954228384103818"
      ]
     },
     "execution_count": 165,
     "metadata": {},
     "output_type": "execute_result"
    }
   ],
   "source": [
    "# bid side: best - L10\n",
    "# min tick is 100, hence min 9-level diff is 900\n",
    "# <= 1000 covers 99.54%\n",
    "\n",
    "ten_level_diff = (book.iloc[:, 2] - book.iloc[:, -2])\n",
    "len(ten_level_diff.loc[ten_level_diff <= 1000]) / len(ten_level_diff)"
   ]
  },
  {
   "cell_type": "code",
   "execution_count": 180,
   "metadata": {},
   "outputs": [
    {
     "data": {
      "text/plain": [
       "0.9949025342997566"
      ]
     },
     "execution_count": 180,
     "metadata": {},
     "output_type": "execute_result"
    }
   ],
   "source": [
    "# ask side: L10 - best BID (i.e. including spread)\n",
    "# min tick is 100, hence min 10-level diff is 1000\n",
    "# <= 1100 covers 95.85% on ask side\n",
    "# <= 1400 covers 99.49% on ask side --> use\n",
    "\n",
    "ten_level_diff = (book.iloc[:, 2] - book.iloc[:, -4])\n",
    "len(ten_level_diff.loc[ten_level_diff >= -1400]) / len(ten_level_diff)"
   ]
  },
  {
   "cell_type": "code",
   "execution_count": 147,
   "metadata": {},
   "outputs": [
    {
     "data": {
      "text/plain": [
       "<AxesSubplot:ylabel='Frequency'>"
      ]
     },
     "execution_count": 147,
     "metadata": {},
     "output_type": "execute_result"
    },
    {
     "data": {
      "image/png": "[encoded data removed]",
      "text/plain": [
       "<Figure size 432x288 with 1 Axes>"
      ]
     },
     "metadata": {
      "needs_background": "light"
     },
     "output_type": "display_data"
    }
   ],
   "source": [
    "# what's the approx price difference between 10 levels\n",
    "(book.iloc[10000:, 2] - book.iloc[10000:, -2]).plot(kind='hist', bins=100)"
   ]
  },
  {
   "cell_type": "code",
   "execution_count": 129,
   "metadata": {},
   "outputs": [
    {
     "data": {
      "text/plain": [
       "<AxesSubplot:ylabel='Frequency'>"
      ]
     },
     "execution_count": 129,
     "metadata": {},
     "output_type": "execute_result"
    },
    {
     "data": {
      "image/png": "[encoded data removed]",
      "text/plain": [
       "<Figure size 432x288 with 1 Axes>"
      ]
     },
     "metadata": {
      "needs_background": "light"
     },
     "output_type": "display_data"
    }
   ],
   "source": [
    "df_.price.plot(kind='hist')"
   ]
  },
  {
   "cell_type": "code",
   "execution_count": 104,
   "metadata": {},
   "outputs": [
    {
     "data": {
      "text/html": [
       "<div>\n",
       "<style scoped>\n",
       "    .dataframe tbody tr th:only-of-type {\n",
       "        vertical-align: middle;\n",
       "    }\n",
       "\n",
       "    .dataframe tbody tr th {\n",
       "        vertical-align: top;\n",
       "    }\n",
       "\n",
       "    .dataframe thead th {\n",
       "        text-align: right;\n",
       "    }\n",
       "</style>\n",
       "<table border=\"1\" class=\"dataframe\">\n",
       "  <thead>\n",
       "    <tr style=\"text-align: right;\">\n",
       "      <th></th>\n",
       "      <th>time</th>\n",
       "      <th>event_type</th>\n",
       "      <th>order_id</th>\n",
       "      <th>size</th>\n",
       "      <th>price</th>\n",
       "      <th>direction</th>\n",
       "    </tr>\n",
       "  </thead>\n",
       "  <tbody>\n",
       "    <tr>\n",
       "      <th>1</th>\n",
       "      <td>34200.005721</td>\n",
       "      <td>0</td>\n",
       "      <td>31920154</td>\n",
       "      <td>0</td>\n",
       "      <td>0</td>\n",
       "      <td>0</td>\n",
       "    </tr>\n",
       "    <tr>\n",
       "      <th>2</th>\n",
       "      <td>34200.005789</td>\n",
       "      <td>0</td>\n",
       "      <td>31920330</td>\n",
       "      <td>1</td>\n",
       "      <td>1</td>\n",
       "      <td>1</td>\n",
       "    </tr>\n",
       "    <tr>\n",
       "      <th>3</th>\n",
       "      <td>34200.006397</td>\n",
       "      <td>0</td>\n",
       "      <td>31921510</td>\n",
       "      <td>1</td>\n",
       "      <td>2</td>\n",
       "      <td>0</td>\n",
       "    </tr>\n",
       "    <tr>\n",
       "      <th>5</th>\n",
       "      <td>34200.006966</td>\n",
       "      <td>0</td>\n",
       "      <td>31922478</td>\n",
       "      <td>2</td>\n",
       "      <td>0</td>\n",
       "      <td>0</td>\n",
       "    </tr>\n",
       "    <tr>\n",
       "      <th>6</th>\n",
       "      <td>34200.009470</td>\n",
       "      <td>0</td>\n",
       "      <td>31926114</td>\n",
       "      <td>3</td>\n",
       "      <td>3</td>\n",
       "      <td>0</td>\n",
       "    </tr>\n",
       "    <tr>\n",
       "      <th>...</th>\n",
       "      <td>...</td>\n",
       "      <td>...</td>\n",
       "      <td>...</td>\n",
       "      <td>...</td>\n",
       "      <td>...</td>\n",
       "      <td>...</td>\n",
       "    </tr>\n",
       "    <tr>\n",
       "      <th>1836147</th>\n",
       "      <td>57599.994821</td>\n",
       "      <td>0</td>\n",
       "      <td>727635970</td>\n",
       "      <td>1</td>\n",
       "      <td>219</td>\n",
       "      <td>0</td>\n",
       "    </tr>\n",
       "    <tr>\n",
       "      <th>1836148</th>\n",
       "      <td>57599.994850</td>\n",
       "      <td>0</td>\n",
       "      <td>727635974</td>\n",
       "      <td>1</td>\n",
       "      <td>219</td>\n",
       "      <td>0</td>\n",
       "    </tr>\n",
       "    <tr>\n",
       "      <th>1836150</th>\n",
       "      <td>57599.994852</td>\n",
       "      <td>0</td>\n",
       "      <td>727635978</td>\n",
       "      <td>1</td>\n",
       "      <td>219</td>\n",
       "      <td>0</td>\n",
       "    </tr>\n",
       "    <tr>\n",
       "      <th>1836151</th>\n",
       "      <td>57599.997158</td>\n",
       "      <td>0</td>\n",
       "      <td>727636550</td>\n",
       "      <td>1</td>\n",
       "      <td>219</td>\n",
       "      <td>0</td>\n",
       "    </tr>\n",
       "    <tr>\n",
       "      <th>1836154</th>\n",
       "      <td>57599.999708</td>\n",
       "      <td>0</td>\n",
       "      <td>727638486</td>\n",
       "      <td>3</td>\n",
       "      <td>217</td>\n",
       "      <td>0</td>\n",
       "    </tr>\n",
       "  </tbody>\n",
       "</table>\n",
       "<p>943750 rows × 6 columns</p>\n",
       "</div>"
      ],
      "text/plain": [
       "                 time  event_type   order_id  size  price  direction\n",
       "1        34200.005721           0   31920154     0      0          0\n",
       "2        34200.005789           0   31920330     1      1          1\n",
       "3        34200.006397           0   31921510     1      2          0\n",
       "5        34200.006966           0   31922478     2      0          0\n",
       "6        34200.009470           0   31926114     3      3          0\n",
       "...               ...         ...        ...   ...    ...        ...\n",
       "1836147  57599.994821           0  727635970     1    219          0\n",
       "1836148  57599.994850           0  727635974     1    219          0\n",
       "1836150  57599.994852           0  727635978     1    219          0\n",
       "1836151  57599.997158           0  727636550     1    219          0\n",
       "1836154  57599.999708           0  727638486     3    217          0\n",
       "\n",
       "[943750 rows x 6 columns]"
      ]
     },
     "execution_count": 104,
     "metadata": {},
     "output_type": "execute_result"
    }
   ],
   "source": [
    "normalize_messages(df_)"
   ]
  },
  {
   "cell_type": "code",
   "execution_count": null,
   "metadata": {},
   "outputs": [],
   "source": [
    "# size <= 500 rough 99% of data\n",
    "#      <= 100 85% of orders\n",
    "# propose encoding: every size until 50, bin 5 until 100, then round to every x100\n",
    "\n",
    "# price: ultimately, encode relative to mid-price at the time (not available in messages only)\n",
    "#        for now, just scale absolute price, and bin 10 ticks in distr.\n",
    "\n",
    "# order id: ignore for now"
   ]
  },
  {
   "attachments": {},
   "cell_type": "markdown",
   "metadata": {},
   "source": [
    "order types: start with 1, 4, i.e. ignore referential orders (cancel, delete) and hidden\n",
    "\n",
    "1: Submission of a new limit order\n",
    "\n",
    "2: Cancellation (partial deletion of a limit order)\n",
    "\n",
    "3: Deletion (total deletion of a limit order)\n",
    "\n",
    "4: Execution of a visible limit order\n",
    "\n",
    "5: Execution of a hidden limit order\n",
    "\n",
    "6: Indicates a cross trade, e.g. auction trade\n",
    "\n",
    "7: Trading halt indicator (detailed information below)"
   ]
  },
  {
   "cell_type": "code",
   "execution_count": 42,
   "metadata": {},
   "outputs": [],
   "source": [
    "window_size = 500\n",
    "max_deviations = df.price.rolling(window=window_size).apply(lambda seg: (seg - seg.iloc[0]).max())"
   ]
  },
  {
   "cell_type": "code",
   "execution_count": 52,
   "metadata": {},
   "outputs": [],
   "source": [
    "window_size = 5000\n",
    "max_deviations_long = df.price.rolling(window=window_size).apply(lambda seg: (seg - seg.iloc[0]).max())"
   ]
  },
  {
   "cell_type": "code",
   "execution_count": 48,
   "metadata": {},
   "outputs": [
    {
     "data": {
      "text/plain": [
       "<AxesSubplot:ylabel='Frequency'>"
      ]
     },
     "execution_count": 48,
     "metadata": {},
     "output_type": "execute_result"
    },
    {
     "data": {
      "image/png": "[encoded data removed]",
      "text/plain": [
       "<Figure size 432x288 with 1 Axes>"
      ]
     },
     "metadata": {
      "needs_background": "light"
     },
     "output_type": "display_data"
    }
   ],
   "source": [
    "max_deviations.plot(kind='hist')"
   ]
  },
  {
   "cell_type": "code",
   "execution_count": 53,
   "metadata": {},
   "outputs": [
    {
     "data": {
      "text/plain": [
       "<AxesSubplot:ylabel='Frequency'>"
      ]
     },
     "execution_count": 53,
     "metadata": {},
     "output_type": "execute_result"
    },
    {
     "data": {
      "image/png": "[encoded data removed]",
      "text/plain": [
       "<Figure size 432x288 with 1 Axes>"
      ]
     },
     "metadata": {
      "needs_background": "light"
     },
     "output_type": "display_data"
    }
   ],
   "source": [
    "max_deviations_long.plot(kind='hist')"
   ]
  },
  {
   "cell_type": "code",
   "execution_count": 39,
   "metadata": {},
   "outputs": [
    {
     "data": {
      "text/plain": [
       "count    1.836155e+06\n",
       "mean     9.885920e+05\n",
       "std      4.166003e+03\n",
       "min      9.769000e+05\n",
       "25%      9.861000e+05\n",
       "50%      9.880000e+05\n",
       "75%      9.905000e+05\n",
       "max      1.000000e+06\n",
       "Name: price, dtype: float64"
      ]
     },
     "execution_count": 39,
     "metadata": {},
     "output_type": "execute_result"
    }
   ],
   "source": [
    "df['price'].describe()"
   ]
  },
  {
   "cell_type": "code",
   "execution_count": 19,
   "metadata": {},
   "outputs": [
    {
     "data": {
      "text/plain": [
       "<AxesSubplot:>"
      ]
     },
     "execution_count": 19,
     "metadata": {},
     "output_type": "execute_result"
    },
    {
     "data": {
      "image/png": "[encoded data removed]",
      "text/plain": [
       "<Figure size 432x288 with 1 Axes>"
      ]
     },
     "metadata": {
      "needs_background": "light"
     },
     "output_type": "display_data"
    }
   ],
   "source": [
    "df['size'].plot(kind='box')"
   ]
  },
  {
   "cell_type": "code",
   "execution_count": 66,
   "metadata": {},
   "outputs": [
    {
     "data": {
      "text/plain": [
       "0.9999937634781261"
      ]
     },
     "execution_count": 66,
     "metadata": {},
     "output_type": "execute_result"
    }
   ],
   "source": [
    "len(m.loc[m['size'] <= 10000]) / len(m)"
   ]
  },
  {
   "cell_type": "code",
   "execution_count": null,
   "metadata": {},
   "outputs": [
    {
     "data": {
      "text/plain": [
       "0.8534208713316687"
      ]
     },
     "metadata": {},
     "output_type": "display_data"
    }
   ],
   "source": [
    "len(df.loc[df['size'] <= 100]) / len(df)"
   ]
  },
  {
   "cell_type": "code",
   "execution_count": 31,
   "metadata": {},
   "outputs": [
    {
     "data": {
      "text/plain": [
       "<AxesSubplot:>"
      ]
     },
     "execution_count": 31,
     "metadata": {},
     "output_type": "execute_result"
    },
    {
     "data": {
      "image/png": "[encoded data removed]",
      "text/plain": [
       "<Figure size 432x288 with 1 Axes>"
      ]
     },
     "metadata": {
      "needs_background": "light"
     },
     "output_type": "display_data"
    }
   ],
   "source": [
    "df.loc[df['size'] < 500, 'size'].hist(histtype='step', bins=20)"
   ]
  },
  {
   "cell_type": "code",
   "execution_count": 38,
   "metadata": {},
   "outputs": [
    {
     "data": {
      "text/plain": [
       "<AxesSubplot:>"
      ]
     },
     "execution_count": 38,
     "metadata": {},
     "output_type": "execute_result"
    },
    {
     "data": {
      "image/png": "[encoded data removed]",
      "text/plain": [
       "<Figure size 432x288 with 1 Axes>"
      ]
     },
     "metadata": {
      "needs_background": "light"
     },
     "output_type": "display_data"
    }
   ],
   "source": [
    "df.loc[df['size'] < 100, 'size'].hist(histtype='step', bins=20)"
   ]
  },
  {
   "cell_type": "code",
   "execution_count": 5,
   "metadata": {},
   "outputs": [],
   "source": [
    "from lobster_dataloader import LOBSTER_Dataset\n",
    "import time"
   ]
  },
  {
   "cell_type": "code",
   "execution_count": 7,
   "metadata": {},
   "outputs": [],
   "source": [
    "messages = sorted(glob(save_dir + '*message*.csv'))"
   ]
  },
  {
   "cell_type": "code",
   "execution_count": 8,
   "metadata": {},
   "outputs": [
    {
     "data": {
      "text/plain": [
       "['/nfs/home/peern/LOBS5/data/GOOG_2023-01-30_34200000_57600000_message_10_proc.csv',\n",
       " '/nfs/home/peern/LOBS5/data/GOOG_2023-01-31_34200000_57600000_message_10_proc.csv']"
      ]
     },
     "execution_count": 8,
     "metadata": {},
     "output_type": "execute_result"
    }
   ],
   "source": [
    "messages"
   ]
  },
  {
   "cell_type": "code",
   "execution_count": 16,
   "metadata": {},
   "outputs": [
    {
     "name": "stdout",
     "output_type": "stream",
     "text": [
      "--- 9.81752634048462 seconds ---\n"
     ]
    }
   ],
   "source": [
    "d = LOBSTER_Dataset(message_files=messages, seq_len=500, n_buffer_files=0)\n",
    "\n",
    "start_time = time.time()\n",
    "\n",
    "for i in range(5000):\n",
    "    d[i]\n",
    "\n",
    "print(\"--- %s seconds ---\" % (time.time() - start_time))"
   ]
  },
  {
   "cell_type": "code",
   "execution_count": 17,
   "metadata": {},
   "outputs": [
    {
     "name": "stdout",
     "output_type": "stream",
     "text": [
      "--- 0.8904905319213867 seconds ---\n"
     ]
    }
   ],
   "source": [
    "d = LOBSTER_Dataset(message_files=messages, seq_len=500, n_buffer_files=2)\n",
    "\n",
    "start_time = time.time()\n",
    "\n",
    "for i in range(5000):\n",
    "    d[i]\n",
    "\n",
    "print(\"--- %s seconds ---\" % (time.time() - start_time))"
   ]
  },
  {
   "cell_type": "code",
   "execution_count": 331,
   "metadata": {},
   "outputs": [
    {
     "data": {
      "text/plain": [
       "Array([[3.4203109e+04, 1.0000000e+00, 0.0000000e+00, ..., 0.0000000e+00,\n",
       "        0.0000000e+00, 0.0000000e+00],\n",
       "       [3.4203113e+04, 1.0000000e+00, 0.0000000e+00, ..., 0.0000000e+00,\n",
       "        0.0000000e+00, 0.0000000e+00],\n",
       "       [3.4203133e+04, 1.0000000e+00, 0.0000000e+00, ..., 0.0000000e+00,\n",
       "        0.0000000e+00, 1.0000000e+00],\n",
       "       ...,\n",
       "       [3.4205500e+04, 0.0000000e+00, 1.0000000e+00, ..., 0.0000000e+00,\n",
       "        0.0000000e+00, 1.0000000e+00],\n",
       "       [3.4205500e+04, 0.0000000e+00, 1.0000000e+00, ..., 0.0000000e+00,\n",
       "        0.0000000e+00, 1.0000000e+00],\n",
       "       [3.4205500e+04, 0.0000000e+00, 1.0000000e+00, ..., 0.0000000e+00,\n",
       "        0.0000000e+00, 1.0000000e+00]], dtype=float32)"
      ]
     },
     "execution_count": 331,
     "metadata": {},
     "output_type": "execute_result"
    }
   ],
   "source": [
    "d[1000]"
   ]
  },
  {
   "cell_type": "code",
   "execution_count": 8,
   "metadata": {},
   "outputs": [],
   "source": [
    "@partial(np.vectorize, signature=\"(c),()->()\")\n",
    "def cross_entropy_loss(logits, label):\n",
    "    one_hot_label = jax.nn.one_hot(label, num_classes=logits.shape[0])\n",
    "    return -np.sum(one_hot_label * logits)"
   ]
  },
  {
   "cell_type": "code",
   "execution_count": 13,
   "metadata": {},
   "outputs": [],
   "source": [
    "def cross_entropy_loss_(logits, label):\n",
    "    #one_hot_label = jax.nn.one_hot(label, num_classes=logits.shape[0])\n",
    "    return -np.sum(label * logits)"
   ]
  },
  {
   "cell_type": "code",
   "execution_count": 9,
   "metadata": {},
   "outputs": [],
   "source": [
    "logits = jnp.zeros((500,91))\n",
    "batch_labels = jnp.zeros((500,91))"
   ]
  },
  {
   "cell_type": "code",
   "execution_count": 14,
   "metadata": {},
   "outputs": [
    {
     "data": {
      "text/plain": [
       "Array(-0., dtype=float32)"
      ]
     },
     "execution_count": 14,
     "metadata": {},
     "output_type": "execute_result"
    }
   ],
   "source": [
    "cross_entropy_loss_(logits, batch_labels)"
   ]
  },
  {
   "cell_type": "code",
   "execution_count": 15,
   "metadata": {},
   "outputs": [],
   "source": [
    "output_dims = (2,64,25)"
   ]
  },
  {
   "cell_type": "code",
   "execution_count": 19,
   "metadata": {},
   "outputs": [],
   "source": [
    "cs = np.cumsum(output_dims)\n",
    "np.split(test, cs[:-1], axis=1)"
   ]
  },
  {
   "cell_type": "code",
   "execution_count": 23,
   "metadata": {},
   "outputs": [
    {
     "data": {
      "text/plain": [
       "array([ 2, 66, 91])"
      ]
     },
     "execution_count": 23,
     "metadata": {},
     "output_type": "execute_result"
    }
   ],
   "source": [
    "cs"
   ]
  },
  {
   "cell_type": "code",
   "execution_count": 18,
   "metadata": {},
   "outputs": [],
   "source": [
    "test = np.zeros((500, 91))"
   ]
  },
  {
   "cell_type": "code",
   "execution_count": 40,
   "metadata": {},
   "outputs": [],
   "source": [
    "res = np.split(test, cs[:-1], axis=1)"
   ]
  },
  {
   "cell_type": "code",
   "execution_count": 45,
   "metadata": {},
   "outputs": [
    {
     "data": {
      "text/plain": [
       "(500, 2)"
      ]
     },
     "execution_count": 45,
     "metadata": {},
     "output_type": "execute_result"
    }
   ],
   "source": [
    "res[0].shape"
   ]
  },
  {
   "cell_type": "code",
   "execution_count": 6,
   "metadata": {},
   "outputs": [
    {
     "data": {
      "text/html": [
       "<div>\n",
       "<style scoped>\n",
       "    .dataframe tbody tr th:only-of-type {\n",
       "        vertical-align: middle;\n",
       "    }\n",
       "\n",
       "    .dataframe tbody tr th {\n",
       "        vertical-align: top;\n",
       "    }\n",
       "\n",
       "    .dataframe thead th {\n",
       "        text-align: right;\n",
       "    }\n",
       "</style>\n",
       "<table border=\"1\" class=\"dataframe\">\n",
       "  <thead>\n",
       "    <tr style=\"text-align: right;\">\n",
       "      <th></th>\n",
       "      <th>time</th>\n",
       "      <th>event_type</th>\n",
       "      <th>order_id</th>\n",
       "      <th>size</th>\n",
       "      <th>price</th>\n",
       "      <th>direction</th>\n",
       "    </tr>\n",
       "  </thead>\n",
       "  <tbody>\n",
       "    <tr>\n",
       "      <th>0</th>\n",
       "      <td>34200.000113</td>\n",
       "      <td>4</td>\n",
       "      <td>24695958</td>\n",
       "      <td>134</td>\n",
       "      <td>987500</td>\n",
       "      <td>-1</td>\n",
       "    </tr>\n",
       "    <tr>\n",
       "      <th>1</th>\n",
       "      <td>34200.000113</td>\n",
       "      <td>4</td>\n",
       "      <td>25053166</td>\n",
       "      <td>200</td>\n",
       "      <td>987500</td>\n",
       "      <td>-1</td>\n",
       "    </tr>\n",
       "    <tr>\n",
       "      <th>2</th>\n",
       "      <td>34200.000113</td>\n",
       "      <td>5</td>\n",
       "      <td>0</td>\n",
       "      <td>200</td>\n",
       "      <td>987500</td>\n",
       "      <td>1</td>\n",
       "    </tr>\n",
       "    <tr>\n",
       "      <th>3</th>\n",
       "      <td>34200.000135</td>\n",
       "      <td>5</td>\n",
       "      <td>0</td>\n",
       "      <td>600</td>\n",
       "      <td>987500</td>\n",
       "      <td>1</td>\n",
       "    </tr>\n",
       "    <tr>\n",
       "      <th>4</th>\n",
       "      <td>34200.000163</td>\n",
       "      <td>5</td>\n",
       "      <td>0</td>\n",
       "      <td>100</td>\n",
       "      <td>987500</td>\n",
       "      <td>1</td>\n",
       "    </tr>\n",
       "    <tr>\n",
       "      <th>...</th>\n",
       "      <td>...</td>\n",
       "      <td>...</td>\n",
       "      <td>...</td>\n",
       "      <td>...</td>\n",
       "      <td>...</td>\n",
       "      <td>...</td>\n",
       "    </tr>\n",
       "    <tr>\n",
       "      <th>2244836</th>\n",
       "      <td>57599.996507</td>\n",
       "      <td>1</td>\n",
       "      <td>770732874</td>\n",
       "      <td>1385</td>\n",
       "      <td>979600</td>\n",
       "      <td>1</td>\n",
       "    </tr>\n",
       "    <tr>\n",
       "      <th>2244837</th>\n",
       "      <td>57599.996541</td>\n",
       "      <td>1</td>\n",
       "      <td>770732886</td>\n",
       "      <td>1</td>\n",
       "      <td>979600</td>\n",
       "      <td>1</td>\n",
       "    </tr>\n",
       "    <tr>\n",
       "      <th>2244838</th>\n",
       "      <td>57599.997147</td>\n",
       "      <td>1</td>\n",
       "      <td>770733066</td>\n",
       "      <td>3500</td>\n",
       "      <td>978700</td>\n",
       "      <td>1</td>\n",
       "    </tr>\n",
       "    <tr>\n",
       "      <th>2244839</th>\n",
       "      <td>57599.997521</td>\n",
       "      <td>3</td>\n",
       "      <td>770732874</td>\n",
       "      <td>1385</td>\n",
       "      <td>979600</td>\n",
       "      <td>1</td>\n",
       "    </tr>\n",
       "    <tr>\n",
       "      <th>2244840</th>\n",
       "      <td>57599.997766</td>\n",
       "      <td>3</td>\n",
       "      <td>770730074</td>\n",
       "      <td>100</td>\n",
       "      <td>979800</td>\n",
       "      <td>-1</td>\n",
       "    </tr>\n",
       "  </tbody>\n",
       "</table>\n",
       "<p>2244841 rows × 6 columns</p>\n",
       "</div>"
      ],
      "text/plain": [
       "                 time  event_type   order_id  size   price  direction\n",
       "0        34200.000113           4   24695958   134  987500         -1\n",
       "1        34200.000113           4   25053166   200  987500         -1\n",
       "2        34200.000113           5          0   200  987500          1\n",
       "3        34200.000135           5          0   600  987500          1\n",
       "4        34200.000163           5          0   100  987500          1\n",
       "...               ...         ...        ...   ...     ...        ...\n",
       "2244836  57599.996507           1  770732874  1385  979600          1\n",
       "2244837  57599.996541           1  770732886     1  979600          1\n",
       "2244838  57599.997147           1  770733066  3500  978700          1\n",
       "2244839  57599.997521           3  770732874  1385  979600          1\n",
       "2244840  57599.997766           3  770730074   100  979800         -1\n",
       "\n",
       "[2244841 rows x 6 columns]"
      ]
     },
     "execution_count": 6,
     "metadata": {},
     "output_type": "execute_result"
    }
   ],
   "source": [
    "df"
   ]
  },
  {
   "cell_type": "code",
   "execution_count": 12,
   "metadata": {},
   "outputs": [
    {
     "data": {
      "text/html": [
       "<div>\n",
       "<style scoped>\n",
       "    .dataframe tbody tr th:only-of-type {\n",
       "        vertical-align: middle;\n",
       "    }\n",
       "\n",
       "    .dataframe tbody tr th {\n",
       "        vertical-align: top;\n",
       "    }\n",
       "\n",
       "    .dataframe thead th {\n",
       "        text-align: right;\n",
       "    }\n",
       "</style>\n",
       "<table border=\"1\" class=\"dataframe\">\n",
       "  <thead>\n",
       "    <tr style=\"text-align: right;\">\n",
       "      <th></th>\n",
       "      <th>time</th>\n",
       "      <th>event_type</th>\n",
       "      <th>order_id</th>\n",
       "      <th>size</th>\n",
       "      <th>price</th>\n",
       "      <th>direction</th>\n",
       "    </tr>\n",
       "  </thead>\n",
       "  <tbody>\n",
       "    <tr>\n",
       "      <th>0</th>\n",
       "      <td>34200.000113</td>\n",
       "      <td>4</td>\n",
       "      <td>24695958</td>\n",
       "      <td>134</td>\n",
       "      <td>987500</td>\n",
       "      <td>-1</td>\n",
       "    </tr>\n",
       "    <tr>\n",
       "      <th>1</th>\n",
       "      <td>34200.000113</td>\n",
       "      <td>4</td>\n",
       "      <td>25053166</td>\n",
       "      <td>200</td>\n",
       "      <td>987500</td>\n",
       "      <td>-1</td>\n",
       "    </tr>\n",
       "    <tr>\n",
       "      <th>6</th>\n",
       "      <td>34200.000269</td>\n",
       "      <td>4</td>\n",
       "      <td>24918322</td>\n",
       "      <td>100</td>\n",
       "      <td>987600</td>\n",
       "      <td>-1</td>\n",
       "    </tr>\n",
       "    <tr>\n",
       "      <th>11</th>\n",
       "      <td>34200.001950</td>\n",
       "      <td>4</td>\n",
       "      <td>25058290</td>\n",
       "      <td>900</td>\n",
       "      <td>987400</td>\n",
       "      <td>1</td>\n",
       "    </tr>\n",
       "    <tr>\n",
       "      <th>12</th>\n",
       "      <td>34200.002162</td>\n",
       "      <td>4</td>\n",
       "      <td>25069526</td>\n",
       "      <td>100</td>\n",
       "      <td>987500</td>\n",
       "      <td>-1</td>\n",
       "    </tr>\n",
       "    <tr>\n",
       "      <th>...</th>\n",
       "      <td>...</td>\n",
       "      <td>...</td>\n",
       "      <td>...</td>\n",
       "      <td>...</td>\n",
       "      <td>...</td>\n",
       "      <td>...</td>\n",
       "    </tr>\n",
       "    <tr>\n",
       "      <th>2244813</th>\n",
       "      <td>57599.977329</td>\n",
       "      <td>4</td>\n",
       "      <td>770728458</td>\n",
       "      <td>64</td>\n",
       "      <td>979600</td>\n",
       "      <td>-1</td>\n",
       "    </tr>\n",
       "    <tr>\n",
       "      <th>2244814</th>\n",
       "      <td>57599.977329</td>\n",
       "      <td>4</td>\n",
       "      <td>770728690</td>\n",
       "      <td>100</td>\n",
       "      <td>979600</td>\n",
       "      <td>-1</td>\n",
       "    </tr>\n",
       "    <tr>\n",
       "      <th>2244824</th>\n",
       "      <td>57599.983670</td>\n",
       "      <td>4</td>\n",
       "      <td>770710794</td>\n",
       "      <td>100</td>\n",
       "      <td>979500</td>\n",
       "      <td>1</td>\n",
       "    </tr>\n",
       "    <tr>\n",
       "      <th>2244827</th>\n",
       "      <td>57599.992375</td>\n",
       "      <td>4</td>\n",
       "      <td>770728854</td>\n",
       "      <td>100</td>\n",
       "      <td>979600</td>\n",
       "      <td>-1</td>\n",
       "    </tr>\n",
       "    <tr>\n",
       "      <th>2244829</th>\n",
       "      <td>57599.992420</td>\n",
       "      <td>4</td>\n",
       "      <td>770732170</td>\n",
       "      <td>100</td>\n",
       "      <td>979600</td>\n",
       "      <td>-1</td>\n",
       "    </tr>\n",
       "  </tbody>\n",
       "</table>\n",
       "<p>35136 rows × 6 columns</p>\n",
       "</div>"
      ],
      "text/plain": [
       "                 time  event_type   order_id  size   price  direction\n",
       "0        34200.000113           4   24695958   134  987500         -1\n",
       "1        34200.000113           4   25053166   200  987500         -1\n",
       "6        34200.000269           4   24918322   100  987600         -1\n",
       "11       34200.001950           4   25058290   900  987400          1\n",
       "12       34200.002162           4   25069526   100  987500         -1\n",
       "...               ...         ...        ...   ...     ...        ...\n",
       "2244813  57599.977329           4  770728458    64  979600         -1\n",
       "2244814  57599.977329           4  770728690   100  979600         -1\n",
       "2244824  57599.983670           4  770710794   100  979500          1\n",
       "2244827  57599.992375           4  770728854   100  979600         -1\n",
       "2244829  57599.992420           4  770732170   100  979600         -1\n",
       "\n",
       "[35136 rows x 6 columns]"
      ]
     },
     "execution_count": 12,
     "metadata": {},
     "output_type": "execute_result"
    }
   ],
   "source": [
    "df.loc[df.event_type == 4]"
   ]
  },
  {
   "cell_type": "code",
   "execution_count": 11,
   "metadata": {},
   "outputs": [
    {
     "data": {
      "text/plain": [
       "1    1112809\n",
       "2      23634\n",
       "3    1065642\n",
       "4      35136\n",
       "5       7619\n",
       "6          1\n",
       "Name: event_type, dtype: int64"
      ]
     },
     "execution_count": 11,
     "metadata": {},
     "output_type": "execute_result"
    }
   ],
   "source": [
    "df.event_type.value_counts().sort_index()"
   ]
  },
  {
   "cell_type": "code",
   "execution_count": 13,
   "metadata": {},
   "outputs": [
    {
     "data": {
      "text/html": [
       "<div>\n",
       "<style scoped>\n",
       "    .dataframe tbody tr th:only-of-type {\n",
       "        vertical-align: middle;\n",
       "    }\n",
       "\n",
       "    .dataframe tbody tr th {\n",
       "        vertical-align: top;\n",
       "    }\n",
       "\n",
       "    .dataframe thead th {\n",
       "        text-align: right;\n",
       "    }\n",
       "</style>\n",
       "<table border=\"1\" class=\"dataframe\">\n",
       "  <thead>\n",
       "    <tr style=\"text-align: right;\">\n",
       "      <th></th>\n",
       "      <th>time</th>\n",
       "      <th>event_type</th>\n",
       "      <th>order_id</th>\n",
       "      <th>size</th>\n",
       "      <th>price</th>\n",
       "      <th>direction</th>\n",
       "    </tr>\n",
       "  </thead>\n",
       "  <tbody>\n",
       "    <tr>\n",
       "      <th>0</th>\n",
       "      <td>34200.000113</td>\n",
       "      <td>4</td>\n",
       "      <td>24695958</td>\n",
       "      <td>134</td>\n",
       "      <td>987500</td>\n",
       "      <td>-1</td>\n",
       "    </tr>\n",
       "  </tbody>\n",
       "</table>\n",
       "</div>"
      ],
      "text/plain": [
       "           time  event_type  order_id  size   price  direction\n",
       "0  34200.000113           4  24695958   134  987500         -1"
      ]
     },
     "execution_count": 13,
     "metadata": {},
     "output_type": "execute_result"
    }
   ],
   "source": [
    "df.loc[df.order_id == 24695958]"
   ]
  },
  {
   "cell_type": "code",
   "execution_count": 25,
   "metadata": {},
   "outputs": [
    {
     "data": {
      "text/plain": [
       "<AxesSubplot:ylabel='Frequency'>"
      ]
     },
     "execution_count": 25,
     "metadata": {},
     "output_type": "execute_result"
    },
    {
     "data": {
      "image/png": "[encoded data removed]",
      "text/plain": [
       "<Figure size 432x288 with 1 Axes>"
      ]
     },
     "metadata": {
      "needs_background": "light"
     },
     "output_type": "display_data"
    }
   ],
   "source": [
    "delta_t = df.time.diff()\n",
    "delta_t.loc[delta_t < 0.001].plot(kind='hist', bins=100)"
   ]
  },
  {
   "cell_type": "code",
   "execution_count": null,
   "metadata": {},
   "outputs": [],
   "source": []
  },
  {
   "cell_type": "code",
   "execution_count": 31,
   "metadata": {},
   "outputs": [
    {
     "name": "stderr",
     "output_type": "stream",
     "text": [
      "/nfs/home/peern/rlenv/lib/python3.8/site-packages/pandas/core/arraylike.py:364: RuntimeWarning: divide by zero encountered in log\n",
      "  result = getattr(ufunc, method)(*inputs, **kwargs)\n"
     ]
    }
   ],
   "source": []
  },
  {
   "cell_type": "code",
   "execution_count": 34,
   "metadata": {},
   "outputs": [
    {
     "data": {
      "text/plain": [
       "<AxesSubplot:ylabel='Frequency'>"
      ]
     },
     "execution_count": 34,
     "metadata": {},
     "output_type": "execute_result"
    },
    {
     "data": {
      "image/png": "[encoded data removed]",
      "text/plain": [
       "<Figure size 432x288 with 1 Axes>"
      ]
     },
     "metadata": {
      "needs_background": "light"
     },
     "output_type": "display_data"
    }
   ],
   "source": [
    "ln_delta_t.replace({-np.inf: np.nan, np.inf: np.nan}).dropna().plot(kind='hist', )"
   ]
  },
  {
   "cell_type": "code",
   "execution_count": 22,
   "metadata": {},
   "outputs": [
    {
     "data": {
      "text/plain": [
       "5.211952222157259"
      ]
     },
     "execution_count": 22,
     "metadata": {},
     "output_type": "execute_result"
    }
   ],
   "source": [
    "# here roughly 100 messages / s\n",
    "delta_t.mean() * 500"
   ]
  },
  {
   "cell_type": "code",
   "execution_count": 74,
   "metadata": {},
   "outputs": [
    {
     "name": "stderr",
     "output_type": "stream",
     "text": [
      "/nfs/home/peern/rlenv/lib/python3.8/site-packages/pandas/core/arraylike.py:364: RuntimeWarning: divide by zero encountered in log\n",
      "  result = getattr(ufunc, method)(*inputs, **kwargs)\n"
     ]
    },
    {
     "data": {
      "text/plain": [
       "0.05   -13.926441\n",
       "0.10   -12.170320\n",
       "0.15   -11.276037\n",
       "0.20   -10.712674\n",
       "0.25   -10.404561\n",
       "0.30   -10.118266\n",
       "0.35    -9.791803\n",
       "0.40    -9.391831\n",
       "0.45    -8.957692\n",
       "0.50    -8.489133\n",
       "0.55    -8.103945\n",
       "0.60    -7.686760\n",
       "0.65    -7.244021\n",
       "0.70    -6.740778\n",
       "0.75    -6.157291\n",
       "0.80    -5.361655\n",
       "0.85    -4.536646\n",
       "0.90    -3.649945\n",
       "0.95    -2.766827\n",
       "Name: time, dtype: float64"
      ]
     },
     "execution_count": 74,
     "metadata": {},
     "output_type": "execute_result"
    }
   ],
   "source": [
    "# TODO: fix quantiles based on (subset of) training data\n",
    "\n",
    "n_time_bins = 20  # one reserved for delta_t = 0\n",
    "# quantiles of interest (remove 0 and 100)\n",
    "q = np.linspace(0., 1., n_time_bins -1 +2)[1:-1]\n",
    "\n",
    "delta_t = df.time.diff()\n",
    "ln_delta_t = np.log(delta_t)\n",
    "ln_delta_t.quantile(q=q)"
   ]
  },
  {
   "cell_type": "code",
   "execution_count": 49,
   "metadata": {},
   "outputs": [
    {
     "data": {
      "text/plain": [
       "array([0.  , 0.05, 0.1 , 0.15, 0.2 , 0.25, 0.3 , 0.35, 0.4 , 0.45, 0.5 ,\n",
       "       0.55, 0.6 , 0.65, 0.7 , 0.75, 0.8 , 0.85, 0.9 , 0.95, 1.  ])"
      ]
     },
     "execution_count": 49,
     "metadata": {},
     "output_type": "execute_result"
    }
   ],
   "source": [
    "q = np.linspace(0., 1., n_time_bins -1 +2)\n",
    "q"
   ]
  },
  {
   "cell_type": "code",
   "execution_count": 60,
   "metadata": {},
   "outputs": [
    {
     "data": {
      "text/plain": [
       "1         -inf\n",
       "2         -inf\n",
       "6         -inf\n",
       "18        -inf\n",
       "73        -inf\n",
       "          ... \n",
       "2244821   -inf\n",
       "2244830   -inf\n",
       "2244831   -inf\n",
       "2244832   -inf\n",
       "2244836   -inf\n",
       "Name: time, Length: 77298, dtype: float64"
      ]
     },
     "execution_count": 60,
     "metadata": {},
     "output_type": "execute_result"
    }
   ],
   "source": [
    "ln_delta_t.loc[ln_delta_t == -np.inf]"
   ]
  },
  {
   "cell_type": "code",
   "execution_count": 73,
   "metadata": {},
   "outputs": [
    {
     "data": {
      "text/plain": [
       "1           0.000000\n",
       "2           0.000000\n",
       "3         -10.757884\n",
       "4         -10.451704\n",
       "5          -9.157283\n",
       "             ...    \n",
       "2244836     0.000000\n",
       "2244837   -10.284748\n",
       "2244838    -7.409360\n",
       "2244839    -7.890701\n",
       "2244840    -8.314914\n",
       "Name: time, Length: 2244840, dtype: float64"
      ]
     },
     "execution_count": 73,
     "metadata": {},
     "output_type": "execute_result"
    }
   ],
   "source": [
    "ln_delta_t.loc[ln_delta_t > -np.inf]"
   ]
  },
  {
   "cell_type": "code",
   "execution_count": 76,
   "metadata": {},
   "outputs": [
    {
     "data": {
      "text/plain": [
       "0                NaN\n",
       "1           0.000000\n",
       "2           0.000000\n",
       "3         -10.757884\n",
       "4         -10.451704\n",
       "             ...    \n",
       "2244836     0.000000\n",
       "2244837   -10.284748\n",
       "2244838    -7.409360\n",
       "2244839    -7.890701\n",
       "2244840    -8.314914\n",
       "Name: time, Length: 2244841, dtype: float64"
      ]
     },
     "execution_count": 76,
     "metadata": {},
     "output_type": "execute_result"
    }
   ],
   "source": [
    "t_groups"
   ]
  },
  {
   "cell_type": "code",
   "execution_count": 80,
   "metadata": {},
   "outputs": [
    {
     "data": {
      "text/plain": [
       "(3           4\n",
       " 4           5\n",
       " 5           8\n",
       " 7           3\n",
       " 8          13\n",
       "            ..\n",
       " 2244835     5\n",
       " 2244837     5\n",
       " 2244838    12\n",
       " 2244839    11\n",
       " 2244840    10\n",
       " Name: time, Length: 2167542, dtype: category\n",
       " Categories (19, int64): [1 < 2 < 3 < 4 ... 16 < 17 < 18 < 19],\n",
       " array([-15.91927773, -12.52627871, -11.47255184, -10.84018499,\n",
       "        -10.47130691, -10.20205524,  -9.8453696 ,  -9.48340974,\n",
       "         -9.02508977,  -8.56436341,  -8.15728677,  -7.74470355,\n",
       "         -7.29653398,  -6.79604209,  -6.20015933,  -5.42619643,\n",
       "         -4.57783117,  -3.67781311,  -2.78216138,   1.05717846]))"
      ]
     },
     "execution_count": 80,
     "metadata": {},
     "output_type": "execute_result"
    }
   ],
   "source": [
    "pd.qcut(\n",
    "    ln_delta_t.loc[ln_delta_t > -np.inf],\n",
    "    19,\n",
    "    labels=range(1,20),\n",
    "    retbins=True)"
   ]
  },
  {
   "cell_type": "code",
   "execution_count": 82,
   "metadata": {},
   "outputs": [
    {
     "data": {
      "text/plain": [
       "3         -10.757884\n",
       "4         -10.451704\n",
       "5          -9.157283\n",
       "7         -11.343520\n",
       "8          -7.061728\n",
       "             ...    \n",
       "2244835   -10.330861\n",
       "2244837   -10.284748\n",
       "2244838    -7.409360\n",
       "2244839    -7.890701\n",
       "2244840    -8.314914\n",
       "Name: time, Length: 2167542, dtype: float64"
      ]
     },
     "execution_count": 82,
     "metadata": {},
     "output_type": "execute_result"
    }
   ],
   "source": [
    "t_groups.loc[ln_delta_t > -np.inf]"
   ]
  },
  {
   "cell_type": "code",
   "execution_count": 85,
   "metadata": {},
   "outputs": [
    {
     "data": {
      "text/plain": [
       "3           4.0\n",
       "4           5.0\n",
       "5           8.0\n",
       "7           3.0\n",
       "8          13.0\n",
       "           ... \n",
       "2244835     5.0\n",
       "2244837     5.0\n",
       "2244838    12.0\n",
       "2244839    11.0\n",
       "2244840    10.0\n",
       "Name: time, Length: 2167542, dtype: float64"
      ]
     },
     "execution_count": 85,
     "metadata": {},
     "output_type": "execute_result"
    }
   ],
   "source": [
    "cats.astype(float)"
   ]
  },
  {
   "cell_type": "code",
   "execution_count": 94,
   "metadata": {},
   "outputs": [],
   "source": [
    "t_groups = ln_delta_t.copy()\n",
    "# special category if delta t is 0 (orders come it at same time)\n",
    "t_groups.loc[ln_delta_t == -np.inf] = 0\n",
    "# quantize time differences (leaving out delta t = as separate category)\n",
    "cats, t_bins = pd.qcut(\n",
    "    ln_delta_t.loc[ln_delta_t > -np.inf],\n",
    "    19,\n",
    "    labels=range(1,20),\n",
    "    retbins=True)\n",
    "t_groups.loc[ln_delta_t > -np.inf] = cats.astype(float)\n",
    "\n",
    "# median Dt value per bin: use this value for decoding\n",
    "bin_medians = delta_t.groupby(t_groups).median()"
   ]
  },
  {
   "cell_type": "code",
   "execution_count": 133,
   "metadata": {},
   "outputs": [
    {
     "data": {
      "text/plain": [
       "array([-15.91927773, -12.52627871, -11.47255184, -10.84018499,\n",
       "       -10.47130691, -10.20205524,  -9.8453696 ,  -9.48340974,\n",
       "        -9.02508977,  -8.56436341,  -8.15728677,  -7.74470355,\n",
       "        -7.29653398,  -6.79604209,  -6.20015933,  -5.42619643,\n",
       "        -4.57783117,  -3.67781311,  -2.78216138,   1.05717846])"
      ]
     },
     "execution_count": 133,
     "metadata": {},
     "output_type": "execute_result"
    }
   ],
   "source": [
    "t_bins"
   ]
  },
  {
   "cell_type": "code",
   "execution_count": 131,
   "metadata": {},
   "outputs": [
    {
     "data": {
      "text/plain": [
       "1.0571784629189207"
      ]
     },
     "execution_count": 131,
     "metadata": {},
     "output_type": "execute_result"
    }
   ],
   "source": [
    "ln_delta_t.max()"
   ]
  },
  {
   "cell_type": "code",
   "execution_count": 147,
   "metadata": {},
   "outputs": [
    {
     "data": {
      "text/plain": [
       "array([1.21995981e-07, 3.62999708e-06, 1.04119972e-05, 1.95960019e-05,\n",
       "       2.83379995e-05, 3.70940033e-05, 5.29919998e-05, 7.61039992e-05,\n",
       "       1.20352001e-04, 1.90785002e-04, 2.86639058e-04, 4.33030000e-04,\n",
       "       6.77884266e-04, 1.11819211e-03, 2.02910732e-03, 4.39979895e-03,\n",
       "       1.02771615e-02, 2.52781949e-02, 6.19045636e-02, 2.87823846e+00])"
      ]
     },
     "execution_count": 147,
     "metadata": {},
     "output_type": "execute_result"
    }
   ],
   "source": [
    "np.exp(t_bins)"
   ]
  },
  {
   "cell_type": "code",
   "execution_count": 152,
   "metadata": {},
   "outputs": [
    {
     "data": {
      "text/plain": [
       "3           4\n",
       "4           5\n",
       "5           8\n",
       "7           3\n",
       "8          13\n",
       "           ..\n",
       "2244835     5\n",
       "2244837     5\n",
       "2244838    12\n",
       "2244839    11\n",
       "2244840    10\n",
       "Name: time, Length: 2167542, dtype: category\n",
       "Categories (19, int64): [1 < 2 < 3 < 4 ... 16 < 17 < 18 < 19]"
      ]
     },
     "execution_count": 152,
     "metadata": {},
     "output_type": "execute_result"
    }
   ],
   "source": [
    "pd.cut(delta_t.loc[delta_t > 0], bins=np.exp(t_bins), labels=range(1,20))\n"
   ]
  },
  {
   "cell_type": "code",
   "execution_count": 153,
   "metadata": {},
   "outputs": [
    {
     "data": {
      "text/plain": [
       "3           4\n",
       "4           5\n",
       "5           8\n",
       "7           3\n",
       "8          13\n",
       "           ..\n",
       "2244835     5\n",
       "2244837     5\n",
       "2244838    12\n",
       "2244839    11\n",
       "2244840    10\n",
       "Name: time, Length: 2167542, dtype: category\n",
       "Categories (19, int64): [1 < 2 < 3 < 4 ... 16 < 17 < 18 < 19]"
      ]
     },
     "execution_count": 153,
     "metadata": {},
     "output_type": "execute_result"
    }
   ],
   "source": [
    "pd.qcut(delta_t.loc[delta_t > 0],19,labels=range(1,20))"
   ]
  },
  {
   "cell_type": "code",
   "execution_count": 156,
   "metadata": {},
   "outputs": [
    {
     "data": {
      "text/plain": [
       "False"
      ]
     },
     "execution_count": 156,
     "metadata": {},
     "output_type": "execute_result"
    }
   ],
   "source": [
    "(pd.cut(delta_t.loc[delta_t > 0], bins=np.exp(t_bins), labels=range(1,20)) \n",
    "    ==pd.qcut(delta_t.loc[delta_t > 0],19,labels=range(1,20))).all()"
   ]
  },
  {
   "cell_type": "code",
   "execution_count": 159,
   "metadata": {},
   "outputs": [
    {
     "data": {
      "text/plain": [
       "3          0.000021\n",
       "4          0.000029\n",
       "5          0.000105\n",
       "7          0.000012\n",
       "8          0.000857\n",
       "             ...   \n",
       "2244835    0.000033\n",
       "2244837    0.000034\n",
       "2244838    0.000606\n",
       "2244839    0.000374\n",
       "2244840    0.000245\n",
       "Name: time, Length: 2167542, dtype: float64"
      ]
     },
     "execution_count": 159,
     "metadata": {},
     "output_type": "execute_result"
    }
   ],
   "source": [
    "delta_t.loc[delta_t > 0]"
   ]
  },
  {
   "cell_type": "code",
   "execution_count": 162,
   "metadata": {},
   "outputs": [],
   "source": [
    "_, bins = pd.qcut(delta_t.loc[delta_t > 0],19,labels=range(1,20), retbins=True)"
   ]
  },
  {
   "cell_type": "code",
   "execution_count": 166,
   "metadata": {},
   "outputs": [
    {
     "data": {
      "text/plain": [
       "3          True\n",
       "4          True\n",
       "5          True\n",
       "7          True\n",
       "8          True\n",
       "           ... \n",
       "2244835    True\n",
       "2244837    True\n",
       "2244838    True\n",
       "2244839    True\n",
       "2244840    True\n",
       "Name: time, Length: 2167542, dtype: bool"
      ]
     },
     "execution_count": 166,
     "metadata": {},
     "output_type": "execute_result"
    }
   ],
   "source": [
    "(pd.cut(delta_t.loc[delta_t > 0], bins=bins, labels=range(1,20)) \n",
    "    ==pd.qcut(delta_t.loc[delta_t > 0],19,labels=range(1,20)))"
   ]
  },
  {
   "cell_type": "code",
   "execution_count": 165,
   "metadata": {},
   "outputs": [
    {
     "data": {
      "text/plain": [
       "0.9999995386479247"
      ]
     },
     "execution_count": 165,
     "metadata": {},
     "output_type": "execute_result"
    }
   ],
   "source": [
    "2167541 / 2167542"
   ]
  },
  {
   "cell_type": "code",
   "execution_count": 41,
   "metadata": {},
   "outputs": [
    {
     "data": {
      "text/plain": [
       "0.05   -13.926441\n",
       "0.10   -12.170320\n",
       "0.15   -11.276037\n",
       "0.20   -10.712674\n",
       "0.25   -10.404561\n",
       "0.30   -10.118266\n",
       "0.35    -9.791803\n",
       "0.40    -9.391831\n",
       "0.45    -8.957692\n",
       "0.50    -8.489133\n",
       "0.55    -8.103945\n",
       "0.60    -7.686760\n",
       "0.65    -7.244021\n",
       "0.70    -6.740778\n",
       "0.75    -6.157291\n",
       "0.80    -5.361655\n",
       "0.85    -4.536646\n",
       "0.90    -3.649945\n",
       "0.95    -2.766827\n",
       "Name: time, dtype: float64"
      ]
     },
     "execution_count": 41,
     "metadata": {},
     "output_type": "execute_result"
    }
   ],
   "source": [
    "ln_delta_t.quantile(q=np.arange(5,100,5) / 100)"
   ]
  },
  {
   "cell_type": "code",
   "execution_count": 92,
   "metadata": {},
   "outputs": [
    {
     "data": {
      "text/plain": [
       "time\n",
       "0.0     0.000000\n",
       "1.0     0.000001\n",
       "2.0     0.000007\n",
       "3.0     0.000014\n",
       "4.0     0.000025\n",
       "5.0     0.000033\n",
       "6.0     0.000045\n",
       "7.0     0.000062\n",
       "8.0     0.000096\n",
       "9.0     0.000149\n",
       "10.0    0.000236\n",
       "11.0    0.000349\n",
       "12.0    0.000536\n",
       "13.0    0.000868\n",
       "14.0    0.001517\n",
       "15.0    0.002828\n",
       "16.0    0.007005\n",
       "17.0    0.016259\n",
       "18.0    0.039170\n",
       "19.0    0.103118\n",
       "Name: time, dtype: float64"
      ]
     },
     "execution_count": 92,
     "metadata": {},
     "output_type": "execute_result"
    }
   ],
   "source": [
    "delta_t.groupby(t_groups).median()"
   ]
  },
  {
   "cell_type": "code",
   "execution_count": null,
   "metadata": {},
   "outputs": [],
   "source": []
  }
 ],
 "metadata": {
  "kernelspec": {
   "display_name": "rlenv",
   "language": "python",
   "name": "python3"
  },
  "language_info": {
   "codemirror_mode": {
    "name": "ipython",
    "version": 3
   },
   "file_extension": ".py",
   "mimetype": "text/x-python",
   "name": "python",
   "nbconvert_exporter": "python",
   "pygments_lexer": "ipython3",
   "version": "3.8.10"
  },
  "orig_nbformat": 4
 },
 "nbformat": 4,
 "nbformat_minor": 2
}
