{
 "cells": [
  {
   "cell_type": "code",
   "execution_count": 8,
   "metadata": {},
   "outputs": [],
   "source": [
    "import pandas as pd\n",
    "from glob import glob\n",
    "from functools import partial\n",
    "from types import SimpleNamespace\n",
    "\n",
    "from lob_seq_model import LobPredModel"
   ]
  },
  {
   "cell_type": "code",
   "execution_count": 5,
   "metadata": {},
   "outputs": [],
   "source": [
    "data_dir = '/nfs/home/peern/LOBS5/data/'"
   ]
  },
  {
   "cell_type": "code",
   "execution_count": 6,
   "metadata": {},
   "outputs": [],
   "source": [
    "message_files = glob(data_dir + '*message*')"
   ]
  },
  {
   "cell_type": "code",
   "execution_count": 31,
   "metadata": {},
   "outputs": [
    {
     "name": "stderr",
     "output_type": "stream",
     "text": [
      "/nfs/home/peern/rlenv/lib/python3.8/site-packages/IPython/core/interactiveshell.py:3553: DtypeWarning: Columns (6) have mixed types.Specify dtype option on import or set low_memory=False.\n",
      "  exec(code_obj, self.user_global_ns, self.user_ns)\n",
      "/nfs/home/peern/rlenv/lib/python3.8/site-packages/pandas/util/_decorators.py:311: ParserWarning: Length of header or names does not match length of data. This leads to a loss of data with index_col=False.\n",
      "  return func(*args, **kwargs)\n"
     ]
    }
   ],
   "source": [
    "df = pd.read_csv(\n",
    "    message_files[0],\n",
    "    names=['time', 'event_type', 'order_id', 'size', 'price', 'direction'],\n",
    "    index_col=False)"
   ]
  },
  {
   "cell_type": "code",
   "execution_count": 32,
   "metadata": {},
   "outputs": [
    {
     "data": {
      "text/html": [
       "<div>\n",
       "<style scoped>\n",
       "    .dataframe tbody tr th:only-of-type {\n",
       "        vertical-align: middle;\n",
       "    }\n",
       "\n",
       "    .dataframe tbody tr th {\n",
       "        vertical-align: top;\n",
       "    }\n",
       "\n",
       "    .dataframe thead th {\n",
       "        text-align: right;\n",
       "    }\n",
       "</style>\n",
       "<table border=\"1\" class=\"dataframe\">\n",
       "  <thead>\n",
       "    <tr style=\"text-align: right;\">\n",
       "      <th></th>\n",
       "      <th>time</th>\n",
       "      <th>event_type</th>\n",
       "      <th>order_id</th>\n",
       "      <th>size</th>\n",
       "      <th>price</th>\n",
       "      <th>direction</th>\n",
       "    </tr>\n",
       "  </thead>\n",
       "  <tbody>\n",
       "    <tr>\n",
       "      <th>0</th>\n",
       "      <td>34200.000113</td>\n",
       "      <td>4</td>\n",
       "      <td>24695958</td>\n",
       "      <td>134</td>\n",
       "      <td>987500</td>\n",
       "      <td>-1</td>\n",
       "    </tr>\n",
       "    <tr>\n",
       "      <th>1</th>\n",
       "      <td>34200.000113</td>\n",
       "      <td>4</td>\n",
       "      <td>25053166</td>\n",
       "      <td>200</td>\n",
       "      <td>987500</td>\n",
       "      <td>-1</td>\n",
       "    </tr>\n",
       "    <tr>\n",
       "      <th>2</th>\n",
       "      <td>34200.000113</td>\n",
       "      <td>5</td>\n",
       "      <td>0</td>\n",
       "      <td>200</td>\n",
       "      <td>987500</td>\n",
       "      <td>1</td>\n",
       "    </tr>\n",
       "    <tr>\n",
       "      <th>3</th>\n",
       "      <td>34200.000135</td>\n",
       "      <td>5</td>\n",
       "      <td>0</td>\n",
       "      <td>600</td>\n",
       "      <td>987500</td>\n",
       "      <td>1</td>\n",
       "    </tr>\n",
       "    <tr>\n",
       "      <th>4</th>\n",
       "      <td>34200.000163</td>\n",
       "      <td>5</td>\n",
       "      <td>0</td>\n",
       "      <td>100</td>\n",
       "      <td>987500</td>\n",
       "      <td>1</td>\n",
       "    </tr>\n",
       "    <tr>\n",
       "      <th>...</th>\n",
       "      <td>...</td>\n",
       "      <td>...</td>\n",
       "      <td>...</td>\n",
       "      <td>...</td>\n",
       "      <td>...</td>\n",
       "      <td>...</td>\n",
       "    </tr>\n",
       "    <tr>\n",
       "      <th>2244836</th>\n",
       "      <td>57599.996507</td>\n",
       "      <td>1</td>\n",
       "      <td>770732874</td>\n",
       "      <td>1385</td>\n",
       "      <td>979600</td>\n",
       "      <td>1</td>\n",
       "    </tr>\n",
       "    <tr>\n",
       "      <th>2244837</th>\n",
       "      <td>57599.996541</td>\n",
       "      <td>1</td>\n",
       "      <td>770732886</td>\n",
       "      <td>1</td>\n",
       "      <td>979600</td>\n",
       "      <td>1</td>\n",
       "    </tr>\n",
       "    <tr>\n",
       "      <th>2244838</th>\n",
       "      <td>57599.997147</td>\n",
       "      <td>1</td>\n",
       "      <td>770733066</td>\n",
       "      <td>3500</td>\n",
       "      <td>978700</td>\n",
       "      <td>1</td>\n",
       "    </tr>\n",
       "    <tr>\n",
       "      <th>2244839</th>\n",
       "      <td>57599.997521</td>\n",
       "      <td>3</td>\n",
       "      <td>770732874</td>\n",
       "      <td>1385</td>\n",
       "      <td>979600</td>\n",
       "      <td>1</td>\n",
       "    </tr>\n",
       "    <tr>\n",
       "      <th>2244840</th>\n",
       "      <td>57599.997766</td>\n",
       "      <td>3</td>\n",
       "      <td>770730074</td>\n",
       "      <td>100</td>\n",
       "      <td>979800</td>\n",
       "      <td>-1</td>\n",
       "    </tr>\n",
       "  </tbody>\n",
       "</table>\n",
       "<p>2244841 rows × 6 columns</p>\n",
       "</div>"
      ],
      "text/plain": [
       "                 time  event_type   order_id  size   price  direction\n",
       "0        34200.000113           4   24695958   134  987500         -1\n",
       "1        34200.000113           4   25053166   200  987500         -1\n",
       "2        34200.000113           5          0   200  987500          1\n",
       "3        34200.000135           5          0   600  987500          1\n",
       "4        34200.000163           5          0   100  987500          1\n",
       "...               ...         ...        ...   ...     ...        ...\n",
       "2244836  57599.996507           1  770732874  1385  979600          1\n",
       "2244837  57599.996541           1  770732886     1  979600          1\n",
       "2244838  57599.997147           1  770733066  3500  978700          1\n",
       "2244839  57599.997521           3  770732874  1385  979600          1\n",
       "2244840  57599.997766           3  770730074   100  979800         -1\n",
       "\n",
       "[2244841 rows x 6 columns]"
      ]
     },
     "execution_count": 32,
     "metadata": {},
     "output_type": "execute_result"
    }
   ],
   "source": [
    "df"
   ]
  },
  {
   "cell_type": "code",
   "execution_count": 26,
   "metadata": {},
   "outputs": [
    {
     "data": {
      "text/plain": [
       "845        UBSS\n",
       "919        UBSS\n",
       "10719      UBSS\n",
       "13353      UBSS\n",
       "13395      UBSS\n",
       "15421      UBSS\n",
       "66766      UBSS\n",
       "291238     ETMM\n",
       "2139765    UBSS\n",
       "2139766    UBSS\n",
       "2144425    UBSS\n",
       "2155614    UBSS\n",
       "2155628    UBSS\n",
       "2169474    UBSS\n",
       "2173455    UBSS\n",
       "2173806    UBSS\n",
       "2182265    UBSS\n",
       "2183214    UBSS\n",
       "2183462    UBSS\n",
       "2183671    UBSS\n",
       "2186136    UBSS\n",
       "2201236    UBSS\n",
       "2201259    UBSS\n",
       "2201272    UBSS\n",
       "2220728    UBSS\n",
       "2227472    UBSS\n",
       "Name: null, dtype: object"
      ]
     },
     "execution_count": 26,
     "metadata": {},
     "output_type": "execute_result"
    }
   ],
   "source": [
    "df.iloc[:, -1].dropna()"
   ]
  },
  {
   "cell_type": "code",
   "execution_count": null,
   "metadata": {},
   "outputs": [],
   "source": [
    "args = SimpleNamespace(\n",
    "    d_model = 128,  # Number of features, i.e. H, dimension of layer inputs/outputs\n",
    "    n_layers = 6,  # Number of layers in the network\n",
    "    activation_fn = 'half_glu1', # \n",
    "    p_dropout = 0.,  # probability of dropout\n",
    "    mode = 'pool',  # options: (for classification tasks) pool: mean pooling \\\\ last: take last element\n",
    "    prenorm = True,  # True: use prenorm, False: use postnorm\n",
    "    batchnorm = True,  # True: use batchnorm, False: use layernorm\n",
    "    bn_momentum = 0.95,  # batchnorm momentum\n",
    ")\n",
    "\n",
    "d_output = 2 + 7 + 6 # categorical: 2, 7, contin: 6"
   ]
  },
  {
   "cell_type": "code",
   "execution_count": null,
   "metadata": {},
   "outputs": [],
   "source": []
  },
  {
   "cell_type": "code",
   "execution_count": null,
   "metadata": {},
   "outputs": [],
   "source": [
    "ssm_init_fn = init_S5SSM(\n",
    "    H=args.d_model,\n",
    "    P=ssm_size,\n",
    "    Lambda_re_init=Lambda.real,\n",
    "    Lambda_im_init=Lambda.imag,\n",
    "    V=V,\n",
    "    Vinv=Vinv,\n",
    "    C_init=args.C_init,\n",
    "    discretization=args.discretization,\n",
    "    dt_min=args.dt_min,\n",
    "    dt_max=args.dt_max,\n",
    "    conj_sym=args.conj_sym,\n",
    "    clip_eigs=args.clip_eigs,\n",
    "    bidirectional=args.bidirectional)"
   ]
  },
  {
   "cell_type": "code",
   "execution_count": null,
   "metadata": {},
   "outputs": [],
   "source": [
    "model_cls = partial(\n",
    "    LobPredModel,\n",
    "    ssm=ssm_init_fn,\n",
    "    d_output=d_output,\n",
    "    d_model=args.d_model,\n",
    "    n_layers=args.n_layers,\n",
    "    padded=False,\n",
    "    activation=args.activation_fn,\n",
    "    dropout=args.p_dropout,\n",
    "    mode=args.mode,\n",
    "    prenorm=args.prenorm,\n",
    "    batchnorm=args.batchnorm,\n",
    "    bn_momentum=args.bn_momentum,\n",
    ")"
   ]
  }
 ],
 "metadata": {
  "kernelspec": {
   "display_name": "rlenv",
   "language": "python",
   "name": "rlenv"
  },
  "language_info": {
   "codemirror_mode": {
    "name": "ipython",
    "version": 3
   },
   "file_extension": ".py",
   "mimetype": "text/x-python",
   "name": "python",
   "nbconvert_exporter": "python",
   "pygments_lexer": "ipython3",
   "version": "3.8.10"
  },
  "orig_nbformat": 4,
  "vscode": {
   "interpreter": {
    "hash": "916dbcbb3f70747c44a77c7bcd40155683ae19c65e1c03b4aa3499c5328201f1"
   }
  }
 },
 "nbformat": 4,
 "nbformat_minor": 2
}
