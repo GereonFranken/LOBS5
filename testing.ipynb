{
 "cells": [
  {
   "cell_type": "code",
   "execution_count": 3,
   "metadata": {},
   "outputs": [],
   "source": [
    "import pandas as pd\n",
    "import numpy as np\n",
    "import matplotlib.pyplot as plt\n",
    "import seaborn as sns"
   ]
  },
  {
   "cell_type": "code",
   "execution_count": 9,
   "metadata": {},
   "outputs": [
    {
     "data": {
      "text/html": [
       "<div>\n",
       "<style scoped>\n",
       "    .dataframe tbody tr th:only-of-type {\n",
       "        vertical-align: middle;\n",
       "    }\n",
       "\n",
       "    .dataframe tbody tr th {\n",
       "        vertical-align: top;\n",
       "    }\n",
       "\n",
       "    .dataframe thead th {\n",
       "        text-align: right;\n",
       "    }\n",
       "</style>\n",
       "<table border=\"1\" class=\"dataframe\">\n",
       "  <thead>\n",
       "    <tr style=\"text-align: right;\">\n",
       "      <th></th>\n",
       "      <th>time</th>\n",
       "      <th>type</th>\n",
       "      <th>order_id</th>\n",
       "      <th>size</th>\n",
       "      <th>price</th>\n",
       "      <th>direction</th>\n",
       "    </tr>\n",
       "  </thead>\n",
       "  <tbody>\n",
       "    <tr>\n",
       "      <th>0</th>\n",
       "      <td>34200.015105</td>\n",
       "      <td>4</td>\n",
       "      <td>15818974</td>\n",
       "      <td>4</td>\n",
       "      <td>5794000</td>\n",
       "      <td>1</td>\n",
       "    </tr>\n",
       "    <tr>\n",
       "      <th>1</th>\n",
       "      <td>34200.059902</td>\n",
       "      <td>4</td>\n",
       "      <td>15818974</td>\n",
       "      <td>300</td>\n",
       "      <td>5794000</td>\n",
       "      <td>1</td>\n",
       "    </tr>\n",
       "    <tr>\n",
       "      <th>2</th>\n",
       "      <td>34200.113247</td>\n",
       "      <td>5</td>\n",
       "      <td>0</td>\n",
       "      <td>1</td>\n",
       "      <td>5795100</td>\n",
       "      <td>1</td>\n",
       "    </tr>\n",
       "    <tr>\n",
       "      <th>3</th>\n",
       "      <td>34200.113247</td>\n",
       "      <td>5</td>\n",
       "      <td>0</td>\n",
       "      <td>1</td>\n",
       "      <td>5795000</td>\n",
       "      <td>1</td>\n",
       "    </tr>\n",
       "    <tr>\n",
       "      <th>4</th>\n",
       "      <td>34200.113247</td>\n",
       "      <td>5</td>\n",
       "      <td>0</td>\n",
       "      <td>1</td>\n",
       "      <td>5794900</td>\n",
       "      <td>1</td>\n",
       "    </tr>\n",
       "  </tbody>\n",
       "</table>\n",
       "</div>"
      ],
      "text/plain": [
       "           time  type  order_id  size    price  direction\n",
       "0  34200.015105     4  15818974     4  5794000          1\n",
       "1  34200.059902     4  15818974   300  5794000          1\n",
       "2  34200.113247     5         0     1  5795100          1\n",
       "3  34200.113247     5         0     1  5795000          1\n",
       "4  34200.113247     5         0     1  5794900          1"
      ]
     },
     "execution_count": 9,
     "metadata": {},
     "output_type": "execute_result"
    }
   ],
   "source": [
    "dfm = pd.read_csv(\"./data/raw/GOOG_2012-06-21_34200000_57600000_message_10.csv\", header=None)\n",
    "dfm.columns = [\"time\", \"type\", \"order_id\", \"size\", \"price\", \"direction\"]\n",
    "dfm.head()"
   ]
  },
  {
   "cell_type": "code",
   "execution_count": null,
   "metadata": {},
   "outputs": [],
   "source": [
    "dfo = pd.read_csv(\"./data/raw/GOOG_2012-06-21_34200000_57600000_orderbook_10.csv\", header=None)\n",
    "dfo.columns = [\"Ask Price 1\", \"type\", \"order_id\", \"size\", \"price\", \"direction\"]\n",
    "dfo.head()"
   ]
  },
  {
   "cell_type": "code",
   "execution_count": 4,
   "metadata": {},
   "outputs": [
    {
     "data": {
      "text/plain": [
       "(147915, 6)"
      ]
     },
     "execution_count": 4,
     "metadata": {},
     "output_type": "execute_result"
    }
   ],
   "source": [
    "dfm.shape"
   ]
  },
  {
   "cell_type": "markdown",
   "metadata": {},
   "source": [
    "Columns:\n",
    "\t\n",
    "\t    1.) Time: \t\t\n",
    "\t\t\t\tSeconds after midnight with decimal \n",
    "\t\t\t\tprecision of at least milliseconds \n",
    "\t\t\t\tand up to nanoseconds depending on \n",
    "\t\t\t\tthe requested period\n",
    "\t    2.) Type:\n",
    "\t\t\t\t1: Submission of a new limit order\n",
    "\t\t\t\t2: Cancellation (Partial deletion \n",
    "\t\t\t\t   of a limit order)\n",
    "\t\t\t\t3: Deletion (Total deletion of a limit order)\n",
    "\t\t\t\t4: Execution of a visible limit order\t\t\t   \t \n",
    "\t\t\t\t5: Execution of a hidden limit order\n",
    "\t\t\t\t7: Trading halt indicator \t\t\t\t   \n",
    "\t\t\t\t   (Detailed information below)\n",
    "\t    3.) Order ID: \t\n",
    "\t\t\t\tUnique order reference number \n",
    "\t\t\t\t(Assigned in order flow)\n",
    "\t    4.) Size: \t\t\n",
    "\t\t\t\tNumber of shares\n",
    "\t    5.) Price: \t\t\n",
    "\t\t\t\tDollar price times 10000 \n",
    "\t\t\t\t(i.e., A stock price of $91.14 is given \n",
    "\t\t\t\tby 911400)\n",
    "\t    6.) Direction:\n",
    "\t\t\t\t-1: Sell limit order\n",
    "\t\t\t\t1: Buy limit order\n",
    "\t\t\t\t\n",
    "\t\t\t\tNote: \n",
    "\t\t\t\tExecution of a sell (buy) limit\n",
    "\t\t\t\torder corresponds to a buyer (seller) \n",
    "\t\t\t\tinitiated trade, i.e. Buy (Sell) trade."
   ]
  },
  {
   "cell_type": "code",
   "execution_count": 2,
   "metadata": {},
   "outputs": [
    {
     "name": "stdout",
     "output_type": "stream",
     "text": [
      "GOOG_2017-01-25_24900000_57900000_message_10_proc.npy\n",
      "GOOG_2017-01-24_24900000_57900000_message_10_proc.npy\n",
      "GOOG_2017-01-23_24900000_57900000_message_10_proc.npy\n",
      "GOOG_2017-01-25_24900000_57900000_orderbook_10_proc.npy\n",
      "GOOG_2017-01-24_24900000_57900000_orderbook_10_proc.npy\n",
      "GOOG_2017-01-23_24900000_57900000_orderbook_10_proc.npy\n"
     ]
    }
   ],
   "source": [
    "import os\n",
    "import numpy as np\n",
    "\n",
    "for filename in os.listdir(\"./data/minimal_test\"):\n",
    "    if filename.endswith(\".npy\"):\n",
    "        print(filename)\n",
    "        data = np.load(f\"./data/minimal_test/{filename}\")\n",
    "        i = len(data) // 10\n",
    "        data = data[:i]\n",
    "        np.save(f\"./data/minimal_test/{filename}\", data)"
   ]
  },
  {
   "cell_type": "code",
   "execution_count": 11,
   "metadata": {},
   "outputs": [
    {
     "data": {
      "text/plain": [
       "memmap([[      0, 8198600,      35, ...,       0, 8150100,     100],\n",
       "        [      0, 8198600,      35, ...,       0, 8150100,     100],\n",
       "        [      0, 8198600,      35, ...,       0, 8150100,     100],\n",
       "        ...,\n",
       "        [      0, 8202000,       1, ...,       0, 8150100,     100],\n",
       "        [      0, 8202000,       1, ...,       0,     100,     100],\n",
       "        [      0, 8202000,       1, ...,       0, 8150100,     100]])"
      ]
     },
     "execution_count": 11,
     "metadata": {},
     "output_type": "execute_result"
    }
   ],
   "source": [
    "bookf = np.load(f\"./data/minimal_test/GOOG_2017-01-24_24900000_57900000_orderbook_10_proc.npy\", mmap_mode='r', allow_pickle=True)\n",
    "messagef = np.load(f\"./data/minimal_test/GOOG_2017-01-23_24900000_57900000_message_10_proc.npy\")\n",
    "bookf"
   ]
  },
  {
   "cell_type": "code",
   "execution_count": 12,
   "metadata": {},
   "outputs": [
    {
     "data": {
      "text/plain": [
       "(32013, 14)"
      ]
     },
     "execution_count": 12,
     "metadata": {},
     "output_type": "execute_result"
    }
   ],
   "source": [
    "messagef.shape"
   ]
  },
  {
   "cell_type": "code",
   "execution_count": 13,
   "metadata": {},
   "outputs": [
    {
     "data": {
      "text/plain": [
       "(25015, 41)"
      ]
     },
     "execution_count": 13,
     "metadata": {},
     "output_type": "execute_result"
    }
   ],
   "source": [
    "bookf.shape"
   ]
  },
  {
   "cell_type": "code",
   "execution_count": 14,
   "metadata": {},
   "outputs": [
    {
     "data": {
      "text/plain": [
       "(\"USE_WANDB: <class 'bool'> = True\",\n",
       " \"wandb_project: <class 'str'> = LOBMamba\",\n",
       " \"wandb_entity: <class 'str'> = gereon-franken-oxford\",\n",
       " \"dir_name: <class 'str'> = /Users/gereonfranken/Projects/phd/LOBS5/data/minimal_test\",\n",
       " \"dataset: <class 'str'> = lobster-prediction\",\n",
       " \"masking: <class 'str'> = causal\",\n",
       " \"use_book_data: <class 'bool'> = True\",\n",
       " \"use_simple_book: <class 'bool'> = False\",\n",
       " \"book_transform: <class 'bool'> = True\",\n",
       " \"book_depth: <class 'int'> = 500\",\n",
       " \"restore: <class 'NoneType'> = None\",\n",
       " \"restore_step: <class 'NoneType'> = None\",\n",
       " \"msg_seq_len: <class 'int'> = 10\",\n",
       " \"n_data_workers: <class 'int'> = 2\",\n",
       " \"n_message_layers: <class 'int'> = 2\",\n",
       " \"n_book_pre_layers: <class 'int'> = 1\",\n",
       " \"n_book_post_layers: <class 'int'> = 1\",\n",
       " \"n_layers: <class 'int'> = 1\",\n",
       " \"d_model: <class 'int'> = 16\",\n",
       " \"ssm_size_base: <class 'int'> = 32\",\n",
       " \"blocks: <class 'int'> = 2\",\n",
       " \"expand:factor: <class 'int'> = 2\",\n",
       " \"C_init: <class 'str'> = trunc_standard_normal\",\n",
       " \"discretization: <class 'str'> = zoh\",\n",
       " \"mode: <class 'str'> = pool\",\n",
       " \"activation_fn: <class 'str'> = half_glu1\",\n",
       " \"conj_sym: <class 'bool'> = False\",\n",
       " \"clip_eigs: <class 'bool'> = True\",\n",
       " \"bidirectional: <class 'bool'> = False\",\n",
       " \"dt_min: <class 'float'> = 0.001\",\n",
       " \"dt_max: <class 'float'> = 0.1\",\n",
       " \"prenorm: <class 'bool'> = True\",\n",
       " \"batchnorm: <class 'bool'> = True\",\n",
       " \"bn_momentum: <class 'float'> = 0.95\",\n",
       " \"bsz: <class 'int'> = 2\",\n",
       " \"num_devices: <class 'int'> = 1\",\n",
       " \"epochs: <class 'int'> = 10\",\n",
       " \"early_stop_patience: <class 'int'> = 1000\",\n",
       " \"ssm_lr_base: <class 'float'> = 0.0005\",\n",
       " \"lr_factor: <class 'float'> = 1.0\",\n",
       " \"dt_global: <class 'bool'> = False\",\n",
       " \"lr_min: <class 'int'> = 0\",\n",
       " \"cosine_anneal: <class 'bool'> = True\",\n",
       " \"warmup_end: <class 'int'> = 1\",\n",
       " \"lr_patience: <class 'int'> = 1000000\",\n",
       " \"reduce_factor: <class 'float'> = 1.0\",\n",
       " \"p_dropout: <class 'float'> = 0.0\",\n",
       " \"weight_decay: <class 'float'> = 0.05\",\n",
       " \"opt_config: <class 'str'> = standard\",\n",
       " \"jax_seed: <class 'int'> = 42\")"
      ]
     },
     "execution_count": 14,
     "metadata": {},
     "output_type": "execute_result"
    }
   ],
   "source": [
    "import re\n",
    "s = \"USE_WANDB: <class 'bool'> = True\", \"wandb_project: <class 'str'> = LOBMamba\", \"wandb_entity: <class 'str'> = gereon-franken-oxford\", \"dir_name: <class 'str'> = /Users/gereonfranken/Projects/phd/LOBS5/data/minimal_test\", \"dataset: <class 'str'> = lobster-prediction\", \"masking: <class 'str'> = causal\", \"use_book_data: <class 'bool'> = True\", \"use_simple_book: <class 'bool'> = False\", \"book_transform: <class 'bool'> = True\", \"book_depth: <class 'int'> = 500\", \"restore: <class 'NoneType'> = None\", \"restore_step: <class 'NoneType'> = None\", \"msg_seq_len: <class 'int'> = 10\", \"n_data_workers: <class 'int'> = 2\", \"n_message_layers: <class 'int'> = 2\", \"n_book_pre_layers: <class 'int'> = 1\", \"n_book_post_layers: <class 'int'> = 1\", \"n_layers: <class 'int'> = 1\", \"d_model: <class 'int'> = 16\", \"ssm_size_base: <class 'int'> = 32\", \"blocks: <class 'int'> = 2\", \"expand:factor: <class 'int'> = 2\", \"C_init: <class 'str'> = trunc_standard_normal\", \"discretization: <class 'str'> = zoh\", \"mode: <class 'str'> = pool\", \"activation_fn: <class 'str'> = half_glu1\", \"conj_sym: <class 'bool'> = False\", \"clip_eigs: <class 'bool'> = True\", \"bidirectional: <class 'bool'> = False\", \"dt_min: <class 'float'> = 0.001\", \"dt_max: <class 'float'> = 0.1\", \"prenorm: <class 'bool'> = True\", \"batchnorm: <class 'bool'> = True\", \"bn_momentum: <class 'float'> = 0.95\", \"bsz: <class 'int'> = 2\", \"num_devices: <class 'int'> = 1\", \"epochs: <class 'int'> = 10\", \"early_stop_patience: <class 'int'> = 1000\", \"ssm_lr_base: <class 'float'> = 0.0005\", \"lr_factor: <class 'float'> = 1.0\", \"dt_global: <class 'bool'> = False\", \"lr_min: <class 'int'> = 0\", \"cosine_anneal: <class 'bool'> = True\", \"warmup_end: <class 'int'> = 1\", \"lr_patience: <class 'int'> = 1000000\", \"reduce_factor: <class 'float'> = 1.0\", \"p_dropout: <class 'float'> = 0.0\", \"weight_decay: <class 'float'> = 0.05\", \"opt_config: <class 'str'> = standard\", \"jax_seed: <class 'int'> = 42\"\n",
    "s"
   ]
  },
  {
   "cell_type": "code",
   "execution_count": 19,
   "metadata": {},
   "outputs": [
    {
     "name": "stdout",
     "output_type": "stream",
     "text": [
      "USE_WANDB: bool = True\n",
      "wandb_project: str = LOBMamba\n",
      "wandb_entity: str = gereon-franken-oxford\n",
      "dir_name: str = /Users/gereonfranken/Projects/phd/LOBS5/data/minimal_test\n",
      "dataset: str = lobster-prediction\n",
      "masking: str = causal\n",
      "use_book_data: bool = True\n",
      "use_simple_book: bool = False\n",
      "book_transform: bool = True\n",
      "book_depth: int = 500\n",
      "restore: NoneType = None\n",
      "restore_step: NoneType = None\n",
      "msg_seq_len: int = 10\n",
      "n_data_workers: int = 2\n",
      "n_message_layers: int = 2\n",
      "n_book_pre_layers: int = 1\n",
      "n_book_post_layers: int = 1\n",
      "n_layers: int = 1\n",
      "d_model: int = 16\n",
      "ssm_size_base: int = 32\n",
      "blocks: int = 2\n",
      "expand:factor: int = 2\n",
      "C_init: str = trunc_standard_normal\n",
      "discretization: str = zoh\n",
      "mode: str = pool\n",
      "activation_fn: str = half_glu1\n",
      "conj_sym: bool = False\n",
      "clip_eigs: bool = True\n",
      "bidirectional: bool = False\n",
      "dt_min: float = 0.001\n",
      "dt_max: float = 0.1\n",
      "prenorm: bool = True\n",
      "batchnorm: bool = True\n",
      "bn_momentum: float = 0.95\n",
      "bsz: int = 2\n",
      "num_devices: int = 1\n",
      "epochs: int = 10\n",
      "early_stop_patience: int = 1000\n",
      "ssm_lr_base: float = 0.0005\n",
      "lr_factor: float = 1.0\n",
      "dt_global: bool = False\n",
      "lr_min: int = 0\n",
      "cosine_anneal: bool = True\n",
      "warmup_end: int = 1\n",
      "lr_patience: int = 1000000\n",
      "reduce_factor: float = 1.0\n",
      "p_dropout: float = 0.0\n",
      "weight_decay: float = 0.05\n",
      "opt_config: str = standard\n",
      "jax_seed: int = 42\n"
     ]
    }
   ],
   "source": [
    "for x in s:\n",
    "    print(re.sub(r\"(\\w+): <class '([^']+)'> = (.+)\", r\"\\1: \\2 = \\3\", x))"
   ]
  },
  {
   "cell_type": "code",
   "execution_count": null,
   "metadata": {},
   "outputs": [],
   "source": [
    "abc = (\n",
    "USE_WANDB: bool = True\n",
    "wandb_project: str = \"LOBMamba\"\n",
    "wandb_entity: str = \"gereon-franken-oxford\"\n",
    "dir_name: str = \"/Users/gereonfranken/Projects/phd/LOBS5/data/minimal_test\"\n",
    "dataset: str = \"lobster-prediction\"\n",
    "masking: str = \"causal\"\n",
    "use_book_data: bool = True\n",
    "use_simple_book: bool = False\n",
    "book_transform: bool = True\n",
    "book_depth: int = 500\n",
    "restore: NoneType = None\n",
    "restore_step: NoneType = None\n",
    "msg_seq_len: int = 10\n",
    "n_data_workers: int = 2\n",
    "n_message_layers: int = 2\n",
    "n_book_pre_layers: int = 1\n",
    "n_book_post_layers: int = 1\n",
    "n_layers: int = 1\n",
    "d_model: int = 16\n",
    "ssm_size_base: int = 32\n",
    "blocks: int = 2\n",
    "expand:factor: int = 2\n",
    "C_init: str = \"trunc_standard_normal\"\n",
    "discretization: str = \"zoh\"\n",
    "mode: str = \"pool\"\n",
    "activation_fn: str = \"half_glu1\"\n",
    "conj_sym: bool = False\n",
    "clip_eigs: bool = True\n",
    "bidirectional: bool = False\n",
    "dt_min: float = 0.001\n",
    "dt_max: float = 0.1\n",
    "prenorm: bool = True\n",
    "batchnorm: bool = True\n",
    "bn_momentum: float = 0.95\n",
    "bsz: int = 2\n",
    "num_devices: int = 1\n",
    "epochs: int = 10\n",
    "early_stop_patience: int = 1000\n",
    "ssm_lr_base: float = 0.0005\n",
    "lr_factor: float = 1.0\n",
    "dt_global: bool = False\n",
    "lr_min: int = 0\n",
    "cosine_anneal: bool = True\n",
    "warmup_end: int = 1\n",
    "lr_patience: int = 1000000\n",
    "reduce_factor: float = 1.0\n",
    "p_dropout: float = 0.0\n",
    "weight_decay: float = 0.05\n",
    "opt_config: str = \"standard\"\n",
    "jax_seed: int = 42\n",
    ")"
   ]
  }
 ],
 "metadata": {
  "kernelspec": {
   "display_name": "lobs5-03iEFHDo-py3.12",
   "language": "python",
   "name": "python3"
  },
  "language_info": {
   "codemirror_mode": {
    "name": "ipython",
    "version": 3
   },
   "file_extension": ".py",
   "mimetype": "text/x-python",
   "name": "python",
   "nbconvert_exporter": "python",
   "pygments_lexer": "ipython3",
   "version": "3.12.5"
  }
 },
 "nbformat": 4,
 "nbformat_minor": 2
}
