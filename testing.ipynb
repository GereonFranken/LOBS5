{
 "cells": [
  {
   "cell_type": "code",
   "execution_count": 1,
   "metadata": {},
   "outputs": [
    {
     "name": "stderr",
     "output_type": "stream",
     "text": [
      "Matplotlib is building the font cache; this may take a moment.\n"
     ]
    }
   ],
   "source": [
    "import pandas as pd\n",
    "import matplotlib.pyplot as plt\n",
    "import seaborn as sns"
   ]
  },
  {
   "cell_type": "code",
   "execution_count": 9,
   "metadata": {},
   "outputs": [
    {
     "data": {
      "text/html": [
       "<div>\n",
       "<style scoped>\n",
       "    .dataframe tbody tr th:only-of-type {\n",
       "        vertical-align: middle;\n",
       "    }\n",
       "\n",
       "    .dataframe tbody tr th {\n",
       "        vertical-align: top;\n",
       "    }\n",
       "\n",
       "    .dataframe thead th {\n",
       "        text-align: right;\n",
       "    }\n",
       "</style>\n",
       "<table border=\"1\" class=\"dataframe\">\n",
       "  <thead>\n",
       "    <tr style=\"text-align: right;\">\n",
       "      <th></th>\n",
       "      <th>time</th>\n",
       "      <th>type</th>\n",
       "      <th>order_id</th>\n",
       "      <th>size</th>\n",
       "      <th>price</th>\n",
       "      <th>direction</th>\n",
       "    </tr>\n",
       "  </thead>\n",
       "  <tbody>\n",
       "    <tr>\n",
       "      <th>0</th>\n",
       "      <td>34200.015105</td>\n",
       "      <td>4</td>\n",
       "      <td>15818974</td>\n",
       "      <td>4</td>\n",
       "      <td>5794000</td>\n",
       "      <td>1</td>\n",
       "    </tr>\n",
       "    <tr>\n",
       "      <th>1</th>\n",
       "      <td>34200.059902</td>\n",
       "      <td>4</td>\n",
       "      <td>15818974</td>\n",
       "      <td>300</td>\n",
       "      <td>5794000</td>\n",
       "      <td>1</td>\n",
       "    </tr>\n",
       "    <tr>\n",
       "      <th>2</th>\n",
       "      <td>34200.113247</td>\n",
       "      <td>5</td>\n",
       "      <td>0</td>\n",
       "      <td>1</td>\n",
       "      <td>5795100</td>\n",
       "      <td>1</td>\n",
       "    </tr>\n",
       "    <tr>\n",
       "      <th>3</th>\n",
       "      <td>34200.113247</td>\n",
       "      <td>5</td>\n",
       "      <td>0</td>\n",
       "      <td>1</td>\n",
       "      <td>5795000</td>\n",
       "      <td>1</td>\n",
       "    </tr>\n",
       "    <tr>\n",
       "      <th>4</th>\n",
       "      <td>34200.113247</td>\n",
       "      <td>5</td>\n",
       "      <td>0</td>\n",
       "      <td>1</td>\n",
       "      <td>5794900</td>\n",
       "      <td>1</td>\n",
       "    </tr>\n",
       "  </tbody>\n",
       "</table>\n",
       "</div>"
      ],
      "text/plain": [
       "           time  type  order_id  size    price  direction\n",
       "0  34200.015105     4  15818974     4  5794000          1\n",
       "1  34200.059902     4  15818974   300  5794000          1\n",
       "2  34200.113247     5         0     1  5795100          1\n",
       "3  34200.113247     5         0     1  5795000          1\n",
       "4  34200.113247     5         0     1  5794900          1"
      ]
     },
     "execution_count": 9,
     "metadata": {},
     "output_type": "execute_result"
    }
   ],
   "source": [
    "dfm = pd.read_csv(\"./data/raw/GOOG_2012-06-21_34200000_57600000_message_10.csv\", header=None)\n",
    "dfm.columns = [\"time\", \"type\", \"order_id\", \"size\", \"price\", \"direction\"]\n",
    "dfm.head()"
   ]
  },
  {
   "cell_type": "code",
   "execution_count": null,
   "metadata": {},
   "outputs": [],
   "source": [
    "dfo = pd.read_csv(\"./data/raw/GOOG_2012-06-21_34200000_57600000_orderbook_10.csv\", header=None)\n",
    "dfo.columns = [\"Ask Price 1\", \"type\", \"order_id\", \"size\", \"price\", \"direction\"]\n",
    "dfo.head()"
   ]
  },
  {
   "cell_type": "code",
   "execution_count": 4,
   "metadata": {},
   "outputs": [
    {
     "data": {
      "text/plain": [
       "(147915, 6)"
      ]
     },
     "execution_count": 4,
     "metadata": {},
     "output_type": "execute_result"
    }
   ],
   "source": [
    "dfm.shape"
   ]
  },
  {
   "cell_type": "markdown",
   "metadata": {},
   "source": [
    "Columns:\n",
    "\t\n",
    "\t    1.) Time: \t\t\n",
    "\t\t\t\tSeconds after midnight with decimal \n",
    "\t\t\t\tprecision of at least milliseconds \n",
    "\t\t\t\tand up to nanoseconds depending on \n",
    "\t\t\t\tthe requested period\n",
    "\t    2.) Type:\n",
    "\t\t\t\t1: Submission of a new limit order\n",
    "\t\t\t\t2: Cancellation (Partial deletion \n",
    "\t\t\t\t   of a limit order)\n",
    "\t\t\t\t3: Deletion (Total deletion of a limit order)\n",
    "\t\t\t\t4: Execution of a visible limit order\t\t\t   \t \n",
    "\t\t\t\t5: Execution of a hidden limit order\n",
    "\t\t\t\t7: Trading halt indicator \t\t\t\t   \n",
    "\t\t\t\t   (Detailed information below)\n",
    "\t    3.) Order ID: \t\n",
    "\t\t\t\tUnique order reference number \n",
    "\t\t\t\t(Assigned in order flow)\n",
    "\t    4.) Size: \t\t\n",
    "\t\t\t\tNumber of shares\n",
    "\t    5.) Price: \t\t\n",
    "\t\t\t\tDollar price times 10000 \n",
    "\t\t\t\t(i.e., A stock price of $91.14 is given \n",
    "\t\t\t\tby 911400)\n",
    "\t    6.) Direction:\n",
    "\t\t\t\t-1: Sell limit order\n",
    "\t\t\t\t1: Buy limit order\n",
    "\t\t\t\t\n",
    "\t\t\t\tNote: \n",
    "\t\t\t\tExecution of a sell (buy) limit\n",
    "\t\t\t\torder corresponds to a buyer (seller) \n",
    "\t\t\t\tinitiated trade, i.e. Buy (Sell) trade."
   ]
  },
  {
   "cell_type": "code",
   "execution_count": 2,
   "metadata": {},
   "outputs": [
    {
     "name": "stdout",
     "output_type": "stream",
     "text": [
      "GOOG_2017-01-25_24900000_57900000_message_10_proc.npy\n",
      "GOOG_2017-01-24_24900000_57900000_message_10_proc.npy\n",
      "GOOG_2017-01-23_24900000_57900000_message_10_proc.npy\n",
      "GOOG_2017-01-25_24900000_57900000_orderbook_10_proc.npy\n",
      "GOOG_2017-01-24_24900000_57900000_orderbook_10_proc.npy\n",
      "GOOG_2017-01-23_24900000_57900000_orderbook_10_proc.npy\n"
     ]
    }
   ],
   "source": [
    "import os\n",
    "import numpy as np\n",
    "\n",
    "for filename in os.listdir(\"./data/minimal_test\"):\n",
    "    if filename.endswith(\".npy\"):\n",
    "        print(filename)\n",
    "        data = np.load(f\"./data/minimal_test/{filename}\")\n",
    "        i = len(data) // 10\n",
    "        data = data[:i]\n",
    "        np.save(f\"./data/minimal_test/{filename}\", data)"
   ]
  },
  {
   "cell_type": "code",
   "execution_count": null,
   "metadata": {},
   "outputs": [],
   "source": []
  }
 ],
 "metadata": {
  "kernelspec": {
   "display_name": "lobs5-03iEFHDo-py3.12",
   "language": "python",
   "name": "python3"
  },
  "language_info": {
   "codemirror_mode": {
    "name": "ipython",
    "version": 3
   },
   "file_extension": ".py",
   "mimetype": "text/x-python",
   "name": "python",
   "nbconvert_exporter": "python",
   "pygments_lexer": "ipython3",
   "version": "3.12.5"
  }
 },
 "nbformat": 4,
 "nbformat_minor": 2
}
